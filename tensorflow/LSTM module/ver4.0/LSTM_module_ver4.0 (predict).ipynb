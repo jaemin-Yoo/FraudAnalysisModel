{
 "cells": [
  {
   "cell_type": "markdown",
   "id": "92d11ad8",
   "metadata": {},
   "source": [
    "# Project: LSTM_module (predict)\n",
    "\n",
    "학습된 모델로 음성파일 스팸 예측"
   ]
  },
  {
   "cell_type": "markdown",
   "id": "b566d8f0",
   "metadata": {},
   "source": [
    "## 순서\n",
    "\n",
    "1. import: 필요한 모듈 import\n",
    "2. 파일 불러오기: 모델 학습에 사용된 객체, 변수 등 불러오기\n",
    "3. STT: 음성파일 STT변환\n",
    "4. 전처리: 텍스트 토큰화\n",
    "5. 예측: 스팸 탐지"
   ]
  },
  {
   "cell_type": "markdown",
   "id": "485b67ae",
   "metadata": {},
   "source": [
    "## 모듈 import"
   ]
  },
  {
   "cell_type": "code",
   "execution_count": 145,
   "id": "185e7210",
   "metadata": {},
   "outputs": [],
   "source": [
    "import sys\n",
    "import json\n",
    "import pickle\n",
    "import re\n",
    "import numpy as np\n",
    "\n",
    "import speech_recognition as sr\n",
    "\n",
    "import tensorflow as tf\n",
    "from konlpy.tag import Okt\n",
    "from tensorflow.keras.preprocessing.text import Tokenizer\n",
    "from tensorflow.keras.preprocessing.sequence import pad_sequences\n",
    "import urllib.request"
   ]
  },
  {
   "cell_type": "markdown",
   "id": "d80f803c",
   "metadata": {},
   "source": [
    "## GPU 셋팅\n",
    "\n",
    "GPU 사용 시 활성화"
   ]
  },
  {
   "cell_type": "code",
   "execution_count": 146,
   "id": "c820b092",
   "metadata": {},
   "outputs": [],
   "source": [
    "# physical_devices = tf.config.list_physical_devices('GPU')\n",
    "# tf.config.experimental.set_memory_growth(physical_devices[0], enable=True)"
   ]
  },
  {
   "cell_type": "markdown",
   "id": "589a0d96",
   "metadata": {},
   "source": [
    "## 파일 이름 선언\n",
    "\n",
    "필요 변수, 모델, 토큰 객체 등 파일 이름 선언"
   ]
  },
  {
   "cell_type": "code",
   "execution_count": 147,
   "id": "144e4b69",
   "metadata": {},
   "outputs": [],
   "source": [
    "file_name = \"LSTM_module_ver4.0\""
   ]
  },
  {
   "cell_type": "markdown",
   "id": "057ccd34",
   "metadata": {},
   "source": [
    "## 파일 불러오기\n",
    "\n",
    "tokenizer 객체 불러오기"
   ]
  },
  {
   "cell_type": "code",
   "execution_count": 148,
   "id": "1acd4be1",
   "metadata": {},
   "outputs": [],
   "source": [
    "with open(file_name+'_tokenizer.pickle', 'rb') as f:\n",
    "    tokenizer = pickle.load(f)"
   ]
  },
  {
   "cell_type": "markdown",
   "id": "5ccaa6d6",
   "metadata": {},
   "source": [
    "변수 불러오기"
   ]
  },
  {
   "cell_type": "code",
   "execution_count": 149,
   "id": "3eb15800",
   "metadata": {},
   "outputs": [],
   "source": [
    "with open(file_name+'_variable.json') as f:\n",
    "    var = json.load(f)"
   ]
  },
  {
   "cell_type": "markdown",
   "id": "6d5f1263",
   "metadata": {},
   "source": [
    "불용어 단어 불러오기"
   ]
  },
  {
   "cell_type": "code",
   "execution_count": 150,
   "id": "51efd60f",
   "metadata": {},
   "outputs": [],
   "source": [
    "with open(file_name+'_stopwords.json') as f:\n",
    "    stopwords = json.load(f)"
   ]
  },
  {
   "cell_type": "markdown",
   "id": "a7d94f2e",
   "metadata": {},
   "source": [
    "불러온 변수 초기화"
   ]
  },
  {
   "cell_type": "code",
   "execution_count": 151,
   "id": "0dfb760f",
   "metadata": {},
   "outputs": [
    {
     "name": "stdout",
     "output_type": "stream",
     "text": [
      "min_data: 10\n",
      "data_length: 100\n",
      "max_len: 150\n",
      "trunc_type: post\n",
      "padding_type: post\n"
     ]
    }
   ],
   "source": [
    "min_data = var['min_data'] # 데이터 문자열 최소 길이\n",
    "data_length = var['data_length'] # 데이터 문자열 최대 길이\n",
    "split_list = var['split_list'] # 문장 단위로 분리하기 위한 글자 리스트\n",
    "max_len = var['max_len'] # 전체 데이터 셋 길이 설정 (메일의 최대 길이)\n",
    "trunc_type = var['trunc_type']\n",
    "padding_type = var['padding_type']\n",
    "\n",
    "print('min_data:',min_data)\n",
    "print('data_length:',data_length)\n",
    "print('max_len:',max_len)\n",
    "print('trunc_type:',trunc_type)\n",
    "print('padding_type:',padding_type)"
   ]
  },
  {
   "cell_type": "markdown",
   "id": "97d7429e",
   "metadata": {},
   "source": [
    "## STT 변환\n",
    "\n",
    "음성파일 STT변환\n",
    "* `language`: 언어 설정\n",
    "* 약 80~100MB 용량 제한"
   ]
  },
  {
   "cell_type": "code",
   "execution_count": 152,
   "id": "b2096e89",
   "metadata": {
    "scrolled": false
   },
   "outputs": [
    {
     "name": "stdout",
     "output_type": "stream",
     "text": [
      "여보세요 여보세요네 혹시 그 당근마켓 그 신발 판매 안 하시는 일 보고 전화 드렸는데요 나이키 나이키 조던 그거 15만원에 올리셨던데 그 혹시 좀 할인 안 될까요 제가 아직 학생이라서 돈이 많이 없는데 된다고 적어 놨는데 내 돼요 얼마까지 가능하신가요 얼마까지 마세요 마음 같아서는 15만원까지 15만 원 15만 원 할인 15만 원 어디 사시죠 혹시 저는 거주중입니다 그러면 15만 원에 내일 하시죠 직거래 하시는 건가요 하면 될 거 같아요 근데 지금 요새 코로나 가지고 만나기가 좀 걸어 지는데 혹시 계좌 번호 알려 주시면 제가 보내 드리면 안 되나요 그러면 택배비 내셔야 될 텐데 괜찮으신가요 택배비는 본인이 부담하시는 거 아니에요 아니 저거는 직거래를 원하는데 분께서는 택배로 하시다고 하시니까 그쪽에서 내셔야 줘 아 그러면 경산으로 와 주실 건가요 아니요 저기 그 중간에 만나면 되지 않을까요 근데 약간 걱정 돼 가지고 무서운 분이 나오시면 또 이제 큰일 나니까 아니요 그 당근마켓에 구매다 인증 이런 것도 있는데 아 보니까 청도 되게 좋더라구요 가지고 내 걱정 안 하셔도 됩니다 그러면 어디서 만날까요 그러면 어디 어디까지 올 수 있으신가요 혹시 월드컵 경기 대구스타디움 아세요 들어오는 봤어요 거기까지 가면 될까요 여기 오시면 제가 가겠습니다 아 그러면 일단 알겠습니다 그럼 하시는 건가요 그럼 바로 직거래 할까요 오늘은 제가 약속이 있어 가지고 제가 고소를 당해 가지고 오늘 경찰청에 가야 되는데 그거는 안 될 거 같고 아마 내일 내일은 가능할 것 같습니다 그러면 직장인이라서 내일 퇴근하고 6시 7시쯤 되시나요 그때쯤 그러면 저녁도 같이 함께할까요 아까 무서워 농담입니다 그럼 뭐 내일 6시에 7시 반에 대구스타디움 앞에서 직거래 하도록 그렇게 알고 있겠습니다 예 알겠습니다 감사합니다\n"
     ]
    }
   ],
   "source": [
    "r = sr.Recognizer()\n",
    "harvard = sr.AudioFile('ham2.flac') # 100MB 용량 제한\n",
    "with harvard as source:\n",
    "    audio = r.record(source)\n",
    "\n",
    "try:\n",
    "    t = r.recognize_google(audio, language='ko-KR')\n",
    "except:\n",
    "    t = '녹음 내용이 존재하지 않습니다.'\n",
    "print(t)"
   ]
  },
  {
   "cell_type": "markdown",
   "id": "c7e2fc4c",
   "metadata": {},
   "source": [
    "## 텍스트 데이터 분리\n",
    "\n",
    "**findIndex**: 문장이 끝나는 부분의 index값을 찾기위한 함수"
   ]
  },
  {
   "cell_type": "code",
   "execution_count": 153,
   "id": "3a395387",
   "metadata": {},
   "outputs": [],
   "source": [
    "def findIndex(data_list, split_list, start_index):\n",
    "    index_list = []\n",
    "    for i in split_list:\n",
    "        index = data_list.find(i, start_index)\n",
    "        index_list.append(index)\n",
    "        \n",
    "    index_list = [i for i in index_list if i not in [-1]]\n",
    "    if index_list == []:\n",
    "        return -1\n",
    "    \n",
    "    index = min(index_list)\n",
    "    \n",
    "    return index     "
   ]
  },
  {
   "cell_type": "markdown",
   "id": "a3972c6c",
   "metadata": {},
   "source": [
    "`data_length` 값 이후에 `split_list` 에 있는 문자가 나오면 자르기"
   ]
  },
  {
   "cell_type": "code",
   "execution_count": 154,
   "id": "305645d4",
   "metadata": {},
   "outputs": [],
   "source": [
    "t = re.sub(\"네|[^가-힣 ]\", \"\", t) # 특수문자 제거\n",
    "index = findIndex(t, split_list, data_length)\n",
    "\n",
    "i = 0\n",
    "t_list = []\n",
    "while index != -1:\n",
    "    x = t[i:index+2]\n",
    "    t_list.append(x)\n",
    "\n",
    "    i = index+2\n",
    "    index = findIndex(t, split_list, i+data_length)\n",
    "else:\n",
    "    x = t[i:]\n",
    "    if len(x) > min_data:\n",
    "        t_list.append(x) # 텍스트 마지막 부분 추가"
   ]
  },
  {
   "cell_type": "markdown",
   "id": "27e4d69d",
   "metadata": {},
   "source": [
    "## 전처리: 토큰화 및 불용어 처리\n",
    "\n",
    "Okt 객체 선언"
   ]
  },
  {
   "cell_type": "code",
   "execution_count": 155,
   "id": "4ae2456f",
   "metadata": {},
   "outputs": [],
   "source": [
    "okt = Okt()"
   ]
  },
  {
   "cell_type": "markdown",
   "id": "1d95d586",
   "metadata": {},
   "source": [
    "**preTreatment**: 토큰화 및 불용어 처리 함수"
   ]
  },
  {
   "cell_type": "code",
   "execution_count": 156,
   "id": "c2722f70",
   "metadata": {},
   "outputs": [],
   "source": [
    "def preTreatment(data):\n",
    "    global stopwords\n",
    "    temp = okt.morphs(data, stem=True) # 토큰화\n",
    "    temp = [word for word in temp if not word in stopwords] # 불용어 처리\n",
    "    return temp"
   ]
  },
  {
   "cell_type": "markdown",
   "id": "b574fa60",
   "metadata": {},
   "source": [
    "**sentiment_predict**: 정수 인코딩 후 모델 예측 함수"
   ]
  },
  {
   "cell_type": "code",
   "execution_count": 157,
   "id": "64f503f9",
   "metadata": {},
   "outputs": [],
   "source": [
    "def sentiment_predict(new_sentence):\n",
    "    data = tokenizer.texts_to_sequences([new_sentence])\n",
    "    pad_new = pad_sequences(data, maxlen = max_len, truncating = trunc_type, padding = padding_type)\n",
    "    score = float(model.predict(pad_new))\n",
    "    print(score)\n",
    "    print('----------------------')\n",
    "    return score"
   ]
  },
  {
   "cell_type": "markdown",
   "id": "5e6dd9f6",
   "metadata": {},
   "source": [
    "## 모델 예측\n",
    "\n",
    "학습된 모델 불러오기"
   ]
  },
  {
   "cell_type": "code",
   "execution_count": 158,
   "id": "3a60c6af",
   "metadata": {
    "scrolled": true
   },
   "outputs": [
    {
     "name": "stdout",
     "output_type": "stream",
     "text": [
      "Model: \"sequential\"\n",
      "_________________________________________________________________\n",
      "Layer (type)                 Output Shape              Param #   \n",
      "=================================================================\n",
      "embedding (Embedding)        (None, None, 150)         748500    \n",
      "_________________________________________________________________\n",
      "lstm (LSTM)                  (None, 100)               100400    \n",
      "_________________________________________________________________\n",
      "dense (Dense)                (None, 1)                 101       \n",
      "=================================================================\n",
      "Total params: 849,001\n",
      "Trainable params: 849,001\n",
      "Non-trainable params: 0\n",
      "_________________________________________________________________\n"
     ]
    }
   ],
   "source": [
    "model = tf.keras.models.load_model(file_name+'.h5')\n",
    "model.summary()"
   ]
  },
  {
   "cell_type": "markdown",
   "id": "d8c8e4bd",
   "metadata": {},
   "source": [
    "분리한 각 데이터 확률 예측 후 평균 구하기"
   ]
  },
  {
   "cell_type": "code",
   "execution_count": 159,
   "id": "d7a21d08",
   "metadata": {
    "scrolled": true
   },
   "outputs": [
    {
     "name": "stdout",
     "output_type": "stream",
     "text": [
      "여보세요 여보세요 혹시 그 당근마켓 그 신발 판매 안 하시는 일 보고 전화 드렸는데요 나이키 나이키 조던 그거 만원에 올리셨던데 그 혹시 좀 할인 안 될까요 제가 아직 학생이라서 돈이 많이 없는데 된다고 적어 놨는데 내 돼요 \n",
      "0.31438159942626953\n",
      "----------------------\n",
      "얼마까지 가능하신가요 얼마까지 마세요 마음 같아서는 만원까지 만 원 만 원 할인 만 원 어디 사시죠 혹시 저는 거주중입니다 그러면 만 원에 내일 하시죠 직거래 하시는 건가요 하면 될 거 같아요 \n",
      "0.31438159942626953\n",
      "----------------------\n",
      "근데 지금 요새 코로나 가지고 만나기가 좀 걸어 지는데 혹시 계좌 번호 알려 주시면 제가 보내 드리면 안 되나요 그러면 택배비 내셔야 될 텐데 괜찮으신가요 택배비는 본인이 부담하시는 거 아니에요 \n",
      "0.3143816292285919\n",
      "----------------------\n",
      "아니 저거는 직거래를 원하는데 분께서는 택배로 하시다고 하시니까 그쪽에서 내셔야 줘 아 그러면 경산으로 와 주실 건가요 아니요 저기 그 중간에 만나면 되지 않을까요 근데 약간 걱정 돼 가지고 무서운 분이 나오시면 또 이제 큰일 나니까 \n",
      "0.31438156962394714\n",
      "----------------------\n",
      "아니요 그 당근마켓에 구매다 인증 이런 것도 있는데 아 보니까 청도 되게 좋더라구요 가지고 내 걱정 안 하셔도 됩니다 그러면 어디서 만날까요 그러면 어디 어디까지 올 수 있으신가요 혹시 월드컵 경기 대구스타디움 아세요 \n",
      "0.31438159942626953\n",
      "----------------------\n",
      "들어오는 봤어요 거기까지 가면 될까요 여기 오시면 제가 가겠습니다 아 그러면 일단 알겠습니다 그럼 하시는 건가요 그럼 바로 직거래 할까요 오늘은 제가 약속이 있어 가지고 제가 고소를 당해 가지고 오늘 경찰청에 가야 되는데 그거는 안 될 거 같고 아마 내일 내일은 가능할 것 같습니다 \n",
      "0.3143816888332367\n",
      "----------------------\n",
      "그러면 직장인이라서 내일 퇴근하고 시 시쯤 되시나요 그때쯤 그러면 저녁도 같이 함께할까요 아까 무서워 농담입니다 그럼 뭐 내일 시에 시 반에 대구스타디움 앞에서 직거래 하도록 그렇게 알고 있겠습니다 \n",
      "0.31438159942626953\n",
      "----------------------\n",
      "예 알겠습니다 감사합니다\n",
      "0.3143816292285919\n",
      "----------------------\n"
     ]
    }
   ],
   "source": [
    "score_sum = 0.0\n",
    "for txt in t_list:\n",
    "    print(txt)\n",
    "    data = preTreatment(txt)\n",
    "    score_sum += sentiment_predict(data)\n",
    "    \n",
    "score_result = score_sum / len(t_list)"
   ]
  },
  {
   "cell_type": "markdown",
   "id": "ecc7d465",
   "metadata": {},
   "source": [
    "## 예측 확률 출력"
   ]
  },
  {
   "cell_type": "code",
   "execution_count": 160,
   "id": "057216ab",
   "metadata": {
    "scrolled": false
   },
   "outputs": [
    {
     "name": "stdout",
     "output_type": "stream",
     "text": [
      "31.44% 확률로 스팸입니다.\n",
      "\n"
     ]
    }
   ],
   "source": [
    "print(\"{:.2f}% 확률로 스팸입니다.\\n\".format(score_result * 100))"
   ]
  }
 ],
 "metadata": {
  "kernelspec": {
   "display_name": "Python 3 (ipykernel)",
   "language": "python",
   "name": "python3"
  },
  "language_info": {
   "codemirror_mode": {
    "name": "ipython",
    "version": 3
   },
   "file_extension": ".py",
   "mimetype": "text/x-python",
   "name": "python",
   "nbconvert_exporter": "python",
   "pygments_lexer": "ipython3",
   "version": "3.8.5"
  }
 },
 "nbformat": 4,
 "nbformat_minor": 5
}
