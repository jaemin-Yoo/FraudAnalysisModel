{
 "cells": [
  {
   "cell_type": "markdown",
   "id": "7c558050",
   "metadata": {},
   "source": [
    "# Project: LSTM_module\n",
    "\n",
    "LSTM을 활용한 보이스피싱 탐지 모듈 개발"
   ]
  },
  {
   "cell_type": "markdown",
   "id": "caed2afc",
   "metadata": {},
   "source": [
    "## 순서\n",
    "1. import: 필요한 모듈 import\n",
    "2. 전처리: 학습에 필요한 데이터 전처리 수행\n",
    "3. 모델링(model): 모델 정의\n",
    "4. 컴파일(compile): 모델 생성\n",
    "5. 학습(fit): 모델 학습"
   ]
  },
  {
   "cell_type": "markdown",
   "id": "22c688b1",
   "metadata": {},
   "source": [
    "## 모듈 import"
   ]
  },
  {
   "cell_type": "code",
   "execution_count": 239,
   "id": "83e46726",
   "metadata": {},
   "outputs": [],
   "source": [
    "import os\n",
    "\n",
    "import json\n",
    "import pickle\n",
    "\n",
    "import pandas as pd\n",
    "import numpy as np\n",
    "\n",
    "%matplotlib inline\n",
    "import matplotlib.pyplot as plt\n",
    "\n",
    "from konlpy.tag import Okt\n",
    "from tensorflow.keras.preprocessing.text import Tokenizer\n",
    "from tensorflow.keras.preprocessing.sequence import pad_sequences\n",
    "from sklearn.metrics import accuracy_score\n",
    "from sklearn.model_selection import train_test_split\n",
    "from collections import Counter\n",
    "\n",
    "from tensorflow.keras.layers import Embedding, Dense, LSTM, Bidirectional\n",
    "from tensorflow.keras.models import Sequential\n",
    "from tensorflow.keras.models import load_model\n",
    "from tensorflow.keras.callbacks import EarlyStopping, ModelCheckpoint"
   ]
  },
  {
   "cell_type": "markdown",
   "id": "62fe8955",
   "metadata": {},
   "source": [
    "## 파일 이름 선언\n",
    "\n",
    "필요 변수, 모델, 토큰 객체 등 파일 이름 선언"
   ]
  },
  {
   "cell_type": "code",
   "execution_count": 240,
   "id": "71efe4c4",
   "metadata": {},
   "outputs": [],
   "source": [
    "file_name = \"LSTM_module_ver4.0\""
   ]
  },
  {
   "cell_type": "markdown",
   "id": "37d5f47b",
   "metadata": {},
   "source": [
    "## 데이터 셋 불러오기\n",
    "\n",
    "빈 list 생성"
   ]
  },
  {
   "cell_type": "code",
   "execution_count": 241,
   "id": "be6369f6",
   "metadata": {},
   "outputs": [],
   "source": [
    "spam_X = []\n",
    "ham_X = []"
   ]
  },
  {
   "cell_type": "markdown",
   "id": "5cf9aae2",
   "metadata": {},
   "source": [
    "피싱 데이터 가져오기"
   ]
  },
  {
   "cell_type": "code",
   "execution_count": 242,
   "id": "eee83b69",
   "metadata": {},
   "outputs": [],
   "source": [
    "path = '../../fraudDataset/spamData/'\n",
    "path1 = os.listdir(path)\n",
    "for a in path1:\n",
    "    path2 = path+a\n",
    "    with open(path2, 'r', encoding='utf-8') as f:\n",
    "        contents = f.read()\n",
    "        spam_X.append(contents)"
   ]
  },
  {
   "cell_type": "markdown",
   "id": "81637da6",
   "metadata": {},
   "source": [
    "피싱 데이터 1개 출력"
   ]
  },
  {
   "cell_type": "code",
   "execution_count": 243,
   "id": "d32d0474",
   "metadata": {},
   "outputs": [
    {
     "data": {
      "text/plain": [
       "'\\n여보세요. 네 안녕하세요 검찰청이에요 검찰청이요 네 통화 괜찮으십니까. \\n네 가능합니다 전화 받으신 분이 김윤환 씨 맞으시죠. \\n네\\n네 맞습니다\\n예 다름이 아니라 본인과 연루된 명의도용 사건이 접수가 돼서 지금까지 확인 좀 해서 연락을 드렸고요. \\n명의도용이요 예. 통화 괜찮으시면은 외모 할 만한 거 한번 준비하셔가지고\\n\\n네네\\n이렇게 말씀 한번 해 주세요.\\n네\\n예\\n네 준비됐습니다.\\n예. 일단 지금 김유나 씨께서 혹시 김용식이라고 아시는 분이신가요. \\n김용식\\n김용식이요\\n처음 들어보세요. 그러면은 2019년도 1월 경에 경기도 광명에 방문하신 적이 있으세요.\\n\\n광명이요 기억이 잘 안 나네요\\n오시고 제가 이 두 가지 질문드린 게요. \\n네네 얼마 전에 이제 김용식 필두로 한 금융범죄 사기단을 검거를 했어요. \\n네이 구조 과정 중에 만약에 신용카드가 대포통장을 압수 했는데 네 거기에 서서 본인 명의로 돼 우리은행 계좌건을 확인이 됐습니다. \\n근데 이 계좌건을 제가 추적을 해 보니까. \\n네네\\n문의 같은 경우에는 주소지가 서울시 관악구로 나와 있는데 통장 계설은 방금 제가 여쭤봤던 경기도 광명시에서 19년도 1월 경이 됐거든요. \\n그래서 이거를 김유나 씨께서 광명까지 직접 가셔가지고 이 팀장까지 개선해서 문자분에게 건넨 건지 아니면 개인정보 유출로 인해서 명의도용을 당한 피해자분이신지. \\n진의 여부를 확인하고 연락을 드린 겁니다\\n\\n아마. 저는 피해자일 거예요. 네 제가 가담을 안 했으니까요\\n\\n네. 본인이 직접 만들 계산하시는 게 없다 이 말씀이시잖아요. \\n네 그렇죠 그러면은 개인정보 유출 관련해가지고. \\n네 주식은 3년에서 4년 사이에. 신분증이나 통장을 분실했다거나 본인이 올리자는 글이 올라왔다거나 로그인을 하지 않았는데 로그인되서 않으면 받을 수\\n\\n제가 회사 홍보는 하는데 이게 그 이외에는 제가 딱히 이렇게 개인 정보를 올리진 않거든요. \\n누가 악질적으로 이렇게 개인 정보를 캐가지 않는 이상 저는 노출 시키지는 않습니다\\n\\n그거를 그 본인이 올린 게 아니라 다른 분들이 올린 거를 본인께서 확인된 적이 있으시냐 그 말입니다.\\n\\n아니요 못 본 것 같아요\\n네 맞아요\\n네 이거. 그리고 제가 사건번건호 이거 조회를 한 번 하셔야 되는데. \\n사건 번호 조회하는 거 알아요\\n그거 경찰청이랑 검찰청 사이트 들어가서 사건 조회하는 거 아닌가요. \\n인터넷에 있는 거 그거 말씀하시는 거죠. \\n그거\\n네. 이거 사건 주 한번 해 주셔야 되는데. \\n사건 번호 조회 한번 해 주시고요. 지금 말씀 좀 해 주세요.\\n\\n네 알겠습니다\\n본인이 먼저 인증을 하시면 사건 번호가 나와요. \\n제가 지금 김유나 씨가 본인인지 아닌지 모르잖아요.\\n\\n저는 좀 맞죠\\n네. 이거 지금 휴대폰 사용 가능해요\\n네 가능합니다\\n인텔 사용 가능하면 인텔처 하나 열어주시고요 네이 상단에 도메인 주소가 있는데. \\n이거 공백으로 만드시면은 저희가 주소 불러드릴게요. \\n들어가셔가지고 부인증하시고 상품으로 나오시면은\\n\\n확인 한번 한번 해주세요 아니면 이거. \\n카카오톡으로 제가 보내드릴까요\\n네 카톡으로 보내주세요\\n잠시만요 지금. 근데 주변에 다른 3자분들은 안 계신 건가요\\n\\n네 없어요\\n네 이거 일단 보냈거든요. 링크 확인 한번 해 주세요. \\n네. 클릭하시면 나의 사건 조회에 파라드 박스 하들이 나올 거예요. \\n클릭 한 번 해주시고요. 예 클릭하시면은. \\n검찰 사건 검찰 사건 보안 사건 나올 거고요.\\n\\n밑으로 내리면은 본인이 기존의 아이디 있으면 아이디 로그인하시면 되고요. \\n아이디가 없다고 하면 그냥 비행원 실명 확인으로 본인 성함이랑 주민번호 입력하시고 인증하셔가지고 다음으로 넘어가시면 됩니다. \\n그러니까 지금 나이 사건이 들어가셨어요.\\n\\n네 들어갔어요\\n들어가셨으면 밑으로 내리면은 비행원 실명 확인이라고 있어요\\n\\n아 네\\n네 이게 제가 간단하니까 비행 신분 확인 후 인증해 주시고 다음 성기 사건 번호 나오시면 저한테 말씀 한번 해 주세요.\\n\\n네 알겠습니다\\n아직 확인 안 되셨나요\\n여보세요\\n지금 제가 프랑스 아르에서 만든 빵을 먹고 있는데 잠시만요\\n\\n아니 이거 컴퓨터 접속하는 게 너무 어려워요. \\n다시 한 번만 알려주시면 안 될까요. \\n처음부터\\n아니 제가 한번 말씀드렸잖아요. 비행 신용 확인 후 실명 인증을 하시든지 아이디 있으면 로그인을 하시라고. \\n알겠다며\\n아저씨 소리를 지르고 그래요. 아저씨 위치 지금 내가 다 파악해 놨는데.\\n'"
      ]
     },
     "execution_count": 243,
     "metadata": {},
     "output_type": "execute_result"
    }
   ],
   "source": [
    "spam_X[0]"
   ]
  },
  {
   "cell_type": "markdown",
   "id": "023e5f05",
   "metadata": {},
   "source": [
    "일반 데이터 가져오기\n",
    "\n",
    "* `ham_cnt`: 일반 데이터 개수제한"
   ]
  },
  {
   "cell_type": "code",
   "execution_count": 244,
   "id": "fdebbfad",
   "metadata": {},
   "outputs": [],
   "source": [
    "ham_cnt = 10000 # ham Data Count"
   ]
  },
  {
   "cell_type": "code",
   "execution_count": 245,
   "id": "2087a025",
   "metadata": {},
   "outputs": [],
   "source": [
    "path = '../../fraudDataset/hamData/'\n",
    "path1 = os.listdir(path)\n",
    "for a in path1:\n",
    "    path2 = os.listdir(path+a)\n",
    "    for b in path2:\n",
    "        path3 = path+a+'/'+b\n",
    "        with open(path3, 'r', encoding='utf-8') as f:\n",
    "            contents = f.read()\n",
    "            json_data = json.loads(contents)\n",
    "            data = ''\n",
    "            data = json_data['data']\n",
    "            for i in range(len(data)):                \n",
    "                sentence = ''\n",
    "                dialogue = data[i]['body']['dialogue']\n",
    "                for j in range(len(dialogue)):\n",
    "                    utterance = dialogue[j]['utterance']\n",
    "                    sentence += utterance+' '\n",
    "                    \n",
    "                if len(ham_X) == ham_cnt:\n",
    "                    break\n",
    "                    \n",
    "                ham_X.append(sentence)"
   ]
  },
  {
   "cell_type": "markdown",
   "id": "551271fa",
   "metadata": {},
   "source": [
    "일반 데이터 5개 출력"
   ]
  },
  {
   "cell_type": "code",
   "execution_count": 246,
   "id": "3de3edd8",
   "metadata": {},
   "outputs": [
    {
     "data": {
      "text/plain": [
       "['양치하고 올께 알겠오 다녀오세용 양치 끝 넌 근데 점심먹고 양ㅊ 하니? 아.. 오늘 안했네 양치해야겠다 밥 먹고 양치하고 커피 근데 커피 치아에 엄청 안좋대 그러니까 빨대로 목구멍에 바로 넘겨 입에 머금지 말고 응응 ',\n",
       " '계속 지한테 그리고 딴ㅌㅔ이블에 그거 달라고한거봐 젤 먼저간것도 #@이름#아냐? 아니 오바를 엄청하길래 코인 ㅠ 왜케 오바하노 이랬는데 ㅋㅋㅋㅋㅋㅋㅋㅋㅋㅋㅋㅋㅋㅋㅋㅋㅋㅋㅋㅋㅋㅋㅋㅋㅋㅋㅋㅋㅋㅋㅋㅋㅋㅋㅋㅋㅋㅋㅋㅋㅋㅋ 진짜 즐겼던거라니 ',\n",
       " '아냐 너가 왜미안해... 내가 떨어트린건데 내가 잼라이브하자 그래서...... 아냐아냐 그거하다 떨어졌잖아ㅠㅠㅠㅠㅍ 힝구 내가 거기 올려둔게 잘못이야 힝ㅠㅠㅠ 다시 붙이러 가야겠다 내가 좀더 조심했으면 안떨어쟜을거야 아냐 이제 안붙일거야 너무 비싸 응?? 왜왜?? ',\n",
       " '안아주고시파 ,,, #@이모티콘# ㅜㅜㅜㅜ안아줘 누나 애기 ~~~ 이리와서 안겨 쏙 ! 이제 못도망가 내 맘대로 다 해야지 ,,, 제발 맘대로 좀 해줘 누나 애타게 하지말고 ㅋㅌㅌㅋㅋㅌㅌㅋㅋㅋㅋ 그 말에서 간절함이 느껴져 #@이름#아 ,, ',\n",
       " '돈 안보내니? 지금 생각남 내일 출근전에 보내줄게^^ 넌분명히.. 내일 까먹어 ^^ ㅎㅎ 얼마였지? 3만원 ']"
      ]
     },
     "execution_count": 246,
     "metadata": {},
     "output_type": "execute_result"
    }
   ],
   "source": [
    "ham_X[:5]"
   ]
  },
  {
   "cell_type": "markdown",
   "id": "48ef94e2",
   "metadata": {},
   "source": [
    "## 전처리: 데이터 길이 제한\n",
    "\n",
    "* `min_data`: 길이 min 사이즈를 지정함, min 미만의 데이터 삭제"
   ]
  },
  {
   "cell_type": "code",
   "execution_count": 247,
   "id": "1800b527",
   "metadata": {},
   "outputs": [],
   "source": [
    "min_data = 50"
   ]
  },
  {
   "cell_type": "markdown",
   "id": "f0be4942",
   "metadata": {},
   "source": [
    "길이가 min 미만 데이터 삭제 후 중복 제거"
   ]
  },
  {
   "cell_type": "code",
   "execution_count": 248,
   "id": "910c465f",
   "metadata": {},
   "outputs": [],
   "source": [
    "spam_df = pd.DataFrame(spam_X, columns=['text'])\n",
    "spam_df.drop(spam_df[spam_df['text'].str.len() < min_data].index, inplace=True) # 길이가 min_data 미만인 데이터 삭제\n",
    "spam_df['text'].nunique() # 중복 확인"
   ]
  },
  {
   "cell_type": "code",
   "execution_count": null,
   "id": "180ba59c",
   "metadata": {},
   "outputs": [],
   "source": [
    "spam_df.drop_duplicates(subset=['text'], inplace=True) # 중복 제거\n",
    "spam_df['label'] = 1"
   ]
  },
  {
   "cell_type": "code",
   "execution_count": 249,
   "id": "e47bd5b4",
   "metadata": {},
   "outputs": [],
   "source": [
    "ham_df = pd.DataFrame(ham_X, columns=['text'])\n",
    "ham_df.drop(ham_df[ham_df['text'].str.len() < min_data].index, inplace=True) # 길이가 min_data 미만인 데이터 삭제\n",
    "ham_df['text'].nunique() # 중복 확인"
   ]
  },
  {
   "cell_type": "code",
   "execution_count": null,
   "id": "6b67b1e1",
   "metadata": {},
   "outputs": [],
   "source": [
    "ham_df.drop_duplicates(subset=['text'], inplace=True) # 중복 제거\n",
    "ham_df['label'] = 0"
   ]
  },
  {
   "cell_type": "markdown",
   "id": "92eb1c83",
   "metadata": {},
   "source": [
    "데이터 정보 출력"
   ]
  },
  {
   "cell_type": "code",
   "execution_count": 250,
   "id": "4d8f1bdb",
   "metadata": {},
   "outputs": [
    {
     "name": "stdout",
     "output_type": "stream",
     "text": [
      "스팸 데이터 개수 : 76(read) -> 76(drop)\n",
      "스팸 데이터 최소 길이 67\n",
      "스팸 데이터 최대 길이 11659\n",
      "----------------------------------------------------\n",
      "일반 데이터 개수 : 10000(read) -> 9891(drop)\n",
      "일반 데이터 최소 길이 50\n",
      "일반 데이터 최대 길이 2045\n"
     ]
    }
   ],
   "source": [
    "print(\"스팸 데이터 개수 : {}(read) -> {}(drop)\".format(len(spam_X),len(spam_df)))\n",
    "print('스팸 데이터 최소 길이',len(min(spam_df['text'], key=len)))\n",
    "print('스팸 데이터 최대 길이',len(max(spam_df['text'], key=len)))\n",
    "print('----------------------------------------------------')\n",
    "print(\"일반 데이터 개수 : {}(read) -> {}(drop)\".format(len(ham_X),len(ham_df)))\n",
    "print('일반 데이터 최소 길이',len(min(ham_df['text'], key=len)))\n",
    "print('일반 데이터 최대 길이',len(max(ham_df['text'], key=len)))"
   ]
  },
  {
   "cell_type": "markdown",
   "id": "9d6aa203",
   "metadata": {},
   "source": [
    "스팸 / 일반 데이터 합치기"
   ]
  },
  {
   "cell_type": "code",
   "execution_count": 251,
   "id": "23fdf99b",
   "metadata": {},
   "outputs": [],
   "source": [
    "total_df = pd.concat([spam_df, ham_df], ignore_index=True)"
   ]
  },
  {
   "cell_type": "code",
   "execution_count": 252,
   "id": "6e510d33",
   "metadata": {},
   "outputs": [
    {
     "data": {
      "text/html": [
       "<div>\n",
       "<style scoped>\n",
       "    .dataframe tbody tr th:only-of-type {\n",
       "        vertical-align: middle;\n",
       "    }\n",
       "\n",
       "    .dataframe tbody tr th {\n",
       "        vertical-align: top;\n",
       "    }\n",
       "\n",
       "    .dataframe thead th {\n",
       "        text-align: right;\n",
       "    }\n",
       "</style>\n",
       "<table border=\"1\" class=\"dataframe\">\n",
       "  <thead>\n",
       "    <tr style=\"text-align: right;\">\n",
       "      <th></th>\n",
       "      <th>text</th>\n",
       "      <th>label</th>\n",
       "    </tr>\n",
       "  </thead>\n",
       "  <tbody>\n",
       "    <tr>\n",
       "      <th>0</th>\n",
       "      <td>\\n여보세요. 네 안녕하세요 검찰청이에요 검찰청이요 네 통화 괜찮으십니까. \\n네 ...</td>\n",
       "      <td>1</td>\n",
       "    </tr>\n",
       "    <tr>\n",
       "      <th>1</th>\n",
       "      <td>\\n중앙지검 형사1부 신영호 수사관입니다 아 네 다름이 아니라. \\n본인과 연루된 ...</td>\n",
       "      <td>1</td>\n",
       "    </tr>\n",
       "    <tr>\n",
       "      <th>2</th>\n",
       "      <td>\\n여보세요\\n여보세요 예\\n예 맞습니다\\n네 연락드린 곳은 서울중앙지검이고요. \\...</td>\n",
       "      <td>1</td>\n",
       "    </tr>\n",
       "    <tr>\n",
       "      <th>3</th>\n",
       "      <td>\\n네 여보세요. 네 네 안녕하세요 여기 ok 저축은행입니다. \\n김찬준 고객님 네...</td>\n",
       "      <td>1</td>\n",
       "    </tr>\n",
       "    <tr>\n",
       "      <th>4</th>\n",
       "      <td>\\n그런데요. 지금 바쁘신 거 아니시면 잠시 통화 좀 가능하십니까. \\n선생님이시죠...</td>\n",
       "      <td>1</td>\n",
       "    </tr>\n",
       "    <tr>\n",
       "      <th>...</th>\n",
       "      <td>...</td>\n",
       "      <td>...</td>\n",
       "    </tr>\n",
       "    <tr>\n",
       "      <th>9962</th>\n",
       "      <td>코하구있엉~~? 웅 여봉자다깻져 미얀한데 #@이름#오늘 쉬어도 될까 ㅠㅠ 좀있다 모...</td>\n",
       "      <td>0</td>\n",
       "    </tr>\n",
       "    <tr>\n",
       "      <th>9963</th>\n",
       "      <td>오빠 가장 크게 취했던 날이 언제임? 나 ㅋㅋㅋㅋ 엠티때 ㅋㅋㅋㅋ 아 ㅋㅋㅋㅋㅋㅋ ...</td>\n",
       "      <td>0</td>\n",
       "    </tr>\n",
       "    <tr>\n",
       "      <th>9964</th>\n",
       "      <td>아직도공부듕? 네엥...ㅠㅠ 힘드네여 너무대단하댜!! 방해안할게!! ㅋㅋ방해아니야~...</td>\n",
       "      <td>0</td>\n",
       "    </tr>\n",
       "    <tr>\n",
       "      <th>9965</th>\n",
       "      <td>오늘은 점심때 잠깐만 재울거야 안된다구 깨있으면 하루종일 짜증낸다고 그게 나아 잠투...</td>\n",
       "      <td>0</td>\n",
       "    </tr>\n",
       "    <tr>\n",
       "      <th>9966</th>\n",
       "      <td>#@시스템#사진# 입을려? 나한테 좀 커 오키 ㅋㅋ 잘 맞을진 모르지만 ㅋ 옹 너 ...</td>\n",
       "      <td>0</td>\n",
       "    </tr>\n",
       "  </tbody>\n",
       "</table>\n",
       "<p>9967 rows × 2 columns</p>\n",
       "</div>"
      ],
      "text/plain": [
       "                                                   text  label\n",
       "0     \\n여보세요. 네 안녕하세요 검찰청이에요 검찰청이요 네 통화 괜찮으십니까. \\n네 ...      1\n",
       "1     \\n중앙지검 형사1부 신영호 수사관입니다 아 네 다름이 아니라. \\n본인과 연루된 ...      1\n",
       "2     \\n여보세요\\n여보세요 예\\n예 맞습니다\\n네 연락드린 곳은 서울중앙지검이고요. \\...      1\n",
       "3     \\n네 여보세요. 네 네 안녕하세요 여기 ok 저축은행입니다. \\n김찬준 고객님 네...      1\n",
       "4     \\n그런데요. 지금 바쁘신 거 아니시면 잠시 통화 좀 가능하십니까. \\n선생님이시죠...      1\n",
       "...                                                 ...    ...\n",
       "9962  코하구있엉~~? 웅 여봉자다깻져 미얀한데 #@이름#오늘 쉬어도 될까 ㅠㅠ 좀있다 모...      0\n",
       "9963  오빠 가장 크게 취했던 날이 언제임? 나 ㅋㅋㅋㅋ 엠티때 ㅋㅋㅋㅋ 아 ㅋㅋㅋㅋㅋㅋ ...      0\n",
       "9964  아직도공부듕? 네엥...ㅠㅠ 힘드네여 너무대단하댜!! 방해안할게!! ㅋㅋ방해아니야~...      0\n",
       "9965  오늘은 점심때 잠깐만 재울거야 안된다구 깨있으면 하루종일 짜증낸다고 그게 나아 잠투...      0\n",
       "9966  #@시스템#사진# 입을려? 나한테 좀 커 오키 ㅋㅋ 잘 맞을진 모르지만 ㅋ 옹 너 ...      0\n",
       "\n",
       "[9967 rows x 2 columns]"
      ]
     },
     "execution_count": 252,
     "metadata": {},
     "output_type": "execute_result"
    }
   ],
   "source": [
    "total_df"
   ]
  },
  {
   "cell_type": "markdown",
   "id": "34e293ed",
   "metadata": {},
   "source": [
    "## Train / Validation Set 분리\n",
    "\n",
    "0.75 : 0.25 비율로 나누기"
   ]
  },
  {
   "cell_type": "code",
   "execution_count": 253,
   "id": "5e55d7ec",
   "metadata": {},
   "outputs": [],
   "source": [
    "train_data, test_data = train_test_split(total_df, test_size = 0.25, random_state = 42) # 훈련용 테스트 데이터 나누기"
   ]
  },
  {
   "cell_type": "markdown",
   "id": "a437cb5c",
   "metadata": {},
   "source": [
    "훈련 / 테스트 데이터 개수 출력"
   ]
  },
  {
   "cell_type": "code",
   "execution_count": 254,
   "id": "ca2a6db0",
   "metadata": {
    "scrolled": true
   },
   "outputs": [
    {
     "name": "stdout",
     "output_type": "stream",
     "text": [
      "데이터 총 개수 : 9967\n",
      "훈련용 데이터 개수 : 7475\n",
      "테스트용 데이터 개수 : 2492\n"
     ]
    }
   ],
   "source": [
    "print('데이터 총 개수 :',len(total_df))\n",
    "print('훈련용 데이터 개수 :', len(train_data))\n",
    "print('테스트용 데이터 개수 :', len(test_data))"
   ]
  },
  {
   "cell_type": "markdown",
   "id": "1344ec06",
   "metadata": {},
   "source": [
    "스팸 / 일반 데이터 개수 그래프 비교"
   ]
  },
  {
   "cell_type": "code",
   "execution_count": 255,
   "id": "573813ef",
   "metadata": {
    "scrolled": true
   },
   "outputs": [
    {
     "name": "stdout",
     "output_type": "stream",
     "text": [
      "   label  count\n",
      "0      0   7425\n",
      "1      1     50\n"
     ]
    },
    {
     "data": {
      "image/png": "[encoded data removed]",
      "text/plain": [
       "<Figure size 432x288 with 1 Axes>"
      ]
     },
     "metadata": {
      "needs_background": "light"
     },
     "output_type": "display_data"
    }
   ],
   "source": [
    "plt.subplot(121)\n",
    "train_data['label'].value_counts().plot(kind = 'bar', title='Count')\n",
    "print(train_data.groupby('label').size().reset_index(name = 'count'))"
   ]
  },
  {
   "cell_type": "markdown",
   "id": "e00c316e",
   "metadata": {},
   "source": [
    "## 전처리: 특수문자 및 초성제거\n",
    "\n",
    "한글과 공백을 제외하고 모두 제거"
   ]
  },
  {
   "cell_type": "code",
   "execution_count": 256,
   "id": "9bb2fc48",
   "metadata": {},
   "outputs": [],
   "source": [
    "pd.set_option('mode.chained_assignment', None) # 경고 메시지 끄기\n",
    "\n",
    "train_data['text'] = train_data['text'].str.replace(\"#@(.+?)#|[^가-힣 ]\",\"\",regex=True)\n",
    "train_data.replace('', np.nan, inplace=True)"
   ]
  },
  {
   "cell_type": "code",
   "execution_count": 257,
   "id": "297fb542",
   "metadata": {},
   "outputs": [],
   "source": [
    "test_data['text'] = test_data['text'].str.replace(\"#@(.+?)#|[^가-힣 ]\",\"\",regex=True)\n",
    "test_data.replace('', np.nan, inplace=True)"
   ]
  },
  {
   "cell_type": "markdown",
   "id": "3bae099a",
   "metadata": {},
   "source": [
    "전처리 후 생긴 null 데이터 확인"
   ]
  },
  {
   "cell_type": "code",
   "execution_count": 258,
   "id": "0b1ec699",
   "metadata": {},
   "outputs": [
    {
     "name": "stdout",
     "output_type": "stream",
     "text": [
      "text     0\n",
      "label    0\n",
      "dtype: int64\n",
      "\n",
      "text     0\n",
      "label    0\n",
      "dtype: int64\n"
     ]
    }
   ],
   "source": [
    "print(train_data.isnull().sum()) # null 데이터 확인\n",
    "print()\n",
    "print(test_data.isnull().sum())"
   ]
  },
  {
   "cell_type": "markdown",
   "id": "d23b3515",
   "metadata": {},
   "source": [
    "## 전처리: 토큰화\n",
    "\n",
    "Okt 객체 선언"
   ]
  },
  {
   "cell_type": "code",
   "execution_count": 259,
   "id": "24e296bf",
   "metadata": {},
   "outputs": [],
   "source": [
    "okt = Okt() # 한글은 형태소 분석기 사용해야됨 KoNPLY"
   ]
  },
  {
   "cell_type": "markdown",
   "id": "95f55e58",
   "metadata": {},
   "source": [
    "불용어 단어"
   ]
  },
  {
   "cell_type": "code",
   "execution_count": 260,
   "id": "8548a6c9",
   "metadata": {},
   "outputs": [],
   "source": [
    "stopwords = ['하다','이','가','에','는', '없다'] # spam, ham 빈도 수 높은 중복단어 제거"
   ]
  },
  {
   "cell_type": "markdown",
   "id": "91b22c31",
   "metadata": {},
   "source": [
    "어간 단위로 토큰화 및 불용어 처리"
   ]
  },
  {
   "cell_type": "code",
   "execution_count": 261,
   "id": "bf0e6721",
   "metadata": {},
   "outputs": [],
   "source": [
    "X_train = []\n",
    "for sentence in train_data['text']:\n",
    "    temp_X = okt.morphs(sentence, stem=True) # 토큰화\n",
    "    temp_X = [word for word in temp_X if not word in stopwords] # 불용어 처리\n",
    "    X_train.append(temp_X)"
   ]
  },
  {
   "cell_type": "code",
   "execution_count": 262,
   "id": "8c90ae0d",
   "metadata": {},
   "outputs": [],
   "source": [
    "X_test = []\n",
    "for sentence in test_data['text']:\n",
    "    temp_X = okt.morphs(sentence, stem=True) # 토큰화\n",
    "    temp_X = [word for word in temp_X if not word in stopwords] # 불용어 처리\n",
    "    X_test.append(temp_X)"
   ]
  },
  {
   "cell_type": "markdown",
   "id": "0b00c392",
   "metadata": {},
   "source": [
    "Dataframe 새 Column에 추가"
   ]
  },
  {
   "cell_type": "code",
   "execution_count": 263,
   "id": "65ba5083",
   "metadata": {},
   "outputs": [],
   "source": [
    "train_data['tokenized'] = X_train\n",
    "test_data['tokenized'] = X_test"
   ]
  },
  {
   "cell_type": "markdown",
   "id": "127d5037",
   "metadata": {},
   "source": [
    "## 단어별 빈도 수 확인\n",
    "\n",
    "스팸 단어 빈도 확인"
   ]
  },
  {
   "cell_type": "code",
   "execution_count": 264,
   "id": "e49ce073",
   "metadata": {},
   "outputs": [
    {
     "name": "stdout",
     "output_type": "stream",
     "text": [
      "[('네', 977), ('을', 913), ('되다', 777), ('본인', 774), ('있다', 772), ('를', 567), ('지금', 515), ('거', 490), ('으로', 390), ('예', 377), ('저희', 363), ('제', 354), ('통장', 349), ('아니다', 337), ('은', 323), ('로', 314), ('그렇다', 313), ('에서', 289), ('요', 274), ('받다', 273)]\n"
     ]
    }
   ],
   "source": [
    "spam_words = np.hstack(train_data[train_data.label == 1]['tokenized'].values)\n",
    "spam_word_count = Counter(spam_words)\n",
    "print(spam_word_count.most_common(20))"
   ]
  },
  {
   "cell_type": "markdown",
   "id": "c1e6a359",
   "metadata": {},
   "source": [
    "일상 단어 빈도 확인"
   ]
  },
  {
   "cell_type": "code",
   "execution_count": 265,
   "id": "3cb68f8f",
   "metadata": {},
   "outputs": [
    {
     "name": "stdout",
     "output_type": "stream",
     "text": [
      "[('나', 3927), ('그렇다', 2967), ('도', 2923), ('안', 2646), ('아니다', 2550), ('먹다', 2459), ('아', 2400), ('내', 2376), ('보다', 2295), ('있다', 2004), ('은', 1934), ('가다', 1812), ('같다', 1786), ('다', 1749), ('진짜', 1742), ('너', 1569), ('근데', 1532), ('오다', 1508), ('자다', 1481), ('야', 1465)]\n"
     ]
    }
   ],
   "source": [
    "ham_words = np.hstack(train_data[train_data.label == 0]['tokenized'].values)\n",
    "ham_word_count = Counter(ham_words)\n",
    "print(ham_word_count.most_common(20))"
   ]
  },
  {
   "cell_type": "markdown",
   "id": "75d52aaa",
   "metadata": {},
   "source": [
    "Dataframe 값 추출"
   ]
  },
  {
   "cell_type": "code",
   "execution_count": 266,
   "id": "f3faa679",
   "metadata": {},
   "outputs": [],
   "source": [
    "X_train = train_data['tokenized'].values\n",
    "y_train = train_data['label'].values\n",
    "X_test = test_data['tokenized'].values\n",
    "y_test = test_data['label'].values"
   ]
  },
  {
   "cell_type": "markdown",
   "id": "4dc7b671",
   "metadata": {},
   "source": [
    "## 정수 인코딩\n",
    "\n",
    "`vocab_size`의 값을 정하기 위한 토큰화 객체 생성"
   ]
  },
  {
   "cell_type": "code",
   "execution_count": 267,
   "id": "33440127",
   "metadata": {},
   "outputs": [],
   "source": [
    "tokenizer = Tokenizer()\n",
    "tokenizer.fit_on_texts(X_train)"
   ]
  },
  {
   "cell_type": "markdown",
   "id": "7c9d6b20",
   "metadata": {},
   "source": [
    "최소 단어 빈도 수 제한"
   ]
  },
  {
   "cell_type": "code",
   "execution_count": 268,
   "id": "65bea1c2",
   "metadata": {},
   "outputs": [],
   "source": [
    "threshold = 2 # 등장 횟수가 threshold이하인 단어는 제거"
   ]
  },
  {
   "cell_type": "markdown",
   "id": "0936b179",
   "metadata": {},
   "source": [
    "최적의 `vocab_size` 선정"
   ]
  },
  {
   "cell_type": "code",
   "execution_count": 269,
   "id": "80910e36",
   "metadata": {},
   "outputs": [
    {
     "name": "stdout",
     "output_type": "stream",
     "text": [
      "단어 집합(vocabulary)의 크기 : 21340\n",
      "등장 빈도가 1번 이하인 희귀 단어의 수: 10888\n",
      "단어 집합에서 희귀 단어의 비율: 51.0215557638238\n",
      "전체 등장 빈도에서 희귀 단어 등장 빈도 비율: 3.352206427935875\n",
      "vocab_size : 10454\n"
     ]
    }
   ],
   "source": [
    "word_to_index = tokenizer.word_index\n",
    "total_cnt = len(word_to_index) # 단어의 수\n",
    "rare_cnt = 0 # 등장 빈도수가 threshold보다 작은 단어의 개수를 카운트\n",
    "total_freq = 0 # 훈련 데이터의 전체 단어 빈도수 총 합\n",
    "rare_freq = 0 # 등장 빈도수가 threshold보다 작은 단어의 등장 빈도수의 총 합\n",
    "\n",
    "# 단어와 빈도수의 쌍(pair)을 key와 value로 받는다.\n",
    "for key, value in tokenizer.word_counts.items():\n",
    "    total_freq = total_freq + value\n",
    "\n",
    "    # 단어의 등장 빈도수가 threshold보다 작으면\n",
    "    if(value < threshold):\n",
    "        rare_cnt = rare_cnt + 1\n",
    "        rare_freq = rare_freq + value\n",
    "        \n",
    "print('단어 집합(vocabulary)의 크기 :',total_cnt)\n",
    "print('등장 빈도가 %s번 이하인 희귀 단어의 수: %s'%(threshold - 1, rare_cnt))\n",
    "print(\"단어 집합에서 희귀 단어의 비율:\", (rare_cnt / total_cnt)*100)\n",
    "print(\"전체 등장 빈도에서 희귀 단어 등장 빈도 비율:\", (rare_freq / total_freq)*100)\n",
    "\n",
    "vocab_size = total_cnt - rare_cnt + 2\n",
    "print('vocab_size :',vocab_size)"
   ]
  },
  {
   "cell_type": "markdown",
   "id": "632c17f0",
   "metadata": {},
   "source": [
    "단어 토큰화\n",
    "* `num_words`: 단어 max 사이즈 지정. 빈도수가 높은 순으로 저장.\n",
    "* `oov_token`: 단어 토큰에 없는 단어 표기법 지정"
   ]
  },
  {
   "cell_type": "code",
   "execution_count": 270,
   "id": "2a3590ac",
   "metadata": {},
   "outputs": [],
   "source": [
    "tokenizer = Tokenizer(num_words = vocab_size, oov_token = 'OOV')"
   ]
  },
  {
   "cell_type": "markdown",
   "id": "5abadb7f",
   "metadata": {},
   "source": [
    "`fit_on_texts`로 학습할 문장에 대한 토큰화 진행"
   ]
  },
  {
   "cell_type": "code",
   "execution_count": 271,
   "id": "930ce328",
   "metadata": {},
   "outputs": [],
   "source": [
    "tokenizer.fit_on_texts(X_train)"
   ]
  },
  {
   "cell_type": "code",
   "execution_count": 272,
   "id": "cba9ccb5",
   "metadata": {},
   "outputs": [
    {
     "name": "stdout",
     "output_type": "stream",
     "text": [
      "OOV \t======>\t 1\n",
      "나 \t======>\t 2\n",
      "그렇다 \t======>\t 3\n",
      "도 \t======>\t 4\n",
      "아니다 \t======>\t 5\n",
      "안 \t======>\t 6\n",
      "있다 \t======>\t 7\n",
      "보다 \t======>\t 8\n",
      "아 \t======>\t 9\n",
      "먹다 \t======>\t 10\n",
      "내 \t======>\t 11\n",
      "은 \t======>\t 12\n",
      "을 \t======>\t 13\n",
      "되다 \t======>\t 14\n",
      "같다 \t======>\t 15\n",
      "네 \t======>\t 16\n",
      "다 \t======>\t 17\n",
      "가다 \t======>\t 18\n",
      "거 \t======>\t 19\n",
      "진짜 \t======>\t 20\n",
      "그 \t======>\t 21\n",
      "근데 \t======>\t 22\n",
      "너 \t======>\t 23\n",
      "오다 \t======>\t 24\n",
      "자다 \t======>\t 25\n"
     ]
    }
   ],
   "source": [
    "for key, value in tokenizer.word_index.items():\n",
    "    print('{} \\t======>\\t {}'.format(key, value))\n",
    "    if value == 25:\n",
    "        break"
   ]
  },
  {
   "cell_type": "markdown",
   "id": "e301bbf1",
   "metadata": {},
   "source": [
    "토큰화된 단어 사전의 개수"
   ]
  },
  {
   "cell_type": "code",
   "execution_count": 273,
   "id": "35a659cb",
   "metadata": {},
   "outputs": [
    {
     "data": {
      "text/plain": [
       "21341"
      ]
     },
     "execution_count": 273,
     "metadata": {},
     "output_type": "execute_result"
    }
   ],
   "source": [
    "len(tokenizer.word_index)"
   ]
  },
  {
   "cell_type": "markdown",
   "id": "1e6e7876",
   "metadata": {},
   "source": [
    "문장을 토큰으로 치환"
   ]
  },
  {
   "cell_type": "code",
   "execution_count": 274,
   "id": "082d21ba",
   "metadata": {},
   "outputs": [],
   "source": [
    "X_train = tokenizer.texts_to_sequences(X_train)\n",
    "X_test = tokenizer.texts_to_sequences(X_test)"
   ]
  },
  {
   "cell_type": "markdown",
   "id": "232214b9",
   "metadata": {},
   "source": [
    "변환된 Sequences 확인"
   ]
  },
  {
   "cell_type": "code",
   "execution_count": 275,
   "id": "ed9ed96a",
   "metadata": {},
   "outputs": [
    {
     "data": {
      "text/plain": [
       "[[45,\n",
       "  1652,\n",
       "  2143,\n",
       "  626,\n",
       "  528,\n",
       "  9,\n",
       "  4043,\n",
       "  169,\n",
       "  863,\n",
       "  333,\n",
       "  29,\n",
       "  932,\n",
       "  953,\n",
       "  7589,\n",
       "  7590,\n",
       "  863,\n",
       "  177,\n",
       "  4043,\n",
       "  169,\n",
       "  590,\n",
       "  465,\n",
       "  7589,\n",
       "  479,\n",
       "  16,\n",
       "  76,\n",
       "  597,\n",
       "  8],\n",
       " [69,\n",
       "  3108,\n",
       "  1898,\n",
       "  323,\n",
       "  31,\n",
       "  299,\n",
       "  585,\n",
       "  1780,\n",
       "  94,\n",
       "  487,\n",
       "  94,\n",
       "  7591,\n",
       "  149,\n",
       "  45,\n",
       "  63,\n",
       "  375,\n",
       "  85,\n",
       "  2044,\n",
       "  38,\n",
       "  71,\n",
       "  32,\n",
       "  572,\n",
       "  1,\n",
       "  921,\n",
       "  11,\n",
       "  277,\n",
       "  1332,\n",
       "  5142,\n",
       "  11,\n",
       "  45,\n",
       "  1256,\n",
       "  278,\n",
       "  61,\n",
       "  114,\n",
       "  540,\n",
       "  11,\n",
       "  5142,\n",
       "  108,\n",
       "  7592,\n",
       "  435,\n",
       "  2,\n",
       "  31,\n",
       "  6069,\n",
       "  3109],\n",
       " [2,\n",
       "  1,\n",
       "  5143,\n",
       "  10,\n",
       "  103,\n",
       "  303,\n",
       "  86,\n",
       "  4542,\n",
       "  198,\n",
       "  79,\n",
       "  692,\n",
       "  529,\n",
       "  1,\n",
       "  75,\n",
       "  198,\n",
       "  10,\n",
       "  198,\n",
       "  10,\n",
       "  953,\n",
       "  45,\n",
       "  488,\n",
       "  10,\n",
       "  6,\n",
       "  10,\n",
       "  1653,\n",
       "  223,\n",
       "  6,\n",
       "  10,\n",
       "  321,\n",
       "  1,\n",
       "  122,\n",
       "  3665],\n",
       " [11,\n",
       "  61,\n",
       "  245,\n",
       "  283,\n",
       "  101,\n",
       "  530,\n",
       "  336,\n",
       "  1,\n",
       "  7593,\n",
       "  27,\n",
       "  29,\n",
       "  162,\n",
       "  61,\n",
       "  115,\n",
       "  1,\n",
       "  638,\n",
       "  638,\n",
       "  23,\n",
       "  35,\n",
       "  283,\n",
       "  5144,\n",
       "  24,\n",
       "  5144,\n",
       "  8],\n",
       " [803,\n",
       "  2,\n",
       "  44,\n",
       "  1097,\n",
       "  82,\n",
       "  803,\n",
       "  4044,\n",
       "  14,\n",
       "  142,\n",
       "  44,\n",
       "  1097,\n",
       "  92,\n",
       "  803,\n",
       "  67,\n",
       "  9,\n",
       "  201,\n",
       "  44,\n",
       "  1097,\n",
       "  24,\n",
       "  65]]"
      ]
     },
     "execution_count": 275,
     "metadata": {},
     "output_type": "execute_result"
    }
   ],
   "source": [
    "X_train[:5]"
   ]
  },
  {
   "cell_type": "markdown",
   "id": "17a918e2",
   "metadata": {},
   "source": [
    "`vocab_size`보다 떨어지는 단어는 1로 치환 (OOV)\n",
    "\n",
    "## 패딩\n",
    "리뷰 길이"
   ]
  },
  {
   "cell_type": "code",
   "execution_count": 276,
   "id": "f81722a4",
   "metadata": {
    "scrolled": true
   },
   "outputs": [
    {
     "data": {
      "image/png": "[encoded data removed]",
      "text/plain": [
       "<Figure size 432x288 with 1 Axes>"
      ]
     },
     "metadata": {
      "needs_background": "light"
     },
     "output_type": "display_data"
    },
    {
     "name": "stdout",
     "output_type": "stream",
     "text": [
      "최대 길이 : 3704\n",
      "평균 길이 : 43.451638795986625\n"
     ]
    }
   ],
   "source": [
    "plt.subplot(122)\n",
    "plt.hist([len(s) for s in X_train], bins=50)\n",
    "plt.xlabel('length of samples')\n",
    "plt.ylabel('number of samples')\n",
    "plt.show()\n",
    "\n",
    "print('최대 길이 :',max(len(l) for l in X_train))\n",
    "print('평균 길이 :',sum(map(len, X_train))/len(X_train))"
   ]
  },
  {
   "cell_type": "markdown",
   "id": "842c7abc",
   "metadata": {},
   "source": [
    "3가지 옵션 입력\n",
    "* `maxlen`: 최대 문장 길이 정의. 길면 잘라냄\n",
    "* `truncating`: 문장 길이가 `maxlen`보다 길 때, 앞을 자를지 뒤를 자를지 정의\n",
    "* `padding`: 문장 길이가 `maxlen`보다 짧을 때, 앞을 채울지 뒤를 채울지 정의"
   ]
  },
  {
   "cell_type": "code",
   "execution_count": 277,
   "id": "cbff6e05",
   "metadata": {},
   "outputs": [],
   "source": [
    "max_len = 1000 # 최대 길이 (그래프를 보고 판단)\n",
    "trunc_type = 'post' # 잘라낼 문장의 위치\n",
    "padding_type = 'post'"
   ]
  },
  {
   "cell_type": "markdown",
   "id": "69ef5e8e",
   "metadata": {},
   "source": [
    "문장 길이 비율 찾기"
   ]
  },
  {
   "cell_type": "code",
   "execution_count": 278,
   "id": "8782096f",
   "metadata": {},
   "outputs": [
    {
     "name": "stdout",
     "output_type": "stream",
     "text": [
      "전체 샘플 중 길이가 1000 이하인 샘플의 비율: 99.85284280936455\n"
     ]
    }
   ],
   "source": [
    "def below_threshold_len(max_len, nested_list):\n",
    "    cnt = 0\n",
    "    for s in nested_list:\n",
    "        if(len(s) <= max_len):\n",
    "            cnt = cnt + 1\n",
    "    print('전체 샘플 중 길이가 %s 이하인 샘플의 비율: %s'%(max_len, (cnt / len(nested_list))*100))\n",
    "    \n",
    "below_threshold_len(max_len, X_train)"
   ]
  },
  {
   "cell_type": "code",
   "execution_count": 279,
   "id": "173e3b58",
   "metadata": {},
   "outputs": [],
   "source": [
    "X_train = pad_sequences(X_train, maxlen = max_len, truncating = trunc_type, padding = padding_type)\n",
    "X_test = pad_sequences(X_test, maxlen = max_len, truncating = trunc_type, padding = padding_type)"
   ]
  },
  {
   "cell_type": "markdown",
   "id": "bed7c923",
   "metadata": {},
   "source": [
    "변화된 후 shape 확인"
   ]
  },
  {
   "cell_type": "code",
   "execution_count": 280,
   "id": "809a8b03",
   "metadata": {
    "scrolled": true
   },
   "outputs": [
    {
     "data": {
      "text/plain": [
       "(7475, 1000)"
      ]
     },
     "execution_count": 280,
     "metadata": {},
     "output_type": "execute_result"
    }
   ],
   "source": [
    "X_train.shape"
   ]
  },
  {
   "cell_type": "markdown",
   "id": "025b776a",
   "metadata": {},
   "source": [
    "## 모델 정의\n",
    "\n",
    "임베딩 차원 정의"
   ]
  },
  {
   "cell_type": "code",
   "execution_count": 281,
   "id": "910212cb",
   "metadata": {},
   "outputs": [],
   "source": [
    "embedding_dim = 16"
   ]
  },
  {
   "cell_type": "markdown",
   "id": "d2a3df97",
   "metadata": {},
   "source": [
    "모델 구성"
   ]
  },
  {
   "cell_type": "code",
   "execution_count": 282,
   "id": "30fdb196",
   "metadata": {},
   "outputs": [],
   "source": [
    "model = Sequential([\n",
    "    Embedding(vocab_size, embedding_dim, input_length = max_len),\n",
    "    LSTM(64),\n",
    "    Dense(1, activation='sigmoid')\n",
    "])"
   ]
  },
  {
   "cell_type": "markdown",
   "id": "a262418d",
   "metadata": {},
   "source": [
    "## 컴파일\n",
    "\n",
    "1. `optimizer`은 가장 최적화가 잘되는 알고리즘 'adam' 사용\n",
    "2. `loss`는 이진분류이므로, `binary_crossentropy` 사용"
   ]
  },
  {
   "cell_type": "code",
   "execution_count": 283,
   "id": "7606a6fc",
   "metadata": {},
   "outputs": [],
   "source": [
    "model.compile(optimizer='rmsprop', loss='binary_crossentropy', metrics=['acc'])"
   ]
  },
  {
   "cell_type": "markdown",
   "id": "53ccaf41",
   "metadata": {},
   "source": [
    "## ModelCheckpoint\n",
    "\n",
    "val_acc 기준으로 epoch 마다 최적의 모델을 저장하기 위한 체크포인트 설정"
   ]
  },
  {
   "cell_type": "code",
   "execution_count": 284,
   "id": "0fa3df99",
   "metadata": {},
   "outputs": [],
   "source": [
    "mc = ModelCheckpoint(file_name+'.h5', monitor='val_acc', mode='max', verbose=1, save_best_only=True)"
   ]
  },
  {
   "cell_type": "markdown",
   "id": "c2b638db",
   "metadata": {},
   "source": [
    "## EarlyStopping\n",
    "\n",
    "val_loss 기준으로 4번까지 Overfitting(과적합)이 진행되면 자동으로 종료"
   ]
  },
  {
   "cell_type": "code",
   "execution_count": 285,
   "id": "dd3184df",
   "metadata": {},
   "outputs": [],
   "source": [
    "es = EarlyStopping(monitor='val_loss', mode='min', verbose=1, patience=4)"
   ]
  },
  {
   "cell_type": "markdown",
   "id": "85738a19",
   "metadata": {},
   "source": [
    "## 모델 학습"
   ]
  },
  {
   "cell_type": "code",
   "execution_count": 286,
   "id": "1f3037d8",
   "metadata": {},
   "outputs": [
    {
     "name": "stdout",
     "output_type": "stream",
     "text": [
      "Epoch 1/15\n",
      "24/24 [==============================] - ETA: 0s - loss: 0.1716 - acc: 0.9515\n",
      "Epoch 00001: val_acc improved from -inf to 0.99331, saving model to LSTM_module_ver4.0.h5\n",
      "24/24 [==============================] - 30s 1s/step - loss: 0.1716 - acc: 0.9515 - val_loss: 0.0405 - val_acc: 0.9933\n",
      "Epoch 2/15\n",
      "24/24 [==============================] - ETA: 0s - loss: 0.0404 - acc: 0.9933\n",
      "Epoch 00002: val_acc did not improve from 0.99331\n",
      "24/24 [==============================] - 30s 1s/step - loss: 0.0404 - acc: 0.9933 - val_loss: 0.0405 - val_acc: 0.9933\n",
      "Epoch 3/15\n",
      "24/24 [==============================] - ETA: 0s - loss: 0.0406 - acc: 0.9933\n",
      "Epoch 00003: val_acc did not improve from 0.99331\n",
      "24/24 [==============================] - 31s 1s/step - loss: 0.0406 - acc: 0.9933 - val_loss: 0.0400 - val_acc: 0.9933\n",
      "Epoch 4/15\n",
      "24/24 [==============================] - ETA: 0s - loss: 0.0404 - acc: 0.9933\n",
      "Epoch 00004: val_acc did not improve from 0.99331\n",
      "24/24 [==============================] - 34s 1s/step - loss: 0.0404 - acc: 0.9933 - val_loss: 0.0400 - val_acc: 0.9933\n",
      "Epoch 5/15\n",
      "24/24 [==============================] - ETA: 0s - loss: 0.0401 - acc: 0.9933\n",
      "Epoch 00005: val_acc did not improve from 0.99331\n",
      "24/24 [==============================] - 36s 1s/step - loss: 0.0401 - acc: 0.9933 - val_loss: 0.0409 - val_acc: 0.9933\n",
      "Epoch 6/15\n",
      "24/24 [==============================] - ETA: 0s - loss: 0.0406 - acc: 0.9933\n",
      "Epoch 00006: val_acc did not improve from 0.99331\n",
      "24/24 [==============================] - 36s 2s/step - loss: 0.0406 - acc: 0.9933 - val_loss: 0.0362 - val_acc: 0.9933\n",
      "Epoch 7/15\n",
      "24/24 [==============================] - ETA: 0s - loss: 0.0342 - acc: 0.9946\n",
      "Epoch 00007: val_acc improved from 0.99331 to 0.99532, saving model to LSTM_module_ver4.0.h5\n",
      "24/24 [==============================] - 36s 2s/step - loss: 0.0342 - acc: 0.9946 - val_loss: 0.0305 - val_acc: 0.9953\n",
      "Epoch 8/15\n",
      "24/24 [==============================] - ETA: 0s - loss: 0.1262 - acc: 0.9523\n",
      "Epoch 00008: val_acc did not improve from 0.99532\n",
      "24/24 [==============================] - 36s 2s/step - loss: 0.1262 - acc: 0.9523 - val_loss: 0.0305 - val_acc: 0.9953\n",
      "Epoch 9/15\n",
      "24/24 [==============================] - ETA: 0s - loss: 0.1072 - acc: 0.9528\n",
      "Epoch 00009: val_acc did not improve from 0.99532\n",
      "24/24 [==============================] - 36s 2s/step - loss: 0.1072 - acc: 0.9528 - val_loss: 0.0304 - val_acc: 0.9953\n",
      "Epoch 10/15\n",
      "24/24 [==============================] - ETA: 0s - loss: 0.1331 - acc: 0.9375\n",
      "Epoch 00010: val_acc did not improve from 0.99532\n",
      "24/24 [==============================] - 36s 2s/step - loss: 0.1331 - acc: 0.9375 - val_loss: 1.2362 - val_acc: 0.0214\n",
      "Epoch 11/15\n",
      "24/24 [==============================] - ETA: 0s - loss: 0.0811 - acc: 0.9540\n",
      "Epoch 00011: val_acc did not improve from 0.99532\n",
      "24/24 [==============================] - 36s 2s/step - loss: 0.0811 - acc: 0.9540 - val_loss: 0.0304 - val_acc: 0.9953\n",
      "Epoch 12/15\n",
      "24/24 [==============================] - ETA: 0s - loss: 0.0323 - acc: 0.9950\n",
      "Epoch 00012: val_acc did not improve from 0.99532\n",
      "24/24 [==============================] - 37s 2s/step - loss: 0.0323 - acc: 0.9950 - val_loss: 0.0306 - val_acc: 0.9953\n",
      "Epoch 13/15\n",
      "24/24 [==============================] - ETA: 0s - loss: 0.1383 - acc: 0.9105\n",
      "Epoch 00013: val_acc did not improve from 0.99532\n",
      "24/24 [==============================] - 36s 2s/step - loss: 0.1383 - acc: 0.9105 - val_loss: 0.0307 - val_acc: 0.9953\n",
      "Epoch 00013: early stopping\n"
     ]
    }
   ],
   "source": [
    "history = model.fit(X_train, y_train, epochs=15, callbacks=[es, mc], batch_size=256, validation_split=0.2)"
   ]
  },
  {
   "cell_type": "markdown",
   "id": "da07f400",
   "metadata": {},
   "source": [
    "학습 완료 후 `load_model` 를 해주지 않으면 ModelCheckpoint를 만든 의미가 없음"
   ]
  },
  {
   "cell_type": "code",
   "execution_count": 287,
   "id": "24bcb9ac",
   "metadata": {},
   "outputs": [],
   "source": [
    "model = load_model(file_name+'.h5')"
   ]
  },
  {
   "cell_type": "markdown",
   "id": "ed62f7cc",
   "metadata": {},
   "source": [
    "## 학습 오차 시각화"
   ]
  },
  {
   "cell_type": "code",
   "execution_count": 288,
   "id": "7ef3a32d",
   "metadata": {},
   "outputs": [
    {
     "name": "stdout",
     "output_type": "stream",
     "text": [
      "78/78 [==============================] - 5s 63ms/step - loss: 0.0492 - acc: 0.9920\n",
      "\n",
      " 테스트 정확도: 0.9920\n"
     ]
    },
    {
     "data": {
      "image/png": "[encoded data removed]",
      "text/plain": [
       "<Figure size 432x288 with 1 Axes>"
      ]
     },
     "metadata": {
      "needs_background": "light"
     },
     "output_type": "display_data"
    }
   ],
   "source": [
    "epochs = range(1, len(history.history['acc']) + 1)\n",
    "plt.plot(epochs, history.history['loss'])\n",
    "plt.plot(epochs, history.history['val_loss'])\n",
    "plt.title('model loss')\n",
    "plt.ylabel('loss')\n",
    "plt.xlabel('epoch')\n",
    "plt.legend(['train', 'val'], loc='upper left')\n",
    "print(\"\\n 테스트 정확도: %.4f\" % (model.evaluate(X_test, y_test)[1]))"
   ]
  },
  {
   "cell_type": "markdown",
   "id": "97eab55c",
   "metadata": {},
   "source": [
    "## 파일 저장\n",
    "\n",
    "tokenizer 객체 저장"
   ]
  },
  {
   "cell_type": "code",
   "execution_count": 289,
   "id": "48b666c6",
   "metadata": {},
   "outputs": [],
   "source": [
    "with open(file_name+\"_tokenizer.pickle\", \"wb\") as f:\n",
    "    pickle.dump(tokenizer, f, protocol=pickle.HIGHEST_PROTOCOL)"
   ]
  },
  {
   "cell_type": "markdown",
   "id": "22f3fa08",
   "metadata": {},
   "source": [
    "변수 저장"
   ]
  },
  {
   "cell_type": "code",
   "execution_count": 290,
   "id": "bda4b027",
   "metadata": {},
   "outputs": [],
   "source": [
    "d = {'min_data':min_data, 'max_len':max_len, 'trunc_type':trunc_type, 'padding_type':padding_type}\n",
    "json_var = json.dumps(d)\n",
    "with open(file_name+'_variable.json', 'w') as f:\n",
    "    f.write(json_var)"
   ]
  },
  {
   "cell_type": "markdown",
   "id": "14e1f8a8",
   "metadata": {},
   "source": [
    "불용어 단어 저장"
   ]
  },
  {
   "cell_type": "code",
   "execution_count": 291,
   "id": "f507cec0",
   "metadata": {
    "scrolled": true
   },
   "outputs": [],
   "source": [
    "json_stopwords = json.dumps(stopwords)\n",
    "with open(file_name+'_stopwords.json', 'w') as f:\n",
    "    f.write(json_stopwords)"
   ]
  }
 ],
 "metadata": {
  "kernelspec": {
   "display_name": "Python 3 (ipykernel)",
   "language": "python",
   "name": "python3"
  },
  "language_info": {
   "codemirror_mode": {
    "name": "ipython",
    "version": 3
   },
   "file_extension": ".py",
   "mimetype": "text/x-python",
   "name": "python",
   "nbconvert_exporter": "python",
   "pygments_lexer": "ipython3",
   "version": "3.8.5"
  }
 },
 "nbformat": 4,
 "nbformat_minor": 5
}
