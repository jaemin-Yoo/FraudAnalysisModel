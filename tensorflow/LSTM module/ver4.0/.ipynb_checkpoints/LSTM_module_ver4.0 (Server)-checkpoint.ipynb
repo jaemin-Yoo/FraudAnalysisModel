{
 "cells": [
  {
   "cell_type": "markdown",
   "id": "13dda909",
   "metadata": {},
   "source": [
    "# Project: LSTM_module (Server)\n",
    "\n",
    "학습된 모델로 음성파일 스팸 예측 (앱과 소켓 통신)"
   ]
  },
  {
   "cell_type": "markdown",
   "id": "3412147c",
   "metadata": {},
   "source": [
    "## 순서\n",
    "\n",
    "1. import: 필요한 모듈 import\n",
    "2. 파일 불러오기: 모델 학습에 사용된 객체, 변수 등 불러오기\n",
    "3. 오디오 파일 형식 변환: m4a -> flac 형태로 변환\n",
    "4. STT: 음성파일 STT변환\n",
    "5. 전처리: 텍스트 데이터 분리 및 토큰화\n",
    "6. 예측: 스팸 탐지\n",
    "7. 전체 동작 (스레드)\n",
    "8. 소켓 연결"
   ]
  },
  {
   "cell_type": "markdown",
   "id": "e67e615f",
   "metadata": {},
   "source": [
    "## 모듈 import"
   ]
  },
  {
   "cell_type": "code",
   "execution_count": 1,
   "id": "304b7c90",
   "metadata": {},
   "outputs": [],
   "source": [
    "import os\n",
    "import sys\n",
    "import json\n",
    "import pickle\n",
    "import re\n",
    "import numpy as np\n",
    "\n",
    "import speech_recognition as sr\n",
    "from pydub import AudioSegment\n",
    "\n",
    "import tensorflow as tf\n",
    "from konlpy.tag import Okt\n",
    "from tensorflow.keras.preprocessing.text import Tokenizer\n",
    "from tensorflow.keras.preprocessing.sequence import pad_sequences\n",
    "import urllib.request\n",
    "\n",
    "import socket\n",
    "import _thread"
   ]
  },
  {
   "cell_type": "markdown",
   "id": "1ee393fa",
   "metadata": {},
   "source": [
    "## GPU 셋팅\n",
    "\n",
    "GPU 사용 시 활성화"
   ]
  },
  {
   "cell_type": "code",
   "execution_count": 2,
   "id": "02c8b3e1",
   "metadata": {},
   "outputs": [],
   "source": [
    "# physical_devices = tf.config.list_physical_devices('GPU')\n",
    "# tf.config.experimental.set_memory_growth(physical_devices[0], enable=True)"
   ]
  },
  {
   "cell_type": "markdown",
   "id": "1b1d4b82",
   "metadata": {},
   "source": [
    "## 파일 이름 선언\n",
    "\n",
    "필요 변수, 모델, 토큰 객체 등 파일 이름 선언"
   ]
  },
  {
   "cell_type": "code",
   "execution_count": 3,
   "id": "9fff69b8",
   "metadata": {},
   "outputs": [],
   "source": [
    "file_name = \"LSTM_module_ver4.0\""
   ]
  },
  {
   "cell_type": "markdown",
   "id": "1d41045e",
   "metadata": {},
   "source": [
    "## 파일 불러오기\n",
    "\n",
    "tokenizer 객체 불러오기"
   ]
  },
  {
   "cell_type": "code",
   "execution_count": 4,
   "id": "e46b866a",
   "metadata": {},
   "outputs": [],
   "source": [
    "with open(file_name+'_tokenizer.pickle', 'rb') as f:\n",
    "    tokenizer = pickle.load(f)"
   ]
  },
  {
   "cell_type": "markdown",
   "id": "03726814",
   "metadata": {},
   "source": [
    "변수 불러오기"
   ]
  },
  {
   "cell_type": "code",
   "execution_count": 5,
   "id": "a9896158",
   "metadata": {},
   "outputs": [],
   "source": [
    "with open(file_name+'_variable.json') as f:\n",
    "    var = json.load(f)"
   ]
  },
  {
   "cell_type": "markdown",
   "id": "e8581226",
   "metadata": {},
   "source": [
    "불용어 단어 불러오기"
   ]
  },
  {
   "cell_type": "code",
   "execution_count": 6,
   "id": "43c9a8f3",
   "metadata": {},
   "outputs": [],
   "source": [
    "with open(file_name+'_stopwords.json') as f:\n",
    "    stopwords = json.load(f)"
   ]
  },
  {
   "cell_type": "markdown",
   "id": "b08157ea",
   "metadata": {},
   "source": [
    "불러온 변수 초기화"
   ]
  },
  {
   "cell_type": "code",
   "execution_count": 7,
   "id": "cb76f1db",
   "metadata": {},
   "outputs": [
    {
     "name": "stdout",
     "output_type": "stream",
     "text": [
      "min_data: 10\n",
      "data_length: 100\n",
      "max_len: 150\n",
      "trunc_type: post\n",
      "padding_type: post\n"
     ]
    }
   ],
   "source": [
    "min_data = var['min_data'] # 데이터 문자열 최소 길이\n",
    "data_length = var['data_length'] # 데이터 문자열 최대 길이\n",
    "split_list = var['split_list'] # 문장 단위로 분리하기 위한 글자 리스트\n",
    "max_len = var['max_len'] # 전체 데이터 셋 길이 설정 (메일의 최대 길이)\n",
    "trunc_type = var['trunc_type']\n",
    "padding_type = var['padding_type']\n",
    "\n",
    "print('min_data:',min_data)\n",
    "print('data_length:',data_length)\n",
    "print('max_len:',max_len)\n",
    "print('trunc_type:',trunc_type)\n",
    "print('padding_type:',padding_type)"
   ]
  },
  {
   "cell_type": "markdown",
   "id": "c90d5b23",
   "metadata": {},
   "source": [
    "## 오디오 파일 형식 변환\n",
    "\n",
    "**formatTransform**: 오디오 파일 형식 변환 함수"
   ]
  },
  {
   "cell_type": "code",
   "execution_count": 8,
   "id": "3b3b087e",
   "metadata": {},
   "outputs": [],
   "source": [
    "def formatTransform(file_name):\n",
    "    recording = AudioSegment.from_file(file_name)\n",
    "    recording = recording + 6 # 볼륨 향상\n",
    "    formatFlac = file_name.replace(\".m4a\",\".flac\")\n",
    "    recording.export(formatFlac, format='flac', parameters=[\"-q:a\", \"10\", \"-ac\", \"1\"])\n",
    "    print(\"Convert : \" + file_name + \" -> \" + formatFlac)\n",
    "    file_size = os.path.getsize(formatFlac)\n",
    "    os.remove(file_name) # 변환 전 파일 제거\n",
    "    print(\"remove : \" + file_name)\n",
    "    \n",
    "    return formatFlac"
   ]
  },
  {
   "cell_type": "markdown",
   "id": "353865e2",
   "metadata": {},
   "source": [
    "## STT 변환\n",
    "\n",
    "**STTtransform**: 음성파일 STT변환함수\n",
    "* `language`: 언어 설정\n",
    "* 약 80~100MB 용량 제한\n",
    "* 인식된 음성이 없거나 용량이 큰 경우 오류"
   ]
  },
  {
   "cell_type": "code",
   "execution_count": 9,
   "id": "3328f042",
   "metadata": {},
   "outputs": [],
   "source": [
    "def STTtransform(file_name):\n",
    "    r = sr.Recognizer()\n",
    "    harvard = sr.AudioFile(file_name) # 80MB 용량 제한\n",
    "    with harvard as source:\n",
    "        audio = r.record(source)\n",
    "\n",
    "    try:\n",
    "        t = r.recognize_google(audio, language='ko-KR')\n",
    "    except:\n",
    "        t = \"\"\n",
    "        print(\"음성인식이 불가하거나 용량이 너무 큽니다.\")\n",
    "        \n",
    "    os.remove(file_name) # 음성파일 제거\n",
    "    print(\"remove : \" + file_name)\n",
    "    \n",
    "    return t"
   ]
  },
  {
   "cell_type": "markdown",
   "id": "0ee0f80c",
   "metadata": {},
   "source": [
    "## 데이터 전처리\n",
    "\n",
    "Okt 객체 선언"
   ]
  },
  {
   "cell_type": "code",
   "execution_count": 10,
   "id": "432efb64",
   "metadata": {},
   "outputs": [],
   "source": [
    "okt = Okt()"
   ]
  },
  {
   "cell_type": "markdown",
   "id": "91538332",
   "metadata": {},
   "source": [
    "### 1. 텍스트 데이터 분리\n",
    "\n",
    "**findIndex**: 문장이 끝나는 부분의 index값을 찾기위한 함수"
   ]
  },
  {
   "cell_type": "code",
   "execution_count": 11,
   "id": "f85c87af",
   "metadata": {},
   "outputs": [],
   "source": [
    "def findIndex(text, split_list, start_index):\n",
    "    index_list = []\n",
    "    for i in split_list:\n",
    "        index = text.find(i, start_index)\n",
    "        index_list.append(index)\n",
    "        \n",
    "    index_list = [i for i in index_list if i not in [-1]]\n",
    "    if index_list == []:\n",
    "        return -1\n",
    "    \n",
    "    index = min(index_list)\n",
    "    \n",
    "    return index"
   ]
  },
  {
   "cell_type": "markdown",
   "id": "f7dc89e7",
   "metadata": {},
   "source": [
    "### 2. 토큰화 및 불용어 처리\n",
    "**preTreatment**: 텍스트 데이터 분리 및 토큰화, 불용어 처리 함수"
   ]
  },
  {
   "cell_type": "code",
   "execution_count": 12,
   "id": "f9a991a5",
   "metadata": {},
   "outputs": [],
   "source": [
    "def preTreatment(text):\n",
    "    global stopwords\n",
    "    \n",
    "    text = re.sub(\"네|[^가-힣]\", \"\", text) # 특수문자 제거\n",
    "    index = findIndex(text, split_list, data_length)\n",
    "\n",
    "    i = 0\n",
    "    t_list = []\n",
    "    while index != -1:\n",
    "        x = text[i:index+2]\n",
    "        t_list.append(x)\n",
    "\n",
    "        i = index+2\n",
    "        index = findIndex(text, split_list, i+data_length)\n",
    "    else:\n",
    "        x = text[i:]\n",
    "        if len(x) > min_data:\n",
    "            t_list.append(x) # 텍스트 마지막 부분 추가\n",
    "    \n",
    "    token_list = []\n",
    "    for t in t_list:\n",
    "        #print(t)\n",
    "        print('(통화 내용을 확인하려면 주석을 해제해주세요.)')\n",
    "        temp = okt.morphs(t, stem=True) # 토큰화\n",
    "        temp = [word for word in temp if not word in stopwords] # 불용어 처리\n",
    "        token_list.append(temp)\n",
    "        \n",
    "    return token_list"
   ]
  },
  {
   "cell_type": "markdown",
   "id": "2f1820e9",
   "metadata": {},
   "source": [
    "## 모델 예측\n",
    "\n",
    "학습된 모델 불러오기"
   ]
  },
  {
   "cell_type": "code",
   "execution_count": 13,
   "id": "c7008990",
   "metadata": {},
   "outputs": [
    {
     "name": "stdout",
     "output_type": "stream",
     "text": [
      "Model: \"sequential_2\"\n",
      "_________________________________________________________________\n",
      "Layer (type)                 Output Shape              Param #   \n",
      "=================================================================\n",
      "embedding_2 (Embedding)      (None, None, 150)         750300    \n",
      "_________________________________________________________________\n",
      "lstm_2 (LSTM)                (None, 100)               100400    \n",
      "_________________________________________________________________\n",
      "dense_2 (Dense)              (None, 1)                 101       \n",
      "=================================================================\n",
      "Total params: 850,801\n",
      "Trainable params: 850,801\n",
      "Non-trainable params: 0\n",
      "_________________________________________________________________\n"
     ]
    }
   ],
   "source": [
    "model = tf.keras.models.load_model(file_name+'.h5')\n",
    "model.summary()"
   ]
  },
  {
   "cell_type": "markdown",
   "id": "4edc2808",
   "metadata": {},
   "source": [
    "**sentiment_predict**: 정수 인코딩 후 모델 예측 함수"
   ]
  },
  {
   "cell_type": "code",
   "execution_count": 14,
   "id": "5f6a44cd",
   "metadata": {},
   "outputs": [],
   "source": [
    "def sentiment_predict(sentence_list):\n",
    "    \n",
    "    score_sum = 0.0\n",
    "    for s in sentence_list:    \n",
    "        data = tokenizer.texts_to_sequences([s]) # 단어를 숫자값, 인덱스로 변환하여 저장\n",
    "        pad_new = pad_sequences(data, maxlen = max_len) # 모든 메일의 길이를 100로 설정 (빈 부분은 0으로 패딩)\n",
    "        score = float(model.predict(pad_new))\n",
    "        print(\"[{:.2f}% 확률로 스팸입니다.]\".format(score * 100))\n",
    "        score_sum += score    \n",
    "    score_result = score_sum / len(sentence_list)\n",
    "    \n",
    "    return score_result"
   ]
  },
  {
   "cell_type": "markdown",
   "id": "07438e06",
   "metadata": {},
   "source": [
    "## 다중 클라이언트 소켓 통신을 위한 스레드 처리\n",
    "\n",
    "데이터 수신 및 전송"
   ]
  },
  {
   "cell_type": "code",
   "execution_count": 15,
   "id": "f7b80912",
   "metadata": {},
   "outputs": [],
   "source": [
    "def threaded(conn, addr, group):\n",
    "    print('Connect by',addr)\n",
    "    while True:\n",
    "        try:\n",
    "            data = conn.recv(1024) # 파일명, 사이즈 수신\n",
    "            if not data: # 소켓 연결 끊기면 연결 해제\n",
    "                print('Disconnected by',addr)\n",
    "                group.remove(conn)\n",
    "                break\n",
    "                \n",
    "            file_info = data.decode()\n",
    "            file_name, file_size = file_info.split(\"/\")\n",
    "            file_name = file_name.replace('.voicecall','.m4a')\n",
    "            print('Receive File Path:',file_name)\n",
    "            print('Receive File Size:',file_size)\n",
    "\n",
    "            data = conn.recv(1024) # 파일 수신\n",
    "            data_transferred = len(data)\n",
    "            with open(file_name, \"wb\") as f:\n",
    "                try:\n",
    "                    while data:\n",
    "                        f.write(data)\n",
    "                        data = conn.recv(1024)\n",
    "                        data_transferred += len(data)\n",
    "                        \n",
    "                        if data_transferred == int(file_size): # 파일 다 받으면 break\n",
    "                            f.write(data)\n",
    "                            break\n",
    "                except Exception as ex:\n",
    "                    print(ex)\n",
    "\n",
    "            print(\"File is saved [byte:\"+str(data_transferred)+\"]\")\n",
    "            \n",
    "            audio = formatTransform(file_name) # 오디오 파일 형식 변환\n",
    "            text = STTtransform(audio) # STT 변환\n",
    "            data = preTreatment(text) # 전처리\n",
    "            \n",
    "            if data != []:\n",
    "                score = sentiment_predict(data) # 예측\n",
    "                txt = \"{:.2f}\\n\".format(score * 100) # Client측 readLine 함수로 인한 개행문자(\\n)필요\n",
    "            else:\n",
    "                txt = \"-1\\n\"\n",
    "                print('녹음길이가 너무 짧거나 파일의 용량이 너무 큽니다.')\n",
    "            \n",
    "            sendData = txt\n",
    "            for c in group:\n",
    "                if c is conn:\n",
    "                    c.sendall(bytes(sendData,'UTF-8')) # 수신된 파일을 보낸 Client에게만 전송\n",
    "                    print('Send Data : '+txt,end=\"\")\n",
    "                    print('-------------------------------------------------------------------')\n",
    "        except:\n",
    "            # 클라이언트 소켓 강제 종료 시 (ex : 네트워크 변경)\n",
    "            print('예외발생')\n",
    "            print('Disconnected by',addr)\n",
    "            group.remove(conn)\n",
    "            break\n",
    "    conn.close()"
   ]
  },
  {
   "cell_type": "markdown",
   "id": "ca81d653",
   "metadata": {},
   "source": [
    "## 소켓 연결\n",
    "\n",
    "IP, PORT 설정"
   ]
  },
  {
   "cell_type": "code",
   "execution_count": 16,
   "id": "62d07516",
   "metadata": {},
   "outputs": [],
   "source": [
    "host = ''\n",
    "port = 50000"
   ]
  },
  {
   "cell_type": "markdown",
   "id": "880b75b2",
   "metadata": {},
   "source": [
    "소켓 생성 후 연결 대기"
   ]
  },
  {
   "cell_type": "code",
   "execution_count": null,
   "id": "38a290e3",
   "metadata": {},
   "outputs": [
    {
     "name": "stdout",
     "output_type": "stream",
     "text": [
      "Listening\n",
      "Connect by ('192.168.0.37', 63117)\n",
      "Receive File Path: 통화 녹음 소영이❤️_211024_191837.m4a\n",
      "Receive File Size: 588094\n",
      "File is saved [byte:588094]\n",
      "Convert : 통화 녹음 소영이❤️_211024_191837.m4a -> 통화 녹음 소영이❤️_211024_191837.flac\n",
      "remove : 통화 녹음 소영이❤️_211024_191837.m4a\n",
      "remove : 통화 녹음 소영이❤️_211024_191837.flac\n",
      "통화 내용을 확인하려면 주석을 해제해주세요.\n",
      "[21.62% 확률로 스팸입니다.]\n",
      "-------------------------------------------------------------------\n",
      "Send Data : 21.62\n",
      "Receive File Path: 통화 녹음 인턴 황재현_211013_165250.m4a\n",
      "Receive File Size: 514488\n",
      "File is saved [byte:514488]\n",
      "Convert : 통화 녹음 인턴 황재현_211013_165250.m4a -> 통화 녹음 인턴 황재현_211013_165250.flac\n",
      "remove : 통화 녹음 인턴 황재현_211013_165250.m4a\n",
      "remove : 통화 녹음 인턴 황재현_211013_165250.flac\n",
      "Send Data : -1\n",
      "Receive File Path: 통화 녹음 인턴 김수빈_211012_133618.m4a\n",
      "Receive File Size: 1024443\n",
      "File is saved [byte:1024443]\n",
      "Convert : 통화 녹음 인턴 김수빈_211012_133618.m4a -> 통화 녹음 인턴 김수빈_211012_133618.flac\n",
      "remove : 통화 녹음 인턴 김수빈_211012_133618.m4a\n",
      "remove : 통화 녹음 인턴 김수빈_211012_133618.flac\n",
      "Send Data : -1\n",
      "Receive File Path: 통화 녹음 인턴 황재현_211013_164521.m4a\n",
      "Receive File Size: 127703\n",
      "File is saved [byte:127703]\n",
      "Convert : 통화 녹음 인턴 황재현_211013_164521.m4a -> 통화 녹음 인턴 황재현_211013_164521.flac\n",
      "remove : 통화 녹음 인턴 황재현_211013_164521.m4a\n",
      "remove : 통화 녹음 인턴 황재현_211013_164521.flac\n",
      "통화 내용을 확인하려면 주석을 해제해주세요.\n",
      "[17.69% 확률로 스팸입니다.]\n",
      "-------------------------------------------------------------------\n",
      "Send Data : 17.69\n",
      "Receive File Path: 통화 녹음 인턴 김수빈_211015_104946.m4a\n",
      "Receive File Size: 158871\n",
      "File is saved [byte:158871]\n",
      "Convert : 통화 녹음 인턴 김수빈_211015_104946.m4a -> 통화 녹음 인턴 김수빈_211015_104946.flac\n",
      "remove : 통화 녹음 인턴 김수빈_211015_104946.m4a\n",
      "remove : 통화 녹음 인턴 김수빈_211015_104946.flac\n",
      "통화 내용을 확인하려면 주석을 해제해주세요.\n",
      "[13.75% 확률로 스팸입니다.]\n",
      "-------------------------------------------------------------------\n",
      "Send Data : 13.75\n",
      "Disconnected by ('192.168.0.37', 63117)\n",
      "Connect by ('192.168.0.37', 10252)\n",
      "Disconnected by ('192.168.0.37', 10252)\n"
     ]
    }
   ],
   "source": [
    "server_socket = socket.socket(socket.AF_INET, socket.SOCK_STREAM)\n",
    "server_socket.setsockopt(socket.SOL_SOCKET, socket.SO_REUSEADDR, 1)\n",
    "server_socket.bind((host, port))\n",
    "server_socket.listen()\n",
    "print(\"Listening\")\n",
    "\n",
    "group = []\n",
    "while True:\n",
    "    conn, addr = server_socket.accept()\n",
    "    group.append(conn)\n",
    "    _thread.start_new_thread(threaded, (conn, addr, group))\n",
    "    \n",
    "server_socket.close()\n",
    "print('서버 종료')"
   ]
  }
 ],
 "metadata": {
  "kernelspec": {
   "display_name": "Python 3 (ipykernel)",
   "language": "python",
   "name": "python3"
  },
  "language_info": {
   "codemirror_mode": {
    "name": "ipython",
    "version": 3
   },
   "file_extension": ".py",
   "mimetype": "text/x-python",
   "name": "python",
   "nbconvert_exporter": "python",
   "pygments_lexer": "ipython3",
   "version": "3.8.5"
  }
 },
 "nbformat": 4,
 "nbformat_minor": 5
}
