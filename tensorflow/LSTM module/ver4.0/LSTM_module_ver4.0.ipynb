{
 "cells": [
  {
   "cell_type": "markdown",
   "id": "7c558050",
   "metadata": {},
   "source": [
    "# Project: LSTM_module\n",
    "\n",
    "LSTM을 활용한 보이스피싱 탐지 모듈 개발"
   ]
  },
  {
   "cell_type": "markdown",
   "id": "caed2afc",
   "metadata": {},
   "source": [
    "## 순서\n",
    "1. import: 필요한 모듈 import\n",
    "2. 전처리: 학습에 필요한 데이터 전처리 수행\n",
    "3. 모델링(model): 모델 정의\n",
    "4. 컴파일(compile): 모델 생성\n",
    "5. 학습(fit): 모델 학습"
   ]
  },
  {
   "cell_type": "markdown",
   "id": "22c688b1",
   "metadata": {},
   "source": [
    "## 모듈 import"
   ]
  },
  {
   "cell_type": "code",
   "execution_count": 1,
   "id": "83e46726",
   "metadata": {},
   "outputs": [],
   "source": [
    "import os\n",
    "\n",
    "import json\n",
    "import pickle\n",
    "\n",
    "import pandas as pd\n",
    "import numpy as np\n",
    "\n",
    "%matplotlib inline\n",
    "import matplotlib.pyplot as plt\n",
    "\n",
    "from konlpy.tag import Okt\n",
    "from tensorflow.keras.preprocessing.text import Tokenizer\n",
    "from tensorflow.keras.preprocessing.sequence import pad_sequences\n",
    "from sklearn.metrics import accuracy_score\n",
    "from sklearn.model_selection import train_test_split\n",
    "from collections import Counter\n",
    "\n",
    "from tensorflow.keras.layers import Embedding, Dense, LSTM, Bidirectional\n",
    "from tensorflow.keras.models import Sequential\n",
    "from tensorflow.keras.models import load_model\n",
    "from tensorflow.keras.callbacks import EarlyStopping, ModelCheckpoint"
   ]
  },
  {
   "cell_type": "markdown",
   "id": "62fe8955",
   "metadata": {},
   "source": [
    "## 파일 이름 선언\n",
    "\n",
    "필요 변수, 모델, 토큰 객체 등 파일 이름 선언"
   ]
  },
  {
   "cell_type": "code",
   "execution_count": 2,
   "id": "71efe4c4",
   "metadata": {},
   "outputs": [],
   "source": [
    "file_name = \"LSTM_module_ver4.0\""
   ]
  },
  {
   "cell_type": "markdown",
   "id": "37d5f47b",
   "metadata": {},
   "source": [
    "## 데이터 셋 불러오기\n",
    "\n",
    "빈 list 생성"
   ]
  },
  {
   "cell_type": "code",
   "execution_count": 3,
   "id": "be6369f6",
   "metadata": {},
   "outputs": [],
   "source": [
    "spam_X = []\n",
    "ham_X = []"
   ]
  },
  {
   "cell_type": "markdown",
   "id": "5cf9aae2",
   "metadata": {},
   "source": [
    "노인남녀/일반남녀 대화 데이터 가져오기"
   ]
  },
  {
   "cell_type": "code",
   "execution_count": 4,
   "id": "eee83b69",
   "metadata": {},
   "outputs": [],
   "source": [
    "path = '../../jsonDataset/dataset/'\n",
    "path1 = os.listdir(path)\n",
    "for a in path1:\n",
    "    path2 = os.listdir(path+a)\n",
    "    for b in path2:\n",
    "        path3 = os.listdir(path+a+'/'+b)\n",
    "        for c in path3:\n",
    "            path4 = os.listdir(path+a+'/'+b+'/'+c)\n",
    "            for d in path4:\n",
    "                path5 = os.listdir(path+a+'/'+b+'/'+c+'/'+d)                    \n",
    "                for e in path5:\n",
    "                    path6 = path+a+'/'+b+'/'+c+'/'+d+'/'+e\n",
    "                    with open(path6, \"r\", encoding=\"UTF-8\") as f:\n",
    "                        contents = f.read()\n",
    "                        json_data = json.loads(contents)\n",
    "                        data = ''\n",
    "                        data = json_data['발화정보']['stt']\n",
    "                        \n",
    "                        if a == '자유대화 음성(노인남녀)':\n",
    "                            spam_X.append(data) # 노인남녀\n",
    "                        else:\n",
    "                            ham_X.append(data) # 일반남녀"
   ]
  },
  {
   "cell_type": "markdown",
   "id": "81637da6",
   "metadata": {},
   "source": [
    "피싱 데이터 5개 출력"
   ]
  },
  {
   "cell_type": "code",
   "execution_count": 5,
   "id": "d32d0474",
   "metadata": {
    "scrolled": true
   },
   "outputs": [
    {
     "data": {
      "text/plain": [
       "['우리 자리는 관전하기에도 최선입니다',\n",
       " '우리 자리는 관전하기에도 최선입니다',\n",
       " '결국 주차 요금을 올릴 수밖에 없어요',\n",
       " '결국 주차 요금을 올릴 수밖에 없어요',\n",
       " '많이 세련됬구나 이런 느낌을 받았어 ']"
      ]
     },
     "execution_count": 5,
     "metadata": {},
     "output_type": "execute_result"
    }
   ],
   "source": [
    "spam_X[:5]"
   ]
  },
  {
   "cell_type": "markdown",
   "id": "551271fa",
   "metadata": {},
   "source": [
    "일반 데이터 5개 출력"
   ]
  },
  {
   "cell_type": "code",
   "execution_count": 6,
   "id": "3de3edd8",
   "metadata": {},
   "outputs": [
    {
     "data": {
      "text/plain": [
       "['속상해 죽겠어',\n",
       " '큰 맘 먹고 산 명품 신발인데',\n",
       " '그러니까 말이야 장마가 원망스럽네 재녹음',\n",
       " '그리고 해가 나는 날이 별로 없으니',\n",
       " '(SP:그래 )물건 별로 말리는 방법이 달라']"
      ]
     },
     "execution_count": 6,
     "metadata": {},
     "output_type": "execute_result"
    }
   ],
   "source": [
    "ham_X[:5]"
   ]
  },
  {
   "cell_type": "markdown",
   "id": "48ef94e2",
   "metadata": {},
   "source": [
    "## 전처리: 데이터 길이 제한\n",
    "\n",
    "* `min_data`: 길이 min 사이즈를 지정함, min 미만의 데이터 삭제"
   ]
  },
  {
   "cell_type": "code",
   "execution_count": 7,
   "id": "1800b527",
   "metadata": {},
   "outputs": [],
   "source": [
    "min_data = 5"
   ]
  },
  {
   "cell_type": "markdown",
   "id": "f0be4942",
   "metadata": {},
   "source": [
    "길이가 min 미만 데이터 삭제 후 중복 제거"
   ]
  },
  {
   "cell_type": "code",
   "execution_count": 27,
   "id": "910c465f",
   "metadata": {},
   "outputs": [
    {
     "data": {
      "text/plain": [
       "37448"
      ]
     },
     "execution_count": 27,
     "metadata": {},
     "output_type": "execute_result"
    }
   ],
   "source": [
    "spam_df = pd.DataFrame(spam_X, columns=['text'])\n",
    "spam_df.drop(spam_df[spam_df['text'].str.len() < min_data].index, inplace=True) # 길이가 min_data 미만인 데이터 삭제\n",
    "spam_df.shape[0] - spam_df['text'].nunique() # 중복 개수"
   ]
  },
  {
   "cell_type": "code",
   "execution_count": 28,
   "id": "e47bd5b4",
   "metadata": {},
   "outputs": [
    {
     "data": {
      "text/plain": [
       "242555"
      ]
     },
     "execution_count": 28,
     "metadata": {},
     "output_type": "execute_result"
    }
   ],
   "source": [
    "ham_df = pd.DataFrame(ham_X, columns=['text'])\n",
    "ham_df.drop(ham_df[ham_df['text'].str.len() < min_data].index, inplace=True) # 길이가 min_data 미만인 데이터 삭제\n",
    "ham_df.shape[0] - ham_df['text'].nunique() # 중복 개수"
   ]
  },
  {
   "cell_type": "code",
   "execution_count": 9,
   "id": "180ba59c",
   "metadata": {},
   "outputs": [],
   "source": [
    "spam_df.drop_duplicates(subset=['text'], inplace=True) # 중복 제거\n",
    "spam_df['label'] = 1"
   ]
  },
  {
   "cell_type": "code",
   "execution_count": 11,
   "id": "6b67b1e1",
   "metadata": {},
   "outputs": [],
   "source": [
    "ham_df.drop_duplicates(subset=['text'], inplace=True) # 중복 제거\n",
    "ham_df['label'] = 0"
   ]
  },
  {
   "cell_type": "markdown",
   "id": "92eb1c83",
   "metadata": {},
   "source": [
    "데이터 정보 출력"
   ]
  },
  {
   "cell_type": "code",
   "execution_count": 12,
   "id": "4d8f1bdb",
   "metadata": {},
   "outputs": [
    {
     "name": "stdout",
     "output_type": "stream",
     "text": [
      "스팸 데이터 개수 : 69305(read) -> 31840(drop)\n",
      "스팸 데이터 최소 길이 5\n",
      "스팸 데이터 최대 길이 149\n",
      "----------------------------------------------------\n",
      "일반 데이터 개수 : 359786(read) -> 115579(drop)\n",
      "일반 데이터 최소 길이 5\n",
      "일반 데이터 최대 길이 142\n"
     ]
    }
   ],
   "source": [
    "print(\"스팸 데이터 개수 : {}(read) -> {}(drop)\".format(len(spam_X),len(spam_df)))\n",
    "print('스팸 데이터 최소 길이',len(min(spam_df['text'], key=len)))\n",
    "print('스팸 데이터 최대 길이',len(max(spam_df['text'], key=len)))\n",
    "print('----------------------------------------------------')\n",
    "print(\"일반 데이터 개수 : {}(read) -> {}(drop)\".format(len(ham_X),len(ham_df)))\n",
    "print('일반 데이터 최소 길이',len(min(ham_df['text'], key=len)))\n",
    "print('일반 데이터 최대 길이',len(max(ham_df['text'], key=len)))"
   ]
  },
  {
   "cell_type": "markdown",
   "id": "9d6aa203",
   "metadata": {},
   "source": [
    "스팸 / 일반 데이터 합치기"
   ]
  },
  {
   "cell_type": "code",
   "execution_count": 13,
   "id": "23fdf99b",
   "metadata": {},
   "outputs": [],
   "source": [
    "total_df = pd.concat([spam_df, ham_df], ignore_index=True)"
   ]
  },
  {
   "cell_type": "code",
   "execution_count": 14,
   "id": "6e510d33",
   "metadata": {},
   "outputs": [
    {
     "data": {
      "text/html": [
       "<div>\n",
       "<style scoped>\n",
       "    .dataframe tbody tr th:only-of-type {\n",
       "        vertical-align: middle;\n",
       "    }\n",
       "\n",
       "    .dataframe tbody tr th {\n",
       "        vertical-align: top;\n",
       "    }\n",
       "\n",
       "    .dataframe thead th {\n",
       "        text-align: right;\n",
       "    }\n",
       "</style>\n",
       "<table border=\"1\" class=\"dataframe\">\n",
       "  <thead>\n",
       "    <tr style=\"text-align: right;\">\n",
       "      <th></th>\n",
       "      <th>text</th>\n",
       "      <th>label</th>\n",
       "    </tr>\n",
       "  </thead>\n",
       "  <tbody>\n",
       "    <tr>\n",
       "      <th>0</th>\n",
       "      <td>우리 자리는 관전하기에도 최선입니다</td>\n",
       "      <td>1</td>\n",
       "    </tr>\n",
       "    <tr>\n",
       "      <th>1</th>\n",
       "      <td>결국 주차 요금을 올릴 수밖에 없어요</td>\n",
       "      <td>1</td>\n",
       "    </tr>\n",
       "    <tr>\n",
       "      <th>2</th>\n",
       "      <td>많이 세련됬구나 이런 느낌을 받았어</td>\n",
       "      <td>1</td>\n",
       "    </tr>\n",
       "    <tr>\n",
       "      <th>3</th>\n",
       "      <td>요새 스페인인나 이런 나라에 가면은</td>\n",
       "      <td>1</td>\n",
       "    </tr>\n",
       "    <tr>\n",
       "      <th>4</th>\n",
       "      <td>어른들도 그림책을 굉장히 좋아하거든 자기도 알지요</td>\n",
       "      <td>1</td>\n",
       "    </tr>\n",
       "    <tr>\n",
       "      <th>...</th>\n",
       "      <td>...</td>\n",
       "      <td>...</td>\n",
       "    </tr>\n",
       "    <tr>\n",
       "      <th>147414</th>\n",
       "      <td>음료수랑 커피도 있으니 후식 까지도 걱정이 없어요</td>\n",
       "      <td>0</td>\n",
       "    </tr>\n",
       "    <tr>\n",
       "      <th>147415</th>\n",
       "      <td>음식 잘 드시는 분들의 회식이 라면 이렇게 양이 무제한으로 나오는 곳을 가는 게 좋...</td>\n",
       "      <td>0</td>\n",
       "    </tr>\n",
       "    <tr>\n",
       "      <th>147416</th>\n",
       "      <td>예전에는 샤브샤브에 랍스터를 추가할 수도 있었던 걸로 기억하는데 안 간지 오래되서 ...</td>\n",
       "      <td>0</td>\n",
       "    </tr>\n",
       "    <tr>\n",
       "      <th>147417</th>\n",
       "      <td>빨리 다시 문을 (SP:열었으면) 좋겠어요 그러려면 코로나가 끝이 나야겠죠</td>\n",
       "      <td>0</td>\n",
       "    </tr>\n",
       "    <tr>\n",
       "      <th>147418</th>\n",
       "      <td>혹시 깔깔거리에 괜찮은 고기 부페 아시는 분 계신가요</td>\n",
       "      <td>0</td>\n",
       "    </tr>\n",
       "  </tbody>\n",
       "</table>\n",
       "<p>147419 rows × 2 columns</p>\n",
       "</div>"
      ],
      "text/plain": [
       "                                                     text  label\n",
       "0                                     우리 자리는 관전하기에도 최선입니다      1\n",
       "1                                    결국 주차 요금을 올릴 수밖에 없어요      1\n",
       "2                                    많이 세련됬구나 이런 느낌을 받았어       1\n",
       "3                                   요새 스페인인나 이런 나라에 가면은        1\n",
       "4                            어른들도 그림책을 굉장히 좋아하거든 자기도 알지요       1\n",
       "...                                                   ...    ...\n",
       "147414                        음료수랑 커피도 있으니 후식 까지도 걱정이 없어요      0\n",
       "147415  음식 잘 드시는 분들의 회식이 라면 이렇게 양이 무제한으로 나오는 곳을 가는 게 좋...      0\n",
       "147416  예전에는 샤브샤브에 랍스터를 추가할 수도 있었던 걸로 기억하는데 안 간지 오래되서 ...      0\n",
       "147417          빨리 다시 문을 (SP:열었으면) 좋겠어요 그러려면 코로나가 끝이 나야겠죠      0\n",
       "147418                      혹시 깔깔거리에 괜찮은 고기 부페 아시는 분 계신가요      0\n",
       "\n",
       "[147419 rows x 2 columns]"
      ]
     },
     "execution_count": 14,
     "metadata": {},
     "output_type": "execute_result"
    }
   ],
   "source": [
    "total_df"
   ]
  },
  {
   "cell_type": "markdown",
   "id": "34e293ed",
   "metadata": {},
   "source": [
    "## Train / Validation Set 분리\n",
    "\n",
    "0.75 : 0.25 비율로 나누기"
   ]
  },
  {
   "cell_type": "code",
   "execution_count": 15,
   "id": "5e55d7ec",
   "metadata": {},
   "outputs": [],
   "source": [
    "train_data, test_data = train_test_split(total_df, test_size = 0.25, random_state = 42) # 훈련용 테스트 데이터 나누기"
   ]
  },
  {
   "cell_type": "markdown",
   "id": "a437cb5c",
   "metadata": {},
   "source": [
    "훈련 / 테스트 데이터 개수 출력"
   ]
  },
  {
   "cell_type": "code",
   "execution_count": 16,
   "id": "ca2a6db0",
   "metadata": {
    "scrolled": true
   },
   "outputs": [
    {
     "name": "stdout",
     "output_type": "stream",
     "text": [
      "데이터 총 개수 : 147419\n",
      "훈련용 데이터 개수 : 110564\n",
      "테스트용 데이터 개수 : 36855\n"
     ]
    }
   ],
   "source": [
    "print('데이터 총 개수 :',len(total_df))\n",
    "print('훈련용 데이터 개수 :', len(train_data))\n",
    "print('테스트용 데이터 개수 :', len(test_data))"
   ]
  },
  {
   "cell_type": "markdown",
   "id": "1344ec06",
   "metadata": {},
   "source": [
    "스팸 / 일반 데이터 개수 그래프 비교"
   ]
  },
  {
   "cell_type": "code",
   "execution_count": 17,
   "id": "573813ef",
   "metadata": {
    "scrolled": true
   },
   "outputs": [
    {
     "name": "stdout",
     "output_type": "stream",
     "text": [
      "   label  count\n",
      "0      0  86622\n",
      "1      1  23942\n"
     ]
    },
    {
     "data": {
      "image/png": "[encoded data removed]",
      "text/plain": [
       "<Figure size 432x288 with 1 Axes>"
      ]
     },
     "metadata": {
      "needs_background": "light"
     },
     "output_type": "display_data"
    }
   ],
   "source": [
    "plt.subplot(121)\n",
    "train_data['label'].value_counts().plot(kind = 'bar', title='Count')\n",
    "print(train_data.groupby('label').size().reset_index(name = 'count'))"
   ]
  },
  {
   "cell_type": "markdown",
   "id": "e00c316e",
   "metadata": {},
   "source": [
    "## 전처리: 특수문자 및 초성제거\n",
    "\n",
    "한글과 공백을 제외하고 모두 제거"
   ]
  },
  {
   "cell_type": "code",
   "execution_count": 18,
   "id": "9bb2fc48",
   "metadata": {},
   "outputs": [],
   "source": [
    "pd.set_option('mode.chained_assignment', None) # 경고 메시지 끄기\n",
    "\n",
    "train_data['text'] = train_data['text'].str.replace(\"#@(.+?)#|[^가-힣 ]\",\"\",regex=True)\n",
    "train_data.replace('', np.nan, inplace=True)"
   ]
  },
  {
   "cell_type": "code",
   "execution_count": 19,
   "id": "297fb542",
   "metadata": {},
   "outputs": [],
   "source": [
    "test_data['text'] = test_data['text'].str.replace(\"#@(.+?)#|[^가-힣 ]\",\"\",regex=True)\n",
    "test_data.replace('', np.nan, inplace=True)"
   ]
  },
  {
   "cell_type": "markdown",
   "id": "3bae099a",
   "metadata": {},
   "source": [
    "전처리 후 생긴 null 데이터 확인"
   ]
  },
  {
   "cell_type": "code",
   "execution_count": 20,
   "id": "0b1ec699",
   "metadata": {
    "scrolled": false
   },
   "outputs": [
    {
     "name": "stdout",
     "output_type": "stream",
     "text": [
      "text     2\n",
      "label    0\n",
      "dtype: int64\n",
      "\n",
      "text     1\n",
      "label    0\n",
      "dtype: int64\n"
     ]
    }
   ],
   "source": [
    "print(train_data.isnull().sum()) # null 데이터 확인\n",
    "print()\n",
    "print(test_data.isnull().sum())"
   ]
  },
  {
   "cell_type": "markdown",
   "id": "96460dbc",
   "metadata": {},
   "source": [
    "null 값이 있는 행 제거 후 확인"
   ]
  },
  {
   "cell_type": "code",
   "execution_count": 30,
   "id": "5babdcc4",
   "metadata": {},
   "outputs": [
    {
     "name": "stdout",
     "output_type": "stream",
     "text": [
      "text     0\n",
      "label    0\n",
      "dtype: int64\n",
      "\n",
      "text     0\n",
      "label    0\n",
      "dtype: int64\n"
     ]
    }
   ],
   "source": [
    "train_data = train_data.dropna(how='any', axis=0)\n",
    "test_data = test_data.dropna(how='any', axis=0)\n",
    "\n",
    "print(train_data.isnull().sum()) # null 데이터 확인\n",
    "print()\n",
    "print(test_data.isnull().sum())"
   ]
  },
  {
   "cell_type": "markdown",
   "id": "d23b3515",
   "metadata": {},
   "source": [
    "## 전처리: 토큰화\n",
    "\n",
    "Okt 객체 선언"
   ]
  },
  {
   "cell_type": "code",
   "execution_count": 21,
   "id": "24e296bf",
   "metadata": {},
   "outputs": [],
   "source": [
    "okt = Okt() # 한글은 형태소 분석기 사용해야됨 KoNPLY"
   ]
  },
  {
   "cell_type": "markdown",
   "id": "95f55e58",
   "metadata": {},
   "source": [
    "불용어 단어"
   ]
  },
  {
   "cell_type": "code",
   "execution_count": 22,
   "id": "8548a6c9",
   "metadata": {},
   "outputs": [],
   "source": [
    "stopwords = [,] # spam, ham 빈도 수 높은 중복단어 제거"
   ]
  },
  {
   "cell_type": "markdown",
   "id": "91b22c31",
   "metadata": {},
   "source": [
    "어간 단위로 토큰화 및 불용어 처리"
   ]
  },
  {
   "cell_type": "code",
   "execution_count": 31,
   "id": "bf0e6721",
   "metadata": {},
   "outputs": [],
   "source": [
    "X_train = []\n",
    "for sentence in train_data['text']:\n",
    "    temp_X = okt.morphs(sentence, stem=True) # 토큰화\n",
    "    temp_X = [word for word in temp_X if not word in stopwords] # 불용어 처리\n",
    "    X_train.append(temp_X)"
   ]
  },
  {
   "cell_type": "code",
   "execution_count": 32,
   "id": "8c90ae0d",
   "metadata": {},
   "outputs": [],
   "source": [
    "X_test = []\n",
    "for sentence in test_data['text']:\n",
    "    temp_X = okt.morphs(sentence, stem=True) # 토큰화\n",
    "    temp_X = [word for word in temp_X if not word in stopwords] # 불용어 처리\n",
    "    X_test.append(temp_X)"
   ]
  },
  {
   "cell_type": "markdown",
   "id": "0b00c392",
   "metadata": {},
   "source": [
    "Dataframe 새 Column에 추가"
   ]
  },
  {
   "cell_type": "code",
   "execution_count": 33,
   "id": "65ba5083",
   "metadata": {},
   "outputs": [],
   "source": [
    "train_data['tokenized'] = X_train\n",
    "test_data['tokenized'] = X_test"
   ]
  },
  {
   "cell_type": "markdown",
   "id": "127d5037",
   "metadata": {},
   "source": [
    "## 단어별 빈도 수 확인\n",
    "\n",
    "스팸 단어 빈도 확인"
   ]
  },
  {
   "cell_type": "code",
   "execution_count": 34,
   "id": "e49ce073",
   "metadata": {},
   "outputs": [
    {
     "name": "stdout",
     "output_type": "stream",
     "text": [
      "[('을', 4883), ('있다', 3986), ('도', 3655), ('그', 3413), ('를', 3324), ('그렇다', 3271), ('들', 2731), ('은', 2699), ('가다', 2487), ('먹다', 2451), ('되다', 2415), ('거', 2409), ('같다', 2079), ('보다', 1941), ('안', 1869), ('것', 1806), ('우리', 1638), ('내', 1634), ('뭐', 1583), ('고', 1581)]\n"
     ]
    }
   ],
   "source": [
    "spam_words = np.hstack(train_data[train_data.label == 1]['tokenized'].values)\n",
    "spam_word_count = Counter(spam_words)\n",
    "print(spam_word_count.most_common(20))"
   ]
  },
  {
   "cell_type": "markdown",
   "id": "c1e6a359",
   "metadata": {},
   "source": [
    "일상 단어 빈도 확인"
   ]
  },
  {
   "cell_type": "code",
   "execution_count": 35,
   "id": "3cb68f8f",
   "metadata": {},
   "outputs": [
    {
     "name": "stdout",
     "output_type": "stream",
     "text": [
      "[('을', 21013), ('있다', 15878), ('도', 12463), ('를', 12175), ('은', 11933), ('그렇다', 11708), ('것', 8891), ('보다', 8279), ('들', 8204), ('되다', 8177), ('같다', 7468), ('의', 7181), ('거', 6695), ('좋다', 6226), ('먹다', 5563), ('아니다', 5348), ('그', 4995), ('에서', 4904), ('않다', 4846), ('이다', 4567)]\n"
     ]
    }
   ],
   "source": [
    "ham_words = np.hstack(train_data[train_data.label == 0]['tokenized'].values)\n",
    "ham_word_count = Counter(ham_words)\n",
    "print(ham_word_count.most_common(20))"
   ]
  },
  {
   "cell_type": "markdown",
   "id": "75d52aaa",
   "metadata": {},
   "source": [
    "Dataframe 값 추출"
   ]
  },
  {
   "cell_type": "code",
   "execution_count": 36,
   "id": "f3faa679",
   "metadata": {},
   "outputs": [],
   "source": [
    "X_train = train_data['tokenized'].values\n",
    "y_train = train_data['label'].values\n",
    "X_test = test_data['tokenized'].values\n",
    "y_test = test_data['label'].values"
   ]
  },
  {
   "cell_type": "markdown",
   "id": "4dc7b671",
   "metadata": {},
   "source": [
    "## 정수 인코딩\n",
    "\n",
    "`vocab_size`의 값을 정하기 위한 토큰화 객체 생성"
   ]
  },
  {
   "cell_type": "code",
   "execution_count": 37,
   "id": "33440127",
   "metadata": {},
   "outputs": [],
   "source": [
    "tokenizer = Tokenizer()\n",
    "tokenizer.fit_on_texts(X_train)"
   ]
  },
  {
   "cell_type": "markdown",
   "id": "7c9d6b20",
   "metadata": {},
   "source": [
    "최소 단어 빈도 수 제한"
   ]
  },
  {
   "cell_type": "code",
   "execution_count": 38,
   "id": "65bea1c2",
   "metadata": {},
   "outputs": [],
   "source": [
    "threshold = 2 # 등장 횟수가 threshold이하인 단어는 제거"
   ]
  },
  {
   "cell_type": "markdown",
   "id": "0936b179",
   "metadata": {},
   "source": [
    "최적의 `vocab_size` 선정"
   ]
  },
  {
   "cell_type": "code",
   "execution_count": 39,
   "id": "80910e36",
   "metadata": {},
   "outputs": [
    {
     "name": "stdout",
     "output_type": "stream",
     "text": [
      "단어 집합(vocabulary)의 크기 : 25579\n",
      "등장 빈도가 1번 이하인 희귀 단어의 수: 7785\n",
      "단어 집합에서 희귀 단어의 비율: 30.435122561476213\n",
      "전체 등장 빈도에서 희귀 단어 등장 빈도 비율: 0.6967415585531403\n",
      "vocab_size : 17796\n"
     ]
    }
   ],
   "source": [
    "word_to_index = tokenizer.word_index\n",
    "total_cnt = len(word_to_index) # 단어의 수\n",
    "rare_cnt = 0 # 등장 빈도수가 threshold보다 작은 단어의 개수를 카운트\n",
    "total_freq = 0 # 훈련 데이터의 전체 단어 빈도수 총 합\n",
    "rare_freq = 0 # 등장 빈도수가 threshold보다 작은 단어의 등장 빈도수의 총 합\n",
    "\n",
    "# 단어와 빈도수의 쌍(pair)을 key와 value로 받는다.\n",
    "for key, value in tokenizer.word_counts.items():\n",
    "    total_freq = total_freq + value\n",
    "\n",
    "    # 단어의 등장 빈도수가 threshold보다 작으면\n",
    "    if(value < threshold):\n",
    "        rare_cnt = rare_cnt + 1\n",
    "        rare_freq = rare_freq + value\n",
    "        \n",
    "print('단어 집합(vocabulary)의 크기 :',total_cnt)\n",
    "print('등장 빈도가 %s번 이하인 희귀 단어의 수: %s'%(threshold - 1, rare_cnt))\n",
    "print(\"단어 집합에서 희귀 단어의 비율:\", (rare_cnt / total_cnt)*100)\n",
    "print(\"전체 등장 빈도에서 희귀 단어 등장 빈도 비율:\", (rare_freq / total_freq)*100)\n",
    "\n",
    "vocab_size = total_cnt - rare_cnt + 2\n",
    "print('vocab_size :',vocab_size)"
   ]
  },
  {
   "cell_type": "markdown",
   "id": "632c17f0",
   "metadata": {},
   "source": [
    "단어 토큰화\n",
    "* `num_words`: 단어 max 사이즈 지정. 빈도수가 높은 순으로 저장.\n",
    "* `oov_token`: 단어 토큰에 없는 단어 표기법 지정"
   ]
  },
  {
   "cell_type": "code",
   "execution_count": 40,
   "id": "2a3590ac",
   "metadata": {},
   "outputs": [],
   "source": [
    "tokenizer = Tokenizer(num_words = vocab_size, oov_token = 'OOV')"
   ]
  },
  {
   "cell_type": "markdown",
   "id": "5abadb7f",
   "metadata": {},
   "source": [
    "`fit_on_texts`로 학습할 문장에 대한 토큰화 진행"
   ]
  },
  {
   "cell_type": "code",
   "execution_count": 41,
   "id": "930ce328",
   "metadata": {},
   "outputs": [],
   "source": [
    "tokenizer.fit_on_texts(X_train)"
   ]
  },
  {
   "cell_type": "code",
   "execution_count": 42,
   "id": "cba9ccb5",
   "metadata": {},
   "outputs": [
    {
     "name": "stdout",
     "output_type": "stream",
     "text": [
      "OOV \t======>\t 1\n",
      "을 \t======>\t 2\n",
      "있다 \t======>\t 3\n",
      "도 \t======>\t 4\n",
      "를 \t======>\t 5\n",
      "그렇다 \t======>\t 6\n",
      "은 \t======>\t 7\n",
      "들 \t======>\t 8\n",
      "것 \t======>\t 9\n",
      "되다 \t======>\t 10\n",
      "보다 \t======>\t 11\n",
      "같다 \t======>\t 12\n",
      "거 \t======>\t 13\n",
      "그 \t======>\t 14\n",
      "의 \t======>\t 15\n",
      "먹다 \t======>\t 16\n",
      "좋다 \t======>\t 17\n",
      "아니다 \t======>\t 18\n",
      "안 \t======>\t 19\n",
      "에서 \t======>\t 20\n",
      "가다 \t======>\t 21\n",
      "나 \t======>\t 22\n",
      "않다 \t======>\t 23\n",
      "으로 \t======>\t 24\n",
      "사람 \t======>\t 25\n"
     ]
    }
   ],
   "source": [
    "for key, value in tokenizer.word_index.items():\n",
    "    print('{} \\t======>\\t {}'.format(key, value))\n",
    "    if value == 25:\n",
    "        break"
   ]
  },
  {
   "cell_type": "markdown",
   "id": "e301bbf1",
   "metadata": {},
   "source": [
    "토큰화된 단어 사전의 개수"
   ]
  },
  {
   "cell_type": "code",
   "execution_count": 43,
   "id": "35a659cb",
   "metadata": {},
   "outputs": [
    {
     "data": {
      "text/plain": [
       "25580"
      ]
     },
     "execution_count": 43,
     "metadata": {},
     "output_type": "execute_result"
    }
   ],
   "source": [
    "len(tokenizer.word_index)"
   ]
  },
  {
   "cell_type": "markdown",
   "id": "1e6e7876",
   "metadata": {},
   "source": [
    "문장을 토큰으로 치환"
   ]
  },
  {
   "cell_type": "code",
   "execution_count": 44,
   "id": "082d21ba",
   "metadata": {},
   "outputs": [],
   "source": [
    "X_train = tokenizer.texts_to_sequences(X_train)\n",
    "X_test = tokenizer.texts_to_sequences(X_test)"
   ]
  },
  {
   "cell_type": "markdown",
   "id": "232214b9",
   "metadata": {},
   "source": [
    "변환된 Sequences 확인"
   ]
  },
  {
   "cell_type": "code",
   "execution_count": 45,
   "id": "ed9ed96a",
   "metadata": {},
   "outputs": [
    {
     "data": {
      "text/plain": [
       "[[120,\n",
       "  170,\n",
       "  38,\n",
       "  14,\n",
       "  1979,\n",
       "  15,\n",
       "  1572,\n",
       "  1146,\n",
       "  11003,\n",
       "  8376,\n",
       "  5892,\n",
       "  1702,\n",
       "  2,\n",
       "  326,\n",
       "  30,\n",
       "  3,\n",
       "  95,\n",
       "  1172,\n",
       "  2,\n",
       "  464,\n",
       "  20,\n",
       "  2548,\n",
       "  11,\n",
       "  10,\n",
       "  64],\n",
       " [6174, 8, 4, 2010, 15, 7303, 24, 2471],\n",
       " [367, 2828, 7, 802, 1834, 612, 39, 3892, 331, 26, 17, 184, 82, 87],\n",
       " [66, 38, 180, 743, 410, 52, 482, 139, 2188, 5, 950],\n",
       " [4803,\n",
       "  116,\n",
       "  7801,\n",
       "  2,\n",
       "  1373,\n",
       "  5893,\n",
       "  2,\n",
       "  12460,\n",
       "  1173,\n",
       "  2,\n",
       "  439,\n",
       "  133,\n",
       "  452,\n",
       "  395,\n",
       "  1,\n",
       "  1737,\n",
       "  24,\n",
       "  1029,\n",
       "  2,\n",
       "  1034]]"
      ]
     },
     "execution_count": 45,
     "metadata": {},
     "output_type": "execute_result"
    }
   ],
   "source": [
    "X_train[:5]"
   ]
  },
  {
   "cell_type": "markdown",
   "id": "17a918e2",
   "metadata": {},
   "source": [
    "`vocab_size`보다 떨어지는 단어는 1로 치환 (OOV)\n",
    "\n",
    "## 패딩\n",
    "리뷰 길이"
   ]
  },
  {
   "cell_type": "code",
   "execution_count": 46,
   "id": "f81722a4",
   "metadata": {
    "scrolled": true
   },
   "outputs": [
    {
     "data": {
      "image/png": "[encoded data removed]",
      "text/plain": [
       "<Figure size 432x288 with 1 Axes>"
      ]
     },
     "metadata": {
      "needs_background": "light"
     },
     "output_type": "display_data"
    },
    {
     "name": "stdout",
     "output_type": "stream",
     "text": [
      "최대 길이 : 48\n",
      "평균 길이 : 10.106040049926738\n"
     ]
    }
   ],
   "source": [
    "plt.subplot(122)\n",
    "plt.hist([len(s) for s in X_train], bins=50)\n",
    "plt.xlabel('length of samples')\n",
    "plt.ylabel('number of samples')\n",
    "plt.show()\n",
    "\n",
    "print('최대 길이 :',max(len(l) for l in X_train))\n",
    "print('평균 길이 :',sum(map(len, X_train))/len(X_train))"
   ]
  },
  {
   "cell_type": "markdown",
   "id": "842c7abc",
   "metadata": {},
   "source": [
    "3가지 옵션 입력\n",
    "* `maxlen`: 최대 문장 길이 정의. 길면 잘라냄\n",
    "* `truncating`: 문장 길이가 `maxlen`보다 길 때, 앞을 자를지 뒤를 자를지 정의\n",
    "* `padding`: 문장 길이가 `maxlen`보다 짧을 때, 앞을 채울지 뒤를 채울지 정의"
   ]
  },
  {
   "cell_type": "code",
   "execution_count": 47,
   "id": "cbff6e05",
   "metadata": {},
   "outputs": [],
   "source": [
    "max_len = 40 # 최대 길이 (그래프를 보고 판단)\n",
    "trunc_type = 'post' # 잘라낼 문장의 위치\n",
    "padding_type = 'post'"
   ]
  },
  {
   "cell_type": "markdown",
   "id": "69ef5e8e",
   "metadata": {},
   "source": [
    "문장 길이 비율 찾기"
   ]
  },
  {
   "cell_type": "code",
   "execution_count": 48,
   "id": "8782096f",
   "metadata": {},
   "outputs": [
    {
     "name": "stdout",
     "output_type": "stream",
     "text": [
      "전체 샘플 중 길이가 40 이하인 샘플의 비율: 99.97105696351369\n"
     ]
    }
   ],
   "source": [
    "def below_threshold_len(max_len, nested_list):\n",
    "    cnt = 0\n",
    "    for s in nested_list:\n",
    "        if(len(s) <= max_len):\n",
    "            cnt = cnt + 1\n",
    "    print('전체 샘플 중 길이가 %s 이하인 샘플의 비율: %s'%(max_len, (cnt / len(nested_list))*100))\n",
    "    \n",
    "below_threshold_len(max_len, X_train)"
   ]
  },
  {
   "cell_type": "code",
   "execution_count": 49,
   "id": "173e3b58",
   "metadata": {},
   "outputs": [],
   "source": [
    "X_train = pad_sequences(X_train, maxlen = max_len, truncating = trunc_type, padding = padding_type)\n",
    "X_test = pad_sequences(X_test, maxlen = max_len, truncating = trunc_type, padding = padding_type)"
   ]
  },
  {
   "cell_type": "markdown",
   "id": "bed7c923",
   "metadata": {},
   "source": [
    "변화된 후 shape 확인"
   ]
  },
  {
   "cell_type": "code",
   "execution_count": 50,
   "id": "809a8b03",
   "metadata": {
    "scrolled": true
   },
   "outputs": [
    {
     "data": {
      "text/plain": [
       "(110562, 40)"
      ]
     },
     "execution_count": 50,
     "metadata": {},
     "output_type": "execute_result"
    }
   ],
   "source": [
    "X_train.shape"
   ]
  },
  {
   "cell_type": "markdown",
   "id": "025b776a",
   "metadata": {},
   "source": [
    "## 모델 정의\n",
    "\n",
    "임베딩 차원 정의"
   ]
  },
  {
   "cell_type": "code",
   "execution_count": 51,
   "id": "910212cb",
   "metadata": {},
   "outputs": [],
   "source": [
    "embedding_dim = 16"
   ]
  },
  {
   "cell_type": "markdown",
   "id": "d2a3df97",
   "metadata": {},
   "source": [
    "모델 구성"
   ]
  },
  {
   "cell_type": "code",
   "execution_count": 52,
   "id": "30fdb196",
   "metadata": {},
   "outputs": [],
   "source": [
    "model = Sequential([\n",
    "    Embedding(vocab_size, embedding_dim, input_length = max_len),\n",
    "    LSTM(64),\n",
    "    Dense(1, activation='sigmoid')\n",
    "])"
   ]
  },
  {
   "cell_type": "markdown",
   "id": "a262418d",
   "metadata": {},
   "source": [
    "## 컴파일\n",
    "\n",
    "1. `optimizer`은 가장 최적화가 잘되는 알고리즘 'adam' 사용\n",
    "2. `loss`는 이진분류이므로, `binary_crossentropy` 사용"
   ]
  },
  {
   "cell_type": "code",
   "execution_count": 53,
   "id": "7606a6fc",
   "metadata": {},
   "outputs": [],
   "source": [
    "model.compile(optimizer='adam', loss='binary_crossentropy', metrics=['acc'])"
   ]
  },
  {
   "cell_type": "markdown",
   "id": "53ccaf41",
   "metadata": {},
   "source": [
    "## ModelCheckpoint\n",
    "\n",
    "val_acc 기준으로 epoch 마다 최적의 모델을 저장하기 위한 체크포인트 설정"
   ]
  },
  {
   "cell_type": "code",
   "execution_count": 54,
   "id": "0fa3df99",
   "metadata": {},
   "outputs": [],
   "source": [
    "mc = ModelCheckpoint(file_name+'.h5', monitor='val_acc', mode='max', verbose=1, save_best_only=True)"
   ]
  },
  {
   "cell_type": "markdown",
   "id": "c2b638db",
   "metadata": {},
   "source": [
    "## EarlyStopping\n",
    "\n",
    "val_loss 기준으로 4번까지 Overfitting(과적합)이 진행되면 자동으로 종료"
   ]
  },
  {
   "cell_type": "code",
   "execution_count": 55,
   "id": "dd3184df",
   "metadata": {},
   "outputs": [],
   "source": [
    "es = EarlyStopping(monitor='val_loss', mode='min', verbose=1, patience=4)"
   ]
  },
  {
   "cell_type": "markdown",
   "id": "85738a19",
   "metadata": {},
   "source": [
    "## 모델 학습"
   ]
  },
  {
   "cell_type": "code",
   "execution_count": 56,
   "id": "1f3037d8",
   "metadata": {},
   "outputs": [
    {
     "name": "stdout",
     "output_type": "stream",
     "text": [
      "Epoch 1/15\n",
      "346/346 [==============================] - ETA: 0s - loss: 0.4417 - acc: 0.8210\n",
      "Epoch 00001: val_acc improved from -inf to 0.86447, saving model to LSTM_module_ver4.0.h5\n",
      "346/346 [==============================] - 13s 38ms/step - loss: 0.4417 - acc: 0.8210 - val_loss: 0.3333 - val_acc: 0.8645\n",
      "Epoch 2/15\n",
      "345/346 [============================>.] - ETA: 0s - loss: 0.2956 - acc: 0.8833\n",
      "Epoch 00002: val_acc improved from 0.86447 to 0.87523, saving model to LSTM_module_ver4.0.h5\n",
      "346/346 [==============================] - 12s 35ms/step - loss: 0.2955 - acc: 0.8834 - val_loss: 0.3120 - val_acc: 0.8752\n",
      "Epoch 3/15\n",
      "345/346 [============================>.] - ETA: 0s - loss: 0.2589 - acc: 0.8984\n",
      "Epoch 00003: val_acc improved from 0.87523 to 0.87849, saving model to LSTM_module_ver4.0.h5\n",
      "346/346 [==============================] - 12s 34ms/step - loss: 0.2589 - acc: 0.8984 - val_loss: 0.3077 - val_acc: 0.8785\n",
      "Epoch 4/15\n",
      "346/346 [==============================] - ETA: 0s - loss: 0.2420 - acc: 0.9059\n",
      "Epoch 00004: val_acc improved from 0.87849 to 0.87962, saving model to LSTM_module_ver4.0.h5\n",
      "346/346 [==============================] - 12s 35ms/step - loss: 0.2420 - acc: 0.9059 - val_loss: 0.3044 - val_acc: 0.8796\n",
      "Epoch 5/15\n",
      "346/346 [==============================] - ETA: 0s - loss: 0.2247 - acc: 0.9108\n",
      "Epoch 00005: val_acc did not improve from 0.87962\n",
      "346/346 [==============================] - 12s 34ms/step - loss: 0.2247 - acc: 0.9108 - val_loss: 0.3172 - val_acc: 0.8769\n",
      "Epoch 6/15\n",
      "346/346 [==============================] - ETA: 0s - loss: 0.2081 - acc: 0.9157\n",
      "Epoch 00006: val_acc improved from 0.87962 to 0.88088, saving model to LSTM_module_ver4.0.h5\n",
      "346/346 [==============================] - 12s 35ms/step - loss: 0.2081 - acc: 0.9157 - val_loss: 0.3363 - val_acc: 0.8809\n",
      "Epoch 7/15\n",
      "346/346 [==============================] - ETA: 0s - loss: 0.1946 - acc: 0.9184\n",
      "Epoch 00007: val_acc did not improve from 0.88088\n",
      "346/346 [==============================] - 12s 35ms/step - loss: 0.1946 - acc: 0.9184 - val_loss: 0.3515 - val_acc: 0.8801\n",
      "Epoch 8/15\n",
      "346/346 [==============================] - ETA: 0s - loss: 0.1818 - acc: 0.9222\n",
      "Epoch 00008: val_acc did not improve from 0.88088\n",
      "346/346 [==============================] - 12s 34ms/step - loss: 0.1818 - acc: 0.9222 - val_loss: 0.3371 - val_acc: 0.8795\n",
      "Epoch 00008: early stopping\n"
     ]
    }
   ],
   "source": [
    "history = model.fit(X_train, y_train, epochs=15, callbacks=[es, mc], batch_size=256, validation_split=0.2)"
   ]
  },
  {
   "cell_type": "markdown",
   "id": "da07f400",
   "metadata": {},
   "source": [
    "학습 완료 후 `load_model` 를 해주지 않으면 ModelCheckpoint를 만든 의미가 없음"
   ]
  },
  {
   "cell_type": "code",
   "execution_count": 57,
   "id": "24bcb9ac",
   "metadata": {},
   "outputs": [],
   "source": [
    "model = load_model(file_name+'.h5')"
   ]
  },
  {
   "cell_type": "markdown",
   "id": "ed62f7cc",
   "metadata": {},
   "source": [
    "## 학습 오차 시각화"
   ]
  },
  {
   "cell_type": "code",
   "execution_count": 58,
   "id": "7ef3a32d",
   "metadata": {},
   "outputs": [
    {
     "name": "stdout",
     "output_type": "stream",
     "text": [
      "1152/1152 [==============================] - 3s 3ms/step - loss: 0.3327 - acc: 0.8834\n",
      "\n",
      " 테스트 정확도: 0.8834\n"
     ]
    },
    {
     "data": {
      "image/png": "[encoded data removed]",
      "text/plain": [
       "<Figure size 432x288 with 1 Axes>"
      ]
     },
     "metadata": {
      "needs_background": "light"
     },
     "output_type": "display_data"
    }
   ],
   "source": [
    "epochs = range(1, len(history.history['acc']) + 1)\n",
    "plt.plot(epochs, history.history['loss'])\n",
    "plt.plot(epochs, history.history['val_loss'])\n",
    "plt.title('model loss')\n",
    "plt.ylabel('loss')\n",
    "plt.xlabel('epoch')\n",
    "plt.legend(['train', 'val'], loc='upper left')\n",
    "print(\"\\n 테스트 정확도: %.4f\" % (model.evaluate(X_test, y_test)[1]))"
   ]
  },
  {
   "cell_type": "markdown",
   "id": "97eab55c",
   "metadata": {},
   "source": [
    "## 파일 저장\n",
    "\n",
    "tokenizer 객체 저장"
   ]
  },
  {
   "cell_type": "code",
   "execution_count": 59,
   "id": "48b666c6",
   "metadata": {},
   "outputs": [],
   "source": [
    "with open(file_name+\"_tokenizer.pickle\", \"wb\") as f:\n",
    "    pickle.dump(tokenizer, f, protocol=pickle.HIGHEST_PROTOCOL)"
   ]
  },
  {
   "cell_type": "markdown",
   "id": "22f3fa08",
   "metadata": {},
   "source": [
    "변수 저장"
   ]
  },
  {
   "cell_type": "code",
   "execution_count": 60,
   "id": "bda4b027",
   "metadata": {},
   "outputs": [],
   "source": [
    "d = {'min_data':min_data, 'max_len':max_len, 'trunc_type':trunc_type, 'padding_type':padding_type}\n",
    "json_var = json.dumps(d)\n",
    "with open(file_name+'_variable.json', 'w') as f:\n",
    "    f.write(json_var)"
   ]
  },
  {
   "cell_type": "markdown",
   "id": "14e1f8a8",
   "metadata": {},
   "source": [
    "불용어 단어 저장"
   ]
  },
  {
   "cell_type": "code",
   "execution_count": 61,
   "id": "f507cec0",
   "metadata": {
    "scrolled": true
   },
   "outputs": [],
   "source": [
    "json_stopwords = json.dumps(stopwords)\n",
    "with open(file_name+'_stopwords.json', 'w') as f:\n",
    "    f.write(json_stopwords)"
   ]
  }
 ],
 "metadata": {
  "kernelspec": {
   "display_name": "Python 3 (ipykernel)",
   "language": "python",
   "name": "python3"
  },
  "language_info": {
   "codemirror_mode": {
    "name": "ipython",
    "version": 3
   },
   "file_extension": ".py",
   "mimetype": "text/x-python",
   "name": "python",
   "nbconvert_exporter": "python",
   "pygments_lexer": "ipython3",
   "version": "3.8.5"
  }
 },
 "nbformat": 4,
 "nbformat_minor": 5
}
