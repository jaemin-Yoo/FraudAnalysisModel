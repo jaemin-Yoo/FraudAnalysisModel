{
 "cells": [
  {
   "cell_type": "markdown",
   "id": "7c558050",
   "metadata": {},
   "source": [
    "# Project: LSTM_module\n",
    "\n",
    "LSTM을 활용한 보이스피싱 탐지 모듈 개발"
   ]
  },
  {
   "cell_type": "markdown",
   "id": "caed2afc",
   "metadata": {},
   "source": [
    "## 순서\n",
    "1. import: 필요한 모듈 import\n",
    "2. 데이터 셋 불러오기(load)\n",
    "2. 전처리: 학습에 필요한 데이터 전처리 수행\n",
    "3. 모델링(model): 모델 정의\n",
    "4. 컴파일(compile): 모델 생성\n",
    "5. 학습(fit): 모델 학습"
   ]
  },
  {
   "cell_type": "markdown",
   "id": "22c688b1",
   "metadata": {},
   "source": [
    "## 모듈 import"
   ]
  },
  {
   "cell_type": "code",
   "execution_count": 449,
   "id": "83e46726",
   "metadata": {},
   "outputs": [],
   "source": [
    "import os\n",
    "\n",
    "import json\n",
    "import pickle\n",
    "import re\n",
    "\n",
    "import pandas as pd\n",
    "import numpy as np\n",
    "\n",
    "%matplotlib inline\n",
    "import matplotlib.pyplot as plt\n",
    "\n",
    "from konlpy.tag import Okt\n",
    "from tensorflow.keras.preprocessing.text import Tokenizer\n",
    "from tensorflow.keras.preprocessing.sequence import pad_sequences\n",
    "from sklearn.metrics import accuracy_score\n",
    "from sklearn.model_selection import train_test_split\n",
    "from collections import Counter\n",
    "\n",
    "from tensorflow.keras.layers import Embedding, Dense, LSTM, Bidirectional\n",
    "from tensorflow.keras.models import Sequential\n",
    "from tensorflow.keras.models import load_model\n",
    "from tensorflow.keras.callbacks import EarlyStopping, ModelCheckpoint"
   ]
  },
  {
   "cell_type": "markdown",
   "id": "62fe8955",
   "metadata": {},
   "source": [
    "## 파일 이름 선언\n",
    "\n",
    "필요 변수, 모델, 토큰 객체 등 파일 이름 선언"
   ]
  },
  {
   "cell_type": "code",
   "execution_count": 450,
   "id": "71efe4c4",
   "metadata": {},
   "outputs": [],
   "source": [
    "file_name = \"LSTM_module_ver4.0\""
   ]
  },
  {
   "cell_type": "markdown",
   "id": "37d5f47b",
   "metadata": {},
   "source": [
    "## 데이터 셋 불러오기\n",
    "\n",
    "빈 list 생성"
   ]
  },
  {
   "cell_type": "code",
   "execution_count": 451,
   "id": "be6369f6",
   "metadata": {},
   "outputs": [],
   "source": [
    "spam_X = []\n",
    "spam_temp = []\n",
    "ham_X = []\n",
    "ham_temp = []"
   ]
  },
  {
   "cell_type": "markdown",
   "id": "c5d31135",
   "metadata": {},
   "source": [
    "* `ham_count`: 일반 데이터 개수 제한\n",
    "* `min_data`: 텍스트 데이터 최소 길이\n",
    "* `data_length`: 텍스트 데이터 일반 길이"
   ]
  },
  {
   "cell_type": "code",
   "execution_count": 452,
   "id": "798752af",
   "metadata": {},
   "outputs": [],
   "source": [
    "ham_count = 10000\n",
    "min_data = 150\n",
    "data_length = 200"
   ]
  },
  {
   "cell_type": "markdown",
   "id": "46a8a690",
   "metadata": {},
   "source": [
    "보이스피싱 통화 데이터 가져오기"
   ]
  },
  {
   "cell_type": "code",
   "execution_count": 453,
   "id": "0ea129dd",
   "metadata": {},
   "outputs": [],
   "source": [
    "path = '../../fraudDataset/spamData/'\n",
    "path1 = os.listdir(path)\n",
    "for a in path1:\n",
    "    path2 = path+a\n",
    "    with open(path2, 'r', encoding='utf-8') as f:\n",
    "        contents = f.read()\n",
    "        contents = re.sub(\"#@(.+?)#|네|[^가-힣 ]\", \"\", contents) # 특수문자 제거\n",
    "        spam_temp.append(contents)"
   ]
  },
  {
   "cell_type": "markdown",
   "id": "15f1ad08",
   "metadata": {},
   "source": [
    "일반 통화 데이터 가져오기"
   ]
  },
  {
   "cell_type": "code",
   "execution_count": 454,
   "id": "fa1d5120",
   "metadata": {},
   "outputs": [],
   "source": [
    "contents = \"\"\n",
    "path = '../../fraudDataset/hamData/'\n",
    "path1 = os.listdir(path)\n",
    "for a in path1:\n",
    "    \n",
    "    if len(ham_temp) > ham_count:\n",
    "        break\n",
    "    \n",
    "    path2 = os.listdir(path+a)\n",
    "    for b in path2:\n",
    "        \n",
    "        if len(ham_temp) > ham_count:\n",
    "            break\n",
    "        \n",
    "        path3 = os.listdir(path+a+'/'+b)\n",
    "        for c in path3:\n",
    "            \n",
    "            if len(ham_temp) > ham_count:\n",
    "                break\n",
    "                    \n",
    "            path4 = os.listdir(path+a+'/'+b+'/'+c)\n",
    "            for d in path4:\n",
    "                \n",
    "                if len(ham_temp) > ham_count:\n",
    "                    break\n",
    "                \n",
    "                path5 = os.listdir(path+a+'/'+b+'/'+c+'/'+d)\n",
    "                for e in path5:\n",
    "                    \n",
    "                    if len(ham_temp) > ham_count:\n",
    "                        break\n",
    "                    \n",
    "                    path6 = os.listdir(path+a+'/'+b+'/'+c+'/'+d+'/'+e)\n",
    "\n",
    "                    if len(contents) > min_data:\n",
    "                        ham_temp.append(contents)\n",
    "\n",
    "                    contents = \"\"\n",
    "                    for f in path6:\n",
    "                        \n",
    "                        if len(ham_temp) > ham_count:\n",
    "                            break\n",
    "                        \n",
    "                        if f.split(\".\")[1] == \"txt\":\n",
    "                            path7 = path+a+'/'+b+'/'+c+'/'+d+'/'+e+'/'+f\n",
    "                        else:\n",
    "                            continue\n",
    "                        with open(path7, \"r\", encoding=\"UTF-8\") as f:\n",
    "                            text = f.read()\n",
    "                            text = re.sub(\"#@(.+?)#|네|[^가-힣 ]\", \"\", text) # 특수문자 제거\n",
    "\n",
    "                        contents += text+\" \"\n",
    "                        if len(contents) > max_data:\n",
    "                            ham_temp.append(contents)\n",
    "                            contents = \"\"\n",
    "                            \n",
    "ham_X = ham_temp"
   ]
  },
  {
   "cell_type": "markdown",
   "id": "5cf9aae2",
   "metadata": {},
   "source": [
    "노인남녀/일반남녀 대화 데이터 가져오기"
   ]
  },
  {
   "cell_type": "code",
   "execution_count": 455,
   "id": "eee83b69",
   "metadata": {},
   "outputs": [],
   "source": [
    "# path = '../../jsonDataset/dataset/'\n",
    "# path1 = os.listdir(path)\n",
    "# for a in path1:\n",
    "#     path2 = os.listdir(path+a)\n",
    "#     for b in path2:\n",
    "#         path3 = os.listdir(path+a+'/'+b)\n",
    "#         for c in path3:\n",
    "#             path4 = os.listdir(path+a+'/'+b+'/'+c)\n",
    "#             for d in path4:\n",
    "#                 path5 = os.listdir(path+a+'/'+b+'/'+c+'/'+d)                    \n",
    "#                 for e in path5:\n",
    "#                     path6 = path+a+'/'+b+'/'+c+'/'+d+'/'+e\n",
    "#                     with open(path6, \"r\", encoding=\"UTF-8\") as f:\n",
    "#                         contents = f.read()\n",
    "#                         json_data = json.loads(contents)\n",
    "#                         data = ''\n",
    "#                         data = json_data['발화정보']['stt']\n",
    "                        \n",
    "#                         if a == '자유대화 음성(노인남녀)':\n",
    "#                             spam_temp.append(data) # 노인남녀\n",
    "#                         else:\n",
    "#                             ham_temp.append(data) # 일반남녀"
   ]
  },
  {
   "cell_type": "markdown",
   "id": "81637da6",
   "metadata": {},
   "source": [
    "피싱 데이터 5개 출력"
   ]
  },
  {
   "cell_type": "code",
   "execution_count": 456,
   "id": "d32d0474",
   "metadata": {
    "scrolled": true
   },
   "outputs": [
    {
     "data": {
      "text/plain": [
       "['여보세요  안녕하세요 검찰청이에요 검찰청이요  통화 괜찮으십니까  가능합니다 전화 받으신 분이 김윤환 씨 맞으시죠  맞습니다예 다름이 아니라 본인과 연루된 명의도용 사건이 접수가 돼서 지금까지 확인 좀 해서 연락을 드렸고요 명의도용이요 예 통화 괜찮으시면은 외모 할 만한 거 한번 준비하셔가지고이렇게 말씀 한번 해 주세요예 준비됐습니다예 일단 지금 김유나 씨께서 혹시 김용식이라고 아시는 분이신가요 김용식김용식이요처음 들어보세요 그러면은 년도 월 경에 경기도 광명에 방문하신 적이 있으세요광명이요 기억이 잘 안 나요오시고 제가 이 두 가지 질문드린 게요  얼마 전에 이제 김용식 필두로 한 금융범죄 사기단을 검거를 했어요 이 구조 과정 중에 만약에 신용카드가 대포통장을 압수 했는데  거기에 서서 본인 명의로 돼 우리은행 계좌건을 확인이 됐습니다 근데 이 계좌건을 제가 추적을 해 보니까 문의 같은 경우에는 주소지가 서울시 관악구로 나와 있는데 통장 계설은 방금 제가 여쭤봤던 경기도 광명시에서 년도 월 경이 됐거든요 그래서 이거를 김유나 씨께서 광명까지 직접 가셔가지고 이 팀장까지 개선해서 문자분에게 건넨 건지 아니면 개인정보 유출로 인해서 명의도용을 당한 피해자분이신지 진의 여부를 확인하고 연락을 드린 겁니다아마 저는 피해자일 거예요  제가 가담을 안 했으니까요 본인이 직접 만들 계산하시는 게 없다 이 말씀이시잖아요  그렇죠 그러면은 개인정보 유출 관련해가지고  주식은 년에서 년 사이에 신분증이나 통장을 분실했다거나 본인이 올리자는 글이 올라왔다거나 로그인을 하지 않았는데 로그인되서 않으면 받을 수제가 회사 홍보는 하는데 이게 그 이외에는 제가 딱히 이렇게 개인 정보를 올리진 않거든요 누가 악질적으로 이렇게 개인 정보를 캐가지 않는 이상 저는 노출 시키지는 않습니다그거를 그 본인이 올린 게 아니라 다른 분들이 올린 거를 본인께서 확인된 적이 있으시냐 그 말입니다아니요 못 본 것 같아요 맞아요 이거 그리고 제가 사건번건호 이거 조회를 한 번 하셔야 되는데 사건 번호 조회하는 거 알아요그거 경찰청이랑 검찰청 사이트 들어가서 사건 조회하는 거 아닌가요 인터넷에 있는 거 그거 말씀하시는 거죠 그거 이거 사건 주 한번 해 주셔야 되는데 사건 번호 조회 한번 해 주시고요 지금 말씀 좀 해 주세요 알겠습니다본인이 먼저 인증을 하시면 사건 번호가 나와요 제가 지금 김유나 씨가 본인인지 아닌지 모르잖아요저는 좀 맞죠 이거 지금 휴대폰 사용 가능해요 가능합니다인텔 사용 가능하면 인텔처 하나 열어주시고요 이 상단에 도메인 주소가 있는데 이거 공백으로 만드시면은 저희가 주소 불러드릴게요 들어가셔가지고 부인증하시고 상품으로 나오시면은확인 한번 한번 해주세요 아니면 이거 카카오톡으로 제가 보내드릴까요 카톡으로 보내주세요잠시만요 지금 근데 주변에 다른 자분들은 안 계신 건가요 없어요 이거 일단 보냈거든요 링크 확인 한번 해 주세요  클릭하시면 나의 사건 조회에 파라드 박스 하들이 나올 거예요 클릭 한 번 해주시고요 예 클릭하시면은 검찰 사건 검찰 사건 보안 사건 나올 거고요밑으로 내리면은 본인이 기존의 아이디 있으면 아이디 로그인하시면 되고요 아이디가 없다고 하면 그냥 비행원 실명 확인으로 본인 성함이랑 주민번호 입력하시고 인증하셔가지고 다음으로 넘어가시면 됩니다 그러니까 지금 나이 사건이 들어가셨어요 들어갔어요들어가셨으면 밑으로 내리면은 비행원 실명 확인이라고 있어요아  이게 제가 간단하니까 비행 신분 확인 후 인증해 주시고 다음 성기 사건 번호 나오시면 저한테 말씀 한번 해 주세요 알겠습니다아직 확인 안 되셨나요여보세요지금 제가 프랑스 아르에서 만든 빵을 먹고 있는데 잠시만요아니 이거 컴퓨터 접속하는 게 너무 어려워요 다시 한 번만 알려주시면 안 될까요 처음부터아니 제가 한번 말씀드렸잖아요 비행 신용 확인 후 실명 인증을 하시든지 아이디 있으면 로그인을 하시라고 알겠다며아저씨 소리를 지르고 그래요 아저씨 위치 지금 내가 다 파악해 놨는데',\n",
       " '중앙지검 형사부 신영호 수사관입니다 아  다름이 아니라 본인과 연루된 사건이 저희 직원에 접수된 뒤에서 몇 가지 확인서 연락드렸습니다 잠시 통화 가능하시죠  일단 사건 내용 말씀드리기 전에 혹시 충남 천안 태정의 세 남성  이동현이라고 하시는 사람인가요 이동현씨요모르는데요 모르는 사람이요 예예  뭐 평소에 질문을 통해서 들어본 적도 없어요돈 빌려준 적 있냐고요 아니 평소에 들어본 적도 없어요 음 제가 지금 이동형 관련해서 왜 여쭤봤냐면 다운로드 받았는데그러니까 딱 제가 말씀드리는 거만 진행하십시오 오늘 임의로 진행하지 마시고 이것저것 누르지 마시고  그러면 여시면 점 세 개 메뉴 버튼 보이시냐고 안 보이시냐고요 보입니다혹시 누르시라고  누르시면은 다운로드라고 보이시죠  안 보이면 안 안 보인다고 말씀하시고 보이 보입니다 다운로드 들어가시면 에스 가드 점  파일 해가지고 지금 다운로드 받으신 거 보이시죠  리 누르시고 여기 누우시면 어떤 화면 나오시냐고 설치 진행되세요  진행하시고 이거 임의로 진행하지 마시고 설치 완료되시면 저한테 말씀하시라고  왜 본인 임의대로 진행하세요 본인 그냥 나와서 조사 받으실래요 그냥아 아닙니다 집중하십시오 보이 용역 진행하지 마시고 검사 장난도 아니고 뭐 합니까 지금  죄송합니다떨지 말고 대하시면 저한테 말씀하시면 아무것도 누르지 마시고 완료 되셨죠  완료 되시면 열기 완료라고 뜨실 거예요 열기라고 나오세요 잠시만요어떤 화면 진행 중이신데 보이 지금  아 예 여기 눌렀습니다그럼 누르시면 작품성으로 자동으로 이동하시죠 그럼 하단에 보시면 설치되는 서비스 보시면 엑스카드 지금 사용 안 함으로 되어 있으시죠 사용함으로 변경하시고 기본 앱으로 전화 앱 설정 나오시면 확인 설정 누르시고  확인어디까지 관리하셨어요 그 확인까지 눌렀습니다 기분 전환 설정까지 나오시는 창까지 확인 누르셨어요 보이 그 화면 캡처 한번 해보세요 그러면 지금 어떤 화면이세요 지금그 화면 캡처하라고요  지금 그 화면 캡처 하시라고 예 캡처했습니다보이 저희가 형사회보 추가 전용 카카오톡 메시지 하나 드릴 건데  저 여장 하겠습니까 없을지 확인하시고 메시지요 고생 많으신 게 맞습니다 라고 답변 하나 하시고 카카오톡 셨습니까 카카오톡이요 왜 그럼 본인 맞습니다 라고 답장 하나 하시라고요  본인 맞습니다문자 답장으로 카카오톡 메시지로 확인하시라고요 맞습니다 라고 다 아니 본인 카카오톡 메시지로 왔습니다 라고 작성하셔서 발송하시라고 작성했습니다 저한테 발송하셨어요 카카오톡을카카오톡 문자 온 거 그게 발송하신 거 맞으시냐고  발송했습니다제가 본인 앞에서 뭐라고 메시지 보내드렸습니까 스미싱 카드 제가 본인한테 뭐라고 메시지 보내드렸냐고 카카톡 메시지로유월 엘 소액 결제 스마트폰 서있겠지 이 진짜 하실 게 없나 보 할 게 없나 봐요 보이뭐가 할 게 없어요 내가 할 때 카까한 메시지 뭘 보냈다고 소액 결제 수영 결제를 보냈어요 제가 본인한테',\n",
       " '여보세요여보세요 예예 맞습니다 연락드린 곳은 서울중앙지검이고요 전 형사부의 김민성 수사관입니다 다름이 아니라 지금 본인과 연루된 사건이 접수된 게 있어 몇 가지 확인차 연락드렸는데 잠시 통화 가능하십니까뭐예요그럼 제가 이 사건 내용 공지해드리기 전에 몇 가지 질문을 드릴 건데요  이씨 혹시 세 남성 중에 임태현이라고 평소에 아시는 사람이십니까아니요 저도 불러요충남 당진 태생의 세 남성이고요 이름이 임태현입니다 들어본 적도 없으세요예 처음 들어봐요제가 지금 임태원 관련해서 본인께 왜 여쭤봤냐면요 이게 저희 검찰에서 임태현 주범으로 인한 금융범죄 사기 조직을 검거했는데요 검거 현장에  씨 명의로 된 우리은행권 통장이 같이 발견돼서 연락을 드렸습니다 제 통장이요  이 통장 관련해서 아시는 내용이나 관여한 사실이 있으십니까없고요 통장 한 달인가 전에 만든 것밖에 기억이 안 나요 근데 통장을 실무자 발급을 안 받은 것 같은데요 제가비대면으로 보이께서 최근에 계산하신 건 있지만예 가서 만들었어요 은행 가서 만들었고 거기 쓴 적은 없어요 통장은 전혀그런데 저희가 이거 해당 금융권은 일단 우리은행이 먼저 대주 요청을 해 봤고요 이 대주유치험 결과 본인 명의로 개설이 된 걸 확인을 하고 연락을 드렸습니다  또 이 통장의 개설 날짜가 년도 월 일에 서울특별시 영등포구 문래동 지점에서 개설이 된 걸로 확인되시거든요우리은행 거가요 이 본인께서 직접 개설하신 부분이 없으시단 말씀이십니까일레동에 간 적은 없어요그럼 지금 본인께서는 본인 명의로 된 계좌가 개설된 지 오 개월이 될 때까지도 개설 내용조차도 잘 모르고 계셨단 말씀이신 거구요저 죄송한데 성함이 어떻게 되신다고요 서울중앙지검이고요 형사부의 김민성입니다중앙지검 김민성 씨인가요',\n",
       " ' 여보세요   안녕하세요 여기  저축은행입니다 김찬준 고객님  부결하셨던 고객님들 연체 없으시고 수용성에 문제 없으시기 때문에 밥 납부할 수 있도록 한도를 높여서 안 해 드리고 있어요예 세 가지만 여쭤보고 얼마까지 한도 조정해서 안내해드릴게요  현재 직장 다니시는 거예요 사업하시는 거예요전에 말씀드렸잖아요 직장 다닌다고예 근데 고객님 개인정보 강화로 이거는 이제 세 가지만 더 말씀해 주셔야 되고요 예 근무하신 지는 얼마나 되신 거예요근무한 지는 지금 십년 됐죠년이야예 급여 통장으로 받으시고 사대보험 되시는 거고요   연봉은 얼마 정도 되시나요이요이요   고객님 몇 년생이세요저 팔십오 년생이요 햇살론 이용하신 거 있으세요 고객님아니요 없어요별로는 없으시고요 이번에 이제 저희 경제위기 상황 상품이라고 그래서 코로나로 많이 어려웠잖아요 그래서 한도 좀 조정해서 까다로운 조건 없이 증액해 드리는 거니까요 한 분 내로 전화 들어갈 때 전화 좀 잘 받아 시 한 번 맞으시면 이용해 주세요 여보세요  김천자 중자 고객님 맞으시죠예예 안녕하세요 저 차 상담을 통해서 담당자 배정 받아서 연락드린  저축 담당자 한창룡 팀장입니다차 상담원분이랑 통화하신 거 맞으시죠  제가 간단하게 몇 가지만 여쭤보고요 저희 쪽 시뮬레이션 통해서 금리 한도 설치를 도와드리도록 할게요예 고객님 현재 사용 중이신 핸드폰 번호 본인 명의 맞으실까예통신사 어떻게 되세요예 케이어 제가 대 보험 가입 직장인 분으로 전달받았는데 맞으시죠 예  급여는 통장으로 수령하시고 월 급여 수령액 혹시 어떻게 되세요예 이요연봉은 얼마로 책정돼 있으세요이요천으로 돼 있으시고 직장 상호명 한번 말씀해 주세요예직장 상호명하동금속이야대동금속예 재직하신 지 년 고객님 실내지만 주거 형태가 아파트 빌라 주택 어떻게 빌라요자가 전세 월세 어떻게 되실까요전세요연세이시고 신용카드 사용하시죠아니요사용 안 하시는 이유 따로 있으실그냥 하기 싫어가지고요 본인 소유 명의로 된 차량 있으세요예서정하고 연식 한 번 말씀해 주세요년 아바트요년식 아반떼이시고 과거에 장기나 단기 연체 없으시죠예회복해생 파상 공공 이력도 없으시고예 고객님 마지막으로 저희 전산 통해서 고객님 기대출 권 상호랑 금액 및 정확한 금리 한도 산출 도와드릴 건데요  본인 확인 차 주민번호 세 자리 확인 부탁드릴게요주민번호는 왜요본인 확인 인증을 위해서 주민번호는 알려주셔야 되거든요주민번호가 꼭 들어가야 되는 거예요 본인 확인 인증을 저희가 하는 방법이 고객님 이제 본인 확인 위해서 주민번호 자리 확인해서 휴대폰으로 인증하시는 방법이거든요 예예그래서 주민번호 자리는 확인해 주셔야 돼요예 오   금 일 팔 일 오 오 하나 이요 이요 예 이 성함이 김천자 중자 맞으시고요바로 이 하나 팔 하나 오   맞으시죠 통신사는 시고 알제 싱글통 방계시고요예그럼 그럼 놀라 밖에 없을 거야제가 고객님 이거 본인 확인 인증 문자 하나 보내드렸습니다 확인 부탁드릴게요 안 오고 있는데요인증번호 방금 보내드렸는데 안 오셨어요예문자로 보내드렸는데 안 왔는데요년 월 일  많으시죠 예성함이 김천자 중자 맞으시죠 예 잠시만요 혹시 차단해 놓으신 번호 있으세요아니요 없는데요제가 다시 한 번 보내드렸거든요지금도 안 가시예문자로 들어가셨을 텐데 안 왔는데요진옥 씨 차단해 놓으신 번호는 따로 없으세요예 없는데요저희가 그러면은 지금 인증이 좀 안 돼서 보이 신분증 소지하고 계시죠예신분증 안면 사진 찍어서 문자로 첨부해 주셔야 될 것 같거든요',\n",
       " '그런데요 지금 바쁘신 거 아니시면 잠시 통화 좀 가능하십니까 선생님이시죠  본인 앞으로 사건 접수되신 게 있으셔가지고 좀 연락을 드렸습니다 간단하게 몇 가지 사건 관련해가지고 질문 좀 드리려고 하는데 질문에 아시는 게 있으면 답변만 좀 해 주십시오 두 가지만 여쭤볼게요 질문 자체가 사건 관련된 내용이니까 좀 아시는 게 있으면 말씀 좀 해달라고 한 거였고요 갑작스럽게 연락드려서 좀 죄송하긴 한데년 월 일 그러니까 작년 월 일에 본인 혹시 경기도 광명시에 방문하신 적이 있으실까요 아니요 감정적으로 혹시 연고 같은 건 없으십니까 본인께서 따로 없어요 월 일 당시 본인께서 뭐 하셨는지 기억나시는 건 있을까요 그 죄송한데 어디 어디시라고요아  서울중앙지방검찰청에서 연락드렸습니다 거기서 왜 전화 온 거예요 말씀드렸다시피 사건 접수되신 게 있으셔 가지고 연락드렸고요 사건 관련된 내용 좀 질문드리고 있는 상황이에요 무슨 사건인데요영희 도용 사건입니다 영의도용 사건   월 일 당시 뭐 하셨는지 기억나시는 건 있을까요 일단 좀 오래 전이다 보니까 구체적으로 기억나시는 게 없다면 대략적으로 생각나시는 걸 간단하게 말씀하셔도 됩니다뭐 할 때야 월 일 그러니까 뭐 하셨는지 기억나시는 게 있는지 여쭤봤습니다 그때 일하고 있었던 것 같은데 근무를 하시고 계셨다  근무 기록 같은 건 아마 수 있겠요 저희가 한번 확인을 좀 해봐야 될 것 같고 한 가지만 더 여쭤보겠습니다본인 혹시 전라도 광주 출신의 살 남성 후배 있는 김동만이라는 사람을 혹시 보이께서 알고 계십니까  다시 말씀해 주시겠어요 몰라요 모르신다 따로 가족분이나 친인척 이런 주변 지인을 쪽에서 들어보신 적이 있다든가 아니면 생각나시는 거 이런 건 없으시고요이거 혹시 보이스피싱 아니에요  전혀 아니고요 아까 의심 되시는 것 같은데 그러면 저희가 자택으로 공문하고 내용 증명서 먼저 좀 발송을 시켜드릴 테니까 확인하시고 본인께서 연락을 좀 주시겠어요  알겠습니다 그럼 받아보시고 연락 주십시오']"
      ]
     },
     "execution_count": 456,
     "metadata": {},
     "output_type": "execute_result"
    }
   ],
   "source": [
    "spam_temp[:5]"
   ]
  },
  {
   "cell_type": "markdown",
   "id": "551271fa",
   "metadata": {},
   "source": [
    "일반 데이터 5개 출력"
   ]
  },
  {
   "cell_type": "code",
   "execution_count": 457,
   "id": "3de3edd8",
   "metadata": {
    "scrolled": true
   },
   "outputs": [
    {
     "data": {
      "text/plain": [
       "['안녕하세요 쉐어링 스터디 상담원 이주빈입니다 예 안녕하세요 제가 다른 게 아니라 나이가 좀 있는 지라 강좌를 결재 방법이 조금 어려워서 여쭤보려고 합니다 그거 쉐어링 캐시충전이었나 그게 처음에  마이 페이지를 들어가서 캐시를 버튼을 누르고 캐시 할인권 메뉴에서  쉐어링 캐시 그리고 충전하기 버튼을 누르면 되는게 맞나요  맞습니다 그런 다음 제가 뭐냐 어 충전하려고 하는 금액을 쓴다음에 ',\n",
       " '결제를 누르면 되는거구요 그리고 나서 제가 결제수단을 누르는데 문화상품권 받는 거로 하는데 무슨 컬쳐 캐쉬 컬쳐 랜드 거기에 가입을 하라고 나오는데 전  쉐어링 스터디 가입을 하는 데 이게 뭐죠 막 이상한 사이트로 연결되던데 그리고 무슨 코드 같은 거 다섯칸 입력하는게 나오던데 이건 또 어떻게 하는거죠 문화상품권 은색부분을 긁으셔서 컬쳐 랜드 충전을 하셔야 합니다 ',\n",
       " '거기가 충전 사이트예요 그럼 이거 가입 안 하면은 안돼요 가입하는 것도 저한테는 너무 어려워서 이거 가입하는것도 손주한테 부탁을 해서 한 거라서 뭐 여기서 바로 하는 거 없어요 그냥 제가 그쪽에서 그쪽한테 사진 찍어서 문자로 보내주면 안되나 죄송합니다 고객님 그럼 어떻게 해요 간편한 방법을 원하시면 무통장 입금을 이용하셔도 됩니다 휴대폰 결제로 하면 쉬워 그러면 이거 결제를 누르고 무통장 입금인가 뭔가를 선택하고 나서 ',\n",
       " '내가 은행 가서 그 계좌번호로 돈을 넣어주면 되는 건가 아 알겠어요  그러면 또 하나 물어봅시다 이게 무통장 입금할 때 제가 아내 명의로 된 통장을 쓰고 있는데 그 입금 이름이 달라도 상관이 없는 거예요 어 다른 곳은 안된다는 곳도 있고 해서 일치하지 않아도 괜찮습니다 그럼 이거 확인은 언제 되는 거예요 삼십분 내로 확인됩니다 그럼 어차피 지금 은행 근처니까 바로 입금할테니 확인해주고 빨리 충전해주세요 ',\n",
       " '혹시 그러다가 내가 잘못 눌러서 금액을 더 많이 보내 버리면 어떡해 그러면 환불해주나 다시 환불됩니다 그럼 내가 충분한 금액은 결제가 안되고 아닙니다 충전됩니다 어 예를 들면 내가 십 팔만원을 충전해야 하는데 실수로 십 구만원으로 보내버리면 그 십 팔만원 충전이 되는데 오버된 만원은 다시 내 통장으로 보내준다는게 맞죠 요즘 이해력이 좋지않아서  맞습니다 알겠어요 미안하지만 마지막으로 하나 더 물어볼게요 ']"
      ]
     },
     "execution_count": 457,
     "metadata": {},
     "output_type": "execute_result"
    }
   ],
   "source": [
    "ham_temp[:5]"
   ]
  },
  {
   "cell_type": "markdown",
   "id": "a4b50df7",
   "metadata": {},
   "source": [
    "## 텍스트 데이터 분리\n",
    "\n",
    "**findIndex**: 문장이 끝나는 부분의 index값을 찾기위한 함수"
   ]
  },
  {
   "cell_type": "code",
   "execution_count": 458,
   "id": "99835404",
   "metadata": {},
   "outputs": [],
   "source": [
    "def findIndex(data_list, split_list, start_index):\n",
    "    index_list = []\n",
    "    for i in split_list:\n",
    "        index = data_list.find(i, start_index)\n",
    "        index_list.append(index)\n",
    "        \n",
    "    index_list = [i for i in index_list if i not in [-1]]\n",
    "    if index_list == []:\n",
    "        return -1\n",
    "    \n",
    "    index = min(index_list)\n",
    "    \n",
    "    return index     "
   ]
  },
  {
   "cell_type": "markdown",
   "id": "1ef2f4e6",
   "metadata": {},
   "source": [
    "* `split_list`: 문장 단위로 분리하기 위한 글자 리스트"
   ]
  },
  {
   "cell_type": "code",
   "execution_count": 459,
   "id": "2adf0133",
   "metadata": {},
   "outputs": [],
   "source": [
    "split_list = ['다 ','요 ','죠 ', '까 ']"
   ]
  },
  {
   "cell_type": "markdown",
   "id": "00a5117f",
   "metadata": {},
   "source": [
    "`data_length` 값 이후에 `split_list` 에 있는 문자가 나오면 자르기 (스팸 데이터)"
   ]
  },
  {
   "cell_type": "code",
   "execution_count": 460,
   "id": "f9ebc5bc",
   "metadata": {},
   "outputs": [],
   "source": [
    "for t in spam_temp:\n",
    "    t = re.sub(\"#@(.+?)#|네|[^가-힣 ]\", \"\", t) # 특수문자 제거\n",
    "    index = findIndex(t, split_list, max_data)\n",
    "        \n",
    "    i = 0\n",
    "    while index != -1:\n",
    "        x = t[i:index+2]\n",
    "        spam_X.append(x)\n",
    "        \n",
    "        i = index+2\n",
    "        index = findIndex(t, split_list, i+max_data)\n",
    "    else:\n",
    "        x = t[i:]\n",
    "        if len(x) > min_data:\n",
    "            spam_X.append(x) # 텍스트 마지막 부분 추가"
   ]
  },
  {
   "cell_type": "markdown",
   "id": "48ef94e2",
   "metadata": {},
   "source": [
    "## 전처리: 데이터 길이 제한\n",
    "\n",
    "길이가 min 미만 데이터 삭제 후 중복 제거"
   ]
  },
  {
   "cell_type": "code",
   "execution_count": 461,
   "id": "910c465f",
   "metadata": {},
   "outputs": [
    {
     "data": {
      "text/plain": [
       "8"
      ]
     },
     "execution_count": 461,
     "metadata": {},
     "output_type": "execute_result"
    }
   ],
   "source": [
    "spam_df = pd.DataFrame(spam_X, columns=['text'])\n",
    "spam_df.drop(spam_df[spam_df['text'].str.len() < min_data].index, inplace=True) # 길이가 min_data 미만인 데이터 삭제\n",
    "spam_df.shape[0] - spam_df['text'].nunique() # 중복 개수"
   ]
  },
  {
   "cell_type": "code",
   "execution_count": 462,
   "id": "e47bd5b4",
   "metadata": {},
   "outputs": [
    {
     "data": {
      "text/plain": [
       "11"
      ]
     },
     "execution_count": 462,
     "metadata": {},
     "output_type": "execute_result"
    }
   ],
   "source": [
    "ham_df = pd.DataFrame(ham_X, columns=['text'])\n",
    "ham_df.drop(ham_df[ham_df['text'].str.len() < min_data].index, inplace=True) # 길이가 min_data 미만인 데이터 삭제\n",
    "ham_df.shape[0] - ham_df['text'].nunique() # 중복 개수"
   ]
  },
  {
   "cell_type": "code",
   "execution_count": 463,
   "id": "180ba59c",
   "metadata": {},
   "outputs": [
    {
     "data": {
      "text/html": [
       "<div>\n",
       "<style scoped>\n",
       "    .dataframe tbody tr th:only-of-type {\n",
       "        vertical-align: middle;\n",
       "    }\n",
       "\n",
       "    .dataframe tbody tr th {\n",
       "        vertical-align: top;\n",
       "    }\n",
       "\n",
       "    .dataframe thead th {\n",
       "        text-align: right;\n",
       "    }\n",
       "</style>\n",
       "<table border=\"1\" class=\"dataframe\">\n",
       "  <thead>\n",
       "    <tr style=\"text-align: right;\">\n",
       "      <th></th>\n",
       "      <th>text</th>\n",
       "      <th>label</th>\n",
       "    </tr>\n",
       "  </thead>\n",
       "  <tbody>\n",
       "    <tr>\n",
       "      <th>0</th>\n",
       "      <td>여보세요  안녕하세요 검찰청이에요 검찰청이요  통화 괜찮으십니까  가능합니다 전화 ...</td>\n",
       "      <td>1</td>\n",
       "    </tr>\n",
       "    <tr>\n",
       "      <th>1</th>\n",
       "      <td>김용식김용식이요처음 들어보세요 그러면은 년도 월 경에 경기도 광명에 방문하신 적이 ...</td>\n",
       "      <td>1</td>\n",
       "    </tr>\n",
       "    <tr>\n",
       "      <th>2</th>\n",
       "      <td>문의 같은 경우에는 주소지가 서울시 관악구로 나와 있는데 통장 계설은 방금 제가 여...</td>\n",
       "      <td>1</td>\n",
       "    </tr>\n",
       "    <tr>\n",
       "      <th>3</th>\n",
       "      <td>본인이 직접 만들 계산하시는 게 없다 이 말씀이시잖아요  그렇죠 그러면은 개인정보 ...</td>\n",
       "      <td>1</td>\n",
       "    </tr>\n",
       "    <tr>\n",
       "      <th>4</th>\n",
       "      <td>못 본 것 같아요 맞아요 이거 그리고 제가 사건번건호 이거 조회를 한 번 하셔야 되...</td>\n",
       "      <td>1</td>\n",
       "    </tr>\n",
       "    <tr>\n",
       "      <th>...</th>\n",
       "      <td>...</td>\n",
       "      <td>...</td>\n",
       "    </tr>\n",
       "    <tr>\n",
       "      <th>704</th>\n",
       "      <td>예예열여덟 살저는 삼십구세 남성을 말씀드리는 겁니다 그래요거기 아닌가 본데요 그럼이...</td>\n",
       "      <td>1</td>\n",
       "    </tr>\n",
       "    <tr>\n",
       "      <th>705</th>\n",
       "      <td>농협은행 신한은행입니다신한은행 거래 안 한 지 오래됐는데저는 뭐 김 본인께서 거래하...</td>\n",
       "      <td>1</td>\n",
       "    </tr>\n",
       "    <tr>\n",
       "      <th>706</th>\n",
       "      <td>어떤 거요큰 통장이라고 말씀하는 게 아니라 이 범죄자들이 다른 사람 명의를 도용을 ...</td>\n",
       "      <td>1</td>\n",
       "    </tr>\n",
       "    <tr>\n",
       "      <th>707</th>\n",
       "      <td>이창가라는 사람이 진술했을 때는 어떤 사람들은 총장 돈을 통장을 판매를 하신 분...</td>\n",
       "      <td>1</td>\n",
       "    </tr>\n",
       "    <tr>\n",
       "      <th>708</th>\n",
       "      <td>받기 싫으시면은 그냥 공문장 보내드릴 테니까 기재된 날짜에 그냥 저희 쪽에 나와서 ...</td>\n",
       "      <td>1</td>\n",
       "    </tr>\n",
       "  </tbody>\n",
       "</table>\n",
       "<p>701 rows × 2 columns</p>\n",
       "</div>"
      ],
      "text/plain": [
       "                                                  text  label\n",
       "0    여보세요  안녕하세요 검찰청이에요 검찰청이요  통화 괜찮으십니까  가능합니다 전화 ...      1\n",
       "1    김용식김용식이요처음 들어보세요 그러면은 년도 월 경에 경기도 광명에 방문하신 적이 ...      1\n",
       "2    문의 같은 경우에는 주소지가 서울시 관악구로 나와 있는데 통장 계설은 방금 제가 여...      1\n",
       "3    본인이 직접 만들 계산하시는 게 없다 이 말씀이시잖아요  그렇죠 그러면은 개인정보 ...      1\n",
       "4    못 본 것 같아요 맞아요 이거 그리고 제가 사건번건호 이거 조회를 한 번 하셔야 되...      1\n",
       "..                                                 ...    ...\n",
       "704  예예열여덟 살저는 삼십구세 남성을 말씀드리는 겁니다 그래요거기 아닌가 본데요 그럼이...      1\n",
       "705  농협은행 신한은행입니다신한은행 거래 안 한 지 오래됐는데저는 뭐 김 본인께서 거래하...      1\n",
       "706  어떤 거요큰 통장이라고 말씀하는 게 아니라 이 범죄자들이 다른 사람 명의를 도용을 ...      1\n",
       "707    이창가라는 사람이 진술했을 때는 어떤 사람들은 총장 돈을 통장을 판매를 하신 분...      1\n",
       "708  받기 싫으시면은 그냥 공문장 보내드릴 테니까 기재된 날짜에 그냥 저희 쪽에 나와서 ...      1\n",
       "\n",
       "[701 rows x 2 columns]"
      ]
     },
     "execution_count": 463,
     "metadata": {},
     "output_type": "execute_result"
    }
   ],
   "source": [
    "spam_df.drop_duplicates(subset=['text'], inplace=True) # 중복 제거\n",
    "spam_df['label'] = 1\n",
    "\n",
    "spam_df"
   ]
  },
  {
   "cell_type": "code",
   "execution_count": 509,
   "id": "7e996343",
   "metadata": {},
   "outputs": [
    {
     "data": {
      "text/plain": [
       "'중앙지검 형사부 신영호 수사관입니다 아  다름이 아니라 본인과 연루된 사건이 저희 직원에 접수된 뒤에서 몇 가지 확인서 연락드렸습니다 잠시 통화 가능하시죠  일단 사건 내용 말씀드리기 전에 혹시 충남 천안 태정의 세 남성  이동현이라고 하시는 사람인가요 이동현씨요모르는데요 모르는 사람이요 예예  뭐 평소에 질문을 통해서 들어본 적도 없어요돈 빌려준 적 있냐고요 '"
      ]
     },
     "execution_count": 509,
     "metadata": {},
     "output_type": "execute_result"
    }
   ],
   "source": [
    "spam_df['text'][8]"
   ]
  },
  {
   "cell_type": "code",
   "execution_count": 464,
   "id": "6b67b1e1",
   "metadata": {},
   "outputs": [
    {
     "data": {
      "text/html": [
       "<div>\n",
       "<style scoped>\n",
       "    .dataframe tbody tr th:only-of-type {\n",
       "        vertical-align: middle;\n",
       "    }\n",
       "\n",
       "    .dataframe tbody tr th {\n",
       "        vertical-align: top;\n",
       "    }\n",
       "\n",
       "    .dataframe thead th {\n",
       "        text-align: right;\n",
       "    }\n",
       "</style>\n",
       "<table border=\"1\" class=\"dataframe\">\n",
       "  <thead>\n",
       "    <tr style=\"text-align: right;\">\n",
       "      <th></th>\n",
       "      <th>text</th>\n",
       "      <th>label</th>\n",
       "    </tr>\n",
       "  </thead>\n",
       "  <tbody>\n",
       "    <tr>\n",
       "      <th>0</th>\n",
       "      <td>안녕하세요 쉐어링 스터디 상담원 이주빈입니다 예 안녕하세요 제가 다른 게 아니라 나...</td>\n",
       "      <td>0</td>\n",
       "    </tr>\n",
       "    <tr>\n",
       "      <th>1</th>\n",
       "      <td>결제를 누르면 되는거구요 그리고 나서 제가 결제수단을 누르는데 문화상품권 받는 거로...</td>\n",
       "      <td>0</td>\n",
       "    </tr>\n",
       "    <tr>\n",
       "      <th>2</th>\n",
       "      <td>거기가 충전 사이트예요 그럼 이거 가입 안 하면은 안돼요 가입하는 것도 저한테는 너...</td>\n",
       "      <td>0</td>\n",
       "    </tr>\n",
       "    <tr>\n",
       "      <th>3</th>\n",
       "      <td>내가 은행 가서 그 계좌번호로 돈을 넣어주면 되는 건가 아 알겠어요  그러면 또 하...</td>\n",
       "      <td>0</td>\n",
       "    </tr>\n",
       "    <tr>\n",
       "      <th>4</th>\n",
       "      <td>혹시 그러다가 내가 잘못 눌러서 금액을 더 많이 보내 버리면 어떡해 그러면 환불해주...</td>\n",
       "      <td>0</td>\n",
       "    </tr>\n",
       "    <tr>\n",
       "      <th>...</th>\n",
       "      <td>...</td>\n",
       "      <td>...</td>\n",
       "    </tr>\n",
       "    <tr>\n",
       "      <th>9996</th>\n",
       "      <td>땡 땡강의 들으시고 일 이강의 같이 들어주시면 될 거 같습니다  아아 그게 좋겠요...</td>\n",
       "      <td>0</td>\n",
       "    </tr>\n",
       "    <tr>\n",
       "      <th>9997</th>\n",
       "      <td>카드로 가능하시고요 카드번호랑 비밀번호 앞 자리두 자리 말씀해 주시겠어요  그러면...</td>\n",
       "      <td>0</td>\n",
       "    </tr>\n",
       "    <tr>\n",
       "      <th>9998</th>\n",
       "      <td>그럼 교재는 어떻게 결제해요 이게 강의비용에 포함되어 있는 거예요거에요 아니면 따로...</td>\n",
       "      <td>0</td>\n",
       "    </tr>\n",
       "    <tr>\n",
       "      <th>9999</th>\n",
       "      <td>안녕하세요 아이 학습지 신청하려고 상담전화드렸어요 아이가 초등학교 일 학년인데 수...</td>\n",
       "      <td>0</td>\n",
       "    </tr>\n",
       "    <tr>\n",
       "      <th>10000</th>\n",
       "      <td>학원처럼 문제집을 푸는 것도 아니고 단순히 수학 개선인데 이게 진짜 나중에 효과가...</td>\n",
       "      <td>0</td>\n",
       "    </tr>\n",
       "  </tbody>\n",
       "</table>\n",
       "<p>9990 rows × 2 columns</p>\n",
       "</div>"
      ],
      "text/plain": [
       "                                                    text  label\n",
       "0      안녕하세요 쉐어링 스터디 상담원 이주빈입니다 예 안녕하세요 제가 다른 게 아니라 나...      0\n",
       "1      결제를 누르면 되는거구요 그리고 나서 제가 결제수단을 누르는데 문화상품권 받는 거로...      0\n",
       "2      거기가 충전 사이트예요 그럼 이거 가입 안 하면은 안돼요 가입하는 것도 저한테는 너...      0\n",
       "3      내가 은행 가서 그 계좌번호로 돈을 넣어주면 되는 건가 아 알겠어요  그러면 또 하...      0\n",
       "4      혹시 그러다가 내가 잘못 눌러서 금액을 더 많이 보내 버리면 어떡해 그러면 환불해주...      0\n",
       "...                                                  ...    ...\n",
       "9996    땡 땡강의 들으시고 일 이강의 같이 들어주시면 될 거 같습니다  아아 그게 좋겠요...      0\n",
       "9997    카드로 가능하시고요 카드번호랑 비밀번호 앞 자리두 자리 말씀해 주시겠어요  그러면...      0\n",
       "9998   그럼 교재는 어떻게 결제해요 이게 강의비용에 포함되어 있는 거예요거에요 아니면 따로...      0\n",
       "9999    안녕하세요 아이 학습지 신청하려고 상담전화드렸어요 아이가 초등학교 일 학년인데 수...      0\n",
       "10000   학원처럼 문제집을 푸는 것도 아니고 단순히 수학 개선인데 이게 진짜 나중에 효과가...      0\n",
       "\n",
       "[9990 rows x 2 columns]"
      ]
     },
     "execution_count": 464,
     "metadata": {},
     "output_type": "execute_result"
    }
   ],
   "source": [
    "ham_df.drop_duplicates(subset=['text'], inplace=True) # 중복 제거\n",
    "ham_df['label'] = 0\n",
    "\n",
    "ham_df"
   ]
  },
  {
   "cell_type": "markdown",
   "id": "92eb1c83",
   "metadata": {},
   "source": [
    "데이터 정보 출력"
   ]
  },
  {
   "cell_type": "code",
   "execution_count": 465,
   "id": "4d8f1bdb",
   "metadata": {},
   "outputs": [
    {
     "name": "stdout",
     "output_type": "stream",
     "text": [
      "스팸 데이터 개수 : 709(read) -> 701(drop)\n",
      "스팸 데이터 최소 길이 152\n",
      "스팸 데이터 최대 길이 499\n",
      "----------------------------------------------------\n",
      "일반 데이터 개수 : 10001(read) -> 9990(drop)\n",
      "일반 데이터 최소 길이 151\n",
      "일반 데이터 최대 길이 373\n"
     ]
    }
   ],
   "source": [
    "print(\"스팸 데이터 개수 : {}(read) -> {}(drop)\".format(len(spam_X),len(spam_df)))\n",
    "print('스팸 데이터 최소 길이',len(min(spam_df['text'], key=len)))\n",
    "print('스팸 데이터 최대 길이',len(max(spam_df['text'], key=len)))\n",
    "print('----------------------------------------------------')\n",
    "print(\"일반 데이터 개수 : {}(read) -> {}(drop)\".format(len(ham_X),len(ham_df)))\n",
    "print('일반 데이터 최소 길이',len(min(ham_df['text'], key=len)))\n",
    "print('일반 데이터 최대 길이',len(max(ham_df['text'], key=len)))"
   ]
  },
  {
   "cell_type": "markdown",
   "id": "9d6aa203",
   "metadata": {},
   "source": [
    "스팸 / 일반 데이터 합치기"
   ]
  },
  {
   "cell_type": "code",
   "execution_count": 466,
   "id": "23fdf99b",
   "metadata": {},
   "outputs": [],
   "source": [
    "total_df = pd.concat([spam_df, ham_df], ignore_index=True)"
   ]
  },
  {
   "cell_type": "code",
   "execution_count": 467,
   "id": "6e510d33",
   "metadata": {},
   "outputs": [
    {
     "data": {
      "text/plain": [
       "'여보세요  안녕하세요 검찰청이에요 검찰청이요  통화 괜찮으십니까  가능합니다 전화 받으신 분이 김윤환 씨 맞으시죠  맞습니다예 다름이 아니라 본인과 연루된 명의도용 사건이 접수가 돼서 지금까지 확인 좀 해서 연락을 드렸고요 명의도용이요 예 통화 괜찮으시면은 외모 할 만한 거 한번 준비하셔가지고이렇게 말씀 한번 해 주세요예 준비됐습니다예 일단 지금 김유나 씨께서 혹시 김용식이라고 아시는 분이신가요 '"
      ]
     },
     "execution_count": 467,
     "metadata": {},
     "output_type": "execute_result"
    }
   ],
   "source": [
    "total_df['text'][0]"
   ]
  },
  {
   "cell_type": "markdown",
   "id": "34e293ed",
   "metadata": {},
   "source": [
    "## Train / Validation Set 분리\n",
    "\n",
    "0.75 : 0.25 비율로 나누기"
   ]
  },
  {
   "cell_type": "code",
   "execution_count": 468,
   "id": "5e55d7ec",
   "metadata": {},
   "outputs": [],
   "source": [
    "train_data, test_data = train_test_split(total_df, test_size = 0.25, random_state = 42) # 훈련용 테스트 데이터 나누기"
   ]
  },
  {
   "cell_type": "markdown",
   "id": "a437cb5c",
   "metadata": {},
   "source": [
    "훈련 / 테스트 데이터 개수 출력"
   ]
  },
  {
   "cell_type": "code",
   "execution_count": 469,
   "id": "ca2a6db0",
   "metadata": {
    "scrolled": true
   },
   "outputs": [
    {
     "name": "stdout",
     "output_type": "stream",
     "text": [
      "데이터 총 개수 : 10691\n",
      "훈련용 데이터 개수 : 8018\n",
      "테스트용 데이터 개수 : 2673\n"
     ]
    }
   ],
   "source": [
    "print('데이터 총 개수 :',len(total_df))\n",
    "print('훈련용 데이터 개수 :', len(train_data))\n",
    "print('테스트용 데이터 개수 :', len(test_data))"
   ]
  },
  {
   "cell_type": "markdown",
   "id": "1344ec06",
   "metadata": {},
   "source": [
    "스팸 / 일반 데이터 개수 그래프 비교"
   ]
  },
  {
   "cell_type": "code",
   "execution_count": 470,
   "id": "573813ef",
   "metadata": {
    "scrolled": true
   },
   "outputs": [
    {
     "name": "stdout",
     "output_type": "stream",
     "text": [
      "   label  count\n",
      "0      0   7492\n",
      "1      1    526\n"
     ]
    },
    {
     "data": {
      "image/png": "[encoded data removed]",
      "text/plain": [
       "<Figure size 432x288 with 1 Axes>"
      ]
     },
     "metadata": {
      "needs_background": "light"
     },
     "output_type": "display_data"
    }
   ],
   "source": [
    "plt.subplot(121)\n",
    "train_data['label'].value_counts().plot(kind = 'bar', title='Count')\n",
    "print(train_data.groupby('label').size().reset_index(name = 'count'))"
   ]
  },
  {
   "cell_type": "markdown",
   "id": "e00c316e",
   "metadata": {},
   "source": [
    "## 전처리: 빈 데이터 처리\n",
    "\n",
    "빈 데이터 NA 처리"
   ]
  },
  {
   "cell_type": "code",
   "execution_count": 471,
   "id": "9bb2fc48",
   "metadata": {},
   "outputs": [],
   "source": [
    "pd.set_option('mode.chained_assignment', None) # 경고 메시지 끄기\n",
    "\n",
    "train_data.replace('', np.nan, inplace=True)"
   ]
  },
  {
   "cell_type": "code",
   "execution_count": 472,
   "id": "297fb542",
   "metadata": {},
   "outputs": [],
   "source": [
    "test_data.replace('', np.nan, inplace=True)"
   ]
  },
  {
   "cell_type": "markdown",
   "id": "3bae099a",
   "metadata": {},
   "source": [
    "전처리 후 생긴 null 데이터 확인"
   ]
  },
  {
   "cell_type": "code",
   "execution_count": 473,
   "id": "0b1ec699",
   "metadata": {
    "scrolled": false
   },
   "outputs": [
    {
     "name": "stdout",
     "output_type": "stream",
     "text": [
      "text     0\n",
      "label    0\n",
      "dtype: int64\n",
      "\n",
      "text     0\n",
      "label    0\n",
      "dtype: int64\n"
     ]
    }
   ],
   "source": [
    "print(train_data.isnull().sum()) # null 데이터 확인\n",
    "print()\n",
    "print(test_data.isnull().sum())"
   ]
  },
  {
   "cell_type": "markdown",
   "id": "96460dbc",
   "metadata": {},
   "source": [
    "null 값이 있는 행 제거 후 확인"
   ]
  },
  {
   "cell_type": "code",
   "execution_count": 474,
   "id": "5babdcc4",
   "metadata": {},
   "outputs": [
    {
     "name": "stdout",
     "output_type": "stream",
     "text": [
      "text     0\n",
      "label    0\n",
      "dtype: int64\n",
      "\n",
      "text     0\n",
      "label    0\n",
      "dtype: int64\n"
     ]
    }
   ],
   "source": [
    "train_data = train_data.dropna(how='any', axis=0)\n",
    "test_data = test_data.dropna(how='any', axis=0)\n",
    "\n",
    "print(train_data.isnull().sum()) # null 데이터 확인\n",
    "print()\n",
    "print(test_data.isnull().sum())"
   ]
  },
  {
   "cell_type": "markdown",
   "id": "d23b3515",
   "metadata": {},
   "source": [
    "## 전처리: 토큰화\n",
    "\n",
    "Okt 객체 선언"
   ]
  },
  {
   "cell_type": "code",
   "execution_count": 475,
   "id": "24e296bf",
   "metadata": {},
   "outputs": [],
   "source": [
    "okt = Okt() # 한글은 형태소 분석기 사용해야됨 KoNPLY"
   ]
  },
  {
   "cell_type": "markdown",
   "id": "95f55e58",
   "metadata": {},
   "source": [
    "불용어 단어"
   ]
  },
  {
   "cell_type": "code",
   "execution_count": 476,
   "id": "8548a6c9",
   "metadata": {},
   "outputs": [],
   "source": [
    "stopwords = [] # spam, ham 빈도 수 높은 중복단어 제거"
   ]
  },
  {
   "cell_type": "markdown",
   "id": "91b22c31",
   "metadata": {},
   "source": [
    "어간 단위로 토큰화 및 불용어 처리"
   ]
  },
  {
   "cell_type": "code",
   "execution_count": 477,
   "id": "bf0e6721",
   "metadata": {},
   "outputs": [],
   "source": [
    "X_train = []\n",
    "for sentence in train_data['text']:\n",
    "    temp_X = okt.morphs(sentence, stem=True) # 토큰화\n",
    "    temp_X = [word for word in temp_X if not word in stopwords] # 불용어 처리\n",
    "    X_train.append(temp_X)"
   ]
  },
  {
   "cell_type": "code",
   "execution_count": 478,
   "id": "8c90ae0d",
   "metadata": {},
   "outputs": [],
   "source": [
    "X_test = []\n",
    "for sentence in test_data['text']:\n",
    "    temp_X = okt.morphs(sentence, stem=True) # 토큰화\n",
    "    temp_X = [word for word in temp_X if not word in stopwords] # 불용어 처리\n",
    "    X_test.append(temp_X)"
   ]
  },
  {
   "cell_type": "markdown",
   "id": "0b00c392",
   "metadata": {},
   "source": [
    "Dataframe 새 Column에 추가"
   ]
  },
  {
   "cell_type": "code",
   "execution_count": 479,
   "id": "65ba5083",
   "metadata": {},
   "outputs": [],
   "source": [
    "train_data['tokenized'] = X_train\n",
    "test_data['tokenized'] = X_test"
   ]
  },
  {
   "cell_type": "markdown",
   "id": "127d5037",
   "metadata": {},
   "source": [
    "## 단어별 빈도 수 확인\n",
    "\n",
    "스팸 단어 빈도 확인"
   ]
  },
  {
   "cell_type": "code",
   "execution_count": 480,
   "id": "e49ce073",
   "metadata": {},
   "outputs": [
    {
     "name": "stdout",
     "output_type": "stream",
     "text": [
      "[('하다', 1876), ('이', 1854), ('가', 1180), ('에', 1095), ('을', 1000), ('본인', 874), ('있다', 815), ('되다', 808), ('를', 620), ('지금', 553), ('거', 531), ('저희', 446), ('없다', 432), ('으로', 428), ('는', 426), ('제', 423), ('아니다', 393), ('예', 384), ('은', 361), ('요', 347)]\n"
     ]
    }
   ],
   "source": [
    "spam_words = np.hstack(train_data[train_data.label == 1]['tokenized'].values)\n",
    "spam_word_count = Counter(spam_words)\n",
    "print(spam_word_count.most_common(20))"
   ]
  },
  {
   "cell_type": "markdown",
   "id": "c1e6a359",
   "metadata": {},
   "source": [
    "일상 단어 빈도 확인"
   ]
  },
  {
   "cell_type": "code",
   "execution_count": 481,
   "id": "3cb68f8f",
   "metadata": {},
   "outputs": [
    {
     "name": "stdout",
     "output_type": "stream",
     "text": [
      "[('하다', 31533), ('이', 17260), ('가', 11939), ('있다', 11522), ('되다', 10785), ('에', 10524), ('을', 8344), ('그렇다', 7638), ('거', 6569), ('요', 6335), ('는', 6071), ('학습', 5836), ('도', 5821), ('은', 5736), ('를', 5653), ('제', 5602), ('로', 5430), ('아', 5101), ('같다', 4820), ('가능하다', 4567)]\n"
     ]
    }
   ],
   "source": [
    "ham_words = np.hstack(train_data[train_data.label == 0]['tokenized'].values)\n",
    "ham_word_count = Counter(ham_words)\n",
    "print(ham_word_count.most_common(20))"
   ]
  },
  {
   "cell_type": "markdown",
   "id": "75d52aaa",
   "metadata": {},
   "source": [
    "Dataframe 값 추출"
   ]
  },
  {
   "cell_type": "code",
   "execution_count": 482,
   "id": "f3faa679",
   "metadata": {},
   "outputs": [],
   "source": [
    "X_train = train_data['tokenized'].values\n",
    "y_train = train_data['label'].values\n",
    "X_test = test_data['tokenized'].values\n",
    "y_test = test_data['label'].values"
   ]
  },
  {
   "cell_type": "markdown",
   "id": "4dc7b671",
   "metadata": {},
   "source": [
    "## 정수 인코딩\n",
    "\n",
    "`vocab_size`의 값을 정하기 위한 토큰화 객체 생성"
   ]
  },
  {
   "cell_type": "code",
   "execution_count": 483,
   "id": "33440127",
   "metadata": {},
   "outputs": [],
   "source": [
    "tokenizer = Tokenizer()\n",
    "tokenizer.fit_on_texts(X_train)"
   ]
  },
  {
   "cell_type": "markdown",
   "id": "7c9d6b20",
   "metadata": {},
   "source": [
    "최소 단어 빈도 수 제한"
   ]
  },
  {
   "cell_type": "code",
   "execution_count": 484,
   "id": "65bea1c2",
   "metadata": {},
   "outputs": [],
   "source": [
    "threshold = 2 # 등장 횟수가 threshold미만인 단어는 제거"
   ]
  },
  {
   "cell_type": "markdown",
   "id": "0936b179",
   "metadata": {},
   "source": [
    "최적의 `vocab_size` 선정"
   ]
  },
  {
   "cell_type": "code",
   "execution_count": 485,
   "id": "80910e36",
   "metadata": {},
   "outputs": [
    {
     "name": "stdout",
     "output_type": "stream",
     "text": [
      "단어 집합(vocabulary)의 크기 : 7717\n",
      "등장 빈도가 1번 이하인 희귀 단어의 수: 2653\n",
      "단어 집합에서 희귀 단어의 비율: 34.37864455099132\n",
      "전체 등장 빈도에서 희귀 단어 등장 빈도 비율: 0.3898197249074674\n",
      "vocab_size : 5066\n"
     ]
    }
   ],
   "source": [
    "word_to_index = tokenizer.word_index\n",
    "total_cnt = len(word_to_index) # 단어의 수\n",
    "rare_cnt = 0 # 등장 빈도수가 threshold보다 작은 단어의 개수를 카운트\n",
    "total_freq = 0 # 훈련 데이터의 전체 단어 빈도수 총 합\n",
    "rare_freq = 0 # 등장 빈도수가 threshold보다 작은 단어의 등장 빈도수의 총 합\n",
    "\n",
    "# 단어와 빈도수의 쌍(pair)을 key와 value로 받는다.\n",
    "for key, value in tokenizer.word_counts.items():\n",
    "    total_freq = total_freq + value\n",
    "\n",
    "    # 단어의 등장 빈도수가 threshold보다 작으면\n",
    "    if(value < threshold):\n",
    "        rare_cnt = rare_cnt + 1\n",
    "        rare_freq = rare_freq + value\n",
    "        \n",
    "print('단어 집합(vocabulary)의 크기 :',total_cnt)\n",
    "print('등장 빈도가 %s번 이하인 희귀 단어의 수: %s'%(threshold - 1, rare_cnt))\n",
    "print(\"단어 집합에서 희귀 단어의 비율:\", (rare_cnt / total_cnt)*100)\n",
    "print(\"전체 등장 빈도에서 희귀 단어 등장 빈도 비율:\", (rare_freq / total_freq)*100)\n",
    "\n",
    "vocab_size = total_cnt - rare_cnt + 2\n",
    "print('vocab_size :',vocab_size)"
   ]
  },
  {
   "cell_type": "markdown",
   "id": "632c17f0",
   "metadata": {},
   "source": [
    "단어 토큰화\n",
    "* `num_words`: 단어 max 사이즈 지정. 빈도수가 높은 순으로 저장.\n",
    "* `oov_token`: 단어 토큰에 없는 단어 표기법 지정"
   ]
  },
  {
   "cell_type": "code",
   "execution_count": 486,
   "id": "2a3590ac",
   "metadata": {},
   "outputs": [],
   "source": [
    "tokenizer = Tokenizer(num_words = vocab_size, oov_token = 'OOV')"
   ]
  },
  {
   "cell_type": "markdown",
   "id": "5abadb7f",
   "metadata": {},
   "source": [
    "`fit_on_texts`로 학습할 문장에 대한 토큰화 진행"
   ]
  },
  {
   "cell_type": "code",
   "execution_count": 487,
   "id": "930ce328",
   "metadata": {},
   "outputs": [],
   "source": [
    "tokenizer.fit_on_texts(X_train)"
   ]
  },
  {
   "cell_type": "code",
   "execution_count": 488,
   "id": "cba9ccb5",
   "metadata": {},
   "outputs": [
    {
     "name": "stdout",
     "output_type": "stream",
     "text": [
      "OOV\t======>\t 1\n",
      "하다\t======>\t 2\n",
      "이\t======>\t 3\n",
      "가\t======>\t 4\n",
      "있다\t======>\t 5\n",
      "에\t======>\t 6\n",
      "되다\t======>\t 7\n",
      "을\t======>\t 8\n",
      "그렇다\t======>\t 9\n",
      "거\t======>\t 10\n",
      "요\t======>\t 11\n",
      "는\t======>\t 12\n",
      "를\t======>\t 13\n",
      "은\t======>\t 14\n",
      "도\t======>\t 15\n",
      "제\t======>\t 16\n",
      "학습\t======>\t 17\n",
      "로\t======>\t 18\n",
      "아\t======>\t 19\n",
      "같다\t======>\t 20\n",
      "가능하다======>\t 21\n",
      "것\t======>\t 22\n",
      "으로\t======>\t 23\n",
      "수\t======>\t 24\n",
      "일\t======>\t 25\n"
     ]
    }
   ],
   "source": [
    "for key, value in tokenizer.word_index.items():\n",
    "    if len(key) < 4:\n",
    "        print('{}\\t======>\\t {}'.format(key, value))\n",
    "    else:\n",
    "        print('{}======>\\t {}'.format(key, value))\n",
    "    if value == 25:\n",
    "        break"
   ]
  },
  {
   "cell_type": "markdown",
   "id": "e301bbf1",
   "metadata": {},
   "source": [
    "토큰화된 단어 사전의 개수"
   ]
  },
  {
   "cell_type": "code",
   "execution_count": 489,
   "id": "35a659cb",
   "metadata": {},
   "outputs": [
    {
     "data": {
      "text/plain": [
       "7718"
      ]
     },
     "execution_count": 489,
     "metadata": {},
     "output_type": "execute_result"
    }
   ],
   "source": [
    "len(tokenizer.word_index)"
   ]
  },
  {
   "cell_type": "markdown",
   "id": "1e6e7876",
   "metadata": {},
   "source": [
    "문장을 토큰으로 치환"
   ]
  },
  {
   "cell_type": "code",
   "execution_count": 490,
   "id": "082d21ba",
   "metadata": {},
   "outputs": [],
   "source": [
    "X_train = tokenizer.texts_to_sequences(X_train)\n",
    "X_test = tokenizer.texts_to_sequences(X_test)"
   ]
  },
  {
   "cell_type": "markdown",
   "id": "232214b9",
   "metadata": {},
   "source": [
    "변환된 Sequences 확인"
   ]
  },
  {
   "cell_type": "code",
   "execution_count": 491,
   "id": "ed9ed96a",
   "metadata": {},
   "outputs": [
    {
     "data": {
      "text/plain": [
       "[[199,\n",
       "  34,\n",
       "  1889,\n",
       "  201,\n",
       "  188,\n",
       "  3529,\n",
       "  98,\n",
       "  34,\n",
       "  8,\n",
       "  1889,\n",
       "  82,\n",
       "  152,\n",
       "  57,\n",
       "  123,\n",
       "  2,\n",
       "  59,\n",
       "  31,\n",
       "  447,\n",
       "  109,\n",
       "  133,\n",
       "  26,\n",
       "  59,\n",
       "  470,\n",
       "  7,\n",
       "  62,\n",
       "  11,\n",
       "  62,\n",
       "  244,\n",
       "  111,\n",
       "  102,\n",
       "  34,\n",
       "  15,\n",
       "  188,\n",
       "  687,\n",
       "  18,\n",
       "  210,\n",
       "  22,\n",
       "  15,\n",
       "  470,\n",
       "  2,\n",
       "  175,\n",
       "  90,\n",
       "  2,\n",
       "  969,\n",
       "  34,\n",
       "  95,\n",
       "  2,\n",
       "  22,\n",
       "  15,\n",
       "  5,\n",
       "  1308,\n",
       "  134,\n",
       "  111,\n",
       "  85,\n",
       "  1847,\n",
       "  599,\n",
       "  15,\n",
       "  319,\n",
       "  2775,\n",
       "  1195,\n",
       "  7,\n",
       "  4345,\n",
       "  252,\n",
       "  48,\n",
       "  189,\n",
       "  78,\n",
       "  185,\n",
       "  2,\n",
       "  231,\n",
       "  5,\n",
       "  177,\n",
       "  5,\n",
       "  2967,\n",
       "  244],\n",
       " [21,\n",
       "  9,\n",
       "  36,\n",
       "  64,\n",
       "  531,\n",
       "  44,\n",
       "  39,\n",
       "  195,\n",
       "  2,\n",
       "  1,\n",
       "  12,\n",
       "  22,\n",
       "  15,\n",
       "  1403,\n",
       "  2968,\n",
       "  789,\n",
       "  531,\n",
       "  16,\n",
       "  4,\n",
       "  340,\n",
       "  633,\n",
       "  21,\n",
       "  296,\n",
       "  1,\n",
       "  37,\n",
       "  116,\n",
       "  363,\n",
       "  64,\n",
       "  30,\n",
       "  8,\n",
       "  2,\n",
       "  44,\n",
       "  83,\n",
       "  15,\n",
       "  195,\n",
       "  4,\n",
       "  21,\n",
       "  38,\n",
       "  545,\n",
       "  64,\n",
       "  37,\n",
       "  65,\n",
       "  12,\n",
       "  44,\n",
       "  4,\n",
       "  78,\n",
       "  324,\n",
       "  160,\n",
       "  1066,\n",
       "  60,\n",
       "  61,\n",
       "  165,\n",
       "  231,\n",
       "  14,\n",
       "  78,\n",
       "  32,\n",
       "  32,\n",
       "  105,\n",
       "  105,\n",
       "  65,\n",
       "  12,\n",
       "  307,\n",
       "  35],\n",
       " [927,\n",
       "  376,\n",
       "  18,\n",
       "  28,\n",
       "  13,\n",
       "  2,\n",
       "  2,\n",
       "  795,\n",
       "  28,\n",
       "  4,\n",
       "  2591,\n",
       "  136,\n",
       "  2,\n",
       "  456,\n",
       "  145,\n",
       "  238,\n",
       "  73,\n",
       "  41,\n",
       "  64,\n",
       "  28,\n",
       "  2,\n",
       "  47,\n",
       "  15,\n",
       "  129,\n",
       "  1709,\n",
       "  4,\n",
       "  136,\n",
       "  42,\n",
       "  339,\n",
       "  140,\n",
       "  8,\n",
       "  60,\n",
       "  24,\n",
       "  5,\n",
       "  89,\n",
       "  28,\n",
       "  12,\n",
       "  376,\n",
       "  874,\n",
       "  21,\n",
       "  11,\n",
       "  803,\n",
       "  18,\n",
       "  15,\n",
       "  7,\n",
       "  58,\n",
       "  1103,\n",
       "  842,\n",
       "  22,\n",
       "  20,\n",
       "  953,\n",
       "  6,\n",
       "  73,\n",
       "  236,\n",
       "  28,\n",
       "  13,\n",
       "  2,\n",
       "  376,\n",
       "  874,\n",
       "  1225,\n",
       "  80,\n",
       "  2,\n",
       "  412,\n",
       "  3,\n",
       "  5,\n",
       "  202,\n",
       "  145,\n",
       "  238,\n",
       "  73,\n",
       "  14,\n",
       "  376,\n",
       "  114,\n",
       "  803,\n",
       "  416,\n",
       "  28,\n",
       "  4,\n",
       "  21,\n",
       "  10,\n",
       "  11,\n",
       "  375,\n",
       "  224,\n",
       "  388,\n",
       "  6,\n",
       "  474,\n",
       "  795,\n",
       "  28,\n",
       "  336,\n",
       "  4,\n",
       "  306,\n",
       "  2,\n",
       "  24,\n",
       "  5,\n",
       "  10,\n",
       "  63,\n",
       "  885,\n",
       "  8,\n",
       "  146,\n",
       "  24,\n",
       "  32,\n",
       "  51,\n",
       "  2,\n",
       "  16,\n",
       "  4,\n",
       "  430,\n",
       "  1890,\n",
       "  22,\n",
       "  3,\n",
       "  2860],\n",
       " [84,\n",
       "  512,\n",
       "  17,\n",
       "  46,\n",
       "  35,\n",
       "  84,\n",
       "  512,\n",
       "  17,\n",
       "  46,\n",
       "  118,\n",
       "  276,\n",
       "  38,\n",
       "  38,\n",
       "  512,\n",
       "  17,\n",
       "  46,\n",
       "  118,\n",
       "  276,\n",
       "  383,\n",
       "  1277,\n",
       "  35,\n",
       "  16,\n",
       "  4,\n",
       "  111,\n",
       "  85,\n",
       "  6,\n",
       "  1710,\n",
       "  8,\n",
       "  182,\n",
       "  17,\n",
       "  46,\n",
       "  1514,\n",
       "  13,\n",
       "  2,\n",
       "  85,\n",
       "  2969,\n",
       "  2,\n",
       "  21,\n",
       "  118,\n",
       "  107,\n",
       "  261,\n",
       "  3,\n",
       "  51,\n",
       "  7,\n",
       "  1040,\n",
       "  1347,\n",
       "  35,\n",
       "  358,\n",
       "  153,\n",
       "  88,\n",
       "  2,\n",
       "  259,\n",
       "  150,\n",
       "  25,\n",
       "  150,\n",
       "  248,\n",
       "  248,\n",
       "  248,\n",
       "  248,\n",
       "  248,\n",
       "  248,\n",
       "  248,\n",
       "  248,\n",
       "  843,\n",
       "  111,\n",
       "  85,\n",
       "  461,\n",
       "  25,\n",
       "  914,\n",
       "  93,\n",
       "  17,\n",
       "  46,\n",
       "  157,\n",
       "  85,\n",
       "  461,\n",
       "  25,\n",
       "  93,\n",
       "  23,\n",
       "  2861,\n",
       "  534,\n",
       "  7,\n",
       "  11],\n",
       " [992,\n",
       "  9,\n",
       "  1383,\n",
       "  1424,\n",
       "  646,\n",
       "  41,\n",
       "  271,\n",
       "  24,\n",
       "  5,\n",
       "  1489,\n",
       "  83,\n",
       "  8,\n",
       "  152,\n",
       "  481,\n",
       "  308,\n",
       "  1,\n",
       "  23,\n",
       "  2185,\n",
       "  7,\n",
       "  2127,\n",
       "  91,\n",
       "  139,\n",
       "  229,\n",
       "  8,\n",
       "  465,\n",
       "  1539,\n",
       "  182,\n",
       "  10,\n",
       "  693,\n",
       "  89,\n",
       "  49,\n",
       "  229,\n",
       "  8,\n",
       "  1309,\n",
       "  91,\n",
       "  23,\n",
       "  1167,\n",
       "  8,\n",
       "  635,\n",
       "  2186,\n",
       "  100,\n",
       "  2398,\n",
       "  2128,\n",
       "  8,\n",
       "  70,\n",
       "  22,\n",
       "  3,\n",
       "  186,\n",
       "  17,\n",
       "  140,\n",
       "  3,\n",
       "  693,\n",
       "  105,\n",
       "  223,\n",
       "  309,\n",
       "  174,\n",
       "  414,\n",
       "  2253,\n",
       "  2,\n",
       "  2,\n",
       "  17,\n",
       "  2,\n",
       "  937,\n",
       "  579,\n",
       "  23,\n",
       "  74,\n",
       "  2,\n",
       "  160,\n",
       "  1490,\n",
       "  12,\n",
       "  22,\n",
       "  39,\n",
       "  2,\n",
       "  22,\n",
       "  3,\n",
       "  27,\n",
       "  353,\n",
       "  3,\n",
       "  90,\n",
       "  1278,\n",
       "  2,\n",
       "  48,\n",
       "  450,\n",
       "  3,\n",
       "  7,\n",
       "  11]]"
      ]
     },
     "execution_count": 491,
     "metadata": {},
     "output_type": "execute_result"
    }
   ],
   "source": [
    "X_train[:5]"
   ]
  },
  {
   "cell_type": "markdown",
   "id": "17a918e2",
   "metadata": {},
   "source": [
    "`vocab_size`보다 떨어지는 단어는 1로 치환 (OOV)\n",
    "\n",
    "## 패딩\n",
    "리뷰 길이"
   ]
  },
  {
   "cell_type": "code",
   "execution_count": 492,
   "id": "f81722a4",
   "metadata": {
    "scrolled": true
   },
   "outputs": [
    {
     "data": {
      "image/png": "[encoded data removed]",
      "text/plain": [
       "<Figure size 432x288 with 1 Axes>"
      ]
     },
     "metadata": {
      "needs_background": "light"
     },
     "output_type": "display_data"
    },
    {
     "name": "stdout",
     "output_type": "stream",
     "text": [
      "최대 길이 : 201\n",
      "평균 길이 : 84.8803941132452\n"
     ]
    }
   ],
   "source": [
    "plt.subplot(122)\n",
    "plt.hist([len(s) for s in X_train], bins=50)\n",
    "plt.xlabel('length of samples')\n",
    "plt.ylabel('number of samples')\n",
    "plt.show()\n",
    "\n",
    "print('최대 길이 :',max(len(l) for l in X_train))\n",
    "print('평균 길이 :',sum(map(len, X_train))/len(X_train))"
   ]
  },
  {
   "cell_type": "markdown",
   "id": "842c7abc",
   "metadata": {},
   "source": [
    "3가지 옵션 입력\n",
    "* `maxlen`: 최대 문장 길이 정의. 길면 잘라냄\n",
    "* `truncating`: 문장 길이가 `maxlen`보다 길 때, 앞을 자를지 뒤를 자를지 정의\n",
    "* `padding`: 문장 길이가 `maxlen`보다 짧을 때, 앞을 채울지 뒤를 채울지 정의"
   ]
  },
  {
   "cell_type": "code",
   "execution_count": 493,
   "id": "cbff6e05",
   "metadata": {},
   "outputs": [],
   "source": [
    "max_len = 150 # 최대 길이 (그래프를 보고 판단)\n",
    "trunc_type = 'post' # 잘라낼 문장의 위치\n",
    "padding_type = 'post'"
   ]
  },
  {
   "cell_type": "markdown",
   "id": "69ef5e8e",
   "metadata": {},
   "source": [
    "문장 길이 비율 찾기"
   ]
  },
  {
   "cell_type": "code",
   "execution_count": 494,
   "id": "8782096f",
   "metadata": {},
   "outputs": [
    {
     "name": "stdout",
     "output_type": "stream",
     "text": [
      "전체 샘플 중 길이가 150 이하인 샘플의 비율: 99.9126964330257\n"
     ]
    }
   ],
   "source": [
    "def below_threshold_len(max_len, nested_list):\n",
    "    cnt = 0\n",
    "    for s in nested_list:\n",
    "        if(len(s) <= max_len):\n",
    "            cnt = cnt + 1\n",
    "    print('전체 샘플 중 길이가 %s 이하인 샘플의 비율: %s'%(max_len, (cnt / len(nested_list))*100))\n",
    "    \n",
    "below_threshold_len(max_len, X_train)"
   ]
  },
  {
   "cell_type": "code",
   "execution_count": 495,
   "id": "173e3b58",
   "metadata": {},
   "outputs": [],
   "source": [
    "X_train = pad_sequences(X_train, maxlen = max_len, truncating = trunc_type, padding = padding_type)\n",
    "X_test = pad_sequences(X_test, maxlen = max_len, truncating = trunc_type, padding = padding_type)"
   ]
  },
  {
   "cell_type": "markdown",
   "id": "bed7c923",
   "metadata": {},
   "source": [
    "변화된 후 shape 확인"
   ]
  },
  {
   "cell_type": "code",
   "execution_count": 496,
   "id": "809a8b03",
   "metadata": {
    "scrolled": true
   },
   "outputs": [
    {
     "data": {
      "text/plain": [
       "(8018, 150)"
      ]
     },
     "execution_count": 496,
     "metadata": {},
     "output_type": "execute_result"
    }
   ],
   "source": [
    "X_train.shape"
   ]
  },
  {
   "cell_type": "markdown",
   "id": "025b776a",
   "metadata": {},
   "source": [
    "## 모델 정의\n",
    "\n",
    "~~임베딩 차원 정의~~"
   ]
  },
  {
   "cell_type": "code",
   "execution_count": 497,
   "id": "910212cb",
   "metadata": {},
   "outputs": [],
   "source": [
    "embedding_dim = 100"
   ]
  },
  {
   "cell_type": "markdown",
   "id": "d2a3df97",
   "metadata": {},
   "source": [
    "모델 구성"
   ]
  },
  {
   "cell_type": "code",
   "execution_count": 498,
   "id": "30fdb196",
   "metadata": {},
   "outputs": [],
   "source": [
    "model = Sequential([\n",
    "    Embedding(vocab_size, max_len),\n",
    "    LSTM(100),\n",
    "    Dense(1, activation='sigmoid')\n",
    "])"
   ]
  },
  {
   "cell_type": "markdown",
   "id": "a262418d",
   "metadata": {},
   "source": [
    "## 컴파일\n",
    "\n",
    "~~1. `optimizer`은 가장 최적화가 잘되는 알고리즘 'adam' 사용~~  \n",
    "2. `loss`는 이진분류이므로, `binary_crossentropy` 사용"
   ]
  },
  {
   "cell_type": "code",
   "execution_count": 499,
   "id": "7606a6fc",
   "metadata": {},
   "outputs": [],
   "source": [
    "model.compile(optimizer='rmsprop', loss='binary_crossentropy', metrics=['acc'])"
   ]
  },
  {
   "cell_type": "markdown",
   "id": "53ccaf41",
   "metadata": {},
   "source": [
    "## ModelCheckpoint\n",
    "\n",
    "val_acc 기준으로 epoch 마다 최적의 모델을 저장하기 위한 체크포인트 설정"
   ]
  },
  {
   "cell_type": "code",
   "execution_count": 500,
   "id": "0fa3df99",
   "metadata": {},
   "outputs": [],
   "source": [
    "mc = ModelCheckpoint(file_name+'.h5', monitor='val_acc', mode='max', verbose=1, save_best_only=True)"
   ]
  },
  {
   "cell_type": "markdown",
   "id": "c2b638db",
   "metadata": {},
   "source": [
    "## EarlyStopping\n",
    "\n",
    "val_loss 기준으로 4번까지 Overfitting(과적합)이 진행되면 자동으로 종료"
   ]
  },
  {
   "cell_type": "code",
   "execution_count": 501,
   "id": "dd3184df",
   "metadata": {},
   "outputs": [],
   "source": [
    "es = EarlyStopping(monitor='val_loss', mode='min', verbose=1, patience=4)"
   ]
  },
  {
   "cell_type": "markdown",
   "id": "85738a19",
   "metadata": {},
   "source": [
    "## 모델 학습"
   ]
  },
  {
   "cell_type": "code",
   "execution_count": 502,
   "id": "1f3037d8",
   "metadata": {},
   "outputs": [
    {
     "name": "stdout",
     "output_type": "stream",
     "text": [
      "Epoch 1/15\n",
      "26/26 [==============================] - ETA: 0s - loss: 0.2822 - acc: 0.9001\n",
      "Epoch 00001: val_acc improved from -inf to 0.94264, saving model to LSTM_module_ver4.0.h5\n",
      "26/26 [==============================] - 10s 372ms/step - loss: 0.2822 - acc: 0.9001 - val_loss: 0.2118 - val_acc: 0.9426\n",
      "Epoch 2/15\n",
      "26/26 [==============================] - ETA: 0s - loss: 0.1252 - acc: 0.9637\n",
      "Epoch 00002: val_acc improved from 0.94264 to 0.98504, saving model to LSTM_module_ver4.0.h5\n",
      "26/26 [==============================] - 9s 343ms/step - loss: 0.1252 - acc: 0.9637 - val_loss: 0.0629 - val_acc: 0.9850\n",
      "Epoch 3/15\n",
      "26/26 [==============================] - ETA: 0s - loss: 0.0538 - acc: 0.9880\n",
      "Epoch 00003: val_acc did not improve from 0.98504\n",
      "26/26 [==============================] - 9s 346ms/step - loss: 0.0538 - acc: 0.9880 - val_loss: 0.0744 - val_acc: 0.9813\n",
      "Epoch 4/15\n",
      "26/26 [==============================] - ETA: 0s - loss: 0.0589 - acc: 0.9871\n",
      "Epoch 00004: val_acc did not improve from 0.98504\n",
      "26/26 [==============================] - 9s 339ms/step - loss: 0.0589 - acc: 0.9871 - val_loss: 0.0889 - val_acc: 0.9776\n",
      "Epoch 5/15\n",
      "26/26 [==============================] - ETA: 0s - loss: 0.1183 - acc: 0.9743\n",
      "Epoch 00005: val_acc did not improve from 0.98504\n",
      "26/26 [==============================] - 9s 357ms/step - loss: 0.1183 - acc: 0.9743 - val_loss: 0.1375 - val_acc: 0.9707\n",
      "Epoch 6/15\n",
      "26/26 [==============================] - ETA: 0s - loss: 0.1226 - acc: 0.9737\n",
      "Epoch 00006: val_acc did not improve from 0.98504\n",
      "26/26 [==============================] - 9s 362ms/step - loss: 0.1226 - acc: 0.9737 - val_loss: 0.1437 - val_acc: 0.9688\n",
      "Epoch 00006: early stopping\n"
     ]
    }
   ],
   "source": [
    "history = model.fit(X_train, y_train, epochs=15, callbacks=[es, mc], batch_size=256, validation_split=0.2)"
   ]
  },
  {
   "cell_type": "markdown",
   "id": "da07f400",
   "metadata": {},
   "source": [
    "학습 완료 후 `load_model` 를 해주지 않으면 ModelCheckpoint를 만든 의미가 없음"
   ]
  },
  {
   "cell_type": "code",
   "execution_count": 503,
   "id": "24bcb9ac",
   "metadata": {},
   "outputs": [],
   "source": [
    "model = load_model(file_name+'.h5')"
   ]
  },
  {
   "cell_type": "markdown",
   "id": "ed62f7cc",
   "metadata": {},
   "source": [
    "## 학습 오차 시각화"
   ]
  },
  {
   "cell_type": "code",
   "execution_count": 504,
   "id": "7ef3a32d",
   "metadata": {},
   "outputs": [
    {
     "name": "stdout",
     "output_type": "stream",
     "text": [
      "84/84 [==============================] - 2s 19ms/step - loss: 0.0480 - acc: 0.9895\n",
      "\n",
      " 테스트 정확도: 0.9895\n"
     ]
    },
    {
     "data": {
      "image/png": "[encoded data removed]",
      "text/plain": [
       "<Figure size 432x288 with 1 Axes>"
      ]
     },
     "metadata": {
      "needs_background": "light"
     },
     "output_type": "display_data"
    }
   ],
   "source": [
    "epochs = range(1, len(history.history['acc']) + 1)\n",
    "plt.plot(epochs, history.history['loss'])\n",
    "plt.plot(epochs, history.history['val_loss'])\n",
    "plt.title('model loss')\n",
    "plt.ylabel('loss')\n",
    "plt.xlabel('epoch')\n",
    "plt.legend(['train', 'val'], loc='upper left')\n",
    "print(\"\\n 테스트 정확도: %.4f\" % (model.evaluate(X_test, y_test)[1]))"
   ]
  },
  {
   "cell_type": "markdown",
   "id": "97eab55c",
   "metadata": {},
   "source": [
    "## 파일 저장\n",
    "\n",
    "tokenizer 객체 저장"
   ]
  },
  {
   "cell_type": "code",
   "execution_count": 505,
   "id": "48b666c6",
   "metadata": {},
   "outputs": [],
   "source": [
    "with open(file_name+\"_tokenizer.pickle\", \"wb\") as f:\n",
    "    pickle.dump(tokenizer, f, protocol=pickle.HIGHEST_PROTOCOL)"
   ]
  },
  {
   "cell_type": "markdown",
   "id": "22f3fa08",
   "metadata": {},
   "source": [
    "변수 저장"
   ]
  },
  {
   "cell_type": "code",
   "execution_count": 506,
   "id": "bda4b027",
   "metadata": {},
   "outputs": [],
   "source": [
    "d = {'min_data':min_data, 'data_length':data_length, 'split_list':split_list,'max_len':max_len, 'trunc_type':trunc_type, 'padding_type':padding_type}\n",
    "json_var = json.dumps(d)\n",
    "with open(file_name+'_variable.json', 'w') as f:\n",
    "    f.write(json_var)"
   ]
  },
  {
   "cell_type": "markdown",
   "id": "14e1f8a8",
   "metadata": {},
   "source": [
    "불용어 단어 저장"
   ]
  },
  {
   "cell_type": "code",
   "execution_count": 507,
   "id": "f507cec0",
   "metadata": {
    "scrolled": true
   },
   "outputs": [],
   "source": [
    "json_stopwords = json.dumps(stopwords)\n",
    "with open(file_name+'_stopwords.json', 'w') as f:\n",
    "    f.write(json_stopwords)"
   ]
  }
 ],
 "metadata": {
  "kernelspec": {
   "display_name": "Python 3 (ipykernel)",
   "language": "python",
   "name": "python3"
  },
  "language_info": {
   "codemirror_mode": {
    "name": "ipython",
    "version": 3
   },
   "file_extension": ".py",
   "mimetype": "text/x-python",
   "name": "python",
   "nbconvert_exporter": "python",
   "pygments_lexer": "ipython3",
   "version": "3.8.5"
  }
 },
 "nbformat": 4,
 "nbformat_minor": 5
}
