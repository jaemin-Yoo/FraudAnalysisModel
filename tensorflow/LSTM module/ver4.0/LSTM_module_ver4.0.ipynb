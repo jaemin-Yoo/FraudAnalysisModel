{
 "cells": [
  {
   "cell_type": "markdown",
   "id": "7c558050",
   "metadata": {},
   "source": [
    "# Project: LSTM_module\n",
    "\n",
    "LSTM을 활용한 보이스피싱 탐지 모듈 개발"
   ]
  },
  {
   "cell_type": "markdown",
   "id": "caed2afc",
   "metadata": {},
   "source": [
    "## 순서\n",
    "1. import: 필요한 모듈 import\n",
    "2. 데이터 셋 불러오기(load)\n",
    "2. 전처리: 학습에 필요한 데이터 전처리 수행\n",
    "3. 모델링(model): 모델 정의\n",
    "4. 컴파일(compile): 모델 생성\n",
    "5. 학습(fit): 모델 학습"
   ]
  },
  {
   "cell_type": "markdown",
   "id": "22c688b1",
   "metadata": {},
   "source": [
    "## 모듈 import"
   ]
  },
  {
   "cell_type": "code",
   "execution_count": 59,
   "id": "83e46726",
   "metadata": {},
   "outputs": [],
   "source": [
    "import os\n",
    "\n",
    "import json\n",
    "import pickle\n",
    "import re\n",
    "\n",
    "import pandas as pd\n",
    "import numpy as np\n",
    "\n",
    "%matplotlib inline\n",
    "import matplotlib.pyplot as plt\n",
    "\n",
    "from konlpy.tag import Okt\n",
    "from tensorflow.keras.preprocessing.text import Tokenizer\n",
    "from tensorflow.keras.preprocessing.sequence import pad_sequences\n",
    "from sklearn.metrics import accuracy_score\n",
    "from sklearn.model_selection import train_test_split\n",
    "from collections import Counter\n",
    "\n",
    "from tensorflow.keras.layers import Embedding, Dense, LSTM, Bidirectional\n",
    "from tensorflow.keras.models import Sequential\n",
    "from tensorflow.keras.models import load_model\n",
    "from tensorflow.keras.callbacks import EarlyStopping, ModelCheckpoint"
   ]
  },
  {
   "cell_type": "markdown",
   "id": "62fe8955",
   "metadata": {},
   "source": [
    "## 파일 이름 선언\n",
    "\n",
    "필요 변수, 모델, 토큰 객체 등 파일 이름 선언"
   ]
  },
  {
   "cell_type": "code",
   "execution_count": 60,
   "id": "71efe4c4",
   "metadata": {},
   "outputs": [],
   "source": [
    "file_name = \"LSTM_module_ver4.0\""
   ]
  },
  {
   "cell_type": "markdown",
   "id": "37d5f47b",
   "metadata": {},
   "source": [
    "## 데이터 셋 불러오기\n",
    "\n",
    "빈 list 생성"
   ]
  },
  {
   "cell_type": "code",
   "execution_count": 61,
   "id": "be6369f6",
   "metadata": {},
   "outputs": [],
   "source": [
    "spam_X = []\n",
    "spam_temp = []\n",
    "ham_X = []\n",
    "ham_temp = []"
   ]
  },
  {
   "cell_type": "markdown",
   "id": "c5d31135",
   "metadata": {},
   "source": [
    "* `ham_count`: 일반 데이터 개수 제한\n",
    "* `min_data`: 텍스트 데이터 최소 길이\n",
    "* `data_length`: 텍스트 데이터 일반 길이"
   ]
  },
  {
   "cell_type": "code",
   "execution_count": 62,
   "id": "798752af",
   "metadata": {},
   "outputs": [],
   "source": [
    "ham_count = 10000\n",
    "min_data = 10\n",
    "data_length = 100"
   ]
  },
  {
   "cell_type": "markdown",
   "id": "46a8a690",
   "metadata": {},
   "source": [
    "보이스피싱 통화 데이터 가져오기"
   ]
  },
  {
   "cell_type": "code",
   "execution_count": 63,
   "id": "0ea129dd",
   "metadata": {},
   "outputs": [],
   "source": [
    "path = '../../fraudDataset/spamData/'\n",
    "path1 = os.listdir(path)\n",
    "for a in path1:\n",
    "    path2 = path+a\n",
    "    with open(path2, 'r', encoding='utf-8') as f:\n",
    "        contents = f.read()\n",
    "        contents = re.sub(\"사회자 :|피해자 :|\\((.+?)\\)|네|[^가-힣 ]\", \"\", contents) # 특수문자 제거\n",
    "        spam_temp.append(contents)"
   ]
  },
  {
   "cell_type": "markdown",
   "id": "15f1ad08",
   "metadata": {},
   "source": [
    "일반 통화 데이터 가져오기"
   ]
  },
  {
   "cell_type": "code",
   "execution_count": 64,
   "id": "fa1d5120",
   "metadata": {},
   "outputs": [],
   "source": [
    "contents = \"\"\n",
    "path = '../../fraudDataset/hamData/'\n",
    "path1 = os.listdir(path)\n",
    "for a in path1:\n",
    "    \n",
    "    if len(ham_temp) > ham_count:\n",
    "        break\n",
    "    \n",
    "    path2 = os.listdir(path+a)\n",
    "    for b in path2:\n",
    "        \n",
    "        if len(ham_temp) > ham_count:\n",
    "            break\n",
    "        \n",
    "        path3 = os.listdir(path+a+'/'+b)\n",
    "        for c in path3:\n",
    "            \n",
    "            if len(ham_temp) > ham_count:\n",
    "                break\n",
    "                    \n",
    "            path4 = os.listdir(path+a+'/'+b+'/'+c)\n",
    "            for d in path4:\n",
    "                \n",
    "                if len(ham_temp) > ham_count:\n",
    "                    break\n",
    "                \n",
    "                path5 = os.listdir(path+a+'/'+b+'/'+c+'/'+d)\n",
    "                for e in path5:\n",
    "                    \n",
    "                    if len(ham_temp) > ham_count:\n",
    "                        break\n",
    "                    \n",
    "                    path6 = os.listdir(path+a+'/'+b+'/'+c+'/'+d+'/'+e)\n",
    "\n",
    "                    if len(contents) > min_data:\n",
    "                        ham_temp.append(contents)\n",
    "\n",
    "                    contents = \"\"\n",
    "                    for f in path6:\n",
    "                        \n",
    "                        if len(ham_temp) > ham_count:\n",
    "                            break\n",
    "                        \n",
    "                        if f.split(\".\")[1] == \"txt\":\n",
    "                            path7 = path+a+'/'+b+'/'+c+'/'+d+'/'+e+'/'+f\n",
    "                        else:\n",
    "                            continue\n",
    "                        with open(path7, \"r\", encoding=\"UTF-8\") as f:\n",
    "                            text = f.read()\n",
    "                            text = re.sub(\"#@(.+?)#|네|[^가-힣 ]\", \"\", text) # 특수문자 제거\n",
    "\n",
    "                        contents += text+\" \"\n",
    "                        if len(contents) > data_length:\n",
    "                            ham_temp.append(contents)\n",
    "                            contents = \"\"\n",
    "                            \n",
    "ham_X = ham_temp"
   ]
  },
  {
   "cell_type": "markdown",
   "id": "81637da6",
   "metadata": {},
   "source": [
    "피싱 데이터 1개 출력"
   ]
  },
  {
   "cell_type": "code",
   "execution_count": 65,
   "id": "d32d0474",
   "metadata": {
    "scrolled": true
   },
   "outputs": [
    {
     "data": {
      "text/plain": [
       "'여보세요  안녕하세요 검찰청이에요 검찰청이요  통화 괜찮으십니까  가능합니다 전화 받으신 분이 김윤환 씨 맞으시죠  맞습니다예 다름이 아니라 본인과 연루된 명의도용 사건이 접수가 돼서 지금까지 확인 좀 해서 연락을 드렸고요 명의도용이요 예 통화 괜찮으시면은 외모 할 만한 거 한번 준비하셔가지고이렇게 말씀 한번 해 주세요예 준비됐습니다예 일단 지금 김유나 씨께서 혹시 김용식이라고 아시는 분이신가요 김용식김용식이요처음 들어보세요 그러면은 년도 월 경에 경기도 광명에 방문하신 적이 있으세요광명이요 기억이 잘 안 나요오시고 제가 이 두 가지 질문드린 게요  얼마 전에 이제 김용식 필두로 한 금융범죄 사기단을 검거를 했어요 이 구조 과정 중에 만약에 신용카드가 대포통장을 압수 했는데  거기에 서서 본인 명의로 돼 우리은행 계좌건을 확인이 됐습니다 근데 이 계좌건을 제가 추적을 해 보니까 문의 같은 경우에는 주소지가 서울시 관악구로 나와 있는데 통장 계설은 방금 제가 여쭤봤던 경기도 광명시에서 년도 월 경이 됐거든요 그래서 이거를 김유나 씨께서 광명까지 직접 가셔가지고 이 팀장까지 개선해서 문자분에게 건넨 건지 아니면 개인정보 유출로 인해서 명의도용을 당한 피해자분이신지 진의 여부를 확인하고 연락을 드린 겁니다아마 저는 피해자일 거예요  제가 가담을 안 했으니까요 본인이 직접 만들 계산하시는 게 없다 이 말씀이시잖아요  그렇죠 그러면은 개인정보 유출 관련해가지고  주식은 년에서 년 사이에 신분증이나 통장을 분실했다거나 본인이 올리자는 글이 올라왔다거나 로그인을 하지 않았는데 로그인되서 않으면 받을 수제가 회사 홍보는 하는데 이게 그 이외에는 제가 딱히 이렇게 개인 정보를 올리진 않거든요 누가 악질적으로 이렇게 개인 정보를 캐가지 않는 이상 저는 노출 시키지는 않습니다그거를 그 본인이 올린 게 아니라 다른 분들이 올린 거를 본인께서 확인된 적이 있으시냐 그 말입니다아니요 못 본 것 같아요 맞아요 이거 그리고 제가 사건번건호 이거 조회를 한 번 하셔야 되는데 사건 번호 조회하는 거 알아요그거 경찰청이랑 검찰청 사이트 들어가서 사건 조회하는 거 아닌가요 인터넷에 있는 거 그거 말씀하시는 거죠 그거 이거 사건 주 한번 해 주셔야 되는데 사건 번호 조회 한번 해 주시고요 지금 말씀 좀 해 주세요 알겠습니다본인이 먼저 인증을 하시면 사건 번호가 나와요 제가 지금 김유나 씨가 본인인지 아닌지 모르잖아요저는 좀 맞죠 이거 지금 휴대폰 사용 가능해요 가능합니다인텔 사용 가능하면 인텔처 하나 열어주시고요 이 상단에 도메인 주소가 있는데 이거 공백으로 만드시면은 저희가 주소 불러드릴게요 들어가셔가지고 부인증하시고 상품으로 나오시면은확인 한번 한번 해주세요 아니면 이거 카카오톡으로 제가 보내드릴까요 카톡으로 보내주세요잠시만요 지금 근데 주변에 다른 자분들은 안 계신 건가요 없어요 이거 일단 보냈거든요 링크 확인 한번 해 주세요  클릭하시면 나의 사건 조회에 파라드 박스 하들이 나올 거예요 클릭 한 번 해주시고요 예 클릭하시면은 검찰 사건 검찰 사건 보안 사건 나올 거고요밑으로 내리면은 본인이 기존의 아이디 있으면 아이디 로그인하시면 되고요 아이디가 없다고 하면 그냥 비행원 실명 확인으로 본인 성함이랑 주민번호 입력하시고 인증하셔가지고 다음으로 넘어가시면 됩니다 그러니까 지금 나이 사건이 들어가셨어요 들어갔어요들어가셨으면 밑으로 내리면은 비행원 실명 확인이라고 있어요아  이게 제가 간단하니까 비행 신분 확인 후 인증해 주시고 다음 성기 사건 번호 나오시면 저한테 말씀 한번 해 주세요 알겠습니다아직 확인 안 되셨나요여보세요지금 제가 프랑스 아르에서 만든 빵을 먹고 있는데 잠시만요아니 이거 컴퓨터 접속하는 게 너무 어려워요 다시 한 번만 알려주시면 안 될까요 처음부터아니 제가 한번 말씀드렸잖아요 비행 신용 확인 후 실명 인증을 하시든지 아이디 있으면 로그인을 하시라고 알겠다며아저씨 소리를 지르고 그래요 아저씨 위치 지금 내가 다 파악해 놨는데'"
      ]
     },
     "execution_count": 65,
     "metadata": {},
     "output_type": "execute_result"
    }
   ],
   "source": [
    "spam_temp[0]"
   ]
  },
  {
   "cell_type": "markdown",
   "id": "551271fa",
   "metadata": {},
   "source": [
    "일반 데이터 5개 출력"
   ]
  },
  {
   "cell_type": "code",
   "execution_count": 66,
   "id": "3de3edd8",
   "metadata": {
    "scrolled": true
   },
   "outputs": [
    {
     "data": {
      "text/plain": [
       "['안녕하세요 쉐어링 스터디 상담원 이주빈입니다 예 안녕하세요 제가 다른 게 아니라 나이가 좀 있는 지라 강좌를 결재 방법이 조금 어려워서 여쭤보려고 합니다 그거 쉐어링 캐시충전이었나 ',\n",
       " '그게 처음에  마이 페이지를 들어가서 캐시를 버튼을 누르고 캐시 할인권 메뉴에서  쉐어링 캐시 그리고 충전하기 버튼을 누르면 되는게 맞나요  맞습니다 그런 다음 제가 뭐냐 어 충전하려고 하는 금액을 쓴다음에 ',\n",
       " '결제를 누르면 되는거구요 그리고 나서 제가 결제수단을 누르는데 문화상품권 받는 거로 하는데 무슨 컬쳐 캐쉬 컬쳐 랜드 거기에 가입을 하라고 나오는데 전  쉐어링 스터디 가입을 하는 데 이게 뭐죠 ',\n",
       " '막 이상한 사이트로 연결되던데 그리고 무슨 코드 같은 거 다섯칸 입력하는게 나오던데 이건 또 어떻게 하는거죠 문화상품권 은색부분을 긁으셔서 컬쳐 랜드 충전을 하셔야 합니다 거기가 충전 사이트예요 ',\n",
       " '그럼 이거 가입 안 하면은 안돼요 가입하는 것도 저한테는 너무 어려워서 이거 가입하는것도 손주한테 부탁을 해서 한 거라서 뭐 여기서 바로 하는 거 없어요 그냥 제가 그쪽에서 그쪽한테 사진 찍어서 문자로 보내주면 안되나 ']"
      ]
     },
     "execution_count": 66,
     "metadata": {},
     "output_type": "execute_result"
    }
   ],
   "source": [
    "ham_temp[:5]"
   ]
  },
  {
   "cell_type": "markdown",
   "id": "a4b50df7",
   "metadata": {},
   "source": [
    "## 텍스트 데이터 분리\n",
    "\n",
    "**findIndex**: 문장이 끝나는 부분의 index값을 찾기위한 함수"
   ]
  },
  {
   "cell_type": "code",
   "execution_count": 67,
   "id": "99835404",
   "metadata": {},
   "outputs": [],
   "source": [
    "def findIndex(data_list, split_list, start_index):\n",
    "    index_list = []\n",
    "    for i in split_list:\n",
    "        index = data_list.find(i, start_index)\n",
    "        index_list.append(index)\n",
    "        \n",
    "    index_list = [i for i in index_list if i not in [-1]]\n",
    "    if index_list == []:\n",
    "        return -1\n",
    "    \n",
    "    index = min(index_list)\n",
    "    \n",
    "    return index     "
   ]
  },
  {
   "cell_type": "markdown",
   "id": "1ef2f4e6",
   "metadata": {},
   "source": [
    "* `split_list`: 문장 단위로 분리하기 위한 글자 리스트"
   ]
  },
  {
   "cell_type": "code",
   "execution_count": 68,
   "id": "2adf0133",
   "metadata": {},
   "outputs": [],
   "source": [
    "split_list = ['다 ','요 ','죠 ', '까 ']"
   ]
  },
  {
   "cell_type": "markdown",
   "id": "00a5117f",
   "metadata": {},
   "source": [
    "`data_length` 값 이후에 `split_list` 에 있는 문자가 나오면 자르기 (스팸 데이터)"
   ]
  },
  {
   "cell_type": "code",
   "execution_count": 69,
   "id": "f9ebc5bc",
   "metadata": {},
   "outputs": [],
   "source": [
    "for t in spam_temp:\n",
    "    index = findIndex(t, split_list, data_length)\n",
    "        \n",
    "    i = 0\n",
    "    while index != -1:\n",
    "        x = t[i:index+2]\n",
    "        spam_X.append(x)\n",
    "        \n",
    "        i = index+2\n",
    "        index = findIndex(t, split_list, i+data_length)\n",
    "    else:\n",
    "        x = t[i:]\n",
    "        if len(x) > min_data:\n",
    "            spam_X.append(x) # 텍스트 마지막 부분 추가"
   ]
  },
  {
   "cell_type": "markdown",
   "id": "48ef94e2",
   "metadata": {},
   "source": [
    "## 전처리: 데이터 길이 제한\n",
    "\n",
    "길이가 min 미만 데이터 삭제 후 중복 제거"
   ]
  },
  {
   "cell_type": "code",
   "execution_count": 70,
   "id": "910c465f",
   "metadata": {},
   "outputs": [
    {
     "data": {
      "text/plain": [
       "30"
      ]
     },
     "execution_count": 70,
     "metadata": {},
     "output_type": "execute_result"
    }
   ],
   "source": [
    "spam_df = pd.DataFrame(spam_X, columns=['text'])\n",
    "spam_df.drop(spam_df[spam_df['text'].str.len() < min_data].index, inplace=True) # 길이가 min_data 미만인 데이터 삭제\n",
    "spam_df.shape[0] - spam_df['text'].nunique() # 중복 개수"
   ]
  },
  {
   "cell_type": "code",
   "execution_count": 71,
   "id": "e47bd5b4",
   "metadata": {},
   "outputs": [
    {
     "data": {
      "text/plain": [
       "85"
      ]
     },
     "execution_count": 71,
     "metadata": {},
     "output_type": "execute_result"
    }
   ],
   "source": [
    "ham_df = pd.DataFrame(ham_X, columns=['text'])\n",
    "ham_df.drop(ham_df[ham_df['text'].str.len() < min_data].index, inplace=True) # 길이가 min_data 미만인 데이터 삭제\n",
    "ham_df.shape[0] - ham_df['text'].nunique() # 중복 개수"
   ]
  },
  {
   "cell_type": "code",
   "execution_count": 72,
   "id": "180ba59c",
   "metadata": {
    "scrolled": true
   },
   "outputs": [
    {
     "data": {
      "text/html": [
       "<div>\n",
       "<style scoped>\n",
       "    .dataframe tbody tr th:only-of-type {\n",
       "        vertical-align: middle;\n",
       "    }\n",
       "\n",
       "    .dataframe tbody tr th {\n",
       "        vertical-align: top;\n",
       "    }\n",
       "\n",
       "    .dataframe thead th {\n",
       "        text-align: right;\n",
       "    }\n",
       "</style>\n",
       "<table border=\"1\" class=\"dataframe\">\n",
       "  <thead>\n",
       "    <tr style=\"text-align: right;\">\n",
       "      <th></th>\n",
       "      <th>text</th>\n",
       "      <th>label</th>\n",
       "    </tr>\n",
       "  </thead>\n",
       "  <tbody>\n",
       "    <tr>\n",
       "      <th>0</th>\n",
       "      <td>여보세요  안녕하세요 검찰청이에요 검찰청이요  통화 괜찮으십니까  가능합니다 전화 ...</td>\n",
       "      <td>1</td>\n",
       "    </tr>\n",
       "    <tr>\n",
       "      <th>1</th>\n",
       "      <td>명의도용이요 예 통화 괜찮으시면은 외모 할 만한 거 한번 준비하셔가지고이렇게 말씀 ...</td>\n",
       "      <td>1</td>\n",
       "    </tr>\n",
       "    <tr>\n",
       "      <th>2</th>\n",
       "      <td>그러면은 년도 월 경에 경기도 광명에 방문하신 적이 있으세요광명이요 기억이 잘 안 ...</td>\n",
       "      <td>1</td>\n",
       "    </tr>\n",
       "    <tr>\n",
       "      <th>3</th>\n",
       "      <td>이 구조 과정 중에 만약에 신용카드가 대포통장을 압수 했는데  거기에 서서 본인 명...</td>\n",
       "      <td>1</td>\n",
       "    </tr>\n",
       "    <tr>\n",
       "      <th>4</th>\n",
       "      <td>그래서 이거를 김유나 씨께서 광명까지 직접 가셔가지고 이 팀장까지 개선해서 문자분에...</td>\n",
       "      <td>1</td>\n",
       "    </tr>\n",
       "    <tr>\n",
       "      <th>...</th>\n",
       "      <td>...</td>\n",
       "      <td>...</td>\n",
       "    </tr>\n",
       "    <tr>\n",
       "      <th>3855</th>\n",
       "      <td>어떤 거요큰 통장이라고 말씀하는 게 아니라 이 범죄자들이 다른 사람 명의를 도용을 ...</td>\n",
       "      <td>1</td>\n",
       "    </tr>\n",
       "    <tr>\n",
       "      <th>3856</th>\n",
       "      <td>이창가라는 사람이 진술했을 때는 어떤 사람들은 총장 돈을 통장을 판매를 하신 분...</td>\n",
       "      <td>1</td>\n",
       "    </tr>\n",
       "    <tr>\n",
       "      <th>3857</th>\n",
       "      <td>왜냐하면 본인 명의 통장이 범죄에 이어 이셨기 때문에 본인께서 피해자가 맞다라고 하...</td>\n",
       "      <td>1</td>\n",
       "    </tr>\n",
       "    <tr>\n",
       "      <th>3858</th>\n",
       "      <td>받기 싫으시면은 그냥 공문장 보내드릴 테니까 기재된 날짜에 그냥 저희 쪽에 나와서 ...</td>\n",
       "      <td>1</td>\n",
       "    </tr>\n",
       "    <tr>\n",
       "      <th>3859</th>\n",
       "      <td>조사받아야죠그러니까 보님께서 나와서 조사를 받으시겠는지 아니면 저희가 약식 녹취 조...</td>\n",
       "      <td>1</td>\n",
       "    </tr>\n",
       "  </tbody>\n",
       "</table>\n",
       "<p>3830 rows × 2 columns</p>\n",
       "</div>"
      ],
      "text/plain": [
       "                                                   text  label\n",
       "0     여보세요  안녕하세요 검찰청이에요 검찰청이요  통화 괜찮으십니까  가능합니다 전화 ...      1\n",
       "1     명의도용이요 예 통화 괜찮으시면은 외모 할 만한 거 한번 준비하셔가지고이렇게 말씀 ...      1\n",
       "2     그러면은 년도 월 경에 경기도 광명에 방문하신 적이 있으세요광명이요 기억이 잘 안 ...      1\n",
       "3     이 구조 과정 중에 만약에 신용카드가 대포통장을 압수 했는데  거기에 서서 본인 명...      1\n",
       "4     그래서 이거를 김유나 씨께서 광명까지 직접 가셔가지고 이 팀장까지 개선해서 문자분에...      1\n",
       "...                                                 ...    ...\n",
       "3855  어떤 거요큰 통장이라고 말씀하는 게 아니라 이 범죄자들이 다른 사람 명의를 도용을 ...      1\n",
       "3856    이창가라는 사람이 진술했을 때는 어떤 사람들은 총장 돈을 통장을 판매를 하신 분...      1\n",
       "3857  왜냐하면 본인 명의 통장이 범죄에 이어 이셨기 때문에 본인께서 피해자가 맞다라고 하...      1\n",
       "3858  받기 싫으시면은 그냥 공문장 보내드릴 테니까 기재된 날짜에 그냥 저희 쪽에 나와서 ...      1\n",
       "3859  조사받아야죠그러니까 보님께서 나와서 조사를 받으시겠는지 아니면 저희가 약식 녹취 조...      1\n",
       "\n",
       "[3830 rows x 2 columns]"
      ]
     },
     "execution_count": 72,
     "metadata": {},
     "output_type": "execute_result"
    }
   ],
   "source": [
    "spam_df.drop_duplicates(subset=['text'], inplace=True) # 중복 제거\n",
    "spam_df['label'] = 1\n",
    "\n",
    "spam_df"
   ]
  },
  {
   "cell_type": "code",
   "execution_count": 73,
   "id": "6b67b1e1",
   "metadata": {},
   "outputs": [
    {
     "data": {
      "text/html": [
       "<div>\n",
       "<style scoped>\n",
       "    .dataframe tbody tr th:only-of-type {\n",
       "        vertical-align: middle;\n",
       "    }\n",
       "\n",
       "    .dataframe tbody tr th {\n",
       "        vertical-align: top;\n",
       "    }\n",
       "\n",
       "    .dataframe thead th {\n",
       "        text-align: right;\n",
       "    }\n",
       "</style>\n",
       "<table border=\"1\" class=\"dataframe\">\n",
       "  <thead>\n",
       "    <tr style=\"text-align: right;\">\n",
       "      <th></th>\n",
       "      <th>text</th>\n",
       "      <th>label</th>\n",
       "    </tr>\n",
       "  </thead>\n",
       "  <tbody>\n",
       "    <tr>\n",
       "      <th>0</th>\n",
       "      <td>안녕하세요 쉐어링 스터디 상담원 이주빈입니다 예 안녕하세요 제가 다른 게 아니라 나...</td>\n",
       "      <td>0</td>\n",
       "    </tr>\n",
       "    <tr>\n",
       "      <th>1</th>\n",
       "      <td>그게 처음에  마이 페이지를 들어가서 캐시를 버튼을 누르고 캐시 할인권 메뉴에서  ...</td>\n",
       "      <td>0</td>\n",
       "    </tr>\n",
       "    <tr>\n",
       "      <th>2</th>\n",
       "      <td>결제를 누르면 되는거구요 그리고 나서 제가 결제수단을 누르는데 문화상품권 받는 거로...</td>\n",
       "      <td>0</td>\n",
       "    </tr>\n",
       "    <tr>\n",
       "      <th>3</th>\n",
       "      <td>막 이상한 사이트로 연결되던데 그리고 무슨 코드 같은 거 다섯칸 입력하는게 나오던데...</td>\n",
       "      <td>0</td>\n",
       "    </tr>\n",
       "    <tr>\n",
       "      <th>4</th>\n",
       "      <td>그럼 이거 가입 안 하면은 안돼요 가입하는 것도 저한테는 너무 어려워서 이거 가입하...</td>\n",
       "      <td>0</td>\n",
       "    </tr>\n",
       "    <tr>\n",
       "      <th>...</th>\n",
       "      <td>...</td>\n",
       "      <td>...</td>\n",
       "    </tr>\n",
       "    <tr>\n",
       "      <th>9996</th>\n",
       "      <td>없습니다  홈페이지 보면요 수업방식을 선생님이 매주 방문하시는 오프라인 방문 학습...</td>\n",
       "      <td>0</td>\n",
       "    </tr>\n",
       "    <tr>\n",
       "      <th>9997</th>\n",
       "      <td>담당 선생님 스케줄에 따라 변경 가능합니다 화상 수업할 때요 혹시 수업용 어플이 ...</td>\n",
       "      <td>0</td>\n",
       "    </tr>\n",
       "    <tr>\n",
       "      <th>9998</th>\n",
       "      <td>피 디 에프 파일로 제공됩니다  홈페이지 안내 보니깐요 화상수업은 결제를 무조건 ...</td>\n",
       "      <td>0</td>\n",
       "    </tr>\n",
       "    <tr>\n",
       "      <th>9999</th>\n",
       "      <td>카드 자동이체만 가능합니다  수업 과목 혹시 중간에 변경 가능한가요 지금은 중국어...</td>\n",
       "      <td>0</td>\n",
       "    </tr>\n",
       "    <tr>\n",
       "      <th>10000</th>\n",
       "      <td>불가능합니다  그래요 그럼 중간에 변경은 안되고 일본어를 배우고 싶으면 강의를 추...</td>\n",
       "      <td>0</td>\n",
       "    </tr>\n",
       "  </tbody>\n",
       "</table>\n",
       "<p>9916 rows × 2 columns</p>\n",
       "</div>"
      ],
      "text/plain": [
       "                                                    text  label\n",
       "0      안녕하세요 쉐어링 스터디 상담원 이주빈입니다 예 안녕하세요 제가 다른 게 아니라 나...      0\n",
       "1      그게 처음에  마이 페이지를 들어가서 캐시를 버튼을 누르고 캐시 할인권 메뉴에서  ...      0\n",
       "2      결제를 누르면 되는거구요 그리고 나서 제가 결제수단을 누르는데 문화상품권 받는 거로...      0\n",
       "3      막 이상한 사이트로 연결되던데 그리고 무슨 코드 같은 거 다섯칸 입력하는게 나오던데...      0\n",
       "4      그럼 이거 가입 안 하면은 안돼요 가입하는 것도 저한테는 너무 어려워서 이거 가입하...      0\n",
       "...                                                  ...    ...\n",
       "9996    없습니다  홈페이지 보면요 수업방식을 선생님이 매주 방문하시는 오프라인 방문 학습...      0\n",
       "9997    담당 선생님 스케줄에 따라 변경 가능합니다 화상 수업할 때요 혹시 수업용 어플이 ...      0\n",
       "9998    피 디 에프 파일로 제공됩니다  홈페이지 안내 보니깐요 화상수업은 결제를 무조건 ...      0\n",
       "9999    카드 자동이체만 가능합니다  수업 과목 혹시 중간에 변경 가능한가요 지금은 중국어...      0\n",
       "10000   불가능합니다  그래요 그럼 중간에 변경은 안되고 일본어를 배우고 싶으면 강의를 추...      0\n",
       "\n",
       "[9916 rows x 2 columns]"
      ]
     },
     "execution_count": 73,
     "metadata": {},
     "output_type": "execute_result"
    }
   ],
   "source": [
    "ham_df.drop_duplicates(subset=['text'], inplace=True) # 중복 제거\n",
    "ham_df['label'] = 0\n",
    "\n",
    "ham_df"
   ]
  },
  {
   "cell_type": "markdown",
   "id": "92eb1c83",
   "metadata": {},
   "source": [
    "데이터 정보 출력"
   ]
  },
  {
   "cell_type": "code",
   "execution_count": 74,
   "id": "4d8f1bdb",
   "metadata": {},
   "outputs": [
    {
     "name": "stdout",
     "output_type": "stream",
     "text": [
      "스팸 데이터 개수 : 3860(read) -> 3830(drop)\n",
      "스팸 데이터 최소 길이 11\n",
      "스팸 데이터 최대 길이 689\n",
      "----------------------------------------------------\n",
      "일반 데이터 개수 : 10001(read) -> 9916(drop)\n",
      "일반 데이터 최소 길이 11\n",
      "일반 데이터 최대 길이 252\n"
     ]
    }
   ],
   "source": [
    "print(\"스팸 데이터 개수 : {}(read) -> {}(drop)\".format(len(spam_X),len(spam_df)))\n",
    "print('스팸 데이터 최소 길이',len(min(spam_df['text'], key=len)))\n",
    "print('스팸 데이터 최대 길이',len(max(spam_df['text'], key=len)))\n",
    "print('----------------------------------------------------')\n",
    "print(\"일반 데이터 개수 : {}(read) -> {}(drop)\".format(len(ham_X),len(ham_df)))\n",
    "print('일반 데이터 최소 길이',len(min(ham_df['text'], key=len)))\n",
    "print('일반 데이터 최대 길이',len(max(ham_df['text'], key=len)))"
   ]
  },
  {
   "cell_type": "markdown",
   "id": "9d6aa203",
   "metadata": {},
   "source": [
    "스팸 / 일반 데이터 합치기"
   ]
  },
  {
   "cell_type": "code",
   "execution_count": 75,
   "id": "23fdf99b",
   "metadata": {},
   "outputs": [],
   "source": [
    "total_df = pd.concat([spam_df, ham_df], ignore_index=True)"
   ]
  },
  {
   "cell_type": "code",
   "execution_count": 76,
   "id": "6e510d33",
   "metadata": {},
   "outputs": [
    {
     "data": {
      "text/html": [
       "<div>\n",
       "<style scoped>\n",
       "    .dataframe tbody tr th:only-of-type {\n",
       "        vertical-align: middle;\n",
       "    }\n",
       "\n",
       "    .dataframe tbody tr th {\n",
       "        vertical-align: top;\n",
       "    }\n",
       "\n",
       "    .dataframe thead th {\n",
       "        text-align: right;\n",
       "    }\n",
       "</style>\n",
       "<table border=\"1\" class=\"dataframe\">\n",
       "  <thead>\n",
       "    <tr style=\"text-align: right;\">\n",
       "      <th></th>\n",
       "      <th>text</th>\n",
       "      <th>label</th>\n",
       "    </tr>\n",
       "  </thead>\n",
       "  <tbody>\n",
       "    <tr>\n",
       "      <th>0</th>\n",
       "      <td>여보세요  안녕하세요 검찰청이에요 검찰청이요  통화 괜찮으십니까  가능합니다 전화 ...</td>\n",
       "      <td>1</td>\n",
       "    </tr>\n",
       "    <tr>\n",
       "      <th>1</th>\n",
       "      <td>명의도용이요 예 통화 괜찮으시면은 외모 할 만한 거 한번 준비하셔가지고이렇게 말씀 ...</td>\n",
       "      <td>1</td>\n",
       "    </tr>\n",
       "    <tr>\n",
       "      <th>2</th>\n",
       "      <td>그러면은 년도 월 경에 경기도 광명에 방문하신 적이 있으세요광명이요 기억이 잘 안 ...</td>\n",
       "      <td>1</td>\n",
       "    </tr>\n",
       "    <tr>\n",
       "      <th>3</th>\n",
       "      <td>이 구조 과정 중에 만약에 신용카드가 대포통장을 압수 했는데  거기에 서서 본인 명...</td>\n",
       "      <td>1</td>\n",
       "    </tr>\n",
       "    <tr>\n",
       "      <th>4</th>\n",
       "      <td>그래서 이거를 김유나 씨께서 광명까지 직접 가셔가지고 이 팀장까지 개선해서 문자분에...</td>\n",
       "      <td>1</td>\n",
       "    </tr>\n",
       "    <tr>\n",
       "      <th>...</th>\n",
       "      <td>...</td>\n",
       "      <td>...</td>\n",
       "    </tr>\n",
       "    <tr>\n",
       "      <th>13741</th>\n",
       "      <td>없습니다  홈페이지 보면요 수업방식을 선생님이 매주 방문하시는 오프라인 방문 학습...</td>\n",
       "      <td>0</td>\n",
       "    </tr>\n",
       "    <tr>\n",
       "      <th>13742</th>\n",
       "      <td>담당 선생님 스케줄에 따라 변경 가능합니다 화상 수업할 때요 혹시 수업용 어플이 ...</td>\n",
       "      <td>0</td>\n",
       "    </tr>\n",
       "    <tr>\n",
       "      <th>13743</th>\n",
       "      <td>피 디 에프 파일로 제공됩니다  홈페이지 안내 보니깐요 화상수업은 결제를 무조건 ...</td>\n",
       "      <td>0</td>\n",
       "    </tr>\n",
       "    <tr>\n",
       "      <th>13744</th>\n",
       "      <td>카드 자동이체만 가능합니다  수업 과목 혹시 중간에 변경 가능한가요 지금은 중국어...</td>\n",
       "      <td>0</td>\n",
       "    </tr>\n",
       "    <tr>\n",
       "      <th>13745</th>\n",
       "      <td>불가능합니다  그래요 그럼 중간에 변경은 안되고 일본어를 배우고 싶으면 강의를 추...</td>\n",
       "      <td>0</td>\n",
       "    </tr>\n",
       "  </tbody>\n",
       "</table>\n",
       "<p>13746 rows × 2 columns</p>\n",
       "</div>"
      ],
      "text/plain": [
       "                                                    text  label\n",
       "0      여보세요  안녕하세요 검찰청이에요 검찰청이요  통화 괜찮으십니까  가능합니다 전화 ...      1\n",
       "1      명의도용이요 예 통화 괜찮으시면은 외모 할 만한 거 한번 준비하셔가지고이렇게 말씀 ...      1\n",
       "2      그러면은 년도 월 경에 경기도 광명에 방문하신 적이 있으세요광명이요 기억이 잘 안 ...      1\n",
       "3      이 구조 과정 중에 만약에 신용카드가 대포통장을 압수 했는데  거기에 서서 본인 명...      1\n",
       "4      그래서 이거를 김유나 씨께서 광명까지 직접 가셔가지고 이 팀장까지 개선해서 문자분에...      1\n",
       "...                                                  ...    ...\n",
       "13741   없습니다  홈페이지 보면요 수업방식을 선생님이 매주 방문하시는 오프라인 방문 학습...      0\n",
       "13742   담당 선생님 스케줄에 따라 변경 가능합니다 화상 수업할 때요 혹시 수업용 어플이 ...      0\n",
       "13743   피 디 에프 파일로 제공됩니다  홈페이지 안내 보니깐요 화상수업은 결제를 무조건 ...      0\n",
       "13744   카드 자동이체만 가능합니다  수업 과목 혹시 중간에 변경 가능한가요 지금은 중국어...      0\n",
       "13745   불가능합니다  그래요 그럼 중간에 변경은 안되고 일본어를 배우고 싶으면 강의를 추...      0\n",
       "\n",
       "[13746 rows x 2 columns]"
      ]
     },
     "execution_count": 76,
     "metadata": {},
     "output_type": "execute_result"
    }
   ],
   "source": [
    "total_df"
   ]
  },
  {
   "cell_type": "markdown",
   "id": "34e293ed",
   "metadata": {},
   "source": [
    "## Train / Validation Set 분리\n",
    "\n",
    "0.75 : 0.25 비율로 나누기"
   ]
  },
  {
   "cell_type": "code",
   "execution_count": 77,
   "id": "5e55d7ec",
   "metadata": {},
   "outputs": [],
   "source": [
    "train_data, test_data = train_test_split(total_df, test_size = 0.25, random_state = 42) # 훈련용 테스트 데이터 나누기"
   ]
  },
  {
   "cell_type": "markdown",
   "id": "a437cb5c",
   "metadata": {},
   "source": [
    "훈련 / 테스트 데이터 개수 출력"
   ]
  },
  {
   "cell_type": "code",
   "execution_count": 78,
   "id": "ca2a6db0",
   "metadata": {
    "scrolled": true
   },
   "outputs": [
    {
     "name": "stdout",
     "output_type": "stream",
     "text": [
      "데이터 총 개수 : 13746\n",
      "훈련용 데이터 개수 : 10309\n",
      "테스트용 데이터 개수 : 3437\n"
     ]
    }
   ],
   "source": [
    "print('데이터 총 개수 :',len(total_df))\n",
    "print('훈련용 데이터 개수 :', len(train_data))\n",
    "print('테스트용 데이터 개수 :', len(test_data))"
   ]
  },
  {
   "cell_type": "markdown",
   "id": "1344ec06",
   "metadata": {},
   "source": [
    "스팸 / 일반 데이터 개수 그래프 비교"
   ]
  },
  {
   "cell_type": "code",
   "execution_count": 79,
   "id": "573813ef",
   "metadata": {
    "scrolled": true
   },
   "outputs": [
    {
     "name": "stdout",
     "output_type": "stream",
     "text": [
      "   label  count\n",
      "0      0   7464\n",
      "1      1   2845\n"
     ]
    },
    {
     "data": {
      "image/png": "[encoded data removed]",
      "text/plain": [
       "<Figure size 432x288 with 1 Axes>"
      ]
     },
     "metadata": {
      "needs_background": "light"
     },
     "output_type": "display_data"
    }
   ],
   "source": [
    "plt.subplot(121)\n",
    "train_data['label'].value_counts().plot(kind = 'bar', title='Count')\n",
    "print(train_data.groupby('label').size().reset_index(name = 'count'))"
   ]
  },
  {
   "cell_type": "markdown",
   "id": "e00c316e",
   "metadata": {},
   "source": [
    "## 전처리: 빈 데이터 처리\n",
    "\n",
    "빈 데이터 NA 처리"
   ]
  },
  {
   "cell_type": "code",
   "execution_count": 80,
   "id": "9bb2fc48",
   "metadata": {},
   "outputs": [],
   "source": [
    "pd.set_option('mode.chained_assignment', None) # 경고 메시지 끄기\n",
    "\n",
    "train_data.replace('', np.nan, inplace=True)"
   ]
  },
  {
   "cell_type": "code",
   "execution_count": 81,
   "id": "297fb542",
   "metadata": {},
   "outputs": [],
   "source": [
    "test_data.replace('', np.nan, inplace=True)"
   ]
  },
  {
   "cell_type": "markdown",
   "id": "3bae099a",
   "metadata": {},
   "source": [
    "전처리 후 생긴 null 데이터 확인"
   ]
  },
  {
   "cell_type": "code",
   "execution_count": 82,
   "id": "0b1ec699",
   "metadata": {
    "scrolled": false
   },
   "outputs": [
    {
     "name": "stdout",
     "output_type": "stream",
     "text": [
      "text     0\n",
      "label    0\n",
      "dtype: int64\n",
      "\n",
      "text     0\n",
      "label    0\n",
      "dtype: int64\n"
     ]
    }
   ],
   "source": [
    "print(train_data.isnull().sum()) # null 데이터 확인\n",
    "print()\n",
    "print(test_data.isnull().sum())"
   ]
  },
  {
   "cell_type": "markdown",
   "id": "96460dbc",
   "metadata": {},
   "source": [
    "null 값이 있는 행 제거 후 확인"
   ]
  },
  {
   "cell_type": "code",
   "execution_count": 83,
   "id": "5babdcc4",
   "metadata": {},
   "outputs": [
    {
     "name": "stdout",
     "output_type": "stream",
     "text": [
      "text     0\n",
      "label    0\n",
      "dtype: int64\n",
      "\n",
      "text     0\n",
      "label    0\n",
      "dtype: int64\n"
     ]
    }
   ],
   "source": [
    "train_data = train_data.dropna(how='any', axis=0)\n",
    "test_data = test_data.dropna(how='any', axis=0)\n",
    "\n",
    "print(train_data.isnull().sum()) # null 데이터 확인\n",
    "print()\n",
    "print(test_data.isnull().sum())"
   ]
  },
  {
   "cell_type": "markdown",
   "id": "d23b3515",
   "metadata": {},
   "source": [
    "## 전처리: 토큰화\n",
    "\n",
    "Okt 객체 선언"
   ]
  },
  {
   "cell_type": "code",
   "execution_count": 84,
   "id": "24e296bf",
   "metadata": {},
   "outputs": [],
   "source": [
    "okt = Okt() # 한글은 형태소 분석기 사용해야됨 KoNPLY"
   ]
  },
  {
   "cell_type": "markdown",
   "id": "95f55e58",
   "metadata": {},
   "source": [
    "불용어 단어"
   ]
  },
  {
   "cell_type": "code",
   "execution_count": 85,
   "id": "8548a6c9",
   "metadata": {},
   "outputs": [],
   "source": [
    "stopwords = [] # spam, ham 빈도 수 높은 중복단어 제거"
   ]
  },
  {
   "cell_type": "markdown",
   "id": "91b22c31",
   "metadata": {},
   "source": [
    "어간 단위로 토큰화 및 불용어 처리"
   ]
  },
  {
   "cell_type": "code",
   "execution_count": 86,
   "id": "bf0e6721",
   "metadata": {},
   "outputs": [],
   "source": [
    "X_train = []\n",
    "for sentence in train_data['text']:\n",
    "    temp_X = okt.morphs(sentence, stem=True) # 토큰화\n",
    "    temp_X = [word for word in temp_X if not word in stopwords] # 불용어 처리\n",
    "    X_train.append(temp_X)"
   ]
  },
  {
   "cell_type": "code",
   "execution_count": 87,
   "id": "8c90ae0d",
   "metadata": {},
   "outputs": [],
   "source": [
    "X_test = []\n",
    "for sentence in test_data['text']:\n",
    "    temp_X = okt.morphs(sentence, stem=True) # 토큰화\n",
    "    temp_X = [word for word in temp_X if not word in stopwords] # 불용어 처리\n",
    "    X_test.append(temp_X)"
   ]
  },
  {
   "cell_type": "markdown",
   "id": "0b00c392",
   "metadata": {},
   "source": [
    "Dataframe 새 Column에 추가"
   ]
  },
  {
   "cell_type": "code",
   "execution_count": 88,
   "id": "65ba5083",
   "metadata": {},
   "outputs": [],
   "source": [
    "train_data['tokenized'] = X_train\n",
    "test_data['tokenized'] = X_test"
   ]
  },
  {
   "cell_type": "markdown",
   "id": "127d5037",
   "metadata": {},
   "source": [
    "## 단어별 빈도 수 확인\n",
    "\n",
    "스팸 단어 빈도 확인"
   ]
  },
  {
   "cell_type": "code",
   "execution_count": 89,
   "id": "e49ce073",
   "metadata": {},
   "outputs": [
    {
     "name": "stdout",
     "output_type": "stream",
     "text": [
      "[('하다', 5468), ('이', 5005), ('에', 3263), ('가', 3180), ('기범', 2814), ('을', 2625), ('되다', 2544), ('본인', 2486), ('있다', 2351), ('사', 2282), ('를', 1804), ('거', 1768), ('지금', 1483), ('그', 1319), ('예', 1295), ('으로', 1254), ('제', 1173), ('아니다', 1105), ('는', 1092), ('은', 1084)]\n"
     ]
    }
   ],
   "source": [
    "spam_words = np.hstack(train_data[train_data.label == 1]['tokenized'].values)\n",
    "spam_word_count = Counter(spam_words)\n",
    "print(spam_word_count.most_common(20))"
   ]
  },
  {
   "cell_type": "markdown",
   "id": "c1e6a359",
   "metadata": {},
   "source": [
    "일상 단어 빈도 확인"
   ]
  },
  {
   "cell_type": "code",
   "execution_count": 90,
   "id": "3cb68f8f",
   "metadata": {},
   "outputs": [
    {
     "name": "stdout",
     "output_type": "stream",
     "text": [
      "[('하다', 16782), ('이', 8546), ('가', 6378), ('있다', 6106), ('되다', 6060), ('에', 5445), ('을', 4702), ('그렇다', 3826), ('거', 3567), ('요', 3460), ('는', 3274), ('로', 3108), ('를', 3054), ('은', 3019), ('제', 3007), ('도', 2926), ('학습', 2775), ('같다', 2772), ('아', 2756), ('것', 2464)]\n"
     ]
    }
   ],
   "source": [
    "ham_words = np.hstack(train_data[train_data.label == 0]['tokenized'].values)\n",
    "ham_word_count = Counter(ham_words)\n",
    "print(ham_word_count.most_common(20))"
   ]
  },
  {
   "cell_type": "markdown",
   "id": "75d52aaa",
   "metadata": {},
   "source": [
    "Dataframe 값 추출"
   ]
  },
  {
   "cell_type": "code",
   "execution_count": 91,
   "id": "f3faa679",
   "metadata": {},
   "outputs": [],
   "source": [
    "X_train = train_data['tokenized'].values\n",
    "y_train = train_data['label'].values\n",
    "X_test = test_data['tokenized'].values\n",
    "y_test = test_data['label'].values"
   ]
  },
  {
   "cell_type": "markdown",
   "id": "4dc7b671",
   "metadata": {},
   "source": [
    "## 정수 인코딩\n",
    "\n",
    "`vocab_size`의 값을 정하기 위한 토큰화 객체 생성"
   ]
  },
  {
   "cell_type": "code",
   "execution_count": 92,
   "id": "33440127",
   "metadata": {},
   "outputs": [],
   "source": [
    "tokenizer = Tokenizer()\n",
    "tokenizer.fit_on_texts(X_train)"
   ]
  },
  {
   "cell_type": "markdown",
   "id": "7c9d6b20",
   "metadata": {},
   "source": [
    "최소 단어 빈도 수 제한"
   ]
  },
  {
   "cell_type": "code",
   "execution_count": 93,
   "id": "65bea1c2",
   "metadata": {},
   "outputs": [],
   "source": [
    "threshold = 2 # 등장 횟수가 threshold미만인 단어는 제거"
   ]
  },
  {
   "cell_type": "markdown",
   "id": "0936b179",
   "metadata": {},
   "source": [
    "최적의 `vocab_size` 선정"
   ]
  },
  {
   "cell_type": "code",
   "execution_count": 94,
   "id": "80910e36",
   "metadata": {},
   "outputs": [
    {
     "name": "stdout",
     "output_type": "stream",
     "text": [
      "단어 집합(vocabulary)의 크기 : 7726\n",
      "등장 빈도가 1번 이하인 희귀 단어의 수: 2726\n",
      "단어 집합에서 희귀 단어의 비율: 35.28345845198032\n",
      "전체 등장 빈도에서 희귀 단어 등장 빈도 비율: 0.5596536142413984\n",
      "vocab_size : 5002\n"
     ]
    }
   ],
   "source": [
    "word_to_index = tokenizer.word_index\n",
    "total_cnt = len(word_to_index) # 단어의 수\n",
    "rare_cnt = 0 # 등장 빈도수가 threshold보다 작은 단어의 개수를 카운트\n",
    "total_freq = 0 # 훈련 데이터의 전체 단어 빈도수 총 합\n",
    "rare_freq = 0 # 등장 빈도수가 threshold보다 작은 단어의 등장 빈도수의 총 합\n",
    "\n",
    "# 단어와 빈도수의 쌍(pair)을 key와 value로 받는다.\n",
    "for key, value in tokenizer.word_counts.items():\n",
    "    total_freq = total_freq + value\n",
    "\n",
    "    # 단어의 등장 빈도수가 threshold보다 작으면\n",
    "    if(value < threshold):\n",
    "        rare_cnt = rare_cnt + 1\n",
    "        rare_freq = rare_freq + value\n",
    "        \n",
    "print('단어 집합(vocabulary)의 크기 :',total_cnt)\n",
    "print('등장 빈도가 %s번 이하인 희귀 단어의 수: %s'%(threshold - 1, rare_cnt))\n",
    "print(\"단어 집합에서 희귀 단어의 비율:\", (rare_cnt / total_cnt)*100)\n",
    "print(\"전체 등장 빈도에서 희귀 단어 등장 빈도 비율:\", (rare_freq / total_freq)*100)\n",
    "\n",
    "vocab_size = total_cnt - rare_cnt + 2\n",
    "print('vocab_size :',vocab_size)"
   ]
  },
  {
   "cell_type": "markdown",
   "id": "632c17f0",
   "metadata": {},
   "source": [
    "단어 토큰화\n",
    "* `num_words`: 단어 max 사이즈 지정. 빈도수가 높은 순으로 저장.\n",
    "* `oov_token`: 단어 토큰에 없는 단어 표기법 지정"
   ]
  },
  {
   "cell_type": "code",
   "execution_count": 95,
   "id": "2a3590ac",
   "metadata": {},
   "outputs": [],
   "source": [
    "tokenizer = Tokenizer(num_words = vocab_size, oov_token = 'OOV')"
   ]
  },
  {
   "cell_type": "markdown",
   "id": "5abadb7f",
   "metadata": {},
   "source": [
    "`fit_on_texts`로 학습할 문장에 대한 토큰화 진행"
   ]
  },
  {
   "cell_type": "code",
   "execution_count": 96,
   "id": "930ce328",
   "metadata": {},
   "outputs": [],
   "source": [
    "tokenizer.fit_on_texts(X_train)"
   ]
  },
  {
   "cell_type": "code",
   "execution_count": 97,
   "id": "cba9ccb5",
   "metadata": {},
   "outputs": [
    {
     "name": "stdout",
     "output_type": "stream",
     "text": [
      "OOV\t======>\t 1\n",
      "하다\t======>\t 2\n",
      "이\t======>\t 3\n",
      "가\t======>\t 4\n",
      "에\t======>\t 5\n",
      "되다\t======>\t 6\n",
      "있다\t======>\t 7\n",
      "을\t======>\t 8\n",
      "거\t======>\t 9\n",
      "를\t======>\t 10\n",
      "그렇다\t======>\t 11\n",
      "요\t======>\t 12\n",
      "는\t======>\t 13\n",
      "제\t======>\t 14\n",
      "은\t======>\t 15\n",
      "로\t======>\t 16\n",
      "도\t======>\t 17\n",
      "아\t======>\t 18\n",
      "으로\t======>\t 19\n",
      "같다\t======>\t 20\n",
      "지금\t======>\t 21\n",
      "아니다\t======>\t 22\n",
      "것\t======>\t 23\n",
      "기범\t======>\t 24\n",
      "학습\t======>\t 25\n"
     ]
    }
   ],
   "source": [
    "for key, value in tokenizer.word_index.items():\n",
    "    if len(key) < 4:\n",
    "        print('{}\\t======>\\t {}'.format(key, value))\n",
    "    else:\n",
    "        print('{}======>\\t {}'.format(key, value))\n",
    "    if value == 25:\n",
    "        break"
   ]
  },
  {
   "cell_type": "markdown",
   "id": "e301bbf1",
   "metadata": {},
   "source": [
    "토큰화된 단어 사전의 개수"
   ]
  },
  {
   "cell_type": "code",
   "execution_count": 98,
   "id": "35a659cb",
   "metadata": {},
   "outputs": [
    {
     "data": {
      "text/plain": [
       "7727"
      ]
     },
     "execution_count": 98,
     "metadata": {},
     "output_type": "execute_result"
    }
   ],
   "source": [
    "len(tokenizer.word_index)"
   ]
  },
  {
   "cell_type": "markdown",
   "id": "1e6e7876",
   "metadata": {},
   "source": [
    "문장을 토큰으로 치환"
   ]
  },
  {
   "cell_type": "code",
   "execution_count": 99,
   "id": "082d21ba",
   "metadata": {},
   "outputs": [],
   "source": [
    "X_train = tokenizer.texts_to_sequences(X_train)\n",
    "X_test = tokenizer.texts_to_sequences(X_test)"
   ]
  },
  {
   "cell_type": "markdown",
   "id": "232214b9",
   "metadata": {},
   "source": [
    "변환된 Sequences 확인"
   ]
  },
  {
   "cell_type": "code",
   "execution_count": 100,
   "id": "ed9ed96a",
   "metadata": {},
   "outputs": [
    {
     "data": {
      "text/plain": [
       "[[41,\n",
       "  71,\n",
       "  34,\n",
       "  3,\n",
       "  71,\n",
       "  16,\n",
       "  480,\n",
       "  854,\n",
       "  2,\n",
       "  1348,\n",
       "  71,\n",
       "  612,\n",
       "  1455,\n",
       "  108,\n",
       "  308,\n",
       "  108,\n",
       "  339,\n",
       "  118,\n",
       "  8,\n",
       "  1306,\n",
       "  1034,\n",
       "  613,\n",
       "  480,\n",
       "  1943,\n",
       "  69,\n",
       "  228,\n",
       "  5,\n",
       "  14,\n",
       "  4,\n",
       "  108,\n",
       "  272,\n",
       "  108,\n",
       "  5,\n",
       "  1,\n",
       "  8,\n",
       "  1621,\n",
       "  758,\n",
       "  8,\n",
       "  188,\n",
       "  71,\n",
       "  10,\n",
       "  1174,\n",
       "  46,\n",
       "  168,\n",
       "  439,\n",
       "  83,\n",
       "  30,\n",
       "  71,\n",
       "  10,\n",
       "  164,\n",
       "  157,\n",
       "  148,\n",
       "  71,\n",
       "  10,\n",
       "  108,\n",
       "  308,\n",
       "  108,\n",
       "  339,\n",
       "  70,\n",
       "  168,\n",
       "  71,\n",
       "  16,\n",
       "  480,\n",
       "  158,\n",
       "  669,\n",
       "  258],\n",
       " [412,\n",
       "  13,\n",
       "  21,\n",
       "  1456,\n",
       "  10,\n",
       "  1523,\n",
       "  1523,\n",
       "  114,\n",
       "  145,\n",
       "  300,\n",
       "  34,\n",
       "  1880,\n",
       "  100,\n",
       "  2,\n",
       "  9,\n",
       "  22,\n",
       "  21,\n",
       "  81,\n",
       "  58,\n",
       "  2,\n",
       "  382,\n",
       "  121,\n",
       "  34,\n",
       "  36,\n",
       "  3,\n",
       "  31,\n",
       "  394,\n",
       "  117,\n",
       "  136,\n",
       "  524,\n",
       "  40,\n",
       "  81,\n",
       "  32,\n",
       "  22,\n",
       "  670,\n",
       "  40,\n",
       "  12,\n",
       "  136,\n",
       "  524,\n",
       "  12],\n",
       " [220,\n",
       "  39,\n",
       "  50,\n",
       "  622,\n",
       "  577,\n",
       "  492,\n",
       "  277,\n",
       "  130,\n",
       "  16,\n",
       "  216,\n",
       "  44,\n",
       "  1134,\n",
       "  502,\n",
       "  2,\n",
       "  23,\n",
       "  20,\n",
       "  87,\n",
       "  22,\n",
       "  186,\n",
       "  216,\n",
       "  26,\n",
       "  26,\n",
       "  596,\n",
       "  2,\n",
       "  98,\n",
       "  45,\n",
       "  555,\n",
       "  35,\n",
       "  84,\n",
       "  513,\n",
       "  6],\n",
       " [72,\n",
       "  779,\n",
       "  508,\n",
       "  56,\n",
       "  490,\n",
       "  481,\n",
       "  204,\n",
       "  366,\n",
       "  38,\n",
       "  2809,\n",
       "  253,\n",
       "  38,\n",
       "  4,\n",
       "  2809,\n",
       "  1881,\n",
       "  3,\n",
       "  655,\n",
       "  32,\n",
       "  72,\n",
       "  779,\n",
       "  508,\n",
       "  56,\n",
       "  490,\n",
       "  1035,\n",
       "  1402,\n",
       "  780,\n",
       "  3467,\n",
       "  1,\n",
       "  3,\n",
       "  243,\n",
       "  3467,\n",
       "  211,\n",
       "  12,\n",
       "  4198,\n",
       "  12,\n",
       "  21,\n",
       "  137,\n",
       "  124,\n",
       "  5,\n",
       "  21,\n",
       "  29,\n",
       "  1280,\n",
       "  40,\n",
       "  22,\n",
       "  21,\n",
       "  1156,\n",
       "  63,\n",
       "  19,\n",
       "  258,\n",
       "  215,\n",
       "  3,\n",
       "  807,\n",
       "  4,\n",
       "  79,\n",
       "  7],\n",
       " [51,\n",
       "  27,\n",
       "  24,\n",
       "  3,\n",
       "  9,\n",
       "  76,\n",
       "  1762,\n",
       "  499,\n",
       "  31,\n",
       "  61,\n",
       "  29,\n",
       "  30,\n",
       "  651,\n",
       "  145,\n",
       "  5,\n",
       "  160,\n",
       "  405,\n",
       "  52,\n",
       "  3077,\n",
       "  63,\n",
       "  117,\n",
       "  103,\n",
       "  1492,\n",
       "  1247,\n",
       "  4,\n",
       "  6,\n",
       "  52,\n",
       "  3,\n",
       "  47,\n",
       "  121,\n",
       "  3,\n",
       "  3468,\n",
       "  285,\n",
       "  27,\n",
       "  24,\n",
       "  93,\n",
       "  177,\n",
       "  593,\n",
       "  45,\n",
       "  15,\n",
       "  2490,\n",
       "  60,\n",
       "  208,\n",
       "  831,\n",
       "  436,\n",
       "  122,\n",
       "  177,\n",
       "  651,\n",
       "  885,\n",
       "  855,\n",
       "  10,\n",
       "  535,\n",
       "  2,\n",
       "  9,\n",
       "  262]]"
      ]
     },
     "execution_count": 100,
     "metadata": {},
     "output_type": "execute_result"
    }
   ],
   "source": [
    "X_train[:5]"
   ]
  },
  {
   "cell_type": "markdown",
   "id": "17a918e2",
   "metadata": {},
   "source": [
    "`vocab_size`보다 떨어지는 단어는 1로 치환 (OOV)\n",
    "\n",
    "## 패딩\n",
    "리뷰 길이"
   ]
  },
  {
   "cell_type": "code",
   "execution_count": 101,
   "id": "f81722a4",
   "metadata": {
    "scrolled": true
   },
   "outputs": [
    {
     "data": {
      "image/png": "[encoded data removed]",
      "text/plain": [
       "<Figure size 432x288 with 1 Axes>"
      ]
     },
     "metadata": {
      "needs_background": "light"
     },
     "output_type": "display_data"
    },
    {
     "name": "stdout",
     "output_type": "stream",
     "text": [
      "최대 길이 : 284\n",
      "평균 길이 : 47.24871471529731\n"
     ]
    }
   ],
   "source": [
    "plt.subplot(122)\n",
    "plt.hist([len(s) for s in X_train], bins=50)\n",
    "plt.xlabel('length of samples')\n",
    "plt.ylabel('number of samples')\n",
    "plt.show()\n",
    "\n",
    "print('최대 길이 :',max(len(l) for l in X_train))\n",
    "print('평균 길이 :',sum(map(len, X_train))/len(X_train))"
   ]
  },
  {
   "cell_type": "markdown",
   "id": "842c7abc",
   "metadata": {},
   "source": [
    "3가지 옵션 입력\n",
    "* `maxlen`: 최대 문장 길이 정의. 길면 잘라냄\n",
    "* `truncating`: 문장 길이가 `maxlen`보다 길 때, 앞을 자를지 뒤를 자를지 정의\n",
    "* `padding`: 문장 길이가 `maxlen`보다 짧을 때, 앞을 채울지 뒤를 채울지 정의"
   ]
  },
  {
   "cell_type": "code",
   "execution_count": 102,
   "id": "cbff6e05",
   "metadata": {},
   "outputs": [],
   "source": [
    "max_len = 150 # 최대 길이 (그래프를 보고 판단)\n",
    "trunc_type = 'post' # 잘라낼 문장의 위치\n",
    "padding_type = 'post'"
   ]
  },
  {
   "cell_type": "markdown",
   "id": "69ef5e8e",
   "metadata": {},
   "source": [
    "문장 길이 비율 찾기"
   ]
  },
  {
   "cell_type": "code",
   "execution_count": 103,
   "id": "8782096f",
   "metadata": {},
   "outputs": [
    {
     "name": "stdout",
     "output_type": "stream",
     "text": [
      "전체 샘플 중 길이가 150 이하인 샘플의 비율: 99.93209816665049\n"
     ]
    }
   ],
   "source": [
    "def below_threshold_len(max_len, nested_list):\n",
    "    cnt = 0\n",
    "    for s in nested_list:\n",
    "        if(len(s) <= max_len):\n",
    "            cnt = cnt + 1\n",
    "    print('전체 샘플 중 길이가 %s 이하인 샘플의 비율: %s'%(max_len, (cnt / len(nested_list))*100))\n",
    "    \n",
    "below_threshold_len(max_len, X_train)"
   ]
  },
  {
   "cell_type": "code",
   "execution_count": 104,
   "id": "173e3b58",
   "metadata": {},
   "outputs": [],
   "source": [
    "X_train = pad_sequences(X_train, maxlen = max_len, truncating = trunc_type, padding = padding_type)\n",
    "X_test = pad_sequences(X_test, maxlen = max_len, truncating = trunc_type, padding = padding_type)"
   ]
  },
  {
   "cell_type": "markdown",
   "id": "bed7c923",
   "metadata": {},
   "source": [
    "변화된 후 shape 확인"
   ]
  },
  {
   "cell_type": "code",
   "execution_count": 105,
   "id": "809a8b03",
   "metadata": {
    "scrolled": true
   },
   "outputs": [
    {
     "data": {
      "text/plain": [
       "(10309, 150)"
      ]
     },
     "execution_count": 105,
     "metadata": {},
     "output_type": "execute_result"
    }
   ],
   "source": [
    "X_train.shape"
   ]
  },
  {
   "cell_type": "markdown",
   "id": "025b776a",
   "metadata": {},
   "source": [
    "## 모델 정의\n",
    "\n",
    "임베딩 차원 정의"
   ]
  },
  {
   "cell_type": "code",
   "execution_count": 106,
   "id": "910212cb",
   "metadata": {},
   "outputs": [],
   "source": [
    "embedding_dim = 100"
   ]
  },
  {
   "cell_type": "markdown",
   "id": "d2a3df97",
   "metadata": {},
   "source": [
    "모델 구성"
   ]
  },
  {
   "cell_type": "code",
   "execution_count": 107,
   "id": "30fdb196",
   "metadata": {},
   "outputs": [],
   "source": [
    "model = Sequential([\n",
    "    Embedding(vocab_size, embedding_dim),\n",
    "    LSTM(128),\n",
    "    Dense(1, activation='sigmoid')\n",
    "])"
   ]
  },
  {
   "cell_type": "markdown",
   "id": "a262418d",
   "metadata": {},
   "source": [
    "## 컴파일\n",
    "\n",
    "~~1. `optimizer`은 가장 최적화가 잘되는 알고리즘 'adam' 사용~~  \n",
    "2. `loss`는 이진분류이므로, `binary_crossentropy` 사용"
   ]
  },
  {
   "cell_type": "code",
   "execution_count": 108,
   "id": "7606a6fc",
   "metadata": {},
   "outputs": [],
   "source": [
    "model.compile(optimizer='rmsprop', loss='binary_crossentropy', metrics=['acc'])"
   ]
  },
  {
   "cell_type": "markdown",
   "id": "53ccaf41",
   "metadata": {},
   "source": [
    "## ModelCheckpoint\n",
    "\n",
    "val_acc 기준으로 epoch 마다 최적의 모델을 저장하기 위한 체크포인트 설정"
   ]
  },
  {
   "cell_type": "code",
   "execution_count": 109,
   "id": "0fa3df99",
   "metadata": {},
   "outputs": [],
   "source": [
    "mc = ModelCheckpoint(file_name+'.h5', monitor='val_acc', mode='max', verbose=1, save_best_only=True)"
   ]
  },
  {
   "cell_type": "markdown",
   "id": "c2b638db",
   "metadata": {},
   "source": [
    "## EarlyStopping\n",
    "\n",
    "val_loss 기준으로 4번까지 Overfitting(과적합)이 진행되면 자동으로 종료"
   ]
  },
  {
   "cell_type": "code",
   "execution_count": 110,
   "id": "dd3184df",
   "metadata": {},
   "outputs": [],
   "source": [
    "es = EarlyStopping(monitor='val_loss', mode='min', verbose=1, patience=4)"
   ]
  },
  {
   "cell_type": "markdown",
   "id": "85738a19",
   "metadata": {},
   "source": [
    "## 모델 학습"
   ]
  },
  {
   "cell_type": "code",
   "execution_count": 111,
   "id": "1f3037d8",
   "metadata": {},
   "outputs": [
    {
     "name": "stdout",
     "output_type": "stream",
     "text": [
      "Epoch 1/15\n",
      "33/33 [==============================] - ETA: 0s - loss: 0.6043 - acc: 0.7092\n",
      "Epoch 00001: val_acc improved from -inf to 0.72114, saving model to LSTM_module_ver4.0.h5\n",
      "33/33 [==============================] - 12s 349ms/step - loss: 0.6043 - acc: 0.7092 - val_loss: 0.5933 - val_acc: 0.7211\n",
      "Epoch 2/15\n",
      "33/33 [==============================] - ETA: 0s - loss: 0.5917 - acc: 0.7251\n",
      "Epoch 00002: val_acc improved from 0.72114 to 0.72163, saving model to LSTM_module_ver4.0.h5\n",
      "33/33 [==============================] - 11s 348ms/step - loss: 0.5917 - acc: 0.7251 - val_loss: 0.6114 - val_acc: 0.7216\n",
      "Epoch 3/15\n",
      "33/33 [==============================] - ETA: 0s - loss: 0.5903 - acc: 0.7256\n",
      "Epoch 00003: val_acc did not improve from 0.72163\n",
      "33/33 [==============================] - 11s 343ms/step - loss: 0.5903 - acc: 0.7256 - val_loss: 0.5993 - val_acc: 0.7216\n",
      "Epoch 4/15\n",
      "33/33 [==============================] - ETA: 0s - loss: 0.5899 - acc: 0.7256\n",
      "Epoch 00004: val_acc did not improve from 0.72163\n",
      "33/33 [==============================] - 11s 346ms/step - loss: 0.5899 - acc: 0.7256 - val_loss: 0.5937 - val_acc: 0.7216\n",
      "Epoch 5/15\n",
      "33/33 [==============================] - ETA: 0s - loss: 0.5890 - acc: 0.7256\n",
      "Epoch 00005: val_acc did not improve from 0.72163\n",
      "33/33 [==============================] - 11s 346ms/step - loss: 0.5890 - acc: 0.7256 - val_loss: 0.5916 - val_acc: 0.7216\n",
      "Epoch 6/15\n",
      "33/33 [==============================] - ETA: 0s - loss: 0.6189 - acc: 0.7104\n",
      "Epoch 00006: val_acc did not improve from 0.72163\n",
      "33/33 [==============================] - 11s 343ms/step - loss: 0.6189 - acc: 0.7104 - val_loss: 0.5929 - val_acc: 0.7211\n",
      "Epoch 7/15\n",
      "33/33 [==============================] - ETA: 0s - loss: 0.5762 - acc: 0.7300\n",
      "Epoch 00007: val_acc did not improve from 0.72163\n",
      "33/33 [==============================] - 11s 347ms/step - loss: 0.5762 - acc: 0.7300 - val_loss: 0.5916 - val_acc: 0.7216\n",
      "Epoch 8/15\n",
      "33/33 [==============================] - ETA: 0s - loss: 0.5884 - acc: 0.7256\n",
      "Epoch 00008: val_acc did not improve from 0.72163\n",
      "33/33 [==============================] - 11s 346ms/step - loss: 0.5884 - acc: 0.7256 - val_loss: 0.5931 - val_acc: 0.7216\n",
      "Epoch 9/15\n",
      "33/33 [==============================] - ETA: 0s - loss: 0.4359 - acc: 0.7474\n",
      "Epoch 00009: val_acc improved from 0.72163 to 0.77255, saving model to LSTM_module_ver4.0.h5\n",
      "33/33 [==============================] - 11s 348ms/step - loss: 0.4359 - acc: 0.7474 - val_loss: 0.3998 - val_acc: 0.7726\n",
      "Epoch 10/15\n",
      "33/33 [==============================] - ETA: 0s - loss: 0.3778 - acc: 0.7580\n",
      "Epoch 00010: val_acc improved from 0.77255 to 0.78128, saving model to LSTM_module_ver4.0.h5\n",
      "33/33 [==============================] - 12s 360ms/step - loss: 0.3778 - acc: 0.7580 - val_loss: 0.3689 - val_acc: 0.7813\n",
      "Epoch 11/15\n",
      "33/33 [==============================] - ETA: 0s - loss: 0.3746 - acc: 0.7611\n",
      "Epoch 00011: val_acc did not improve from 0.78128\n",
      "33/33 [==============================] - 12s 353ms/step - loss: 0.3746 - acc: 0.7611 - val_loss: 0.3752 - val_acc: 0.7216\n",
      "Epoch 12/15\n",
      "33/33 [==============================] - ETA: 0s - loss: 0.3746 - acc: 0.7623\n",
      "Epoch 00012: val_acc improved from 0.78128 to 0.78710, saving model to LSTM_module_ver4.0.h5\n",
      "33/33 [==============================] - 12s 354ms/step - loss: 0.3746 - acc: 0.7623 - val_loss: 0.3661 - val_acc: 0.7871\n",
      "Epoch 13/15\n",
      "33/33 [==============================] - ETA: 0s - loss: 0.3664 - acc: 0.7857\n",
      "Epoch 00013: val_acc improved from 0.78710 to 0.82929, saving model to LSTM_module_ver4.0.h5\n",
      "33/33 [==============================] - 12s 352ms/step - loss: 0.3664 - acc: 0.7857 - val_loss: 0.3337 - val_acc: 0.8293\n",
      "Epoch 14/15\n",
      "33/33 [==============================] - ETA: 0s - loss: 0.3478 - acc: 0.8293\n",
      "Epoch 00014: val_acc improved from 0.82929 to 0.88409, saving model to LSTM_module_ver4.0.h5\n",
      "33/33 [==============================] - 12s 353ms/step - loss: 0.3478 - acc: 0.8293 - val_loss: 0.2979 - val_acc: 0.8841\n",
      "Epoch 15/15\n",
      "33/33 [==============================] - ETA: 0s - loss: 0.3192 - acc: 0.8875\n",
      "Epoch 00015: val_acc improved from 0.88409 to 0.90155, saving model to LSTM_module_ver4.0.h5\n",
      "33/33 [==============================] - 12s 351ms/step - loss: 0.3192 - acc: 0.8875 - val_loss: 0.2889 - val_acc: 0.9016\n"
     ]
    }
   ],
   "source": [
    "history = model.fit(X_train, y_train, epochs=15, callbacks=[es, mc], batch_size=256, validation_split=0.2)"
   ]
  },
  {
   "cell_type": "markdown",
   "id": "da07f400",
   "metadata": {},
   "source": [
    "학습 완료 후 `load_model` 를 해주지 않으면 ModelCheckpoint를 만든 의미가 없음"
   ]
  },
  {
   "cell_type": "code",
   "execution_count": 112,
   "id": "24bcb9ac",
   "metadata": {},
   "outputs": [],
   "source": [
    "model = load_model(file_name+'.h5')"
   ]
  },
  {
   "cell_type": "markdown",
   "id": "ed62f7cc",
   "metadata": {},
   "source": [
    "## 학습 오차 시각화"
   ]
  },
  {
   "cell_type": "code",
   "execution_count": 113,
   "id": "7ef3a32d",
   "metadata": {
    "scrolled": true
   },
   "outputs": [
    {
     "name": "stdout",
     "output_type": "stream",
     "text": [
      "108/108 [==============================] - 3s 24ms/step - loss: 0.3129 - acc: 0.8874\n",
      "\n",
      " 테스트 정확도: 0.8874\n"
     ]
    },
    {
     "data": {
      "image/png": "[encoded data removed]",
      "text/plain": [
       "<Figure size 432x288 with 1 Axes>"
      ]
     },
     "metadata": {
      "needs_background": "light"
     },
     "output_type": "display_data"
    }
   ],
   "source": [
    "epochs = range(1, len(history.history['acc']) + 1)\n",
    "plt.plot(epochs, history.history['loss'])\n",
    "plt.plot(epochs, history.history['val_loss'])\n",
    "plt.title('model loss')\n",
    "plt.ylabel('loss')\n",
    "plt.xlabel('epoch')\n",
    "plt.legend(['train', 'val'], loc='upper left')\n",
    "print(\"\\n 테스트 정확도: %.4f\" % (model.evaluate(X_test, y_test)[1]))"
   ]
  },
  {
   "cell_type": "markdown",
   "id": "97eab55c",
   "metadata": {},
   "source": [
    "## 파일 저장\n",
    "\n",
    "tokenizer 객체 저장"
   ]
  },
  {
   "cell_type": "code",
   "execution_count": 114,
   "id": "48b666c6",
   "metadata": {},
   "outputs": [],
   "source": [
    "with open(file_name+\"_tokenizer.pickle\", \"wb\") as f:\n",
    "    pickle.dump(tokenizer, f, protocol=pickle.HIGHEST_PROTOCOL)"
   ]
  },
  {
   "cell_type": "markdown",
   "id": "22f3fa08",
   "metadata": {},
   "source": [
    "변수 저장"
   ]
  },
  {
   "cell_type": "code",
   "execution_count": 115,
   "id": "bda4b027",
   "metadata": {},
   "outputs": [],
   "source": [
    "d = {'min_data':min_data, 'data_length':data_length, 'split_list':split_list,'max_len':max_len, 'trunc_type':trunc_type, 'padding_type':padding_type}\n",
    "json_var = json.dumps(d)\n",
    "with open(file_name+'_variable.json', 'w') as f:\n",
    "    f.write(json_var)"
   ]
  },
  {
   "cell_type": "markdown",
   "id": "14e1f8a8",
   "metadata": {},
   "source": [
    "불용어 단어 저장"
   ]
  },
  {
   "cell_type": "code",
   "execution_count": 116,
   "id": "f507cec0",
   "metadata": {
    "scrolled": true
   },
   "outputs": [],
   "source": [
    "json_stopwords = json.dumps(stopwords)\n",
    "with open(file_name+'_stopwords.json', 'w') as f:\n",
    "    f.write(json_stopwords)"
   ]
  }
 ],
 "metadata": {
  "kernelspec": {
   "display_name": "Python 3 (ipykernel)",
   "language": "python",
   "name": "python3"
  },
  "language_info": {
   "codemirror_mode": {
    "name": "ipython",
    "version": 3
   },
   "file_extension": ".py",
   "mimetype": "text/x-python",
   "name": "python",
   "nbconvert_exporter": "python",
   "pygments_lexer": "ipython3",
   "version": "3.8.5"
  }
 },
 "nbformat": 4,
 "nbformat_minor": 5
}
