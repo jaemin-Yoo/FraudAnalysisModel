{
 "cells": [
  {
   "cell_type": "code",
   "execution_count": 4,
   "id": "4334b2ce",
   "metadata": {},
   "outputs": [
    {
     "name": "stdout",
     "output_type": "stream",
     "text": [
      "안녕하세요 저는 유재민 \n"
     ]
    }
   ],
   "source": [
    "import re\n",
    "\n",
    "t = '안녕하세요  저는     유재민           '\n",
    "t = re.sub(' +', ' ', t)\n",
    "print(t)"
   ]
  }
 ],
 "metadata": {
  "kernelspec": {
   "display_name": "Python 3 (ipykernel)",
   "language": "python",
   "name": "python3"
  },
  "language_info": {
   "codemirror_mode": {
    "name": "ipython",
    "version": 3
   },
   "file_extension": ".py",
   "mimetype": "text/x-python",
   "name": "python",
   "nbconvert_exporter": "python",
   "pygments_lexer": "ipython3",
   "version": "3.8.5"
  }
 },
 "nbformat": 4,
 "nbformat_minor": 5
}
