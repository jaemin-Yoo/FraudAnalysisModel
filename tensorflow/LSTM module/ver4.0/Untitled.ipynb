{
 "cells": [
  {
   "cell_type": "code",
   "execution_count": 2,
   "id": "4334b2ce",
   "metadata": {},
   "outputs": [
    {
     "name": "stdout",
     "output_type": "stream",
     "text": [
      "0. (통화 내용을 확인하려면 주석을 해제해주세요.)\n"
     ]
    }
   ],
   "source": [
    "cnt = 0\n",
    "print(str(cnt)+'. (통화 내용을 확인하려면 주석을 해제해주세요.)')"
   ]
  }
 ],
 "metadata": {
  "kernelspec": {
   "display_name": "Python 3 (ipykernel)",
   "language": "python",
   "name": "python3"
  },
  "language_info": {
   "codemirror_mode": {
    "name": "ipython",
    "version": 3
   },
   "file_extension": ".py",
   "mimetype": "text/x-python",
   "name": "python",
   "nbconvert_exporter": "python",
   "pygments_lexer": "ipython3",
   "version": "3.8.5"
  }
 },
 "nbformat": 4,
 "nbformat_minor": 5
}
