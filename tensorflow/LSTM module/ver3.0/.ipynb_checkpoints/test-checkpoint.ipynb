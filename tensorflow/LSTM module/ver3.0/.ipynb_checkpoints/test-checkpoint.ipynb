{
 "cells": [
  {
   "cell_type": "code",
   "execution_count": 18,
   "id": "7aea9a7f",
   "metadata": {},
   "outputs": [
    {
     "data": {
      "text/html": [
       "<div>\n",
       "<style scoped>\n",
       "    .dataframe tbody tr th:only-of-type {\n",
       "        vertical-align: middle;\n",
       "    }\n",
       "\n",
       "    .dataframe tbody tr th {\n",
       "        vertical-align: top;\n",
       "    }\n",
       "\n",
       "    .dataframe thead th {\n",
       "        text-align: right;\n",
       "    }\n",
       "</style>\n",
       "<table border=\"1\" class=\"dataframe\">\n",
       "  <thead>\n",
       "    <tr style=\"text-align: right;\">\n",
       "      <th></th>\n",
       "      <th>text</th>\n",
       "      <th>label</th>\n",
       "    </tr>\n",
       "  </thead>\n",
       "  <tbody>\n",
       "    <tr>\n",
       "      <th>0</th>\n",
       "      <td>야 아 너 번호 이거맞지</td>\n",
       "      <td>1</td>\n",
       "    </tr>\n",
       "    <tr>\n",
       "      <th>1</th>\n",
       "      <td>스팸이야</td>\n",
       "      <td>1</td>\n",
       "    </tr>\n",
       "    <tr>\n",
       "      <th>2</th>\n",
       "      <td>스팸이라니까</td>\n",
       "      <td>1</td>\n",
       "    </tr>\n",
       "    <tr>\n",
       "      <th>3</th>\n",
       "      <td>햄 입니다</td>\n",
       "      <td>0</td>\n",
       "    </tr>\n",
       "    <tr>\n",
       "      <th>4</th>\n",
       "      <td>햄이야 하이입니다</td>\n",
       "      <td>0</td>\n",
       "    </tr>\n",
       "    <tr>\n",
       "      <th>5</th>\n",
       "      <td>햄이라니까</td>\n",
       "      <td>0</td>\n",
       "    </tr>\n",
       "  </tbody>\n",
       "</table>\n",
       "</div>"
      ],
      "text/plain": [
       "            text  label\n",
       "0  야 아 너 번호 이거맞지      1\n",
       "1           스팸이야      1\n",
       "2         스팸이라니까      1\n",
       "3          햄 입니다      0\n",
       "4     햄이야 하이입니다       0\n",
       "5          햄이라니까      0"
      ]
     },
     "execution_count": 18,
     "metadata": {},
     "output_type": "execute_result"
    }
   ],
   "source": [
    "import pandas as pd\n",
    "import numpy as np\n",
    "\n",
    "\n",
    "spam_df = pd.DataFrame(columns=['text'])\n",
    "spam_df.loc[len(spam_df)] = ['야 #@이름#아 너 번호 #@번호#이거맞지']\n",
    "spam_df.loc[len(spam_df)] = ['스팸이야ㅋㅋㅋ']\n",
    "spam_df.loc[len(spam_df)] = ['스팸이라니까']\n",
    "\n",
    "spam_df['label'] = 1\n",
    "spam_df\n",
    "\n",
    "df2 = pd.DataFrame(columns=['text'])\n",
    "df2.loc[len(df2)] = ['햄 #@하이#입니다.']\n",
    "df2.loc[len(df2)] = ['햄이야 하이입니다 #@이모티콘#']\n",
    "df2.loc[len(df2)] = ['햄이라니까']\n",
    "\n",
    "df2['label'] = 0\n",
    "df2\n",
    "\n",
    "result = pd.concat([spam_df,df2], ignore_index=True)\n",
    "result['text'] = result['text'].str.replace(\"#@(.+?)#|[^가-힣 ]\",\"\",regex=True)\n",
    "result"
   ]
  },
  {
   "cell_type": "code",
   "execution_count": null,
   "id": "7fddbceb",
   "metadata": {},
   "outputs": [],
   "source": []
  }
 ],
 "metadata": {
  "kernelspec": {
   "display_name": "Python 3 (ipykernel)",
   "language": "python",
   "name": "python3"
  },
  "language_info": {
   "codemirror_mode": {
    "name": "ipython",
    "version": 3
   },
   "file_extension": ".py",
   "mimetype": "text/x-python",
   "name": "python",
   "nbconvert_exporter": "python",
   "pygments_lexer": "ipython3",
   "version": "3.8.5"
  }
 },
 "nbformat": 4,
 "nbformat_minor": 5
}
