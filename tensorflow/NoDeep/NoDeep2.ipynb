{
 "cells": [
  {
   "cell_type": "code",
   "execution_count": 24,
   "id": "fa335229",
   "metadata": {},
   "outputs": [
    {
     "name": "stdout",
     "output_type": "stream",
     "text": [
      "여보세요 여보세요네 혹시 그 당근마켓 그 신발 판매 안 하시는 일 보고 전화 드렸는데요 나이키 나이키 조던 그거 15만원에 올리셨던데 그 혹시 좀 할인 안 될까요 제가 아직 학생이라서 돈이 많이 없는데 된다고 적어 놨는데 내 돼요 얼마까지 가능하신가요 얼마까지 마세요 마음 같아서는 15만원까지 15만 원 15만 원 할인 15만 원 어디 사시죠 혹시 저는 거주중입니다 그러면 15만 원에 내일 하시죠 직거래 하시는 건가요 하면 될 거 같아요 근데 지금 요새 코로나 가지고 만나기가 좀 걸어 지는데 혹시 계좌 번호 알려 주시면 제가 보내 드리면 안 되나요 그러면 택배비 내셔야 될 텐데 괜찮으신가요 택배비는 본인이 부담하시는 거 아니에요 아니 저거는 직거래를 원하는데 분께서는 택배로 하시다고 하시니까 그쪽에서 내셔야 줘 아 그러면 경산으로 와 주실 건가요 아니요 저기 그 중간에 만나면 되지 않을까요 근데 약간 걱정 돼 가지고 무서운 분이 나오시면 또 이제 큰일 나니까 아니요 그 당근마켓에 구매다 인증 이런 것도 있는데 아 보니까 청도 되게 좋더라구요 가지고 내 걱정 안 하셔도 됩니다 그러면 어디서 만날까요 그러면 어디 어디까지 올 수 있으신가요 혹시 월드컵 경기 대구스타디움 아세요 들어오는 봤어요 거기까지 가면 될까요 여기 오시면 제가 가겠습니다 아 그러면 일단 알겠습니다 그럼 하시는 건가요 그럼 바로 직거래 할까요 오늘은 제가 약속이 있어 가지고 제가 고소를 당해 가지고 오늘 경찰청에 가야 되는데 그거는 안 될 거 같고 아마 내일 내일은 가능할 것 같습니다 그러면 직장인이라서 내일 퇴근하고 6시 7시쯤 되시나요 그때쯤 그러면 저녁도 같이 함께할까요 아까 무서워 농담입니다 그럼 뭐 내일 6시에 7시 반에 대구스타디움 앞에서 직거래 하도록 그렇게 알고 있겠습니다 예 알겠습니다 감사합니다\n",
      "-----------------------------------------------------\n",
      "일반입니다\n"
     ]
    }
   ],
   "source": [
    "from konlpy.tag import Okt\n",
    "from collections import Counter\n",
    "from nltk.corpus import stopwords\n",
    "from nltk.tokenize import word_tokenize\n",
    "import speech_recognition as sr\n",
    "\n",
    "r = sr.Recognizer()\n",
    "harvard = sr.AudioFile('ham2.flac') # 100MB 용량 제한\n",
    "with harvard as source:\n",
    "    audio = r.record(source)\n",
    "\n",
    "t = r.recognize_google(audio, language='ko-KR')\n",
    "\n",
    "print(t)\n",
    "print('-----------------------------------------------------')\n",
    "\n",
    "okt = Okt()\n",
    "noun = okt.nouns(t) # 명사만 추출\n",
    "noun = list(set(noun))\n",
    "\n",
    "for v in noun[:]:\n",
    "    if len(v)<2:\n",
    "        noun.remove(v) # 한글자 명사 제거\n",
    "\n",
    "# 불용어 처리\n",
    "stopWords = ['','','']\n",
    "result = []\n",
    "boolean = 0\n",
    "for n in noun:\n",
    "    if n not in stopWords:\n",
    "        if n == '본인' or n == '지금' or n =='사건':\n",
    "            boolean += 1\n",
    "            \n",
    "if boolean > 2:\n",
    "    print('스팸입니다')\n",
    "else:\n",
    "    print('일반입니다')"
   ]
  }
 ],
 "metadata": {
  "kernelspec": {
   "display_name": "Python 3 (ipykernel)",
   "language": "python",
   "name": "python3"
  },
  "language_info": {
   "codemirror_mode": {
    "name": "ipython",
    "version": 3
   },
   "file_extension": ".py",
   "mimetype": "text/x-python",
   "name": "python",
   "nbconvert_exporter": "python",
   "pygments_lexer": "ipython3",
   "version": "3.8.5"
  }
 },
 "nbformat": 4,
 "nbformat_minor": 5
}
