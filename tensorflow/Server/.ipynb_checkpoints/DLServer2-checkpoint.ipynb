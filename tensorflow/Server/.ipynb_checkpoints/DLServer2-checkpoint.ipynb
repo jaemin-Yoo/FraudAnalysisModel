{
 "cells": [
  {
   "cell_type": "code",
   "execution_count": null,
   "id": "a614e63d",
   "metadata": {},
   "outputs": [
    {
     "name": "stdout",
     "output_type": "stream",
     "text": [
      "Listening\n",
      "('192.168.0.37', 7563)\n",
      "Connect by : 192.168.0.37 : 7563\n",
      "Receieve File : 통화 녹음 인턴 황재현_211001_112306.m4a\n",
      "File is saved [byte:20440]\n",
      "Send Data!\n"
     ]
    },
    {
     "name": "stderr",
     "output_type": "stream",
     "text": [
      "Exception ignored in thread started by: <function threaded at 0x0000026F3B85C1F0>\n",
      "Traceback (most recent call last):\n",
      "  File \"C:\\Users\\YH\\AppData\\Local\\Temp/ipykernel_15208/3465593251.py\", line 29, in threaded\n",
      "FileNotFoundError: [Errno 2] No such file or directory: ''\n"
     ]
    },
    {
     "name": "stdout",
     "output_type": "stream",
     "text": [
      "Receieve File : \n"
     ]
    }
   ],
   "source": [
    "import socket\n",
    "from _thread import *\n",
    "import time\n",
    "\n",
    "host = ''\n",
    "port = 50000\n",
    "\n",
    "server_socket = socket.socket(socket.AF_INET, socket.SOCK_STREAM)\n",
    "server_socket.setsockopt(socket.SOL_SOCKET, socket.SO_REUSEADDR, 1)\n",
    "server_socket.bind((host, port))\n",
    "server_socket.listen()\n",
    "print(\"Listening\")\n",
    "\n",
    "conn, addr = server_socket.accept()\n",
    "print('Connect by :', addr[0], ':', addr[1])\n",
    "\n",
    "data = conn.recv(1024)\n",
    "print(data)\n",
    "file_path = data.decode() # 첫 번째 수신은 파일명\n",
    "#file_path = file_path.replace(\"/\", \"\")\n",
    "print(file_path)\n",
    "print('Receieve File :',file_path)\n",
    "\n",
    "data_transferred = 0\n",
    "data = conn.recv(1024)\n",
    "with open(file_path, \"wb\") as f:\n",
    "    try:\n",
    "        while data:\n",
    "            f.write(data)\n",
    "            data_transferred += len(data)\n",
    "            data = conn.recv(1024)\n",
    "            if str(data).find(\"Complete\") != -1: # 파일 다 받으면 break\n",
    "                break\n",
    "    except Exception as ex:\n",
    "        print(ex)\n",
    "\n",
    "print(\"File is saved [byte:\"+str(data_transferred)+\"]\")\n",
    "\n",
    "txt = \"스팸입니다.\"\n",
    "sendData = txt\n",
    "conn.sendall(bytes(sendData,'UTF-8'))\n",
    "print('Send Data!')\n",
    "\n",
    "conn.close()\n",
    "server_socket.close()"
   ]
  }
 ],
 "metadata": {
  "kernelspec": {
   "display_name": "Python 3 (ipykernel)",
   "language": "python",
   "name": "python3"
  },
  "language_info": {
   "codemirror_mode": {
    "name": "ipython",
    "version": 3
   },
   "file_extension": ".py",
   "mimetype": "text/x-python",
   "name": "python",
   "nbconvert_exporter": "python",
   "pygments_lexer": "ipython3",
   "version": "3.8.5"
  }
 },
 "nbformat": 4,
 "nbformat_minor": 5
}
