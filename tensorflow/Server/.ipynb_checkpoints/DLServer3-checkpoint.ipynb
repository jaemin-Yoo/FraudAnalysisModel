{
 "cells": [
  {
   "cell_type": "code",
   "execution_count": null,
   "id": "99616929",
   "metadata": {},
   "outputs": [
    {
     "name": "stdout",
     "output_type": "stream",
     "text": [
      "Listening\n",
      "Connect by ('192.168.0.37', 8307)\n",
      "Receieve File : 통화 녹음 인턴 황재현_211001_113249.m4a\n",
      "File is saved [byte:57964]\n",
      "Send Data!\n",
      "Disconnected by ('192.168.0.37', 8307)\n"
     ]
    }
   ],
   "source": [
    "import socket\n",
    "import _thread\n",
    "import time\n",
    "\n",
    "\n",
    "def threaded(conn, addr, group):\n",
    "    print('Connect by',addr)\n",
    "    while True:\n",
    "        try:\n",
    "            data = conn.recv(1024)\n",
    "            if not data:\n",
    "                print('Disconnected by',addr)\n",
    "                group.remove(conn)\n",
    "                break\n",
    "\n",
    "            file_path = data.decode() # 첫 번째 수신은 파일명\n",
    "            print('Receieve File :',file_path)\n",
    "\n",
    "            data_transferred = 0\n",
    "            data = conn.recv(1024)\n",
    "            with open(file_path, \"wb\") as f:\n",
    "                try:\n",
    "                    while data:\n",
    "                        f.write(data)\n",
    "                        data_transferred += len(data)\n",
    "                        data = conn.recv(1024)\n",
    "                        if str(data).find(\"Complete\") != -1: # 파일 다 받으면 break\n",
    "                            break\n",
    "                except Exception as ex:\n",
    "                    print(ex)\n",
    "\n",
    "            print(\"File is saved [byte:\"+str(data_transferred)+\"]\")\n",
    "\n",
    "            txt = \"스팸입니다.\\n\"\n",
    "            sendData = txt\n",
    "            for c in group:\n",
    "                if c is conn:\n",
    "                    c.sendall(bytes(sendData,'UTF-8')) # 받은 데이터 파일을 보낸 Client에게만 전송\n",
    "                    print('Send Data!')\n",
    "        \n",
    "        except:\n",
    "            # 클라이언트 소켓 강제 종료 시 (ex : 네트워크 변경)\n",
    "            print('예외발생')\n",
    "            print('Disconnected by',addr)\n",
    "            group.remove(conn)\n",
    "            break\n",
    "    conn.close()\n",
    "    \n",
    "host = ''\n",
    "port = 50000\n",
    "\n",
    "server_socket = socket.socket(socket.AF_INET, socket.SOCK_STREAM)\n",
    "server_socket.setsockopt(socket.SOL_SOCKET, socket.SO_REUSEADDR, 1)\n",
    "server_socket.bind((host, port))\n",
    "server_socket.listen()\n",
    "print(\"Listening\")\n",
    "\n",
    "group = []\n",
    "while True:\n",
    "    conn, addr = server_socket.accept()\n",
    "    group.append(conn)\n",
    "    _thread.start_new_thread(threaded, (conn, addr, group))\n",
    "    \n",
    "server_socket.close()\n",
    "print('서버 종료')"
   ]
  }
 ],
 "metadata": {
  "kernelspec": {
   "display_name": "Python 3 (ipykernel)",
   "language": "python",
   "name": "python3"
  },
  "language_info": {
   "codemirror_mode": {
    "name": "ipython",
    "version": 3
   },
   "file_extension": ".py",
   "mimetype": "text/x-python",
   "name": "python",
   "nbconvert_exporter": "python",
   "pygments_lexer": "ipython3",
   "version": "3.8.5"
  }
 },
 "nbformat": 4,
 "nbformat_minor": 5
}
