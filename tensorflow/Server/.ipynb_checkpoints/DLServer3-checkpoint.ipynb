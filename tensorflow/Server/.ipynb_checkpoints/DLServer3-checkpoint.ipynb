{
 "cells": [
  {
   "cell_type": "code",
   "execution_count": null,
   "id": "1e3ea35e",
   "metadata": {},
   "outputs": [
    {
     "name": "stdout",
     "output_type": "stream",
     "text": [
      "Listening\n"
     ]
    }
   ],
   "source": [
    "import socket\n",
    "from _thread import *\n",
    "import time\n",
    "\n",
    "host = ''\n",
    "port = 50000\n",
    "\n",
    "server_socket = socket.socket(socket.AF_INET, socket.SOCK_STREAM)\n",
    "server_socket.setsockopt(socket.SOL_SOCKET, socket.SO_REUSEADDR, 1)\n",
    "server_socket.bind((host, port))\n",
    "server_socket.listen()\n",
    "print(\"Listening\")\n",
    "\n",
    "\n",
    "def threaded(conn, addr):\n",
    "    print('Connect by :', addr[0], ':', addr[1])\n",
    "\n",
    "    try:\n",
    "        while True:\n",
    "            data = conn.recv(1024)                \n",
    "            file_path = data.decode() # 첫 번째 수신은 파일명\n",
    "            if file_path is None:\n",
    "                break\n",
    "\n",
    "            print('Receieve File :',file_path)\n",
    "\n",
    "            data_transferred = 0\n",
    "            data = conn.recv(1024)\n",
    "            with open(file_path, \"wb\") as f:\n",
    "                try:\n",
    "                    while data:\n",
    "                        f.write(data)\n",
    "                        data_transferred += len(data)\n",
    "                        data = conn.recv(1024)\n",
    "                        if str(data).find(\"Complete\") != -1: # 파일 다 받으면 break\n",
    "                            break\n",
    "                except Exception as ex:\n",
    "                    print(ex)\n",
    "\n",
    "            print(\"File is saved [byte:\"+str(data_transferred)+\"]\")\n",
    "\n",
    "            txt = \"스팸입니다.\"\n",
    "            sendData = txt\n",
    "            conn.sendall(bytes(sendData,'UTF-8'))\n",
    "            print('Send Data!')\n",
    "    except KeyboardInterrupt:\n",
    "        conn.close()\n",
    "        server_socket.close()\n",
    "        print('서버 종료')\n",
    "\n",
    "while True:\n",
    "    conn, addr = server_socket.accept()\n",
    "    print(addr)\n",
    "    start_new_thread(threaded, (conn, addr, ))"
   ]
  }
 ],
 "metadata": {
  "kernelspec": {
   "display_name": "Python 3 (ipykernel)",
   "language": "python",
   "name": "python3"
  },
  "language_info": {
   "codemirror_mode": {
    "name": "ipython",
    "version": 3
   },
   "file_extension": ".py",
   "mimetype": "text/x-python",
   "name": "python",
   "nbconvert_exporter": "python",
   "pygments_lexer": "ipython3",
   "version": "3.8.5"
  }
 },
 "nbformat": 4,
 "nbformat_minor": 5
}
