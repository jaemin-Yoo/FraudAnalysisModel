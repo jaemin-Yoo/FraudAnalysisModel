{
 "cells": [
  {
   "cell_type": "code",
   "execution_count": 7,
   "id": "a614e63d",
   "metadata": {},
   "outputs": [
    {
     "name": "stdout",
     "output_type": "stream",
     "text": [
      "Listening\n",
      "Connect by : 192.168.0.37 : 8705\n",
      "b'\\xed\\x86\\xb5\\xed\\x99\\x94 \\xeb\\x85\\xb9\\xec\\x9d\\x8c \\xec\\x9d\\xb8\\xed\\x84\\xb4 \\xed\\x99\\xa9\\xec\\x9e\\xac\\xed\\x98\\x84_211001_150113.m4a/49971'\n",
      "Receive File Path: 통화 녹음 인턴 황재현_211001_150113.m4a\n",
      "Receive File Size: 49971\n",
      "File is saved [byte:49971]\n",
      "Send Data!\n"
     ]
    }
   ],
   "source": [
    "import socket\n",
    "from _thread import *\n",
    "import time\n",
    "\n",
    "host = ''\n",
    "port = 50000\n",
    "\n",
    "server_socket = socket.socket(socket.AF_INET, socket.SOCK_STREAM)\n",
    "server_socket.setsockopt(socket.SOL_SOCKET, socket.SO_REUSEADDR, 1)\n",
    "server_socket.bind((host, port))\n",
    "server_socket.listen()\n",
    "print(\"Listening\")\n",
    "\n",
    "conn, addr = server_socket.accept()\n",
    "print('Connect by :', addr[0], ':', addr[1])\n",
    "\n",
    "data = conn.recv(1024)\n",
    "print(data)\n",
    "file_info = data.decode() # 첫 번째 수신은 파일명\n",
    "file_path, file_size = file_info.split(\"/\")\n",
    "\n",
    "print('Receive File Path:',file_path)\n",
    "print('Receive File Size:',file_size)\n",
    "\n",
    "data = conn.recv(1024)\n",
    "data_transferred = len(data)\n",
    "with open(file_path, \"wb\") as f:\n",
    "    try:\n",
    "        while data:\n",
    "            f.write(data)\n",
    "            data = conn.recv(1024)\n",
    "            data_transferred += len(data)\n",
    "            \n",
    "            if data_transferred == int(file_size): # 파일 다 받으면 break\n",
    "                f.write(data)\n",
    "                break\n",
    "                \n",
    "    except Exception as ex:\n",
    "        print(ex)\n",
    "\n",
    "print(\"File is saved [byte:\"+str(data_transferred)+\"]\")\n",
    "\n",
    "txt = \"스팸입니다.\"\n",
    "sendData = txt\n",
    "conn.sendall(bytes(sendData,'UTF-8'))\n",
    "print('Send Data!')\n",
    "\n",
    "conn.close()\n",
    "server_socket.close()"
   ]
  }
 ],
 "metadata": {
  "kernelspec": {
   "display_name": "Python 3 (ipykernel)",
   "language": "python",
   "name": "python3"
  },
  "language_info": {
   "codemirror_mode": {
    "name": "ipython",
    "version": 3
   },
   "file_extension": ".py",
   "mimetype": "text/x-python",
   "name": "python",
   "nbconvert_exporter": "python",
   "pygments_lexer": "ipython3",
   "version": "3.8.5"
  }
 },
 "nbformat": 4,
 "nbformat_minor": 5
}
