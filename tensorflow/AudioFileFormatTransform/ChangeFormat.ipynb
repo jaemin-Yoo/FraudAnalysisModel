{
 "cells": [
  {
   "cell_type": "code",
   "execution_count": 4,
   "id": "63d30747",
   "metadata": {},
   "outputs": [
    {
     "data": {
      "text/plain": [
       "<_io.BufferedRandom name='spam1.flac'>"
      ]
     },
     "execution_count": 4,
     "metadata": {},
     "output_type": "execute_result"
    }
   ],
   "source": [
    "from pydub import AudioSegment\n",
    "\n",
    "recording = AudioSegment.from_file(\"통화 녹음 인턴유재민_211014_095757.m4a\")\n",
    "\n",
    "recording = recording + 5\n",
    "\n",
    "recording.export('spam1.flac', format='flac', parameters=[\"-q:a\", \"10\", \"-ac\", \"1\"])"
   ]
  }
 ],
 "metadata": {
  "kernelspec": {
   "display_name": "Python 3 (ipykernel)",
   "language": "python",
   "name": "python3"
  },
  "language_info": {
   "codemirror_mode": {
    "name": "ipython",
    "version": 3
   },
   "file_extension": ".py",
   "mimetype": "text/x-python",
   "name": "python",
   "nbconvert_exporter": "python",
   "pygments_lexer": "ipython3",
   "version": "3.8.5"
  }
 },
 "nbformat": 4,
 "nbformat_minor": 5
}
