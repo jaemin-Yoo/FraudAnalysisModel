{
 "cells": [
  {
   "cell_type": "code",
   "execution_count": 3,
   "id": "7a202b02",
   "metadata": {},
   "outputs": [
    {
     "name": "stdout",
     "output_type": "stream",
     "text": [
      "아들 하나만 놔둘\n"
     ]
    }
   ],
   "source": [
    "import speech_recognition as sr\n",
    "from pydub import AudioSegment\n",
    "\n",
    "recording = AudioSegment.from_file(\"test.m4a\")\n",
    "\n",
    "recording = recording + 6 # 볼륨 향상\n",
    "\n",
    "recording.export('result.flac', format='flac', parameters=[\"-q:a\", \"10\", \"-ac\", \"1\"])\n",
    "\n",
    "r = sr.Recognizer()\n",
    "harvard = sr.AudioFile('result.flac') # 10MB 용량 제한\n",
    "with harvard as source:\n",
    "    audio = r.record(source)\n",
    "\n",
    "txt = r.recognize_google(audio, language='ko-KR')\n",
    "print(txt)"
   ]
  }
 ],
 "metadata": {
  "kernelspec": {
   "display_name": "Python 3 (ipykernel)",
   "language": "python",
   "name": "python3"
  },
  "language_info": {
   "codemirror_mode": {
    "name": "ipython",
    "version": 3
   },
   "file_extension": ".py",
   "mimetype": "text/x-python",
   "name": "python",
   "nbconvert_exporter": "python",
   "pygments_lexer": "ipython3",
   "version": "3.8.5"
  }
 },
 "nbformat": 4,
 "nbformat_minor": 5
}
