{
 "cells": [
  {
   "cell_type": "markdown",
   "metadata": {},
   "source": [
    "# Project: LSTM_module\n",
    "\n",
    "LSTM을 활용한 보이스피싱 탐지 모듈 개발"
   ]
  },
  {
   "cell_type": "markdown",
   "metadata": {},
   "source": [
    "## 순서\n",
    "1. import: 필요한 모듈 import\n",
    "2. 데이터 셋 불러오기(load)\n",
    "2. 전처리: 학습에 필요한 데이터 전처리 수행\n",
    "3. 모델링(model): 모델 정의\n",
    "4. 컴파일(compile): 모델 생성\n",
    "5. 학습(fit): 모델 학습"
   ]
  },
  {
   "cell_type": "markdown",
   "metadata": {},
   "source": [
    "## 모듈 import"
   ]
  },
  {
   "cell_type": "code",
   "execution_count": 224,
   "metadata": {},
   "outputs": [],
   "source": [
    "import os\n",
    "\n",
    "import json\n",
    "import pickle\n",
    "import re\n",
    "\n",
    "import pandas as pd\n",
    "import numpy as np\n",
    "\n",
    "%matplotlib inline\n",
    "import matplotlib.pyplot as plt\n",
    "\n",
    "from konlpy.tag import Okt\n",
    "from tensorflow.keras.preprocessing.text import Tokenizer\n",
    "from tensorflow.keras.preprocessing.sequence import pad_sequences\n",
    "from sklearn.metrics import accuracy_score\n",
    "from sklearn.model_selection import train_test_split\n",
    "from collections import Counter\n",
    "\n",
    "from tensorflow.keras.layers import Embedding, Dense, LSTM, Bidirectional\n",
    "from tensorflow.keras.models import Sequential\n",
    "from tensorflow.keras.models import load_model\n",
    "from tensorflow.keras.callbacks import EarlyStopping, ModelCheckpoint"
   ]
  },
  {
   "cell_type": "markdown",
   "metadata": {},
   "source": [
    "## 파일 이름 선언\n",
    "\n",
    "필요 변수, 모델, 토큰 객체 등 파일 이름 선언"
   ]
  },
  {
   "cell_type": "code",
   "execution_count": 225,
   "metadata": {},
   "outputs": [],
   "source": [
    "file_name = \"LSTM_module_ver4.0\""
   ]
  },
  {
   "cell_type": "markdown",
   "metadata": {},
   "source": [
    "## 데이터 셋 불러오기\n",
    "\n",
    "빈 list 생성"
   ]
  },
  {
   "cell_type": "code",
   "execution_count": 226,
   "metadata": {},
   "outputs": [],
   "source": [
    "spam_X = []\n",
    "spam_temp = []\n",
    "ham_X = []\n",
    "ham_temp = []"
   ]
  },
  {
   "cell_type": "markdown",
   "metadata": {},
   "source": [
    "* `ham_count`: 일반 데이터 개수 제한\n",
    "* `min_data`: 텍스트 데이터 최소 길이\n",
    "* `data_length`: 텍스트 데이터 일반 길이"
   ]
  },
  {
   "cell_type": "code",
   "execution_count": 227,
   "metadata": {},
   "outputs": [],
   "source": [
    "ham_count = 10000\n",
    "min_data = 10\n",
    "data_length = 100"
   ]
  },
  {
   "cell_type": "markdown",
   "metadata": {},
   "source": [
    "보이스피싱 통화 데이터 가져오기"
   ]
  },
  {
   "cell_type": "code",
   "execution_count": 228,
   "metadata": {},
   "outputs": [],
   "source": [
    "path = 'fraudDataset/spamData/'\n",
    "path1 = os.listdir(path)\n",
    "for a in path1:\n",
    "    path2 = path+a\n",
    "    with open(path2, 'r', encoding='utf-8') as f:\n",
    "        contents = f.read()\n",
    "        contents = re.sub(\"\\n\",\" \",contents)\n",
    "        contents = re.sub(\"사회자 :|피해자 :|\\((.+?)\\)|네|[^가-힣 ]\", \"\", contents) # 특수문자 제거\n",
    "        spam_temp.append(contents)"
   ]
  },
  {
   "cell_type": "markdown",
   "metadata": {},
   "source": [
    "일반 통화 데이터 가져오기"
   ]
  },
  {
   "cell_type": "code",
   "execution_count": 229,
   "metadata": {},
   "outputs": [],
   "source": [
    "contents = \"\"\n",
    "path = 'fraudDataset/hamData_counselor/'\n",
    "path1 = os.listdir(path)\n",
    "for a in path1:\n",
    "    \n",
    "    if len(ham_temp) > ham_count:\n",
    "        break\n",
    "    \n",
    "    path2 = os.listdir(path+a)\n",
    "    for b in path2:\n",
    "        \n",
    "        if len(ham_temp) > ham_count:\n",
    "            break\n",
    "        \n",
    "        path3 = os.listdir(path+a+'/'+b)\n",
    "        for c in path3:\n",
    "            \n",
    "            if len(ham_temp) > ham_count:\n",
    "                break\n",
    "                    \n",
    "            path4 = os.listdir(path+a+'/'+b+'/'+c)\n",
    "            for d in path4:\n",
    "                \n",
    "                if len(ham_temp) > ham_count:\n",
    "                    break\n",
    "                \n",
    "                path5 = os.listdir(path+a+'/'+b+'/'+c+'/'+d)\n",
    "                for e in path5:\n",
    "                    \n",
    "                    if len(ham_temp) > ham_count:\n",
    "                        break\n",
    "                    \n",
    "                    path6 = os.listdir(path+a+'/'+b+'/'+c+'/'+d+'/'+e)\n",
    "\n",
    "                    if len(contents) > min_data:\n",
    "                        ham_temp.append(contents)\n",
    "\n",
    "                    contents = \"\"\n",
    "                    for f in path6:\n",
    "                        \n",
    "                        if len(ham_temp) > ham_count:\n",
    "                            break\n",
    "                        \n",
    "                        if f.split(\".\")[1] == \"txt\":\n",
    "                            path7 = path+a+'/'+b+'/'+c+'/'+d+'/'+e+'/'+f\n",
    "                        else:\n",
    "                            continue\n",
    "                        with open(path7, \"r\", encoding=\"UTF-8\") as f:\n",
    "                            text = f.read()\n",
    "                            text = re.sub(\"\\n\",\" \",text)\n",
    "                            text = re.sub(\"#@(.+?)#|네|[^가-힣 ]\", \"\", text) # 특수문자 제거\n",
    "\n",
    "                        contents += text+\" \"\n",
    "                        if len(contents) > data_length:\n",
    "                            ham_temp.append(contents)\n",
    "                            contents = \"\"\n",
    "                            \n",
    "ham_X = ham_temp"
   ]
  },
  {
   "cell_type": "markdown",
   "metadata": {},
   "source": [
    "피싱 데이터 1개 출력"
   ]
  },
  {
   "cell_type": "code",
   "execution_count": 230,
   "metadata": {
    "scrolled": true
   },
   "outputs": [
    {
     "data": {
      "text/plain": [
       "'예 누구라고요 서울중앙지검이라고요 검찰청입니다   본인 그 명의저용 사건 관련해서 몇 가지만 사실 확인차 연락을 드린 겁니다  잠시 통화는 괜찮습니까   본인 혹시 그 서울 노원구 출신인 이창배라고 혹시 알고 계십니까  이창배라고 혹시 알고 계십니까 이창씨 여 들어본 것 같은데요 어디서 들어보셨어요 어 어서 제 아는 사람 중에 하나 있는 것 같은데  예 그 아이가 어떤 지십니까 나이가 지금 몇 살이 됐지 한 열 십 된 걸로 알고 있는데요  대요 예예 열여덟 살 저는 삼십구세 남성을 말씀드리는 겁니다  그래요 거기 아닌가 본데요 그럼 이 사람 전직 농협은행 직원이었습니다 그리고 세 남성이고요   왜냐하면은 저희 수사 기관에서 이창배를 중심으로 한 금융범죄 사기단을 권고를 했습니다 다 검거 당시 다량의 대포통장과 위조된 신분증을 압수 했습니다 그중에서 본인 명의로 된 농협은행 통장이랑 신한은행 통장 주점이 같이 발견이 되었습니다  신한은행도 발견됐어요  농협은행 신한은행입니다 신한은행 거래 안 한 지 오래됐는데 저는 뭐 김 본인께서 거래하고 계시는 은행권을 여쭤보는 게 아니라 저희가 압수한 대포통장에 대해서 말씀을 드리고 있는 겁니다   언제 개설이 되셨냐면 년 월 일 서울 노원구에 있는 불암지점이랑 중계동 지점에서 개설이 되셨거든요   본인께서 직접 개설하신 계좌가 아니라는 말씀이신 거죠  그렇죠 저는 신한은행을 들어가 본 적이 없어가지고요  혹시 본인 대포통장이 어떤 건지는 알고 계십니까  대프가 저기 큰 거 아닌가요 어떤 거요  큰 통장이라고 말씀하는 게 아니라 이 범죄자들이 다른 사람 명의를 도용을 해서 통장을 불법적으로 개설을 하는 겁니다  그리고 그 통장을 가지고 사기를 치는 거죠  그래서 그 큰 금액만 들어가는 통장이  대포 통장 아니야 사기를 치는 통장이 범죄에 이용하는 게 대포 통장입니다  그게 대포통장이구나   지금 본인 명의의 통장으로 인해서 다시 피해자분들이 발생한 사건이고요    이창가라는 사람이 진술했을 때는 어떤 사람들은 총장 돈을 통장을 판매를 하신 분들도 계시다라고 진술을 해 주셨는데 지금 본인께서도 통장을 판매를 한 적이 있는지 아니면은 명의도용을 당하신 피해자 신분인지  일단은 저희가 그 부분에 대해서 조사차 연락드린 겁니다  제가 저를 조사하신다고요  왜냐하면 본인 명의 통장이 범죄에 이어 이셨기 때문에 본인께서 피해자가 맞다라고 하면은 그에 대한 피해자 입증 조사 받으셔야 되세요  조사를 안 받으면 어떻게 되죠 카드면 나중에 본인 손해배상 책임에도 연루가 되실 수가 있습니다  받기 싫으시면은 그냥 공문장 보내드릴 테니까 기재된 날짜에 그냥 저희 쪽에 나와서 조사받으세요 그러시면  그럼 그럼 수사 받을게요 조사 받아야죠  전화로 하시는 겁니까 지금 아니요 아니 수사를 안 하면 저한테 연루 이런 거 온다면서요  조사받아야죠 그러니까 보님께서 나와서 조사를 받으시겠는지 아니면 저희가 약식 녹취 조사로 진행 가능하기 때문에 그렇게 진행할 건지 여쭤보는 겁니다  그럼 지금 조사하시는 건가요  빨리 하시죠'"
      ]
     },
     "execution_count": 230,
     "metadata": {},
     "output_type": "execute_result"
    }
   ],
   "source": [
    "spam_temp[0]"
   ]
  },
  {
   "cell_type": "markdown",
   "metadata": {},
   "source": [
    "일반 데이터 5개 출력"
   ]
  },
  {
   "cell_type": "code",
   "execution_count": 231,
   "metadata": {
    "scrolled": true
   },
   "outputs": [
    {
     "data": {
      "text/plain": [
       "['그럼 기기가 등록되었나 확인 부탁드립니다 다른 문의사항 더 없으십니까  그러셨군요 아 여기 설명 보니까 메인 기기 하나를 등록하고 결제를 진행한 후에 나머지 기기 추가가 가능하다고 되어있요 그럼 그렇게 하면 될 것 같아요 ',\n",
       " '아 그렇군요 그럼 지금 전화 통화하면서 기기 등록할게요 기기 등록은 제가 직접 접 하면 되는 건가요 아니면 혹시 원격으로 도와주시기도 하나요  빨리 좀 부탁드려요 제가 여기 전화드리기 전에 챗봇 상담에 먼저 카톡을 보냈었거든요 한국어학원 요즘 고객센터 연결도 잘 안 되고 코로나로 상담시간 단축해서 챗봇으로 웬만한 건 다 해결할 수 있다고 해서 그냥 챗봇에 먼저 문의 카톡 보냈었는데 챗봇에 기본으로 탑재되어있는 설명 목록 어 뭐라고 설명을 드려야 하지 ',\n",
       " ' 그럼 제가 지금 진행할게요 기기 등록은 하나만 가능한가요 아이디랑 계정 당 하나씩만 가능한가요 제가 평소에 집에서는 노트북이나 피씨로 들을 건데 밖에 나가는 경우에는 모바일이나 태블릿 피씨로 들을 거 같은데 그럼 적어도 기기를 개 개는 등록해야 하는 건가요 ',\n",
       " '어 지금 팝업창 클릭해봤는데 이미 설치된 프로그램이라고 덮어 씌우거나 기존에 설치되었는 프로그램을 삭제하고 다시 설치하겠냐는 문구가 뜨요 그건 이미 프로그램이 설치되어있는 거 아닌가요 그럼 설치 관련 문제는 아닌 거 같은데요 ',\n",
       " '설치가 되어있을 텐데 여기 한국어학원에서만 단독으로 쓰는 결제 프로그램은 아닐 거잖아요 다른 쇼핑몰이나 플랫폼에서 결제할 때 프로그램 결제한 적 있는 것 같은데 어떤 설치 프로그램 말씀하시는 거죠 인강 스트리밍이나 다운로드할 때 필요한 프로그램 말씀하시는 건가요 그거라면 전부 설치했던 것 같은데요 ']"
      ]
     },
     "execution_count": 231,
     "metadata": {},
     "output_type": "execute_result"
    }
   ],
   "source": [
    "ham_temp[:5]"
   ]
  },
  {
   "cell_type": "markdown",
   "metadata": {},
   "source": [
    "## 텍스트 데이터 분리\n",
    "\n",
    "**findIndex**: 문장이 끝나는 부분의 index값을 찾기위한 함수"
   ]
  },
  {
   "cell_type": "code",
   "execution_count": 232,
   "metadata": {},
   "outputs": [],
   "source": [
    "def findIndex(data_list, split_list, start_index):\n",
    "    index_list = []\n",
    "    for i in split_list:\n",
    "        index = data_list.find(i, start_index)\n",
    "        index_list.append(index)\n",
    "        \n",
    "    index_list = [i for i in index_list if i not in [-1]]\n",
    "    if index_list == []:\n",
    "        return -1\n",
    "    \n",
    "    index = min(index_list)\n",
    "    \n",
    "    return index     "
   ]
  },
  {
   "cell_type": "markdown",
   "metadata": {},
   "source": [
    "* `split_list`: 문장 단위로 분리하기 위한 글자 리스트"
   ]
  },
  {
   "cell_type": "code",
   "execution_count": 233,
   "metadata": {},
   "outputs": [],
   "source": [
    "split_list = ['다 ','요 ','죠 ', '까 ']"
   ]
  },
  {
   "cell_type": "markdown",
   "metadata": {},
   "source": [
    "`data_length` 값 이후에 `split_list` 에 있는 문자가 나오면 자르기 (스팸 데이터)"
   ]
  },
  {
   "cell_type": "code",
   "execution_count": 234,
   "metadata": {},
   "outputs": [],
   "source": [
    "for t in spam_temp:\n",
    "    index = findIndex(t, split_list, data_length)\n",
    "        \n",
    "    i = 0\n",
    "    while index != -1:\n",
    "        x = t[i:index+2]\n",
    "        spam_X.append(x)\n",
    "        \n",
    "        i = index+2\n",
    "        index = findIndex(t, split_list, i+data_length)\n",
    "    else:\n",
    "        x = t[i:]\n",
    "        if len(x) > min_data:\n",
    "            spam_X.append(x) # 텍스트 마지막 부분 추가"
   ]
  },
  {
   "cell_type": "markdown",
   "metadata": {},
   "source": [
    "## 전처리: 데이터 길이 제한\n",
    "\n",
    "길이가 min 미만 데이터 삭제 후 중복 제거"
   ]
  },
  {
   "cell_type": "code",
   "execution_count": 235,
   "metadata": {},
   "outputs": [
    {
     "data": {
      "text/plain": [
       "54"
      ]
     },
     "execution_count": 235,
     "metadata": {},
     "output_type": "execute_result"
    }
   ],
   "source": [
    "spam_df = pd.DataFrame(spam_X, columns=['text'])\n",
    "spam_df.drop(spam_df[spam_df['text'].str.len() < min_data].index, inplace=True) # 길이가 min_data 미만인 데이터 삭제\n",
    "spam_df.shape[0] - spam_df['text'].nunique() # 중복 개수"
   ]
  },
  {
   "cell_type": "code",
   "execution_count": 236,
   "metadata": {},
   "outputs": [
    {
     "data": {
      "text/plain": [
       "564"
      ]
     },
     "execution_count": 236,
     "metadata": {},
     "output_type": "execute_result"
    }
   ],
   "source": [
    "ham_df = pd.DataFrame(ham_X, columns=['text'])\n",
    "ham_df.drop(ham_df[ham_df['text'].str.len() < min_data].index, inplace=True) # 길이가 min_data 미만인 데이터 삭제\n",
    "ham_df.shape[0] - ham_df['text'].nunique() # 중복 개수"
   ]
  },
  {
   "cell_type": "code",
   "execution_count": 237,
   "metadata": {
    "scrolled": true
   },
   "outputs": [
    {
     "data": {
      "text/html": [
       "<div>\n",
       "<style scoped>\n",
       "    .dataframe tbody tr th:only-of-type {\n",
       "        vertical-align: middle;\n",
       "    }\n",
       "\n",
       "    .dataframe tbody tr th {\n",
       "        vertical-align: top;\n",
       "    }\n",
       "\n",
       "    .dataframe thead th {\n",
       "        text-align: right;\n",
       "    }\n",
       "</style>\n",
       "<table border=\"1\" class=\"dataframe\">\n",
       "  <thead>\n",
       "    <tr style=\"text-align: right;\">\n",
       "      <th></th>\n",
       "      <th>text</th>\n",
       "      <th>label</th>\n",
       "    </tr>\n",
       "  </thead>\n",
       "  <tbody>\n",
       "    <tr>\n",
       "      <td>0</td>\n",
       "      <td>예 누구라고요 서울중앙지검이라고요 검찰청입니다   본인 그 명의저용 사건 관련해서 ...</td>\n",
       "      <td>1</td>\n",
       "    </tr>\n",
       "    <tr>\n",
       "      <td>1</td>\n",
       "      <td>이창배라고 혹시 알고 계십니까 이창씨 여 들어본 것 같은데요 어디서 들어보셨어요 ...</td>\n",
       "      <td>1</td>\n",
       "    </tr>\n",
       "    <tr>\n",
       "      <td>2</td>\n",
       "      <td>대요 예예 열여덟 살 저는 삼십구세 남성을 말씀드리는 겁니다  그래요 거기 아닌가...</td>\n",
       "      <td>1</td>\n",
       "    </tr>\n",
       "    <tr>\n",
       "      <td>3</td>\n",
       "      <td>다 검거 당시 다량의 대포통장과 위조된 신분증을 압수 했습니다 그중에서 본인 명의로...</td>\n",
       "      <td>1</td>\n",
       "    </tr>\n",
       "    <tr>\n",
       "      <td>4</td>\n",
       "      <td>신한은행 거래 안 한 지 오래됐는데 저는 뭐 김 본인께서 거래하고 계시는 은행권을 ...</td>\n",
       "      <td>1</td>\n",
       "    </tr>\n",
       "    <tr>\n",
       "      <td>...</td>\n",
       "      <td>...</td>\n",
       "      <td>...</td>\n",
       "    </tr>\n",
       "    <tr>\n",
       "      <td>4309</td>\n",
       "      <td>예 저는 다른 피해자분들 계속 도움을 드려야 되요  일단은 그럼 분 뒤에 다시 전...</td>\n",
       "      <td>1</td>\n",
       "    </tr>\n",
       "    <tr>\n",
       "      <td>4310</td>\n",
       "      <td>메모지를 찾아봐야 되거든요 아니면 제가 은행 가서 물어 봐야 될 수도 있고요  제...</td>\n",
       "      <td>1</td>\n",
       "    </tr>\n",
       "    <tr>\n",
       "      <td>4311</td>\n",
       "      <td>일단 제가요 은행에도 물어봐야 이  지금 내가 전화를 해가 다시 은행에 물어보고 ...</td>\n",
       "      <td>1</td>\n",
       "    </tr>\n",
       "    <tr>\n",
       "      <td>4312</td>\n",
       "      <td>저희가 분 뒤에 연락드려도 제가 연결이 안 될 거예요 그러시고 본인이 지금 말씀해...</td>\n",
       "      <td>1</td>\n",
       "    </tr>\n",
       "    <tr>\n",
       "      <td>4313</td>\n",
       "      <td>일단 좀 끊어보고요 제가 이거 한 번 더 찾아볼게요  본인 마음대로 다 하세요 지...</td>\n",
       "      <td>1</td>\n",
       "    </tr>\n",
       "  </tbody>\n",
       "</table>\n",
       "<p>4260 rows × 2 columns</p>\n",
       "</div>"
      ],
      "text/plain": [
       "                                                   text  label\n",
       "0     예 누구라고요 서울중앙지검이라고요 검찰청입니다   본인 그 명의저용 사건 관련해서 ...      1\n",
       "1      이창배라고 혹시 알고 계십니까 이창씨 여 들어본 것 같은데요 어디서 들어보셨어요 ...      1\n",
       "2      대요 예예 열여덟 살 저는 삼십구세 남성을 말씀드리는 겁니다  그래요 거기 아닌가...      1\n",
       "3     다 검거 당시 다량의 대포통장과 위조된 신분증을 압수 했습니다 그중에서 본인 명의로...      1\n",
       "4     신한은행 거래 안 한 지 오래됐는데 저는 뭐 김 본인께서 거래하고 계시는 은행권을 ...      1\n",
       "...                                                 ...    ...\n",
       "4309   예 저는 다른 피해자분들 계속 도움을 드려야 되요  일단은 그럼 분 뒤에 다시 전...      1\n",
       "4310   메모지를 찾아봐야 되거든요 아니면 제가 은행 가서 물어 봐야 될 수도 있고요  제...      1\n",
       "4311   일단 제가요 은행에도 물어봐야 이  지금 내가 전화를 해가 다시 은행에 물어보고 ...      1\n",
       "4312   저희가 분 뒤에 연락드려도 제가 연결이 안 될 거예요 그러시고 본인이 지금 말씀해...      1\n",
       "4313   일단 좀 끊어보고요 제가 이거 한 번 더 찾아볼게요  본인 마음대로 다 하세요 지...      1\n",
       "\n",
       "[4260 rows x 2 columns]"
      ]
     },
     "execution_count": 237,
     "metadata": {},
     "output_type": "execute_result"
    }
   ],
   "source": [
    "spam_df.drop_duplicates(subset=['text'], inplace=True) # 중복 제거\n",
    "spam_df['label'] = 1\n",
    "\n",
    "spam_df"
   ]
  },
  {
   "cell_type": "code",
   "execution_count": 238,
   "metadata": {},
   "outputs": [
    {
     "data": {
      "text/html": [
       "<div>\n",
       "<style scoped>\n",
       "    .dataframe tbody tr th:only-of-type {\n",
       "        vertical-align: middle;\n",
       "    }\n",
       "\n",
       "    .dataframe tbody tr th {\n",
       "        vertical-align: top;\n",
       "    }\n",
       "\n",
       "    .dataframe thead th {\n",
       "        text-align: right;\n",
       "    }\n",
       "</style>\n",
       "<table border=\"1\" class=\"dataframe\">\n",
       "  <thead>\n",
       "    <tr style=\"text-align: right;\">\n",
       "      <th></th>\n",
       "      <th>text</th>\n",
       "      <th>label</th>\n",
       "    </tr>\n",
       "  </thead>\n",
       "  <tbody>\n",
       "    <tr>\n",
       "      <td>0</td>\n",
       "      <td>그럼 기기가 등록되었나 확인 부탁드립니다 다른 문의사항 더 없으십니까  그러셨군요 ...</td>\n",
       "      <td>0</td>\n",
       "    </tr>\n",
       "    <tr>\n",
       "      <td>1</td>\n",
       "      <td>아 그렇군요 그럼 지금 전화 통화하면서 기기 등록할게요 기기 등록은 제가 직접 접 ...</td>\n",
       "      <td>0</td>\n",
       "    </tr>\n",
       "    <tr>\n",
       "      <td>2</td>\n",
       "      <td>그럼 제가 지금 진행할게요 기기 등록은 하나만 가능한가요 아이디랑 계정 당 하나씩...</td>\n",
       "      <td>0</td>\n",
       "    </tr>\n",
       "    <tr>\n",
       "      <td>3</td>\n",
       "      <td>어 지금 팝업창 클릭해봤는데 이미 설치된 프로그램이라고 덮어 씌우거나 기존에 설치되...</td>\n",
       "      <td>0</td>\n",
       "    </tr>\n",
       "    <tr>\n",
       "      <td>4</td>\n",
       "      <td>설치가 되어있을 텐데 여기 한국어학원에서만 단독으로 쓰는 결제 프로그램은 아닐 거잖...</td>\n",
       "      <td>0</td>\n",
       "    </tr>\n",
       "    <tr>\n",
       "      <td>...</td>\n",
       "      <td>...</td>\n",
       "      <td>...</td>\n",
       "    </tr>\n",
       "    <tr>\n",
       "      <td>9996</td>\n",
       "      <td>남 씨가 영어 영상 전화로 회화 배우는 거 맞죠   감사합니다  자녀 중 한 분만...</td>\n",
       "      <td>0</td>\n",
       "    </tr>\n",
       "    <tr>\n",
       "      <td>9997</td>\n",
       "      <td>있습니다   감사해요 아 그럼 개월삼 개월 미리 하면 결제금액이 얼마인가요 저번에...</td>\n",
       "      <td>0</td>\n",
       "    </tr>\n",
       "    <tr>\n",
       "      <td>9998</td>\n",
       "      <td>그건 그냥 그 프로그램 신청할 때 구운몽 학습지 회원이라고 고객센터에 전화해서 말...</td>\n",
       "      <td>0</td>\n",
       "    </tr>\n",
       "    <tr>\n",
       "      <td>9999</td>\n",
       "      <td>자녀들 이름이요 아님 학습지 등록한 사람인 제 이름을 말해야 하나요  혹시 다른 ...</td>\n",
       "      <td>0</td>\n",
       "    </tr>\n",
       "    <tr>\n",
       "      <td>10000</td>\n",
       "      <td>그러면 추천인 코드 좀 부탁드려요  카드 번호 불러드릴게요 영 영 영 영 다시 ...</td>\n",
       "      <td>0</td>\n",
       "    </tr>\n",
       "  </tbody>\n",
       "</table>\n",
       "<p>9437 rows × 2 columns</p>\n",
       "</div>"
      ],
      "text/plain": [
       "                                                    text  label\n",
       "0      그럼 기기가 등록되었나 확인 부탁드립니다 다른 문의사항 더 없으십니까  그러셨군요 ...      0\n",
       "1      아 그렇군요 그럼 지금 전화 통화하면서 기기 등록할게요 기기 등록은 제가 직접 접 ...      0\n",
       "2       그럼 제가 지금 진행할게요 기기 등록은 하나만 가능한가요 아이디랑 계정 당 하나씩...      0\n",
       "3      어 지금 팝업창 클릭해봤는데 이미 설치된 프로그램이라고 덮어 씌우거나 기존에 설치되...      0\n",
       "4      설치가 되어있을 텐데 여기 한국어학원에서만 단독으로 쓰는 결제 프로그램은 아닐 거잖...      0\n",
       "...                                                  ...    ...\n",
       "9996    남 씨가 영어 영상 전화로 회화 배우는 거 맞죠   감사합니다  자녀 중 한 분만...      0\n",
       "9997    있습니다   감사해요 아 그럼 개월삼 개월 미리 하면 결제금액이 얼마인가요 저번에...      0\n",
       "9998    그건 그냥 그 프로그램 신청할 때 구운몽 학습지 회원이라고 고객센터에 전화해서 말...      0\n",
       "9999    자녀들 이름이요 아님 학습지 등록한 사람인 제 이름을 말해야 하나요  혹시 다른 ...      0\n",
       "10000    그러면 추천인 코드 좀 부탁드려요  카드 번호 불러드릴게요 영 영 영 영 다시 ...      0\n",
       "\n",
       "[9437 rows x 2 columns]"
      ]
     },
     "execution_count": 238,
     "metadata": {},
     "output_type": "execute_result"
    }
   ],
   "source": [
    "ham_df.drop_duplicates(subset=['text'], inplace=True) # 중복 제거\n",
    "ham_df['label'] = 0\n",
    "\n",
    "ham_df"
   ]
  },
  {
   "cell_type": "markdown",
   "metadata": {},
   "source": [
    "데이터 정보 출력"
   ]
  },
  {
   "cell_type": "code",
   "execution_count": 239,
   "metadata": {},
   "outputs": [
    {
     "name": "stdout",
     "output_type": "stream",
     "text": [
      "스팸 데이터 개수 : 4314(read) -> 4260(drop)\n",
      "스팸 데이터 최소 길이 11\n",
      "스팸 데이터 최대 길이 404\n",
      "----------------------------------------------------\n",
      "일반 데이터 개수 : 10001(read) -> 9437(drop)\n",
      "일반 데이터 최소 길이 11\n",
      "일반 데이터 최대 길이 275\n"
     ]
    }
   ],
   "source": [
    "print(\"스팸 데이터 개수 : {}(read) -> {}(drop)\".format(len(spam_X),len(spam_df)))\n",
    "print('스팸 데이터 최소 길이',len(min(spam_df['text'], key=len)))\n",
    "print('스팸 데이터 최대 길이',len(max(spam_df['text'], key=len)))\n",
    "print('----------------------------------------------------')\n",
    "print(\"일반 데이터 개수 : {}(read) -> {}(drop)\".format(len(ham_X),len(ham_df)))\n",
    "print('일반 데이터 최소 길이',len(min(ham_df['text'], key=len)))\n",
    "print('일반 데이터 최대 길이',len(max(ham_df['text'], key=len)))"
   ]
  },
  {
   "cell_type": "markdown",
   "metadata": {},
   "source": [
    "스팸 / 일반 데이터 합치기"
   ]
  },
  {
   "cell_type": "code",
   "execution_count": 240,
   "metadata": {},
   "outputs": [],
   "source": [
    "total_df = pd.concat([spam_df, ham_df], ignore_index=True)"
   ]
  },
  {
   "cell_type": "code",
   "execution_count": 241,
   "metadata": {},
   "outputs": [
    {
     "data": {
      "text/html": [
       "<div>\n",
       "<style scoped>\n",
       "    .dataframe tbody tr th:only-of-type {\n",
       "        vertical-align: middle;\n",
       "    }\n",
       "\n",
       "    .dataframe tbody tr th {\n",
       "        vertical-align: top;\n",
       "    }\n",
       "\n",
       "    .dataframe thead th {\n",
       "        text-align: right;\n",
       "    }\n",
       "</style>\n",
       "<table border=\"1\" class=\"dataframe\">\n",
       "  <thead>\n",
       "    <tr style=\"text-align: right;\">\n",
       "      <th></th>\n",
       "      <th>text</th>\n",
       "      <th>label</th>\n",
       "    </tr>\n",
       "  </thead>\n",
       "  <tbody>\n",
       "    <tr>\n",
       "      <td>0</td>\n",
       "      <td>예 누구라고요 서울중앙지검이라고요 검찰청입니다   본인 그 명의저용 사건 관련해서 ...</td>\n",
       "      <td>1</td>\n",
       "    </tr>\n",
       "    <tr>\n",
       "      <td>1</td>\n",
       "      <td>이창배라고 혹시 알고 계십니까 이창씨 여 들어본 것 같은데요 어디서 들어보셨어요 ...</td>\n",
       "      <td>1</td>\n",
       "    </tr>\n",
       "    <tr>\n",
       "      <td>2</td>\n",
       "      <td>대요 예예 열여덟 살 저는 삼십구세 남성을 말씀드리는 겁니다  그래요 거기 아닌가...</td>\n",
       "      <td>1</td>\n",
       "    </tr>\n",
       "    <tr>\n",
       "      <td>3</td>\n",
       "      <td>다 검거 당시 다량의 대포통장과 위조된 신분증을 압수 했습니다 그중에서 본인 명의로...</td>\n",
       "      <td>1</td>\n",
       "    </tr>\n",
       "    <tr>\n",
       "      <td>4</td>\n",
       "      <td>신한은행 거래 안 한 지 오래됐는데 저는 뭐 김 본인께서 거래하고 계시는 은행권을 ...</td>\n",
       "      <td>1</td>\n",
       "    </tr>\n",
       "    <tr>\n",
       "      <td>...</td>\n",
       "      <td>...</td>\n",
       "      <td>...</td>\n",
       "    </tr>\n",
       "    <tr>\n",
       "      <td>13692</td>\n",
       "      <td>남 씨가 영어 영상 전화로 회화 배우는 거 맞죠   감사합니다  자녀 중 한 분만...</td>\n",
       "      <td>0</td>\n",
       "    </tr>\n",
       "    <tr>\n",
       "      <td>13693</td>\n",
       "      <td>있습니다   감사해요 아 그럼 개월삼 개월 미리 하면 결제금액이 얼마인가요 저번에...</td>\n",
       "      <td>0</td>\n",
       "    </tr>\n",
       "    <tr>\n",
       "      <td>13694</td>\n",
       "      <td>그건 그냥 그 프로그램 신청할 때 구운몽 학습지 회원이라고 고객센터에 전화해서 말...</td>\n",
       "      <td>0</td>\n",
       "    </tr>\n",
       "    <tr>\n",
       "      <td>13695</td>\n",
       "      <td>자녀들 이름이요 아님 학습지 등록한 사람인 제 이름을 말해야 하나요  혹시 다른 ...</td>\n",
       "      <td>0</td>\n",
       "    </tr>\n",
       "    <tr>\n",
       "      <td>13696</td>\n",
       "      <td>그러면 추천인 코드 좀 부탁드려요  카드 번호 불러드릴게요 영 영 영 영 다시 ...</td>\n",
       "      <td>0</td>\n",
       "    </tr>\n",
       "  </tbody>\n",
       "</table>\n",
       "<p>13697 rows × 2 columns</p>\n",
       "</div>"
      ],
      "text/plain": [
       "                                                    text  label\n",
       "0      예 누구라고요 서울중앙지검이라고요 검찰청입니다   본인 그 명의저용 사건 관련해서 ...      1\n",
       "1       이창배라고 혹시 알고 계십니까 이창씨 여 들어본 것 같은데요 어디서 들어보셨어요 ...      1\n",
       "2       대요 예예 열여덟 살 저는 삼십구세 남성을 말씀드리는 겁니다  그래요 거기 아닌가...      1\n",
       "3      다 검거 당시 다량의 대포통장과 위조된 신분증을 압수 했습니다 그중에서 본인 명의로...      1\n",
       "4      신한은행 거래 안 한 지 오래됐는데 저는 뭐 김 본인께서 거래하고 계시는 은행권을 ...      1\n",
       "...                                                  ...    ...\n",
       "13692   남 씨가 영어 영상 전화로 회화 배우는 거 맞죠   감사합니다  자녀 중 한 분만...      0\n",
       "13693   있습니다   감사해요 아 그럼 개월삼 개월 미리 하면 결제금액이 얼마인가요 저번에...      0\n",
       "13694   그건 그냥 그 프로그램 신청할 때 구운몽 학습지 회원이라고 고객센터에 전화해서 말...      0\n",
       "13695   자녀들 이름이요 아님 학습지 등록한 사람인 제 이름을 말해야 하나요  혹시 다른 ...      0\n",
       "13696    그러면 추천인 코드 좀 부탁드려요  카드 번호 불러드릴게요 영 영 영 영 다시 ...      0\n",
       "\n",
       "[13697 rows x 2 columns]"
      ]
     },
     "execution_count": 241,
     "metadata": {},
     "output_type": "execute_result"
    }
   ],
   "source": [
    "total_df"
   ]
  },
  {
   "cell_type": "markdown",
   "metadata": {},
   "source": [
    "## Train / Validation Set 분리\n",
    "\n",
    "0.75 : 0.25 비율로 나누기"
   ]
  },
  {
   "cell_type": "code",
   "execution_count": 242,
   "metadata": {},
   "outputs": [],
   "source": [
    "train_data, test_data = train_test_split(total_df, test_size = 0.25, random_state = 42) # 훈련용 테스트 데이터 나누기\n",
    "#train_data, test_data = train_test_split(total_df, test_size = 0.25, shuffle = False) # 훈련용 테스트 데이터 나누기"
   ]
  },
  {
   "cell_type": "markdown",
   "metadata": {},
   "source": [
    "훈련 / 테스트 데이터 개수 출력"
   ]
  },
  {
   "cell_type": "code",
   "execution_count": 243,
   "metadata": {
    "scrolled": true
   },
   "outputs": [
    {
     "name": "stdout",
     "output_type": "stream",
     "text": [
      "데이터 총 개수 : 13697\n",
      "훈련용 데이터 개수 : 10272\n",
      "테스트용 데이터 개수 : 3425\n"
     ]
    }
   ],
   "source": [
    "print('데이터 총 개수 :',len(total_df))\n",
    "print('훈련용 데이터 개수 :', len(train_data))\n",
    "print('테스트용 데이터 개수 :', len(test_data))"
   ]
  },
  {
   "cell_type": "markdown",
   "metadata": {},
   "source": [
    "스팸 / 일반 데이터 개수 그래프 비교"
   ]
  },
  {
   "cell_type": "code",
   "execution_count": 244,
   "metadata": {
    "scrolled": true
   },
   "outputs": [
    {
     "name": "stdout",
     "output_type": "stream",
     "text": [
      "   label  count\n",
      "0      0   6012\n",
      "1      1   4260\n"
     ]
    },
    {
     "data": {
      "image/png": "[encoded data removed]",
      "text/plain": [
       "<Figure size 432x288 with 1 Axes>"
      ]
     },
     "metadata": {
      "needs_background": "light"
     },
     "output_type": "display_data"
    }
   ],
   "source": [
    "plt.subplot(121)\n",
    "train_data['label'].value_counts().plot(kind = 'bar', title='Count')\n",
    "print(train_data.groupby('label').size().reset_index(name = 'count'))"
   ]
  },
  {
   "cell_type": "markdown",
   "metadata": {},
   "source": [
    "## 전처리: 빈 데이터 처리\n",
    "\n",
    "빈 데이터 NA 처리"
   ]
  },
  {
   "cell_type": "code",
   "execution_count": 245,
   "metadata": {},
   "outputs": [],
   "source": [
    "pd.set_option('mode.chained_assignment', None) # 경고 메시지 끄기\n",
    "\n",
    "train_data.replace('', np.nan, inplace=True)"
   ]
  },
  {
   "cell_type": "code",
   "execution_count": 246,
   "metadata": {},
   "outputs": [],
   "source": [
    "test_data.replace('', np.nan, inplace=True)"
   ]
  },
  {
   "cell_type": "markdown",
   "metadata": {},
   "source": [
    "전처리 후 생긴 null 데이터 확인"
   ]
  },
  {
   "cell_type": "code",
   "execution_count": 247,
   "metadata": {
    "scrolled": false
   },
   "outputs": [
    {
     "name": "stdout",
     "output_type": "stream",
     "text": [
      "text     0\n",
      "label    0\n",
      "dtype: int64\n",
      "\n",
      "text     0\n",
      "label    0\n",
      "dtype: int64\n"
     ]
    }
   ],
   "source": [
    "print(train_data.isnull().sum()) # null 데이터 확인\n",
    "print()\n",
    "print(test_data.isnull().sum())"
   ]
  },
  {
   "cell_type": "markdown",
   "metadata": {},
   "source": [
    "null 값이 있는 행 제거 후 확인"
   ]
  },
  {
   "cell_type": "code",
   "execution_count": 248,
   "metadata": {},
   "outputs": [
    {
     "name": "stdout",
     "output_type": "stream",
     "text": [
      "text     0\n",
      "label    0\n",
      "dtype: int64\n",
      "\n",
      "text     0\n",
      "label    0\n",
      "dtype: int64\n"
     ]
    }
   ],
   "source": [
    "train_data = train_data.dropna(how='any', axis=0)\n",
    "test_data = test_data.dropna(how='any', axis=0)\n",
    "\n",
    "print(train_data.isnull().sum()) # null 데이터 확인\n",
    "print()\n",
    "print(test_data.isnull().sum())"
   ]
  },
  {
   "cell_type": "markdown",
   "metadata": {},
   "source": [
    "## 전처리: 토큰화\n",
    "\n",
    "Okt 객체 선언"
   ]
  },
  {
   "cell_type": "code",
   "execution_count": 249,
   "metadata": {},
   "outputs": [],
   "source": [
    "okt = Okt() # 한글은 형태소 분석기 사용해야됨 KoNPLY"
   ]
  },
  {
   "cell_type": "markdown",
   "metadata": {},
   "source": [
    "불용어 단어"
   ]
  },
  {
   "cell_type": "code",
   "execution_count": 250,
   "metadata": {},
   "outputs": [],
   "source": [
    "stopwords = [] # spam, ham 빈도 수 높은 중복단어 제거"
   ]
  },
  {
   "cell_type": "markdown",
   "metadata": {},
   "source": [
    "어간 단위로 토큰화 및 불용어 처리"
   ]
  },
  {
   "cell_type": "code",
   "execution_count": 251,
   "metadata": {},
   "outputs": [],
   "source": [
    "X_train = []\n",
    "for sentence in train_data['text']:\n",
    "    temp_X = okt.morphs(sentence, stem=True) # 토큰화\n",
    "    temp_X = [word for word in temp_X if not word in stopwords] # 불용어 처리\n",
    "    X_train.append(temp_X)"
   ]
  },
  {
   "cell_type": "code",
   "execution_count": 252,
   "metadata": {},
   "outputs": [],
   "source": [
    "X_test = []\n",
    "for sentence in test_data['text']:\n",
    "    temp_X = okt.morphs(sentence, stem=True) # 토큰화\n",
    "    temp_X = [word for word in temp_X if not word in stopwords] # 불용어 처리\n",
    "    X_test.append(temp_X)"
   ]
  },
  {
   "cell_type": "markdown",
   "metadata": {},
   "source": [
    "Dataframe 새 Column에 추가"
   ]
  },
  {
   "cell_type": "code",
   "execution_count": 253,
   "metadata": {},
   "outputs": [],
   "source": [
    "train_data['tokenized'] = X_train\n",
    "test_data['tokenized'] = X_test"
   ]
  },
  {
   "cell_type": "markdown",
   "metadata": {},
   "source": [
    "## 단어별 빈도 수 확인\n",
    "\n",
    "스팸 단어 빈도 확인"
   ]
  },
  {
   "cell_type": "code",
   "execution_count": 254,
   "metadata": {},
   "outputs": [
    {
     "name": "stdout",
     "output_type": "stream",
     "text": [
      "[('하다', 7503), ('이', 6769), ('에', 4444), ('가', 4362), ('사', 3885), ('기범', 3734), ('을', 3512), ('되다', 3444), ('본인', 3320), ('있다', 3195), ('를', 2422), ('거', 2335), ('지금', 2071), ('예', 1862), ('그', 1788), ('으로', 1682), ('제', 1621), ('아니다', 1532), ('은', 1457), ('는', 1447)]\n"
     ]
    }
   ],
   "source": [
    "spam_words = np.hstack(train_data[train_data.label == 1]['tokenized'].values)\n",
    "spam_word_count = Counter(spam_words)\n",
    "print(spam_word_count.most_common(20))"
   ]
  },
  {
   "cell_type": "markdown",
   "metadata": {},
   "source": [
    "일상 단어 빈도 확인"
   ]
  },
  {
   "cell_type": "code",
   "execution_count": 255,
   "metadata": {},
   "outputs": [
    {
     "name": "stdout",
     "output_type": "stream",
     "text": [
      "[('하다', 14561), ('이', 8096), ('가', 5686), ('있다', 5629), ('에', 5045), ('되다', 4573), ('을', 4298), ('를', 3270), ('요', 3166), ('그렇다', 3101), ('거', 2983), ('도', 2939), ('제', 2827), ('는', 2567), ('은', 2342), ('같다', 2288), ('로', 2208), ('것', 2109), ('으로', 2048), ('아', 2002)]\n"
     ]
    }
   ],
   "source": [
    "ham_words = np.hstack(train_data[train_data.label == 0]['tokenized'].values)\n",
    "ham_word_count = Counter(ham_words)\n",
    "print(ham_word_count.most_common(20))"
   ]
  },
  {
   "cell_type": "markdown",
   "metadata": {},
   "source": [
    "Dataframe 값 추출"
   ]
  },
  {
   "cell_type": "code",
   "execution_count": 256,
   "metadata": {},
   "outputs": [],
   "source": [
    "X_train = train_data['tokenized'].values\n",
    "y_train = train_data['label'].values\n",
    "X_test = test_data['tokenized'].values\n",
    "y_test = test_data['label'].values"
   ]
  },
  {
   "cell_type": "markdown",
   "metadata": {},
   "source": [
    "## 정수 인코딩\n",
    "\n",
    "`vocab_size`의 값을 정하기 위한 토큰화 객체 생성"
   ]
  },
  {
   "cell_type": "code",
   "execution_count": 257,
   "metadata": {},
   "outputs": [],
   "source": [
    "tokenizer = Tokenizer()\n",
    "tokenizer.fit_on_texts(X_train)"
   ]
  },
  {
   "cell_type": "markdown",
   "metadata": {},
   "source": [
    "최소 단어 빈도 수 제한"
   ]
  },
  {
   "cell_type": "code",
   "execution_count": 258,
   "metadata": {},
   "outputs": [],
   "source": [
    "threshold = 2 # 등장 횟수가 threshold미만인 단어는 제거"
   ]
  },
  {
   "cell_type": "markdown",
   "metadata": {},
   "source": [
    "최적의 `vocab_size` 선정"
   ]
  },
  {
   "cell_type": "code",
   "execution_count": 259,
   "metadata": {},
   "outputs": [
    {
     "name": "stdout",
     "output_type": "stream",
     "text": [
      "단어 집합(vocabulary)의 크기 : 9538\n",
      "등장 빈도가 1번 이하인 희귀 단어의 수: 2969\n",
      "단어 집합에서 희귀 단어의 비율: 31.128119102537223\n",
      "전체 등장 빈도에서 희귀 단어 등장 빈도 비율: 0.595452977465444\n",
      "vocab_size : 6571\n"
     ]
    }
   ],
   "source": [
    "word_to_index = tokenizer.word_index\n",
    "total_cnt = len(word_to_index) # 단어의 수\n",
    "rare_cnt = 0 # 등장 빈도수가 threshold보다 작은 단어의 개수를 카운트\n",
    "total_freq = 0 # 훈련 데이터의 전체 단어 빈도수 총 합\n",
    "rare_freq = 0 # 등장 빈도수가 threshold보다 작은 단어의 등장 빈도수의 총 합\n",
    "\n",
    "# 단어와 빈도수의 쌍(pair)을 key와 value로 받는다.\n",
    "for key, value in tokenizer.word_counts.items():\n",
    "    total_freq = total_freq + value\n",
    "\n",
    "    # 단어의 등장 빈도수가 threshold보다 작으면\n",
    "    if(value < threshold):\n",
    "        rare_cnt = rare_cnt + 1\n",
    "        rare_freq = rare_freq + value\n",
    "        \n",
    "print('단어 집합(vocabulary)의 크기 :',total_cnt)\n",
    "print('등장 빈도가 %s번 이하인 희귀 단어의 수: %s'%(threshold - 1, rare_cnt))\n",
    "print(\"단어 집합에서 희귀 단어의 비율:\", (rare_cnt / total_cnt)*100)\n",
    "print(\"전체 등장 빈도에서 희귀 단어 등장 빈도 비율:\", (rare_freq / total_freq)*100)\n",
    "\n",
    "vocab_size = total_cnt - rare_cnt + 2\n",
    "print('vocab_size :',vocab_size)"
   ]
  },
  {
   "cell_type": "markdown",
   "metadata": {},
   "source": [
    "단어 토큰화\n",
    "* `num_words`: 단어 max 사이즈 지정. 빈도수가 높은 순으로 저장.\n",
    "* `oov_token`: 단어 토큰에 없는 단어 표기법 지정"
   ]
  },
  {
   "cell_type": "code",
   "execution_count": 260,
   "metadata": {},
   "outputs": [],
   "source": [
    "tokenizer = Tokenizer(num_words = vocab_size, oov_token = 'OOV')"
   ]
  },
  {
   "cell_type": "markdown",
   "metadata": {},
   "source": [
    "`fit_on_texts`로 학습할 문장에 대한 토큰화 진행"
   ]
  },
  {
   "cell_type": "code",
   "execution_count": 261,
   "metadata": {},
   "outputs": [],
   "source": [
    "tokenizer.fit_on_texts(X_train)"
   ]
  },
  {
   "cell_type": "code",
   "execution_count": 262,
   "metadata": {},
   "outputs": [
    {
     "name": "stdout",
     "output_type": "stream",
     "text": [
      "OOV\t======>\t 1\n",
      "하다\t======>\t 2\n",
      "이\t======>\t 3\n",
      "가\t======>\t 4\n",
      "에\t======>\t 5\n",
      "있다\t======>\t 6\n",
      "되다\t======>\t 7\n",
      "을\t======>\t 8\n",
      "를\t======>\t 9\n",
      "거\t======>\t 10\n",
      "요\t======>\t 11\n",
      "그렇다\t======>\t 12\n",
      "제\t======>\t 13\n",
      "사\t======>\t 14\n",
      "는\t======>\t 15\n",
      "도\t======>\t 16\n",
      "은\t======>\t 17\n",
      "기범\t======>\t 18\n",
      "으로\t======>\t 19\n",
      "로\t======>\t 20\n",
      "본인\t======>\t 21\n",
      "지금\t======>\t 22\n",
      "아\t======>\t 23\n",
      "없다\t======>\t 24\n",
      "같다\t======>\t 25\n"
     ]
    }
   ],
   "source": [
    "for key, value in tokenizer.word_index.items():\n",
    "    if len(key) < 4:\n",
    "        print('{}\\t======>\\t {}'.format(key, value))\n",
    "    else:\n",
    "        print('{}======>\\t {}'.format(key, value))\n",
    "    if value == 25:\n",
    "        break"
   ]
  },
  {
   "cell_type": "markdown",
   "metadata": {},
   "source": [
    "토큰화된 단어 사전의 개수"
   ]
  },
  {
   "cell_type": "code",
   "execution_count": 263,
   "metadata": {},
   "outputs": [
    {
     "data": {
      "text/plain": [
       "9539"
      ]
     },
     "execution_count": 263,
     "metadata": {},
     "output_type": "execute_result"
    }
   ],
   "source": [
    "len(tokenizer.word_index)"
   ]
  },
  {
   "cell_type": "markdown",
   "metadata": {},
   "source": [
    "문장을 토큰으로 치환"
   ]
  },
  {
   "cell_type": "code",
   "execution_count": 264,
   "metadata": {},
   "outputs": [],
   "source": [
    "X_train = tokenizer.texts_to_sequences(X_train)\n",
    "X_test = tokenizer.texts_to_sequences(X_test)"
   ]
  },
  {
   "cell_type": "markdown",
   "metadata": {},
   "source": [
    "변환된 Sequences 확인"
   ]
  },
  {
   "cell_type": "code",
   "execution_count": 265,
   "metadata": {},
   "outputs": [
    {
     "data": {
      "text/plain": [
       "[[36,\n",
       "  946,\n",
       "  319,\n",
       "  238,\n",
       "  59,\n",
       "  658,\n",
       "  423,\n",
       "  85,\n",
       "  1668,\n",
       "  720,\n",
       "  39,\n",
       "  21,\n",
       "  27,\n",
       "  137,\n",
       "  57,\n",
       "  977,\n",
       "  84,\n",
       "  224,\n",
       "  2,\n",
       "  191,\n",
       "  136,\n",
       "  42,\n",
       "  274,\n",
       "  40,\n",
       "  253,\n",
       "  113,\n",
       "  8,\n",
       "  33,\n",
       "  222,\n",
       "  221,\n",
       "  295,\n",
       "  15,\n",
       "  320,\n",
       "  21,\n",
       "  55,\n",
       "  27,\n",
       "  418,\n",
       "  2563,\n",
       "  862,\n",
       "  111,\n",
       "  2564,\n",
       "  198,\n",
       "  55,\n",
       "  154,\n",
       "  63,\n",
       "  206],\n",
       " [2564,\n",
       "  198,\n",
       "  55,\n",
       "  154,\n",
       "  63,\n",
       "  206,\n",
       "  4615,\n",
       "  169,\n",
       "  563,\n",
       "  64,\n",
       "  34,\n",
       "  29,\n",
       "  25,\n",
       "  835,\n",
       "  64,\n",
       "  34,\n",
       "  122,\n",
       "  3740,\n",
       "  13,\n",
       "  48,\n",
       "  178,\n",
       "  141,\n",
       "  5,\n",
       "  127,\n",
       "  6,\n",
       "  29,\n",
       "  25,\n",
       "  36,\n",
       "  27,\n",
       "  89,\n",
       "  4,\n",
       "  50,\n",
       "  315,\n",
       "  647,\n",
       "  4,\n",
       "  22,\n",
       "  191,\n",
       "  1525,\n",
       "  66,\n",
       "  2,\n",
       "  696,\n",
       "  223,\n",
       "  7,\n",
       "  133,\n",
       "  20,\n",
       "  154,\n",
       "  63,\n",
       "  6],\n",
       " [3428,\n",
       "  36,\n",
       "  36,\n",
       "  696,\n",
       "  1333,\n",
       "  389,\n",
       "  57,\n",
       "  15,\n",
       "  593,\n",
       "  1,\n",
       "  798,\n",
       "  8,\n",
       "  214,\n",
       "  222,\n",
       "  12,\n",
       "  283,\n",
       "  26,\n",
       "  34,\n",
       "  12,\n",
       "  3,\n",
       "  178,\n",
       "  1851,\n",
       "  231,\n",
       "  97,\n",
       "  281,\n",
       "  39,\n",
       "  86,\n",
       "  313,\n",
       "  798,\n",
       "  3,\n",
       "  238,\n",
       "  1357,\n",
       "  17,\n",
       "  35,\n",
       "  264,\n",
       "  1088,\n",
       "  30,\n",
       "  2564,\n",
       "  9,\n",
       "  1801,\n",
       "  19,\n",
       "  2,\n",
       "  128,\n",
       "  338,\n",
       "  14,\n",
       "  1077,\n",
       "  8,\n",
       "  4079,\n",
       "  9,\n",
       "  2],\n",
       " [54,\n",
       "  381,\n",
       "  1033,\n",
       "  2261,\n",
       "  46,\n",
       "  600,\n",
       "  124,\n",
       "  2565,\n",
       "  7,\n",
       "  525,\n",
       "  8,\n",
       "  507,\n",
       "  2,\n",
       "  27,\n",
       "  141,\n",
       "  30,\n",
       "  21,\n",
       "  137,\n",
       "  20,\n",
       "  7,\n",
       "  231,\n",
       "  97,\n",
       "  61,\n",
       "  192,\n",
       "  923,\n",
       "  61,\n",
       "  4616,\n",
       "  3,\n",
       "  196,\n",
       "  342,\n",
       "  3,\n",
       "  74,\n",
       "  923,\n",
       "  16,\n",
       "  342,\n",
       "  66,\n",
       "  231,\n",
       "  97,\n",
       "  923,\n",
       "  39],\n",
       " [923,\n",
       "  332,\n",
       "  31,\n",
       "  2,\n",
       "  315,\n",
       "  728,\n",
       "  66,\n",
       "  57,\n",
       "  15,\n",
       "  56,\n",
       "  553,\n",
       "  21,\n",
       "  110,\n",
       "  332,\n",
       "  44,\n",
       "  206,\n",
       "  483,\n",
       "  8,\n",
       "  267,\n",
       "  34,\n",
       "  41,\n",
       "  26,\n",
       "  35,\n",
       "  4,\n",
       "  507,\n",
       "  51,\n",
       "  600,\n",
       "  5,\n",
       "  115,\n",
       "  59,\n",
       "  60,\n",
       "  8,\n",
       "  33,\n",
       "  6,\n",
       "  222,\n",
       "  303,\n",
       "  184,\n",
       "  3,\n",
       "  7,\n",
       "  112,\n",
       "  155,\n",
       "  200,\n",
       "  49,\n",
       "  418,\n",
       "  2563,\n",
       "  5,\n",
       "  6,\n",
       "  2185,\n",
       "  2451,\n",
       "  579,\n",
       "  192,\n",
       "  4080,\n",
       "  579,\n",
       "  30,\n",
       "  184,\n",
       "  3,\n",
       "  7]]"
      ]
     },
     "execution_count": 265,
     "metadata": {},
     "output_type": "execute_result"
    }
   ],
   "source": [
    "X_train[:5]"
   ]
  },
  {
   "cell_type": "markdown",
   "metadata": {},
   "source": [
    "`vocab_size`보다 떨어지는 단어는 1로 치환 (OOV)\n",
    "\n",
    "## 패딩\n",
    "리뷰 길이"
   ]
  },
  {
   "cell_type": "code",
   "execution_count": 266,
   "metadata": {
    "scrolled": true
   },
   "outputs": [
    {
     "data": {
      "image/png": "[encoded data removed]",
      "text/plain": [
       "<Figure size 432x288 with 1 Axes>"
      ]
     },
     "metadata": {
      "needs_background": "light"
     },
     "output_type": "display_data"
    },
    {
     "name": "stdout",
     "output_type": "stream",
     "text": [
      "최대 길이 : 156\n",
      "평균 길이 : 48.54088785046729\n"
     ]
    }
   ],
   "source": [
    "plt.subplot(122)\n",
    "plt.hist([len(s) for s in X_train], bins=50)\n",
    "plt.xlabel('length of samples')\n",
    "plt.ylabel('number of samples')\n",
    "plt.show()\n",
    "\n",
    "print('최대 길이 :',max(len(l) for l in X_train))\n",
    "print('평균 길이 :',sum(map(len, X_train))/len(X_train))"
   ]
  },
  {
   "cell_type": "markdown",
   "metadata": {},
   "source": [
    "3가지 옵션 입력\n",
    "* `maxlen`: 최대 문장 길이 정의. 길면 잘라냄\n",
    "* `truncating`: 문장 길이가 `maxlen`보다 길 때, 앞을 자를지 뒤를 자를지 정의\n",
    "* `padding`: 문장 길이가 `maxlen`보다 짧을 때, 앞을 채울지 뒤를 채울지 정의"
   ]
  },
  {
   "cell_type": "code",
   "execution_count": 267,
   "metadata": {},
   "outputs": [],
   "source": [
    "max_len = 100 # 최대 길이 (그래프를 보고 판단)\n",
    "trunc_type = 'post' # 잘라낼 문장의 위치\n",
    "padding_type = 'post'"
   ]
  },
  {
   "cell_type": "markdown",
   "metadata": {},
   "source": [
    "문장 길이 비율 찾기"
   ]
  },
  {
   "cell_type": "code",
   "execution_count": 268,
   "metadata": {},
   "outputs": [
    {
     "name": "stdout",
     "output_type": "stream",
     "text": [
      "전체 샘플 중 길이가 100 이하인 샘플의 비율: 99.65926791277259\n"
     ]
    }
   ],
   "source": [
    "def below_threshold_len(max_len, nested_list):\n",
    "    cnt = 0\n",
    "    for s in nested_list:\n",
    "        if(len(s) <= max_len):\n",
    "            cnt = cnt + 1\n",
    "    print('전체 샘플 중 길이가 %s 이하인 샘플의 비율: %s'%(max_len, (cnt / len(nested_list))*100))\n",
    "    \n",
    "below_threshold_len(max_len, X_train)"
   ]
  },
  {
   "cell_type": "code",
   "execution_count": 269,
   "metadata": {},
   "outputs": [],
   "source": [
    "X_train = pad_sequences(X_train, maxlen = max_len, truncating = trunc_type, padding = padding_type)\n",
    "X_test = pad_sequences(X_test, maxlen = max_len, truncating = trunc_type, padding = padding_type)"
   ]
  },
  {
   "cell_type": "markdown",
   "metadata": {},
   "source": [
    "변화된 후 shape 확인"
   ]
  },
  {
   "cell_type": "code",
   "execution_count": 270,
   "metadata": {
    "scrolled": true
   },
   "outputs": [
    {
     "data": {
      "text/plain": [
       "(10272, 100)"
      ]
     },
     "execution_count": 270,
     "metadata": {},
     "output_type": "execute_result"
    }
   ],
   "source": [
    "X_train.shape"
   ]
  },
  {
   "cell_type": "markdown",
   "metadata": {},
   "source": [
    "## 모델 정의\n",
    "\n",
    "임베딩 차원 정의"
   ]
  },
  {
   "cell_type": "code",
   "execution_count": 271,
   "metadata": {},
   "outputs": [],
   "source": [
    "embedding_dim = 100"
   ]
  },
  {
   "cell_type": "markdown",
   "metadata": {},
   "source": [
    "모델 구성"
   ]
  },
  {
   "cell_type": "code",
   "execution_count": 272,
   "metadata": {},
   "outputs": [],
   "source": [
    "model = Sequential([\n",
    "    Embedding(vocab_size, embedding_dim),\n",
    "    LSTM(128, return_sequences = True),\n",
    "    LSTM(128, return_sequences = True),\n",
    "    LSTM(128),\n",
    "    Dense(1, activation='sigmoid')\n",
    "])"
   ]
  },
  {
   "cell_type": "markdown",
   "metadata": {},
   "source": [
    "## 컴파일\n",
    "\n",
    "~~1. `optimizer`은 가장 최적화가 잘되는 알고리즘 'adam' 사용~~  \n",
    "2. `loss`는 이진분류이므로, `binary_crossentropy` 사용"
   ]
  },
  {
   "cell_type": "code",
   "execution_count": 273,
   "metadata": {},
   "outputs": [],
   "source": [
    "model.compile(optimizer='rmsprop', loss='binary_crossentropy', metrics=['acc'])"
   ]
  },
  {
   "cell_type": "markdown",
   "metadata": {},
   "source": [
    "## ModelCheckpoint\n",
    "\n",
    "val_acc 기준으로 epoch 마다 최적의 모델을 저장하기 위한 체크포인트 설정"
   ]
  },
  {
   "cell_type": "code",
   "execution_count": 274,
   "metadata": {},
   "outputs": [],
   "source": [
    "mc = ModelCheckpoint(file_name+'.h5', monitor='val_acc', mode='max', verbose=1, save_best_only=True)"
   ]
  },
  {
   "cell_type": "markdown",
   "metadata": {},
   "source": [
    "## EarlyStopping\n",
    "\n",
    "val_loss 기준으로 4번까지 Overfitting(과적합)이 진행되면 자동으로 종료"
   ]
  },
  {
   "cell_type": "code",
   "execution_count": 275,
   "metadata": {},
   "outputs": [],
   "source": [
    "es = EarlyStopping(monitor='val_loss', mode='min', verbose=1, patience=4)"
   ]
  },
  {
   "cell_type": "markdown",
   "metadata": {},
   "source": [
    "## 모델 학습"
   ]
  },
  {
   "cell_type": "code",
   "execution_count": 276,
   "metadata": {},
   "outputs": [
    {
     "name": "stdout",
     "output_type": "stream",
     "text": [
      "Epoch 1/15\n",
      "33/33 [==============================] - 6s 61ms/step - loss: 0.7080 - acc: 0.5155 - val_loss: 0.2474 - val_acc: 0.9328\n",
      "\n",
      "Epoch 00001: val_acc improved from -inf to 0.93285, saving model to LSTM_module_ver4.0.h5\n",
      "Epoch 2/15\n",
      "33/33 [==============================] - 1s 33ms/step - loss: 0.1980 - acc: 0.9479 - val_loss: 0.0462 - val_acc: 1.0000\n",
      "\n",
      "Epoch 00002: val_acc improved from 0.93285 to 1.00000, saving model to LSTM_module_ver4.0.h5\n",
      "Epoch 3/15\n",
      "33/33 [==============================] - 1s 35ms/step - loss: 0.0812 - acc: 0.9806 - val_loss: 0.0379 - val_acc: 0.9922\n",
      "\n",
      "Epoch 00003: val_acc did not improve from 1.00000\n",
      "Epoch 4/15\n",
      "33/33 [==============================] - 1s 35ms/step - loss: 0.0707 - acc: 0.9862 - val_loss: 0.0171 - val_acc: 0.9951\n",
      "\n",
      "Epoch 00004: val_acc did not improve from 1.00000\n",
      "Epoch 5/15\n",
      "33/33 [==============================] - 1s 33ms/step - loss: 0.0886 - acc: 0.9792 - val_loss: 0.1569 - val_acc: 0.9976\n",
      "\n",
      "Epoch 00005: val_acc did not improve from 1.00000\n",
      "Epoch 6/15\n",
      "33/33 [==============================] - 1s 33ms/step - loss: 0.0537 - acc: 0.9883 - val_loss: 0.0414 - val_acc: 0.9922\n",
      "\n",
      "Epoch 00006: val_acc did not improve from 1.00000\n",
      "Epoch 7/15\n",
      "33/33 [==============================] - 1s 36ms/step - loss: 0.0402 - acc: 0.9922 - val_loss: 0.0356 - val_acc: 0.9956\n",
      "\n",
      "Epoch 00007: val_acc did not improve from 1.00000\n",
      "Epoch 8/15\n",
      "33/33 [==============================] - 1s 34ms/step - loss: 0.0335 - acc: 0.9940 - val_loss: 0.0586 - val_acc: 0.9908\n",
      "\n",
      "Epoch 00008: val_acc did not improve from 1.00000\n",
      "Epoch 00008: early stopping\n"
     ]
    }
   ],
   "source": [
    "history = model.fit(X_train, y_train, epochs=15, callbacks=[es, mc], batch_size=256, validation_split=0.2)"
   ]
  },
  {
   "cell_type": "markdown",
   "metadata": {},
   "source": [
    "학습 완료 후 `load_model` 를 해주지 않으면 ModelCheckpoint를 만든 의미가 없음"
   ]
  },
  {
   "cell_type": "code",
   "execution_count": 277,
   "metadata": {},
   "outputs": [],
   "source": [
    "model = load_model(file_name+'.h5')"
   ]
  },
  {
   "cell_type": "markdown",
   "metadata": {},
   "source": [
    "## 학습 오차 시각화"
   ]
  },
  {
   "cell_type": "code",
   "execution_count": 278,
   "metadata": {
    "scrolled": true
   },
   "outputs": [
    {
     "name": "stdout",
     "output_type": "stream",
     "text": [
      "108/108 [==============================] - 2s 5ms/step - loss: 0.0486 - acc: 0.9991\n",
      "\n",
      " 테스트 정확도: 0.9991\n"
     ]
    },
    {
     "data": {
      "image/png": "[encoded data removed]",
      "text/plain": [
       "<Figure size 432x288 with 1 Axes>"
      ]
     },
     "metadata": {
      "needs_background": "light"
     },
     "output_type": "display_data"
    }
   ],
   "source": [
    "epochs = range(1, len(history.history['acc']) + 1)\n",
    "plt.plot(epochs, history.history['loss'])\n",
    "plt.plot(epochs, history.history['val_loss'])\n",
    "plt.title('model loss')\n",
    "plt.ylabel('loss')\n",
    "plt.xlabel('epoch')\n",
    "plt.legend(['train', 'val'], loc='upper left')\n",
    "print(\"\\n 테스트 정확도: %.4f\" % (model.evaluate(X_test, y_test)[1]))"
   ]
  },
  {
   "cell_type": "markdown",
   "metadata": {},
   "source": [
    "## 파일 저장\n",
    "\n",
    "tokenizer 객체 저장"
   ]
  },
  {
   "cell_type": "code",
   "execution_count": 279,
   "metadata": {},
   "outputs": [],
   "source": [
    "with open(file_name+\"_tokenizer.pickle\", \"wb\") as f:\n",
    "    pickle.dump(tokenizer, f, protocol=pickle.HIGHEST_PROTOCOL)"
   ]
  },
  {
   "cell_type": "markdown",
   "metadata": {},
   "source": [
    "변수 저장"
   ]
  },
  {
   "cell_type": "code",
   "execution_count": 280,
   "metadata": {},
   "outputs": [],
   "source": [
    "d = {'min_data':min_data, 'data_length':data_length, 'split_list':split_list,'max_len':max_len, 'trunc_type':trunc_type, 'padding_type':padding_type}\n",
    "json_var = json.dumps(d)\n",
    "with open(file_name+'_variable.json', 'w') as f:\n",
    "    f.write(json_var)"
   ]
  },
  {
   "cell_type": "markdown",
   "metadata": {},
   "source": [
    "불용어 단어 저장"
   ]
  },
  {
   "cell_type": "code",
   "execution_count": 281,
   "metadata": {
    "scrolled": true
   },
   "outputs": [],
   "source": [
    "json_stopwords = json.dumps(stopwords)\n",
    "with open(file_name+'_stopwords.json', 'w') as f:\n",
    "    f.write(json_stopwords)"
   ]
  }
 ],
 "metadata": {
  "kernelspec": {
   "display_name": "Python 3",
   "language": "python",
   "name": "python3"
  },
  "language_info": {
   "codemirror_mode": {
    "name": "ipython",
    "version": 3
   },
   "file_extension": ".py",
   "mimetype": "text/x-python",
   "name": "python",
   "nbconvert_exporter": "python",
   "pygments_lexer": "ipython3",
   "version": "3.7.4"
  }
 },
 "nbformat": 4,
 "nbformat_minor": 4
}
